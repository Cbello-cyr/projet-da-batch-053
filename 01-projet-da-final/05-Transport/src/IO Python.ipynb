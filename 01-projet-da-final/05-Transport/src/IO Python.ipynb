{
 "cells": [
  {
   "cell_type": "code",
   "execution_count": 1,
   "id": "c509133c",
   "metadata": {
    "ExecuteTime": {
     "end_time": "2025-01-27T08:45:55.536618Z",
     "start_time": "2025-01-27T08:45:55.397607Z"
    }
   },
   "outputs": [
    {
     "name": "stdout",
     "output_type": "stream",
     "text": [
      "/Users/aloys.bernard/code/Sandbox\r\n"
     ]
    }
   ],
   "source": [
    "! pwd "
   ]
  },
  {
   "cell_type": "code",
   "execution_count": 3,
   "id": "5f675999",
   "metadata": {
    "ExecuteTime": {
     "end_time": "2025-01-27T08:46:34.500237Z",
     "start_time": "2025-01-27T08:46:34.355240Z"
    },
    "collapsed": true
   },
   "outputs": [
    {
     "name": "stdout",
     "output_type": "stream",
     "text": [
      "\u001b[1m\u001b[36m00-Lectures\u001b[m\u001b[m\r\n",
      "\u001b[1m\u001b[36m01-Challenges\u001b[m\u001b[m\r\n",
      "\u001b[1m\u001b[36m02-Multiple-Linear-Regression\u001b[m\u001b[m\r\n",
      "\u001b[1m\u001b[36m04-Pandas\u001b[m\u001b[m\r\n",
      "\u001b[1m\u001b[36m05-Data-Preparation\u001b[m\u001b[m\r\n",
      "\u001b[1m\u001b[36m07-RNN-Advanced\u001b[m\u001b[m\r\n",
      "\u001b[1m\u001b[36m08-Attention-Mechanism-and-Transformers\u001b[m\u001b[m\r\n",
      "\u001b[1m\u001b[36m14-Pipelines\u001b[m\u001b[m\r\n",
      "\u001b[1m\u001b[36mAdvent\u001b[m\u001b[m\r\n",
      "Census.ipynb\r\n",
      "\u001b[1m\u001b[36mDEMO\u001b[m\u001b[m\r\n",
      "\u001b[1m\u001b[36mDashboards\u001b[m\u001b[m\r\n",
      "\u001b[1m\u001b[36mDataEx\u001b[m\u001b[m\r\n",
      "\u001b[1m\u001b[36mDemoGit\u001b[m\u001b[m\r\n",
      "\u001b[1m\u001b[36mDocker101\u001b[m\u001b[m\r\n",
      "\u001b[1m\u001b[36mFastAPi\u001b[m\u001b[m\r\n",
      "Files I O.ipynb\r\n",
      "Gradient-Boosting.ipynb\r\n",
      "\u001b[1m\u001b[36mHuggingFaces\u001b[m\u001b[m\r\n",
      "Model-Explainability.ipynb\r\n",
      "\u001b[1m\u001b[36mMyAwesomeApplication\u001b[m\u001b[m\r\n",
      "\u001b[1m\u001b[36mN8N\u001b[m\u001b[m\r\n",
      "Overfitting-Underfitting.ipynb\r\n",
      "\u001b[1m\u001b[36mPython\u001b[m\u001b[m\r\n",
      "Python Basics.ipynb\r\n",
      "\u001b[1m\u001b[36mPythonDay\u001b[m\u001b[m\r\n",
      "RNN-Intro.ipynb\r\n",
      "\u001b[1m\u001b[36mRecapDA\u001b[m\u001b[m\r\n",
      "\u001b[1m\u001b[36mRecapIO\u001b[m\u001b[m\r\n",
      "\u001b[1m\u001b[36mRecapScrapping\u001b[m\u001b[m\r\n",
      "RecapScrapping.ipynb\r\n",
      "Regression Lecture.ipynb\r\n",
      "\u001b[1m\u001b[36mTImeSeries\u001b[m\u001b[m\r\n",
      "Time-Series.ipynb\r\n",
      "Trees-And-Forests.ipynb\r\n",
      "\u001b[1m\u001b[36mUntitled Folder\u001b[m\u001b[m\r\n",
      "Untitled.ipynb\r\n",
      "Untitled1.ipynb\r\n",
      "Untitled2.ipynb\r\n",
      "Untitled3.ipynb\r\n",
      "Untitled4.ipynb\r\n",
      "Untitled5.ipynb\r\n",
      "\u001b[1m\u001b[36m__pycache__\u001b[m\u001b[m\r\n",
      "\u001b[1m\u001b[36mairflow_demo\u001b[m\u001b[m\r\n",
      "artefact.txt\r\n",
      "\u001b[1m\u001b[36mawesome-compose\u001b[m\u001b[m\r\n",
      "cafe.pkl\r\n",
      "\u001b[1m\u001b[36mcatboost_info\u001b[m\u001b[m\r\n",
      "\u001b[1m\u001b[36mdash\u001b[m\u001b[m\r\n",
      "\u001b[1m\u001b[36mdata\u001b[m\u001b[m\r\n",
      "example.\r\n",
      "example.py\r\n",
      "example.txt\r\n",
      "\u001b[1m\u001b[36mfriday\u001b[m\u001b[m\r\n",
      "imdb_1000.csv\r\n",
      "\u001b[1m\u001b[36minput\u001b[m\u001b[m\r\n",
      "listings.csv.gz\r\n",
      "\u001b[1m\u001b[36mmyAwesomeAPI\u001b[m\u001b[m\r\n",
      "olympics.csv\r\n",
      "requirements.txt\r\n",
      "\u001b[1m\u001b[36msolution_05-ML_09-Time-Series_04-Facebook-Prophet\u001b[m\u001b[m\r\n",
      "\u001b[1m\u001b[36mstreamlit_day\u001b[m\u001b[m\r\n",
      "\u001b[1m\u001b[36mstudent-challenges-dev\u001b[m\u001b[m\r\n",
      "videos.json\r\n"
     ]
    }
   ],
   "source": [
    "! ls"
   ]
  },
  {
   "cell_type": "code",
   "execution_count": 7,
   "id": "632aef3d",
   "metadata": {
    "ExecuteTime": {
     "end_time": "2025-01-27T08:48:28.673086Z",
     "start_time": "2025-01-27T08:48:28.669691Z"
    }
   },
   "outputs": [],
   "source": [
    "my_imdb = open(\"imdb_1000.csv\")"
   ]
  },
  {
   "cell_type": "code",
   "execution_count": 5,
   "id": "01174eee",
   "metadata": {
    "ExecuteTime": {
     "end_time": "2025-01-27T08:48:02.652028Z",
     "start_time": "2025-01-27T08:48:02.635546Z"
    }
   },
   "outputs": [
    {
     "data": {
      "text/plain": [
       "'star_rating,title,content_rating,genre,duration,actors_list\\n9.3,The Shawshank Redemption,R,Crime,142,\"[u\\'Tim Robbins\\', u\\'Morgan Freeman\\', u\\'Bob Gunton\\']\"\\n9.2,The Godfather,R,Crime,175,\"[u\\'Marlon Brando\\', u\\'Al Pacino\\', u\\'James Caan\\']\"\\n9.1,The Godfather: Part II,R,Crime,200,\"[u\\'Al Pacino\\', u\\'Robert De Niro\\', u\\'Robert Duvall\\']\"\\n9,The Dark Knight,PG-13,Action,152,\"[u\\'Christian Bale\\', u\\'Heath Ledger\\', u\\'Aaron Eckhart\\']\"\\n8.9,Pulp Fiction,R,Crime,154,\"[u\\'John Travolta\\', u\\'Uma Thurman\\', u\\'Samuel L. Jackson\\']\"\\n8.9,12 Angry Men,NOT RATED,Drama,96,\"[u\\'Henry Fonda\\', u\\'Lee J. Cobb\\', u\\'Martin Balsam\\']\"\\n8.9,\"The Good, the Bad and the Ugly\",NOT RATED,Western,161,\"[u\\'Clint Eastwood\\', u\\'Eli Wallach\\', u\\'Lee Van Cleef\\']\"\\n8.9,The Lord of the Rings: The Return of the King,PG-13,Adventure,201,\"[u\\'Elijah Wood\\', u\\'Viggo Mortensen\\', u\\'Ian McKellen\\']\"\\n8.9,Schindler\\'s List,R,Biography,195,\"[u\\'Liam Neeson\\', u\\'Ralph Fiennes\\', u\\'Ben Kingsley\\']\"\\n8.9,Fight Club,R,Drama,139,\"[u\\'Brad Pitt\\', u\\'Edward Norton\\', u\\'Helena Bonham Carter\\']\"\\n8.8,The Lord of the Rings: The Fellowship of the Ring,PG-13,Adventure,178,\"[u\\'Elijah Wood\\', u\\'Ian McKellen\\', u\\'Orlando Bloom\\']\"\\n8.8,Inception,PG-13,Action,148,\"[u\\'Leonardo DiCaprio\\', u\\'Joseph Gordon-Levitt\\', u\\'Ellen Page\\']\"\\n8.8,Star Wars: Episode V - The Empire Strikes Back,PG,Action,124,\"[u\\'Mark Hamill\\', u\\'Harrison Ford\\', u\\'Carrie Fisher\\']\"\\n8.8,Forrest Gump,PG-13,Drama,142,\"[u\\'Tom Hanks\\', u\\'Robin Wright\\', u\\'Gary Sinise\\']\"\\n8.8,The Lord of the Rings: The Two Towers,PG-13,Adventure,179,\"[u\\'Elijah Wood\\', u\\'Ian McKellen\\', u\\'Viggo Mortensen\\']\"\\n8.7,Interstellar,PG-13,Adventure,169,\"[u\\'Matthew McConaughey\\', u\\'Anne Hathaway\\', u\\'Jessica Chastain\\']\"\\n8.7,One Flew Over the Cuckoo\\'s Nest,R,Drama,133,\"[u\\'Jack Nicholson\\', u\\'Louise Fletcher\\', u\\'Michael Berryman\\']\"\\n8.7,Seven Samurai,UNRATED,Drama,207,\"[u\\'Toshir\\\\xf4 Mifune\\', u\\'Takashi Shimura\\', u\\'Keiko Tsushima\\']\"\\n8.7,Goodfellas,R,Biography,146,\"[u\\'Robert De Niro\\', u\\'Ray Liotta\\', u\\'Joe Pesci\\']\"\\n8.7,Star Wars,PG,Action,121,\"[u\\'Mark Hamill\\', u\\'Harrison Ford\\', u\\'Carrie Fisher\\']\"\\n8.7,The Matrix,R,Action,136,\"[u\\'Keanu Reeves\\', u\\'Laurence Fishburne\\', u\\'Carrie-Anne Moss\\']\"\\n8.7,City of God,R,Crime,130,\"[u\\'Alexandre Rodrigues\\', u\\'Matheus Nachtergaele\\', u\\'Leandro Firmino\\']\"\\n8.7,It\\'s a Wonderful Life,APPROVED,Drama,130,\"[u\\'James Stewart\\', u\\'Donna Reed\\', u\\'Lionel Barrymore\\']\"\\n8.7,The Usual Suspects,R,Crime,106,\"[u\\'Kevin Spacey\\', u\\'Gabriel Byrne\\', u\\'Chazz Palminteri\\']\"\\n8.7,Se7en,R,Drama,127,\"[u\\'Morgan Freeman\\', u\\'Brad Pitt\\', u\\'Kevin Spacey\\']\"\\n8.6,Life Is Beautiful,PG-13,Comedy,116,\"[u\\'Roberto Benigni\\', u\\'Nicoletta Braschi\\', u\\'Giorgio Cantarini\\']\"\\n8.6,Once Upon a Time in the West,PG-13,Western,175,\"[u\\'Henry Fonda\\', u\\'Charles Bronson\\', u\\'Claudia Cardinale\\']\"\\n8.6,The Silence of the Lambs,R,Drama,118,\"[u\\'Jodie Foster\\', u\\'Anthony Hopkins\\', u\\'Lawrence A. Bonney\\']\"\\n8.6,Leon: The Professional,R,Crime,110,\"[u\\'Jean Reno\\', u\\'Gary Oldman\\', u\\'Natalie Portman\\']\"\\n8.6,City Lights,PASSED,Comedy,87,\"[u\\'Charles Chaplin\\', u\\'Virginia Cherrill\\', u\\'Florence Lee\\']\"\\n8.6,Spirited Away,PG,Animation,125,\"[u\\'Daveigh Chase\\', u\\'Suzanne Pleshette\\', u\\'Miyu Irino\\']\"\\n8.6,The Intouchables,R,Biography,112,\"[u\\'Fran\\\\xe7ois Cluzet\\', u\\'Omar Sy\\', u\\'Anne Le Ny\\']\"\\n8.6,Casablanca,PG,Drama,102,\"[u\\'Humphrey Bogart\\', u\\'Ingrid Bergman\\', u\\'Paul Henreid\\']\"\\n8.6,Whiplash,R,Drama,107,\"[u\\'Miles Teller\\', u\\'J.K. Simmons\\', u\\'Melissa Benoist\\']\"\\n8.6,American History X,R,Crime,119,\"[u\\'Edward Norton\\', u\\'Edward Furlong\\', u\"\"Beverly D\\'Angelo\"\"]\"\\n8.6,Modern Times,G,Comedy,87,\"[u\\'Charles Chaplin\\', u\\'Paulette Goddard\\', u\\'Henry Bergman\\']\"\\n8.6,Saving Private Ryan,R,Action,169,\"[u\\'Tom Hanks\\', u\\'Matt Damon\\', u\\'Tom Sizemore\\']\"\\n8.6,Raiders of the Lost Ark,PG,Action,115,\"[u\\'Harrison Ford\\', u\\'Karen Allen\\', u\\'Paul Freeman\\']\"\\n8.6,Rear Window,APPROVED,Mystery,112,\"[u\\'James Stewart\\', u\\'Grace Kelly\\', u\\'Wendell Corey\\']\"\\n8.6,Psycho,R,Horror,109,\"[u\\'Anthony Perkins\\', u\\'Janet Leigh\\', u\\'Vera Miles\\']\"\\n8.5,The Green Mile,R,Crime,189,\"[u\\'Tom Hanks\\', u\\'Michael Clarke Duncan\\', u\\'David Morse\\']\"\\n8.5,Sunset Blvd.,NOT RATED,Drama,110,\"[u\\'William Holden\\', u\\'Gloria Swanson\\', u\\'Erich von Stroheim\\']\"\\n8.5,The Pianist,R,Biography,150,\"[u\\'Adrien Brody\\', u\\'Thomas Kretschmann\\', u\\'Frank Finlay\\']\"\\n8.5,The Dark Knight Rises,PG-13,Action,165,\"[u\\'Christian Bale\\', u\\'Tom Hardy\\', u\\'Anne Hathaway\\']\"\\n8.5,Gladiator,R,Action,155,\"[u\\'Russell Crowe\\', u\\'Joaquin Phoenix\\', u\\'Connie Nielsen\\']\"\\n8.5,Terminator 2: Judgment Day,R,Action,137,\"[u\\'Arnold Schwarzenegger\\', u\\'Linda Hamilton\\', u\\'Edward Furlong\\']\"\\n8.5,Memento,R,Mystery,113,\"[u\\'Guy Pearce\\', u\\'Carrie-Anne Moss\\', u\\'Joe Pantoliano\\']\"\\n8.5,Taare Zameen Par,PG,Drama,165,\"[u\\'Darsheel Safary\\', u\\'Aamir Khan\\', u\\'Tanay Chheda\\']\"\\n8.5,Dr. Strangelove or: How I Learned to Stop Worrying and Love the Bomb,PG,Comedy,95,\"[u\\'Peter Sellers\\', u\\'George C. Scott\\', u\\'Sterling Hayden\\']\"\\n8.5,The Departed,R,Crime,151,\"[u\\'Leonardo DiCaprio\\', u\\'Matt Damon\\', u\\'Jack Nicholson\\']\"\\n8.5,Cinema Paradiso,R,Drama,155,\"[u\\'Philippe Noiret\\', u\\'Enzo Cannavale\\', u\\'Antonella Attili\\']\"\\n8.5,Apocalypse Now,R,Drama,153,\"[u\\'Martin Sheen\\', u\\'Marlon Brando\\', u\\'Robert Duvall\\']\"\\n8.5,The Great Dictator,APPROVED,Comedy,125,\"[u\\'Charles Chaplin\\', u\\'Paulette Goddard\\', u\\'Jack Oakie\\']\"\\n8.5,The Prestige,PG-13,Drama,130,\"[u\\'Christian Bale\\', u\\'Hugh Jackman\\', u\\'Scarlett Johansson\\']\"\\n8.5,Back to the Future,PG,Adventure,116,\"[u\\'Michael J. Fox\\', u\\'Christopher Lloyd\\', u\\'Lea Thompson\\']\"\\n8.5,The Lion King,G,Animation,89,\"[u\\'Matthew Broderick\\', u\\'Jeremy Irons\\', u\\'James Earl Jones\\']\"\\n8.5,The Lives of Others,R,Drama,137,\"[u\\'Ulrich M\\\\xfche\\', u\\'Martina Gedeck\\', u\\'Sebastian Koch\\']\"\\n8.5,Alien,R,Horror,117,\"[u\\'Sigourney Weaver\\', u\\'Tom Skerritt\\', u\\'John Hurt\\']\"\\n8.5,Paths of Glory,APPROVED,Drama,88,\"[u\\'Kirk Douglas\\', u\\'Ralph Meeker\\', u\\'Adolphe Menjou\\']\"\\n8.5,Django Unchained,R,Western,165,\"[u\\'Jamie Foxx\\', u\\'Christoph Waltz\\', u\\'Leonardo DiCaprio\\']\"\\n8.5,3 Idiots,PG-13,Comedy,170,\"[u\\'Aamir Khan\\', u\\'Madhavan\\', u\\'Mona Singh\\']\"\\n8.5,Grave of the Fireflies,UNRATED,Animation,89,\"[u\\'Tsutomu Tatsumi\\', u\\'Ayano Shiraishi\\', u\\'Akemi Yamaguchi\\']\"\\n8.5,The Shining,R,Horror,146,\"[u\\'Jack Nicholson\\', u\\'Shelley Duvall\\', u\\'Danny Lloyd\\']\"\\n8.4,M,NOT RATED,Crime,99,\"[u\\'Peter Lorre\\', u\\'Ellen Widmann\\', u\\'Inge Landgut\\']\"\\n8.4,WALL-E,G,Animation,98,\"[u\\'Ben Burtt\\', u\\'Elissa Knight\\', u\\'Jeff Garlin\\']\"\\n8.4,Witness for the Prosecution,APPROVED,Crime,116,\"[u\\'Tyrone Power\\', u\\'Marlene Dietrich\\', u\\'Charles Laughton\\']\"\\n8.4,Munna Bhai M.B.B.S.,NOT RATED,Comedy,156,\"[u\\'Sunil Dutt\\', u\\'Sanjay Dutt\\', u\\'Arshad Warsi\\']\"\\n8.4,American Beauty,R,Drama,122,\"[u\\'Kevin Spacey\\', u\\'Annette Bening\\', u\\'Thora Birch\\']\"\\n8.4,Das Boot,R,Adventure,149,\"[u\\'J\\\\xfcrgen Prochnow\\', u\\'Herbert Gr\\\\xf6nemeyer\\', u\\'Klaus Wennemann\\']\"\\n8.4,Princess Mononoke,PG-13,Animation,134,\"[u\\'Y\\\\xf4ji Matsuda\\', u\\'Yuriko Ishida\\', u\\'Y\\\\xfbko Tanaka\\']\"\\n8.4,Amelie,R,Comedy,122,\"[u\\'Audrey Tautou\\', u\\'Mathieu Kassovitz\\', u\\'Rufus\\']\"\\n8.4,North by Northwest,APPROVED,Adventure,136,\"[u\\'Cary Grant\\', u\\'Eva Marie Saint\\', u\\'James Mason\\']\"\\n8.4,Rang De Basanti,NOT RATED,Drama,157,\"[u\\'Aamir Khan\\', u\\'Soha Ali Khan\\', u\\'Siddharth\\']\"\\n8.4,Jodaeiye Nader az Simin,PG-13,Drama,123,\"[u\\'Peyman Moaadi\\', u\\'Leila Hatami\\', u\\'Sareh Bayat\\']\"\\n8.4,Citizen Kane,APPROVED,Drama,119,\"[u\\'Orson Welles\\', u\\'Joseph Cotten\\', u\\'Dorothy Comingore\\']\"\\n8.4,Aliens,R,Action,137,\"[u\\'Sigourney Weaver\\', u\\'Michael Biehn\\', u\\'Carrie Henn\\']\"\\n8.4,Vertigo,APPROVED,Mystery,128,\"[u\\'James Stewart\\', u\\'Kim Novak\\', u\\'Barbara Bel Geddes\\']\"\\n8.4,Oldeuboi,R,Drama,120,\"[u\\'Min-sik Choi\\', u\\'Ji-tae Yu\\', u\\'Hye-jeong Kang\\']\"\\n8.4,Once Upon a Time in America,R,Crime,229,\"[u\\'Robert De Niro\\', u\\'James Woods\\', u\\'Elizabeth McGovern\\']\"\\n8.4,Double Indemnity,PASSED,Crime,107,\"[u\\'Fred MacMurray\\', u\\'Barbara Stanwyck\\', u\\'Edward G. Robinson\\']\"\\n8.4,Star Wars: Episode VI - Return of the Jedi,PG,Action,134,\"[u\\'Mark Hamill\\', u\\'Harrison Ford\\', u\\'Carrie Fisher\\']\"\\n8.4,Toy Story 3,G,Animation,103,\"[u\\'Tom Hanks\\', u\\'Tim Allen\\', u\\'Joan Cusack\\']\"\\n8.4,Braveheart,R,Action,177,\"[u\\'Mel Gibson\\', u\\'Sophie Marceau\\', u\\'Patrick McGoohan\\']\"\\n8.4,To Kill a Mockingbird,NOT RATED,Drama,129,\"[u\\'Gregory Peck\\', u\\'John Megna\\', u\\'Frank Overton\\']\"\\n8.4,Requiem for a Dream,R,Drama,102,\"[u\\'Ellen Burstyn\\', u\\'Jared Leto\\', u\\'Jennifer Connelly\\']\"\\n8.4,Lawrence of Arabia,PG,Adventure,216,\"[u\"\"Peter O\\'Toole\"\", u\\'Alec Guinness\\', u\\'Anthony Quinn\\']\"\\n8.4,A Clockwork Orange,X,Crime,136,\"[u\\'Malcolm McDowell\\', u\\'Patrick Magee\\', u\\'Michael Bates\\']\"\\n8.4,Bicycle Thieves,NOT RATED,Drama,93,\"[u\\'Lamberto Maggiorani\\', u\\'Enzo Staiola\\', u\\'Lianella Carell\\']\"\\n8.4,The Kid,NOT RATED,Comedy,68,\"[u\\'Charles Chaplin\\', u\\'Edna Purviance\\', u\\'Jackie Coogan\\']\"\\n8.4,Swades,NOT RATED,Drama,189,\"[u\\'Shah Rukh Khan\\', u\\'Gayatri Joshi\\', u\\'Kishori Balal\\']\"\\n8.4,Reservoir Dogs,R,Crime,99,\"[u\\'Harvey Keitel\\', u\\'Tim Roth\\', u\\'Michael Madsen\\']\"\\n8.4,Eternal Sunshine of the Spotless Mind,R,Drama,108,\"[u\\'Jim Carrey\\', u\\'Kate Winslet\\', u\\'Tom Wilkinson\\']\"\\n8.4,Taxi Driver,R,Crime,113,\"[u\\'Robert De Niro\\', u\\'Jodie Foster\\', u\\'Cybill Shepherd\\']\"\\n8.4,Dilwale Dulhania Le Jayenge,NOT RATED,Comedy,181,\"[u\\'Shah Rukh Khan\\', u\\'Kajol\\', u\\'Amrish Puri\\']\"\\n8.4,Singin\\' in the Rain,APPROVED,Comedy,103,\"[u\\'Gene Kelly\\', u\"\"Donald O\\'Connor\"\", u\\'Debbie Reynolds\\']\"\\n8.4,All About Eve,APPROVED,Drama,138,\"[u\\'Bette Davis\\', u\\'Anne Baxter\\', u\\'George Sanders\\']\"\\n8.4,Yojimbo,UNRATED,Action,110,\"[u\\'Toshir\\\\xf4 Mifune\\', u\\'Eijir\\\\xf4 T\\\\xf4no\\', u\\'Tatsuya Nakadai\\']\"\\n8.4,The Sting,PG,Comedy,129,\"[u\\'Paul Newman\\', u\\'Robert Redford\\', u\\'Robert Shaw\\']\"\\n8.4,Rashomon,UNRATED,Crime,88,\"[u\\'Toshir\\\\xf4 Mifune\\', u\\'Machiko Ky\\\\xf4\\', u\\'Masayuki Mori\\']\"\\n8.4,Amadeus,R,Biography,160,\"[u\\'F. Murray Abraham\\', u\\'Tom Hulce\\', u\\'Elizabeth Berridge\\']\"\\n8.3,The Treasure of the Sierra Madre,NOT RATED,Action,126,\"[u\\'Humphrey Bogart\\', u\\'Walter Huston\\', u\\'Tim Holt\\']\"\\n8.3,Monty Python and the Holy Grail,PG,Adventure,91,\"[u\\'Graham Chapman\\', u\\'John Cleese\\', u\\'Eric Idle\\']\"\\n8.3,Full Metal Jacket,R,Drama,116,\"[u\\'Matthew Modine\\', u\\'R. Lee Ermey\\', u\"\"Vincent D\\'Onofrio\"\"]\"\\n8.3,The Apartment,APPROVED,Comedy,125,\"[u\\'Jack Lemmon\\', u\\'Shirley MacLaine\\', u\\'Fred MacMurray\\']\"\\n8.3,Ikiru,NOT RATED,Drama,143,\"[u\\'Takashi Shimura\\', u\\'Nobuo Kaneko\\', u\"\"Shin\\'ichi Himori\"\"]\"\\n8.3,The Third Man,NOT RATED,Film-Noir,93,\"[u\\'Orson Welles\\', u\\'Joseph Cotten\\', u\\'Alida Valli\\']\"\\n8.3,Snatch.,R,Comedy,102,\"[u\\'Jason Statham\\', u\\'Brad Pitt\\', u\\'Benicio Del Toro\\']\"\\n8.3,For a Few Dollars More,APPROVED,Western,132,\"[u\\'Clint Eastwood\\', u\\'Lee Van Cleef\\', u\\'Gian Maria Volont\\\\xe9\\']\"\\n8.3,Metropolis,NOT RATED,Drama,153,\"[u\\'Brigitte Helm\\', u\\'Alfred Abel\\', u\\'Gustav Fr\\\\xf6hlich\\']\"\\n8.3,Dil Chahta Hai,NOT RATED,Comedy,183,\"[u\\'Aamir Khan\\', u\\'Saif Ali Khan\\', u\\'Akshaye Khanna\\']\"\\n8.3,2001: A Space Odyssey,G,Mystery,160,\"[u\\'Keir Dullea\\', u\\'Gary Lockwood\\', u\\'William Sylvester\\']\"\\n8.3,Some Like It Hot,NOT RATED,Comedy,120,\"[u\\'Marilyn Monroe\\', u\\'Tony Curtis\\', u\\'Jack Lemmon\\']\"\\n8.3,L.A. Confidential,R,Crime,138,\"[u\\'Kevin Spacey\\', u\\'Russell Crowe\\', u\\'Guy Pearce\\']\"\\n8.3,Batman Begins,PG-13,Action,140,\"[u\\'Christian Bale\\', u\\'Michael Caine\\', u\\'Ken Watanabe\\']\"\\n8.3,Inglourious Basterds,R,Adventure,153,\"[u\\'Brad Pitt\\', u\\'Diane Kruger\\', u\\'Eli Roth\\']\"\\n8.3,Scarface,R,Crime,170,\"[u\\'Al Pacino\\', u\\'Michelle Pfeiffer\\', u\\'Steven Bauer\\']\"\\n8.3,Mr. Smith Goes to Washington,NOT RATED,Drama,129,\"[u\\'James Stewart\\', u\\'Jean Arthur\\', u\\'Claude Rains\\']\"\\n8.3,Toy Story,G,Animation,81,\"[u\\'Tom Hanks\\', u\\'Tim Allen\\', u\\'Don Rickles\\']\"\\n8.3,Indiana Jones and the Last Crusade,PG-13,Action,127,\"[u\\'Harrison Ford\\', u\\'Sean Connery\\', u\\'Alison Doody\\']\"\\n8.3,Unforgiven,R,Western,131,\"[u\\'Clint Eastwood\\', u\\'Gene Hackman\\', u\\'Morgan Freeman\\']\"\\n8.3,The Great Escape,UNRATED,Adventure,172,\"[u\\'Steve McQueen\\', u\\'James Garner\\', u\\'Richard Attenborough\\']\"\\n8.3,Jagten,R,Drama,115,\"[u\\'Mads Mikkelsen\\', u\\'Thomas Bo Larsen\\', u\\'Annika Wedderkopp\\']\"\\n8.3,On the Waterfront,NOT RATED,Crime,108,\"[u\\'Marlon Brando\\', u\\'Karl Malden\\', u\\'Lee J. Cobb\\']\"\\n8.3,The General,UNRATED,Action,107,\"[u\\'Buster Keaton\\', u\\'Marion Mack\\', u\\'Glen Cavender\\']\"\\n8.3,Raging Bull,R,Biography,129,\"[u\\'Robert De Niro\\', u\\'Cathy Moriarty\\', u\\'Joe Pesci\\']\"\\n8.3,Downfall,R,Biography,156,\"[u\\'Bruno Ganz\\', u\\'Alexandra Maria Lara\\', u\\'Ulrich Matthes\\']\"\\n8.3,Up,PG,Animation,96,\"[u\\'Edward Asner\\', u\\'Jordan Nagai\\', u\\'John Ratzenberger\\']\"\\n8.3,Wild Strawberries,UNRATED,Drama,91,\"[u\\'Victor Sj\\\\xf6str\\\\xf6m\\', u\\'Bibi Andersson\\', u\\'Ingrid Thulin\\']\"\\n8.3,The Gold Rush,NOT RATED,Adventure,95,\"[u\\'Charles Chaplin\\', u\\'Mack Swain\\', u\\'Tom Murray\\']\"\\n8.3,Ran,R,Action,162,\"[u\\'Tatsuya Nakadai\\', u\\'Akira Terao\\', u\\'Jinpachi Nezu\\']\"\\n8.3,Chinatown,R,Drama,130,\"[u\\'Jack Nicholson\\', u\\'Faye Dunaway\\', u\\'John Huston\\']\"\\n8.3,My Neighbor Totoro,G,Animation,86,\"[u\\'Hitoshi Takagi\\', u\\'Noriko Hidaka\\', u\\'Chika Sakamoto\\']\"\\n8.3,Judgment at Nuremberg,NOT RATED,Drama,186,\"[u\\'Spencer Tracy\\', u\\'Burt Lancaster\\', u\\'Richard Widmark\\']\"\\n8.3,Barfi!,NOT RATED,Adventure,151,\"[u\\'Ranbir Kapoor\\', u\\'Priyanka Chopra\\', u\\'Ileana\\']\"\\n8.3,The Seventh Seal,NOT RATED,Drama,96,\"[u\\'Max von Sydow\\', u\\'Gunnar Bj\\\\xf6rnstrand\\', u\\'Bengt Ekerot\\']\"\\n8.3,Heat,R,Action,170,\"[u\\'Al Pacino\\', u\\'Robert De Niro\\', u\\'Val Kilmer\\']\"\\n8.3,Pan\\'s Labyrinth,R,Drama,118,\"[u\\'Ivana Baquero\\', u\\'Ariadna Gil\\', u\\'Sergi L\\\\xf3pez\\']\"\\n8.3,The Bridge on the River Kwai,PG,Adventure,161,\"[u\\'William Holden\\', u\\'Alec Guinness\\', u\\'Jack Hawkins\\']\"\\n8.3,Die Hard,R,Action,131,\"[u\\'Bruce Willis\\', u\\'Alan Rickman\\', u\\'Bonnie Bedelia\\']\"\\n8.3,Good Will Hunting,R,Drama,126,\"[u\\'Robin Williams\\', u\\'Matt Damon\\', u\\'Ben Affleck\\']\"\\n8.3,The Wages of Fear,NOT RATED,Adventure,131,\"[u\\'Yves Montand\\', u\\'Charles Vanel\\', u\\'Peter van Eyck\\']\"\\n8.3,The Secret in Their Eyes,R,Drama,129,\"[u\\'Ricardo Dar\\\\xedn\\', u\\'Soledad Villamil\\', u\\'Pablo Rago\\']\"\\n8.3,Lagaan: Once Upon a Time in India,PG,Adventure,224,\"[u\\'Aamir Khan\\', u\\'Gracy Singh\\', u\\'Rachel Shelley\\']\"\\n8.2,The Wolf of Wall Street,R,Biography,180,\"[u\\'Leonardo DiCaprio\\', u\\'Jonah Hill\\', u\\'Margot Robbie\\']\"\\n8.2,It Happened One Night,UNRATED,Comedy,105,\"[u\\'Clark Gable\\', u\\'Claudette Colbert\\', u\\'Walter Connolly\\']\"\\n8.2,Blade Runner,R,Sci-Fi,117,\"[u\\'Harrison Ford\\', u\\'Rutger Hauer\\', u\\'Sean Young\\']\"\\n8.2,Warrior,PG-13,Drama,140,\"[u\\'Tom Hardy\\', u\\'Nick Nolte\\', u\\'Joel Edgerton\\']\"\\n8.2,Howl\\'s Moving Castle,PG,Animation,119,\"[u\\'Chieko Baish\\\\xf4\\', u\\'Takuya Kimura\\', u\\'Tatsuya Gash\\\\xfbin\\']\"\\n8.2,The Elephant Man,PG,Biography,124,\"[u\\'Anthony Hopkins\\', u\\'John Hurt\\', u\\'Anne Bancroft\\']\"\\n8.2,Rebecca,NOT RATED,Mystery,130,\"[u\\'Laurence Olivier\\', u\\'Joan Fontaine\\', u\\'George Sanders\\']\"\\n8.2,Incendies,R,Drama,139,\"[u\\'Lubna Azabal\\', u\\'M\\\\xe9lissa D\\\\xe9sormeaux-Poulin\\', u\\'Maxim Gaudette\\']\"\\n8.2,\"Lock, Stock and Two Smoking Barrels\",R,Comedy,107,\"[u\\'Jason Flemyng\\', u\\'Dexter Fletcher\\', u\\'Nick Moran\\']\"\\n8.2,V for Vendetta,R,Action,132,\"[u\\'Hugo Weaving\\', u\\'Natalie Portman\\', u\\'Rupert Graves\\']\"\\n8.2,The Big Lebowski,R,Comedy,117,\"[u\\'Jeff Bridges\\', u\\'John Goodman\\', u\\'Julianne Moore\\']\"\\n8.2,Cool Hand Luke,PG,Crime,126,\"[u\\'Paul Newman\\', u\\'George Kennedy\\', u\\'Strother Martin\\']\"\\n8.2,Relatos salvajes,R,Comedy,122,\"[u\\'Dar\\\\xedo Grandinetti\\', u\\'Mar\\\\xeda Marull\\', u\\'M\\\\xf3nica Villa\\']\"\\n8.2,Casino,R,Biography,178,\"[u\\'Robert De Niro\\', u\\'Sharon Stone\\', u\\'Joe Pesci\\']\"\\n8.2,Gone with the Wind,G,Drama,238,\"[u\\'Clark Gable\\', u\\'Vivien Leigh\\', u\\'Thomas Mitchell\\']\"\\n8.2,Gone Girl,R,Drama,149,\"[u\\'Ben Affleck\\', u\\'Rosamund Pike\\', u\\'Neil Patrick Harris\\']\"\\n8.2,The Best Years of Our Lives,PASSED,Drama,172,\"[u\\'Fredric March\\', u\\'Dana Andrews\\', u\\'Myrna Loy\\']\"\\n8.2,How to Train Your Dragon,PG,Animation,98,\"[u\\'Jay Baruchel\\', u\\'Gerard Butler\\', u\\'Christopher Mintz-Plasse\\']\"\\n8.2,Diabolique,UNRATED,Horror,116,\"[u\\'Simone Signoret\\', u\\'V\\\\xe9ra Clouzot\\', u\\'Paul Meurisse\\']\"\\n8.2,Gran Torino,R,Drama,116,\"[u\\'Clint Eastwood\\', u\\'Bee Vang\\', u\\'Christopher Carley\\']\"\\n8.2,Rush,R,Action,123,\"[u\\'Daniel Br\\\\xfchl\\', u\\'Chris Hemsworth\\', u\\'Olivia Wilde\\']\"\\n8.2,Into the Wild,R,Adventure,148,\"[u\\'Emile Hirsch\\', u\\'Vince Vaughn\\', u\\'Catherine Keener\\']\"\\n8.2,My Sassy Girl,NOT RATED,Comedy,123,\"[u\\'Tae-hyun Cha\\', u\\'Gianna Jun\\', u\\'In-mun Kim\\']\"\\n8.2,The Deer Hunter,R,Drama,182,\"[u\\'Robert De Niro\\', u\\'Christopher Walken\\', u\\'John Cazale\\']\"\\n8.2,Mary and Max,NOT RATED,Animation,92,\"[u\\'Toni Collette\\', u\\'Philip Seymour Hoffman\\', u\\'Eric Bana\\']\"\\n8.2,Hachi: A Dog\\'s Tale,G,Drama,93,\"[u\\'Richard Gere\\', u\\'Joan Allen\\', u\\'Cary-Hiroyuki Tagawa\\']\"\\n8.2,The Maltese Falcon,NOT RATED,Crime,100,\"[u\\'Humphrey Bogart\\', u\\'Mary Astor\\', u\\'Gladys George\\']\"\\n8.2,A Beautiful Mind,PG-13,Biography,135,\"[u\\'Russell Crowe\\', u\\'Ed Harris\\', u\\'Jennifer Connelly\\']\"\\n8.2,Dial M for Murder,PG,Crime,105,\"[u\\'Ray Milland\\', u\\'Grace Kelly\\', u\\'Robert Cummings\\']\"\\n8.2,Trainspotting,R,Drama,94,\"[u\\'Ewan McGregor\\', u\\'Ewen Bremner\\', u\\'Jonny Lee Miller\\']\"\\n8.2,Tae Guk Gi: The Brotherhood of War,R,Action,140,\"[u\\'Dong-gun Jang\\', u\\'Bin Won\\', u\\'Eun-ju Lee\\']\"\\n8.2,Persona,NOT RATED,Drama,83,\"[u\\'Bibi Andersson\\', u\\'Liv Ullmann\\', u\\'Margaretha Krook\\']\"\\n8.2,Touch of Evil,PG-13,Crime,95,\"[u\\'Charlton Heston\\', u\\'Orson Welles\\', u\\'Janet Leigh\\']\"\\n8.2,Fargo,R,Crime,98,\"[u\\'William H. Macy\\', u\\'Frances McDormand\\', u\\'Steve Buscemi\\']\"\\n8.2,The Avengers,PG-13,Action,143,\"[u\\'Robert Downey Jr.\\', u\\'Chris Evans\\', u\\'Scarlett Johansson\\']\"\\n8.2,The 400 Blows,NOT RATED,Crime,99,\"[u\\'Jean-Pierre L\\\\xe9aud\\', u\\'Albert R\\\\xe9my\\', u\\'Claire Maurier\\']\"\\n8.2,The Princess Bride,PG,Adventure,98,\"[u\\'Cary Elwes\\', u\\'Mandy Patinkin\\', u\\'Robin Wright\\']\"\\n8.2,Hotel Rwanda,PG-13,Drama,121,\"[u\\'Don Cheadle\\', u\\'Sophie Okonedo\\', u\\'Joaquin Phoenix\\']\"\\n8.2,Stalker,NOT RATED,Drama,163,\"[u\\'Alisa Freyndlikh\\', u\\'Aleksandr Kaydanovskiy\\', u\\'Anatoliy Solonitsyn\\']\"\\n8.2,The Battle of Algiers,NOT RATED,Crime,121,\"[u\\'Brahim Hadjadj\\', u\\'Jean Martin\\', u\\'Yacef Saadi\\']\"\\n8.2,Underground,NOT RATED,Comedy,167,\"[u\\'Predrag Manojlovic\\', u\\'Lazar Ristovski\\', u\\'Mirjana Jokovic\\']\"\\n8.2,Fanny and Alexander,R,Drama,188,\"[u\\'Bertil Guve\\', u\\'Pernilla Allwin\\', u\\'Kristina Adolphson\\']\"\\n8.2,Network,R,Drama,121,\"[u\\'Faye Dunaway\\', u\\'William Holden\\', u\\'Peter Finch\\']\"\\n8.2,The Thing,R,Horror,109,\"[u\\'Kurt Russell\\', u\\'Wilford Brimley\\', u\\'Keith David\\']\"\\n8.2,Butch Cassidy and the Sundance Kid,,Biography,110,\"[u\\'Paul Newman\\', u\\'Robert Redford\\', u\\'Katharine Ross\\']\"\\n8.2,The Grapes of Wrath,NOT RATED,Drama,129,\"[u\\'Henry Fonda\\', u\\'Jane Darwell\\', u\\'John Carradine\\']\"\\n8.2,\"Black Cat, White Cat\",R,Comedy,127,\"[u\\'Bajram Severdzan\\', u\\'Srdjan Todorovic\\', u\\'Branka Katic\\']\"\\n8.2,Life of Brian,R,Comedy,94,\"[u\\'Graham Chapman\\', u\\'John Cleese\\', u\\'Michael Palin\\']\"\\n8.2,The Sixth Sense,PG-13,Drama,107,\"[u\\'Bruce Willis\\', u\\'Haley Joel Osment\\', u\\'Toni Collette\\']\"\\n8.2,Finding Nemo,G,Animation,100,\"[u\\'Albert Brooks\\', u\\'Ellen DeGeneres\\', u\\'Alexander Gould\\']\"\\n8.2,Nausicaa of the Valley of the Wind,PG,Animation,117,\"[u\\'Sumi Shimamoto\\', u\\'Mahito Tsujimura\\', u\\'Hisako Ky\\\\xf4da\\']\"\\n8.1,Kingsman: The Secret Service,R,Action,129,\"[u\\'Colin Firth\\', u\\'Taron Egerton\\', u\\'Samuel L. Jackson\\']\"\\n8.1,Platoon,R,Drama,120,\"[u\\'Charlie Sheen\\', u\\'Tom Berenger\\', u\\'Willem Dafoe\\']\"\\n8.1,Guardians of the Galaxy,PG-13,Action,121,\"[u\\'Chris Pratt\\', u\\'Vin Diesel\\', u\\'Bradley Cooper\\']\"\\n8.1,In the Name of the Father,R,Biography,133,\"[u\\'Daniel Day-Lewis\\', u\\'Pete Postlethwaite\\', u\\'Alison Crosbie\\']\"\\n8.1,Kill Bill: Vol. 1,R,Action,111,\"[u\\'Uma Thurman\\', u\\'David Carradine\\', u\\'Daryl Hannah\\']\"\\n8.1,No Country for Old Men,R,Crime,122,\"[u\\'Tommy Lee Jones\\', u\\'Javier Bardem\\', u\\'Josh Brolin\\']\"\\n8.1,Le Samourai,PG,Crime,101,\"[u\\'Alain Delon\\', u\\'Nathalie Delon\\', u\\'Fran\\\\xe7ois P\\\\xe9rier\\']\"\\n8.1,12 Years a Slave,R,Biography,134,\"[u\\'Chiwetel Ejiofor\\', u\\'Michael Kenneth Williams\\', u\\'Michael Fassbender\\']\"\\n8.1,La leggenda del pianista sull\\'oceano,R,Drama,165,\"[u\\'Tim Roth\\', u\\'Pruitt Taylor Vince\\', u\\'Bill Nunn\\']\"\\n8.1,8 1/2,NOT RATED,Drama,138,\"[u\\'Marcello Mastroianni\\', u\\'Anouk Aim\\\\xe9e\\', u\\'Claudia Cardinale\\']\"\\n8.1,Ben-Hur,G,Adventure,212,\"[u\\'Charlton Heston\\', u\\'Jack Hawkins\\', u\\'Stephen Boyd\\']\"\\n8.1,Amores Perros,R,Drama,154,\"[u\\'Emilio Echevarr\\\\xeda\\', u\\'Gael Garc\\\\xeda Bernal\\', u\\'Goya Toledo\\']\"\\n8.1,Stand by Me,R,Adventure,89,\"[u\\'Wil Wheaton\\', u\\'River Phoenix\\', u\\'Corey Feldman\\']\"\\n8.1,What Ever Happened to Baby Jane?,APPROVED,Drama,134,\"[u\\'Bette Davis\\', u\\'Joan Crawford\\', u\\'Victor Buono\\']\"\\n8.1,Annie Hall,PG,Comedy,93,\"[u\\'Woody Allen\\', u\\'Diane Keaton\\', u\\'Tony Roberts\\']\"\\n8.1,The Imitation Game,PG-13,Biography,114,\"[u\\'Benedict Cumberbatch\\', u\\'Keira Knightley\\', u\\'Matthew Goode\\']\"\\n8.1,Laura,APPROVED,Film-Noir,88,\"[u\\'Gene Tierney\\', u\\'Dana Andrews\\', u\\'Clifton Webb\\']\"\\n8.1,Departures,PG-13,Drama,130,\"[u\\'Masahiro Motoki\\', u\\'Ry\\\\xf4ko Hirosue\\', u\\'Tsutomu Yamazaki\\']\"\\n8.1,Infernal Affairs,R,Crime,101,\"[u\\'Andy Lau\\', u\\'Tony Chiu Wai Leung\\', u\\'Anthony Chau-Sang Wong\\']\"\\n8.1,There Will Be Blood,R,Drama,158,\"[u\\'Daniel Day-Lewis\\', u\\'Paul Dano\\', u\\'Ciar\\\\xe1n Hinds\\']\"\\n8.1,The Grand Budapest Hotel,R,Adventure,99,\"[u\\'Ralph Fiennes\\', u\\'F. Murray Abraham\\', u\\'Mathieu Amalric\\']\"\\n8.1,La Strada,NOT RATED,Drama,108,\"[u\\'Anthony Quinn\\', u\\'Giulietta Masina\\', u\\'Richard Basehart\\']\"\\n8.1,Sin City,R,Crime,124,\"[u\\'Mickey Rourke\\', u\\'Clive Owen\\', u\\'Bruce Willis\\']\"\\n8.1,Memories of Murder,UNRATED,Crime,132,\"[u\\'Kang-ho Song\\', u\\'Sang-kyung Kim\\', u\\'Roe-ha Kim\\']\"\\n8.1,Donnie Darko,R,Drama,113,\"[u\\'Jake Gyllenhaal\\', u\\'Jena Malone\\', u\\'Mary McDonnell\\']\"\\n8.1,Who\\'s Afraid of Virginia Woolf?,TV-MA,Drama,131,\"[u\\'Elizabeth Taylor\\', u\\'Richard Burton\\', u\\'George Segal\\']\"\\n8.1,Gandhi,PG,Biography,191,\"[u\\'Ben Kingsley\\', u\\'John Gielgud\\', u\\'Candice Bergen\\']\"\\n8.1,Solaris,PG,Drama,167,\"[u\\'Natalya Bondarchuk\\', u\\'Donatas Banionis\\', u\\'J\\\\xfcri J\\\\xe4rvet\\']\"\\n8.1,Harry Potter and the Deathly Hallows: Part 2,PG-13,Adventure,130,\"[u\\'Daniel Radcliffe\\', u\\'Emma Watson\\', u\\'Rupert Grint\\']\"\\n8.1,\"Paris, Texas\",R,Drama,147,\"[u\\'Harry Dean Stanton\\', u\\'Nastassja Kinski\\', u\\'Dean Stockwell\\']\"\\n8.1,The Wizard of Oz,PASSED,Adventure,102,\"[u\\'Judy Garland\\', u\\'Frank Morgan\\', u\\'Ray Bolger\\']\"\\n8.1,3-Iron,R,Crime,88,\"[u\\'Seung-yeon Lee\\', u\\'Hyun-kyoon Lee\\', u\\'Hyuk-ho Kwon\\']\"\\n8.1,Boyhood,R,Drama,165,\"[u\\'Ellar Coltrane\\', u\\'Patricia Arquette\\', u\\'Ethan Hawke\\']\"\\n8.1,Million Dollar Baby,PG-13,Drama,132,\"[u\\'Hilary Swank\\', u\\'Clint Eastwood\\', u\\'Morgan Freeman\\']\"\\n8.1,The Last Picture Show,R,Drama,118,\"[u\\'Timothy Bottoms\\', u\\'Jeff Bridges\\', u\\'Cybill Shepherd\\']\"\\n8.1,Strangers on a Train,APPROVED,Crime,101,\"[u\\'Farley Granger\\', u\\'Robert Walker\\', u\\'Ruth Roman\\']\"\\n8.1,Cat on a Hot Tin Roof,APPROVED,Drama,108,\"[u\\'Elizabeth Taylor\\', u\\'Paul Newman\\', u\\'Burl Ives\\']\"\\n8.1,La Dolce Vita,NOT RATED,Comedy,174,\"[u\\'Marcello Mastroianni\\', u\\'Anita Ekberg\\', u\\'Anouk Aim\\\\xe9e\\']\"\\n8.1,Chungking Express,PG-13,Drama,98,\"[u\\'Brigitte Lin\\', u\\'Takeshi Kaneshiro\\', u\\'Tony Chiu Wai Leung\\']\"\\n8.1,The Night of the Hunter,APPROVED,Crime,92,\"[u\\'Robert Mitchum\\', u\\'Shelley Winters\\', u\\'Lillian Gish\\']\"\\n8.1,La Haine,NOT RATED,Crime,98,\"[u\\'Vincent Cassel\\', u\\'Hubert Kound\\\\xe9\\', u\\'Sa\\\\xefd Taghmaoui\\']\"\\n8.1,Yip Man,R,Action,106,\"[u\\'Donnie Yen\\', u\\'Simon Yam\\', u\\'Siu-Wong Fan\\']\"\\n8.1,High Noon,PG,Western,85,\"[u\\'Gary Cooper\\', u\\'Grace Kelly\\', u\\'Thomas Mitchell\\']\"\\n8.1,Notorious,APPROVED,Drama,101,\"[u\\'Cary Grant\\', u\\'Ingrid Bergman\\', u\\'Claude Rains\\']\"\\n8.1,Before Sunrise,R,Drama,105,\"[u\\'Ethan Hawke\\', u\\'Julie Delpy\\', u\\'Andrea Eckert\\']\"\\n8.1,Elite Squad: The Enemy Within,UNRATED,Action,115,\"[u\\'Wagner Moura\\', u\\'Irandhir Santos\\', u\\'Andr\\\\xe9 Ramiro\\']\"\\n8.1,The Bourne Ultimatum,PG-13,Action,115,\"[u\\'Matt Damon\\', u\\'\\\\xc9dgar Ram\\\\xedrez\\', u\\'Joan Allen\\']\"\\n8.1,Castle in the Sky,PG,Animation,124,\"[u\\'Anna Paquin\\', u\\'James Van Der Beek\\', u\\'Cloris Leachman\\']\"\\n8.1,The Celebration,R,Drama,105,\"[u\\'Ulrich Thomsen\\', u\\'Henning Moritzen\\', u\\'Thomas Bo Larsen\\']\"\\n8.1,\"Spring, Summer, Fall, Winter... and Spring\",R,Drama,103,\"[u\\'Ki-duk Kim\\', u\\'Yeong-su Oh\\', u\\'Jong-ho Kim\\']\"\\n8.1,Shutter Island,R,Mystery,138,\"[u\\'Leonardo DiCaprio\\', u\\'Emily Mortimer\\', u\\'Mark Ruffalo\\']\"\\n8.1,Barry Lyndon,PG,Adventure,184,\"[u\"\"Ryan O\\'Neal\"\", u\\'Marisa Berenson\\', u\\'Patrick Magee\\']\"\\n8.1,Stalag 17,NOT RATED,Comedy,120,\"[u\\'William Holden\\', u\\'Don Taylor\\', u\\'Otto Preminger\\']\"\\n8.1,Three Colors: Red,R,Drama,99,\"[u\\'Ir\\\\xe8ne Jacob\\', u\\'Jean-Louis Trintignant\\', u\\'Fr\\\\xe9d\\\\xe9rique Feder\\']\"\\n8.1,X-Men: Days of Future Past,PG-13,Action,131,\"[u\\'Patrick Stewart\\', u\\'Ian McKellen\\', u\\'Hugh Jackman\\']\"\\n8.1,Sleuth,PG,Mystery,138,\"[u\\'Laurence Olivier\\', u\\'Michael Caine\\', u\\'Alec Cawthorne\\']\"\\n8.1,In the Mood for Love,PG,Drama,98,\"[u\\'Tony Chiu Wai Leung\\', u\\'Maggie Cheung\\', u\\'Ping Lam Siu\\']\"\\n8.1,The Man Who Shot Liberty Valance,APPROVED,Drama,123,\"[u\\'James Stewart\\', u\\'John Wayne\\', u\\'Vera Miles\\']\"\\n8.1,Arsenic and Old Lace,NOT RATED,Comedy,118,\"[u\\'Cary Grant\\', u\\'Priscilla Lane\\', u\\'Raymond Massey\\']\"\\n8.1,The Big Sleep,APPROVED,Crime,114,\"[u\\'Humphrey Bogart\\', u\\'Lauren Bacall\\', u\\'John Ridgely\\']\"\\n8.1,Roman Holiday,NOT RATED,Comedy,118,\"[u\\'Gregory Peck\\', u\\'Audrey Hepburn\\', u\\'Eddie Albert\\']\"\\n8.1,The Philadelphia Story,NOT RATED,Comedy,112,\"[u\\'Cary Grant\\', u\\'Katharine Hepburn\\', u\\'James Stewart\\']\"\\n8.1,Akira,R,Animation,124,\"[u\\'Nozomu Sasaki\\', u\\'Mami Koyama\\', u\\'Mitsuo Iwata\\']\"\\n8.1,Anatomy of a Murder,UNRATED,Crime,160,\"[u\\'James Stewart\\', u\\'Lee Remick\\', u\\'Ben Gazzara\\']\"\\n8.1,The Cabinet of Dr. Caligari,UNRATED,Crime,67,\"[u\\'Werner Krauss\\', u\\'Conrad Veidt\\', u\\'Friedrich Feher\\']\"\\n8.1,The Help,PG-13,Drama,146,\"[u\\'Emma Stone\\', u\\'Viola Davis\\', u\\'Octavia Spencer\\']\"\\n8.1,The Sea Inside,PG-13,Biography,125,\"[u\\'Javier Bardem\\', u\\'Bel\\\\xe9n Rueda\\', u\\'Lola Due\\\\xf1as\\']\"\\n8.1,Elite Squad,R,Action,115,\"[u\\'Wagner Moura\\', u\\'Andr\\\\xe9 Ramiro\\', u\\'Caio Junqueira\\']\"\\n8.1,The Hustler,UNRATED,Drama,134,\"[u\\'Paul Newman\\', u\\'Jackie Gleason\\', u\\'Piper Laurie\\']\"\\n8.1,Rio Bravo,NOT RATED,Western,141,\"[u\\'John Wayne\\', u\\'Dean Martin\\', u\\'Ricky Nelson\\']\"\\n8.1,Twelve Monkeys,R,Mystery,129,\"[u\\'Bruce Willis\\', u\\'Madeleine Stowe\\', u\\'Brad Pitt\\']\"\\n8.1,Harvey,NOT RATED,Comedy,104,\"[u\\'James Stewart\\', u\\'Josephine Hull\\', u\\'Peggy Dow\\']\"\\n8.1,A Christmas Story,PG,Comedy,94,\"[u\\'Peter Billingsley\\', u\\'Melinda Dillon\\', u\\'Darren McGavin\\']\"\\n8.1,Jaws,PG,Drama,124,\"[u\\'Roy Scheider\\', u\\'Robert Shaw\\', u\\'Richard Dreyfuss\\']\"\\n8.1,The Raid 2,R,Action,150,\"[u\\'Iko Uwais\\', u\\'Yayan Ruhian\\', u\\'Arifin Putra\\']\"\\n8.1,Rocky,PG,Drama,119,\"[u\\'Sylvester Stallone\\', u\\'Talia Shire\\', u\\'Burt Young\\']\"\\n8.1,Wings of Desire,PG-13,Drama,128,\"[u\\'Bruno Ganz\\', u\\'Solveig Dommartin\\', u\\'Otto Sander\\']\"\\n8.1,Pirates of the Caribbean: The Curse of the Black Pearl,PG-13,Adventure,143,\"[u\\'Johnny Depp\\', u\\'Geoffrey Rush\\', u\\'Orlando Bloom\\']\"\\n8.1,The Killing,APPROVED,Crime,85,\"[u\\'Sterling Hayden\\', u\\'Coleen Gray\\', u\\'Vince Edwards\\']\"\\n8.1,Papillon,R,Biography,151,\"[u\\'Steve McQueen\\', u\\'Dustin Hoffman\\', u\\'Victor Jory\\']\"\\n8.1,The King\\'s Speech,R,Biography,118,\"[u\\'Colin Firth\\', u\\'Geoffrey Rush\\', u\\'Helena Bonham Carter\\']\"\\n8.1,Groundhog Day,PG,Comedy,101,\"[u\\'Bill Murray\\', u\\'Andie MacDowell\\', u\\'Chris Elliott\\']\"\\n8.1,A Fistful of Dollars,R,Action,99,\"[u\\'Clint Eastwood\\', u\\'Gian Maria Volont\\\\xe9\\', u\\'Marianne Koch\\']\"\\n8.1,\"Monsters, Inc.\",G,Animation,92,\"[u\\'Billy Crystal\\', u\\'John Goodman\\', u\\'Mary Gibbs\\']\"\\n8.1,Dog Day Afternoon,R,Crime,125,\"[u\\'Al Pacino\\', u\\'John Cazale\\', u\\'Penelope Allen\\']\"\\n8.1,The Perks of Being a Wallflower,PG-13,Drama,102,\"[u\\'Logan Lerman\\', u\\'Emma Watson\\', u\\'Ezra Miller\\']\"\\n8.1,Young Frankenstein,PG,Comedy,106,\"[u\\'Gene Wilder\\', u\\'Madeline Kahn\\', u\\'Marty Feldman\\']\"\\n8.1,The Terminator,R,Action,107,\"[u\\'Arnold Schwarzenegger\\', u\\'Linda Hamilton\\', u\\'Michael Biehn\\']\"\\n8.1,Harold and Maude,GP,Comedy,91,\"[u\\'Ruth Gordon\\', u\\'Bud Cort\\', u\\'Vivian Pickles\\']\"\\n8.1,Before Sunset,R,Drama,80,\"[u\\'Ethan Hawke\\', u\\'Julie Delpy\\', u\\'Vernon Dobtcheff\\']\"\\n8.1,A Streetcar Named Desire,PG,Drama,122,\"[u\\'Vivien Leigh\\', u\\'Marlon Brando\\', u\\'Kim Hunter\\']\"\\n8.1,Bringing Up Baby,APPROVED,Comedy,102,\"[u\\'Katharine Hepburn\\', u\\'Cary Grant\\', u\\'Charles Ruggles\\']\"\\n8.1,The Diving Bell and the Butterfly,PG-13,Biography,112,\"[u\\'Mathieu Amalric\\', u\\'Emmanuelle Seigner\\', u\\'Marie-Jos\\\\xe9e Croze\\']\"\\n8.1,His Girl Friday,APPROVED,Comedy,92,\"[u\\'Cary Grant\\', u\\'Rosalind Russell\\', u\\'Ralph Bellamy\\']\"\\n8.1,Sling Blade,R,Drama,135,\"[u\\'Billy Bob Thornton\\', u\\'Dwight Yoakam\\', u\\'J.T. Walsh\\']\"\\n8.1,All Quiet on the Western Front,UNRATED,Drama,136,\"[u\\'Lew Ayres\\', u\\'Louis Wolheim\\', u\\'John Wray\\']\"\\n8.1,Prisoners,R,Crime,153,\"[u\\'Hugh Jackman\\', u\\'Jake Gyllenhaal\\', u\\'Viola Davis\\']\"\\n8.1,The Return,UNRATED,Drama,105,\"[u\\'Vladimir Garin\\', u\\'Ivan Dobronravov\\', u\\'Konstantin Lavronenko\\']\"\\n8.1,The Manchurian Candidate,APPROVED,Mystery,126,\"[u\\'Frank Sinatra\\', u\\'Laurence Harvey\\', u\\'Janet Leigh\\']\"\\n8.1,Duck Soup,PASSED,Comedy,68,\"[u\\'Groucho Marx\\', u\\'Harpo Marx\\', u\\'Chico Marx\\']\"\\n8.1,Beauty and the Beast,G,Animation,84,\"[u\"\"Paige O\\'Hara\"\", u\\'Robby Benson\\', u\\'Richard White\\']\"\\n8.1,The Truman Show,PG,Drama,103,\"[u\\'Jim Carrey\\', u\\'Ed Harris\\', u\\'Laura Linney\\']\"\\n8.1,The Wild Bunch,R,Action,145,\"[u\\'William Holden\\', u\\'Ernest Borgnine\\', u\\'Robert Ryan\\']\"\\n8,Rope,PG,Crime,80,\"[u\\'James Stewart\\', u\\'John Dall\\', u\\'Farley Granger\\']\"\\n8,The Graduate,APPROVED,Comedy,106,\"[u\\'Dustin Hoffman\\', u\\'Anne Bancroft\\', u\\'Katharine Ross\\']\"\\n8,Jurassic Park,PG-13,Adventure,127,\"[u\\'Sam Neill\\', u\\'Laura Dern\\', u\\'Jeff Goldblum\\']\"\\n8,Dogville,R,Crime,178,\"[u\\'Nicole Kidman\\', u\\'Paul Bettany\\', u\\'Lauren Bacall\\']\"\\n8,Furious 7,PG-13,Action,137,\"[u\\'Vin Diesel\\', u\\'Paul Walker\\', u\\'Dwayne Johnson\\']\"\\n8,Patton,GP,Biography,172,\"[u\\'George C. Scott\\', u\\'Karl Malden\\', u\\'Stephen Young\\']\"\\n8,The Nightmare Before Christmas,PG,Animation,76,\"[u\\'Danny Elfman\\', u\\'Chris Sarandon\\', u\"\"Catherine O\\'Hara\"\"]\"\\n8,Being There,PG,Comedy,130,\"[u\\'Peter Sellers\\', u\\'Shirley MacLaine\\', u\\'Melvyn Douglas\\']\"\\n8,Persepolis,PG-13,Animation,96,\"[u\\'Chiara Mastroianni\\', u\\'Catherine Deneuve\\', u\\'Gena Rowlands\\']\"\\n8,This Is Spinal Tap,R,Comedy,82,\"[u\\'Rob Reiner\\', u\\'Michael McKean\\', u\\'Christopher Guest\\']\"\\n8,East of Eden,PG,Drama,115,\"[u\\'James Dean\\', u\\'Raymond Massey\\', u\\'Julie Harris\\']\"\\n8,Pink Floyd The Wall,R,Animation,95,\"[u\\'Bob Geldof\\', u\\'Christine Hargreaves\\', u\\'James Laurenson\\']\"\\n8,Blood Diamond,R,Adventure,143,\"[u\\'Leonardo DiCaprio\\', u\\'Djimon Hounsou\\', u\\'Jennifer Connelly\\']\"\\n8,Big Fish,PG-13,Adventure,125,\"[u\\'Ewan McGregor\\', u\\'Albert Finney\\', u\\'Billy Crudup\\']\"\\n8,Slumdog Millionaire,R,Drama,120,\"[u\\'Dev Patel\\', u\\'Freida Pinto\\', u\\'Saurabh Shukla\\']\"\\n8,Star Trek,PG-13,Action,127,\"[u\\'Chris Pine\\', u\\'Zachary Quinto\\', u\\'Simon Pegg\\']\"\\n8,The Straight Story,G,Biography,112,\"[u\\'Richard Farnsworth\\', u\\'Sissy Spacek\\', u\\'Jane Galloway Heitz\\']\"\\n8,Crimes and Misdemeanors,PG-13,Comedy,104,\"[u\\'Martin Landau\\', u\\'Woody Allen\\', u\\'Bill Bernstein\\']\"\\n8,Charade,NOT RATED,Comedy,113,\"[u\\'Cary Grant\\', u\\'Audrey Hepburn\\', u\\'Walter Matthau\\']\"\\n8,JFK,R,Drama,189,\"[u\\'Kevin Costner\\', u\\'Gary Oldman\\', u\\'Jack Lemmon\\']\"\\n8,Dawn of the Dead,UNRATED,Horror,127,\"[u\\'David Emge\\', u\\'Ken Foree\\', u\\'Scott H. Reiniger\\']\"\\n8,Magnolia,R,Drama,188,\"[u\\'Tom Cruise\\', u\\'Jason Robards\\', u\\'Julianne Moore\\']\"\\n8,Manhattan,R,Comedy,96,\"[u\\'Woody Allen\\', u\\'Diane Keaton\\', u\\'Mariel Hemingway\\']\"\\n8,Central Station,R,Drama,113,\"[u\\'Fernanda Montenegro\\', u\\'Vin\\\\xedcius de Oliveira\\', u\\'Mar\\\\xedlia P\\\\xeara\\']\"\\n8,Brazil,R,Sci-Fi,132,\"[u\\'Jonathan Pryce\\', u\\'Kim Greist\\', u\\'Robert De Niro\\']\"\\n8,The Exorcist,R,Horror,122,\"[u\\'Ellen Burstyn\\', u\\'Max von Sydow\\', u\\'Linda Blair\\']\"\\n8,Her,R,Drama,126,\"[u\\'Joaquin Phoenix\\', u\\'Amy Adams\\', u\\'Scarlett Johansson\\']\"\\n8,Dancer in the Dark,R,Crime,140,\"[u\\'Bj\\\\xf6rk\\', u\\'Catherine Deneuve\\', u\\'David Morse\\']\"\\n8,Rain Man,R,Drama,133,\"[u\\'Dustin Hoffman\\', u\\'Tom Cruise\\', u\\'Valeria Golino\\']\"\\n8,Talk to Her,R,Drama,112,\"[u\\'Rosario Flores\\', u\\'Javier C\\\\xe1mara\\', u\\'Dar\\\\xedo Grandinetti\\']\"\\n8,The Adventures of Robin Hood,PG,Action,102,\"[u\\'Errol Flynn\\', u\\'Olivia de Havilland\\', u\\'Basil Rathbone\\']\"\\n8,\"Aguirre, the Wrath of God\",NOT RATED,Adventure,93,\"[u\\'Klaus Kinski\\', u\\'Ruy Guerra\\', u\\'Helena Rojo\\']\"\\n8,In the Heat of the Night,APPROVED,Crime,109,\"[u\\'Sidney Poitier\\', u\\'Rod Steiger\\', u\\'Warren Oates\\']\"\\n8,Nosferatu,UNRATED,Horror,81,\"[u\\'Max Schreck\\', u\\'Greta Schr\\\\xf6der\\', u\\'Ruth Landshoff\\']\"\\n8,Black Swan,R,Drama,108,\"[u\\'Natalie Portman\\', u\\'Mila Kunis\\', u\\'Vincent Cassel\\']\"\\n8,Ratatouille,G,Animation,111,\"[u\\'Brad Garrett\\', u\\'Lou Romano\\', u\\'Patton Oswalt\\']\"\\n8,The Searchers,APPROVED,Adventure,119,\"[u\\'John Wayne\\', u\\'Jeffrey Hunter\\', u\\'Vera Miles\\']\"\\n8,Short Term 12,R,Drama,96,\"[u\\'Brie Larson\\', u\\'Frantz Turner\\', u\\'John Gallagher Jr.\\']\"\\n8,Doctor Zhivago,PG-13,Drama,197,\"[u\\'Omar Sharif\\', u\\'Julie Christie\\', u\\'Geraldine Chaplin\\']\"\\n8,Life of Pi,PG,Adventure,127,\"[u\\'Suraj Sharma\\', u\\'Irrfan Khan\\', u\\'Adil Hussain\\']\"\\n8,All the President\\'s Men,R,Drama,138,\"[u\\'Dustin Hoffman\\', u\\'Robert Redford\\', u\\'Jack Warden\\']\"\\n8,Battleship Potemkin,UNRATED,History,66,\"[u\\'Aleksandr Antonov\\', u\\'Vladimir Barsky\\', u\\'Grigori Aleksandrov\\']\"\\n8,Dances with Wolves,PG-13,Adventure,181,\"[u\\'Kevin Costner\\', u\\'Mary McDonnell\\', u\\'Graham Greene\\']\"\\n8,Catch Me If You Can,PG-13,Biography,141,\"[u\\'Leonardo DiCaprio\\', u\\'Tom Hanks\\', u\\'Christopher Walken\\']\"\\n8,Cinderella Man,PG-13,Biography,144,\"[u\\'Russell Crowe\\', u\\'Ren\\\\xe9e Zellweger\\', u\\'Craig Bierko\\']\"\\n8,Dead Poets Society,PG,Drama,128,\"[u\\'Robin Williams\\', u\\'Robert Sean Leonard\\', u\\'Ethan Hawke\\']\"\\n8,Ghost in the Shell,NOT RATED,Animation,83,\"[u\\'Atsuko Tanaka\\', u\\'Iemasa Kayumi\\', u\\'Akio \\\\xd4tsuka\\']\"\\n8,Head-On,R,Drama,121,\"[u\\'Birol \\\\xdcnel\\', u\\'Sibel Kekilli\\', u\\'G\\\\xfcven Kira\\\\xe7\\']\"\\n8,No Man\\'s Land,R,Drama,98,\"[u\\'Branko Djuric\\', u\\'Rene Bitorajac\\', u\\'Filip Sovagovic\\']\"\\n8,Dallas Buyers Club,R,Biography,117,\"[u\\'Matthew McConaughey\\', u\\'Jennifer Garner\\', u\\'Jared Leto\\']\"\\n8,Days of Heaven,PG,Drama,94,\"[u\\'Richard Gere\\', u\\'Brooke Adams\\', u\\'Sam Shepard\\']\"\\n8,The Sound of Music,G,Biography,174,\"[u\\'Julie Andrews\\', u\\'Christopher Plummer\\', u\\'Eleanor Parker\\']\"\\n8,District 9,R,Action,112,\"[u\\'Sharlto Copley\\', u\\'David James\\', u\\'Jason Cope\\']\"\\n8,Shadow of a Doubt,APPROVED,Thriller,108,\"[u\\'Teresa Wright\\', u\\'Joseph Cotten\\', u\\'Macdonald Carey\\']\"\\n8,Frankenstein,UNRATED,Horror,70,\"[u\\'Colin Clive\\', u\\'Mae Clarke\\', u\\'Boris Karloff\\']\"\\n8,Shaun of the Dead,R,Comedy,99,\"[u\\'Simon Pegg\\', u\\'Nick Frost\\', u\\'Kate Ashfield\\']\"\\n8,Night of the Living Dead,UNRATED,Horror,96,\"[u\\'Duane Jones\\', u\"\"Judith O\\'Dea\"\", u\\'Karl Hardman\\']\"\\n8,Kill Bill: Vol. 2,R,Action,137,\"[u\\'Uma Thurman\\', u\\'David Carradine\\', u\\'Michael Madsen\\']\"\\n8,Secrets & Lies,R,Drama,136,\"[u\\'Timothy Spall\\', u\\'Brenda Blethyn\\', u\\'Phyllis Logan\\']\"\\n8,The Artist,PG-13,Comedy,100,\"[u\\'Jean Dujardin\\', u\\'B\\\\xe9r\\\\xe9nice Bejo\\', u\\'John Goodman\\']\"\\n8,Aladdin,G,Animation,90,\"[u\\'Scott Weinger\\', u\\'Robin Williams\\', u\\'Linda Larkin\\']\"\\n8,The Lady Vanishes,PASSED,Comedy,96,\"[u\\'Margaret Lockwood\\', u\\'Michael Redgrave\\', u\\'Paul Lukas\\']\"\\n8,The Hobbit: The Desolation of Smaug,PG-13,Adventure,161,\"[u\\'Ian McKellen\\', u\\'Martin Freeman\\', u\\'Richard Armitage\\']\"\\n8,Let the Right One In,R,Drama,115,\"[u\\'K\\\\xe5re Hedebrant\\', u\\'Lina Leandersson\\', u\\'Per Ragnar\\']\"\\n8,Fiddler on the Roof,G,Drama,181,\"[u\\'Topol\\', u\\'Norma Crane\\', u\\'Leonard Frey\\']\"\\n8,The Hobbit: An Unexpected Journey,PG-13,Adventure,169,\"[u\\'Martin Freeman\\', u\\'Ian McKellen\\', u\\'Richard Armitage\\']\"\\n8,Three Colors: Blue,R,Drama,98,\"[u\\'Juliette Binoche\\', u\\'Zbigniew Zamachowski\\', u\\'Julie Delpy\\']\"\\n8,Rosemary\\'s Baby,R,Drama,136,\"[u\\'Mia Farrow\\', u\\'John Cassavetes\\', u\\'Ruth Gordon\\']\"\\n8,Mystic River,R,Crime,138,\"[u\\'Sean Penn\\', u\\'Tim Robbins\\', u\\'Kevin Bacon\\']\"\\n8,Serenity,PG-13,Action,119,\"[u\\'Nathan Fillion\\', u\\'Gina Torres\\', u\\'Chiwetel Ejiofor\\']\"\\n8,Amarcord,R,Comedy,123,\"[u\\'Magali No\\\\xebl\\', u\\'Bruno Zanin\\', u\\'Pupella Maggio\\']\"\\n8,Planet of the Apes,G,Adventure,112,\"[u\\'Charlton Heston\\', u\\'Roddy McDowall\\', u\\'Kim Hunter\\']\"\\n8,True Romance,R,Crime,120,\"[u\\'Christian Slater\\', u\\'Patricia Arquette\\', u\\'Dennis Hopper\\']\"\\n8,Hannah and Her Sisters,PG-13,Comedy,103,\"[u\\'Mia Farrow\\', u\\'Dianne Wiest\\', u\\'Michael Caine\\']\"\\n8,Moon,R,Drama,97,\"[u\\'Sam Rockwell\\', u\\'Kevin Spacey\\', u\\'Dominique McElligott\\']\"\\n8,Before Midnight,R,Drama,109,\"[u\\'Ethan Hawke\\', u\\'Julie Delpy\\', u\\'Seamus Davey-Fitzpatrick\\']\"\\n8,My Name Is Khan,PG-13,Drama,165,\"[u\\'Shah Rukh Khan\\', u\\'Kajol\\', u\\'Sheetal Menon\\']\"\\n8,Scent of a Woman,R,Drama,156,\"[u\\'Al Pacino\\', u\"\"Chris O\\'Donnell\"\", u\\'James Rebhorn\\']\"\\n8,Mulholland Dr.,R,Drama,147,\"[u\\'Naomi Watts\\', u\\'Laura Harring\\', u\\'Justin Theroux\\']\"\\n8,King Kong,UNRATED,Adventure,100,\"[u\\'Fay Wray\\', u\\'Robert Armstrong\\', u\\'Bruce Cabot\\']\"\\n8,The Fault in Our Stars,PG-13,Drama,126,\"[u\\'Shailene Woodley\\', u\\'Ansel Elgort\\', u\\'Nat Wolff\\']\"\\n8,The Incredibles,PG,Animation,115,\"[u\\'Craig T. Nelson\\', u\\'Samuel L. Jackson\\', u\\'Holly Hunter\\']\"\\n8,Edward Scissorhands,PG-13,Drama,105,\"[u\\'Johnny Depp\\', u\\'Winona Ryder\\', u\\'Dianne Wiest\\']\"\\n8,Casino Royale,PG-13,Action,144,\"[u\\'Daniel Craig\\', u\\'Eva Green\\', u\\'Judi Dench\\']\"\\n8,How to Train Your Dragon 2,PG,Animation,102,\"[u\\'Jay Baruchel\\', u\\'Cate Blanchett\\', u\\'Gerard Butler\\']\"\\n8,In Bruges,R,Comedy,107,\"[u\\'Colin Farrell\\', u\\'Brendan Gleeson\\', u\\'Ciar\\\\xe1n Hinds\\']\"\\n8,The Untouchables,R,Crime,119,\"[u\\'Kevin Costner\\', u\\'Sean Connery\\', u\\'Robert De Niro\\']\"\\n8,Breathless,UNRATED,Crime,90,\"[u\\'Jean-Paul Belmondo\\', u\\'Jean Seberg\\', u\\'Daniel Boulanger\\']\"\\n8,Spartacus,PG-13,Action,197,\"[u\\'Kirk Douglas\\', u\\'Laurence Olivier\\', u\\'Jean Simmons\\']\"\\n8,The Iron Giant,PG,Animation,86,\"[u\\'Eli Marienthal\\', u\\'Harry Connick Jr.\\', u\\'Jennifer Aniston\\']\"\\n8,Midnight Cowboy,X,Drama,113,\"[u\\'Dustin Hoffman\\', u\\'Jon Voight\\', u\\'Sylvia Miles\\']\"\\n8,The Blues Brothers,R,Action,133,\"[u\\'John Belushi\\', u\\'Dan Aykroyd\\', u\\'Cab Calloway\\']\"\\n8,Freaks,UNRATED,Drama,64,\"[u\\'Wallace Ford\\', u\\'Leila Hyams\\', u\\'Olga Baclanova\\']\"\\n8,Letters from Iwo Jima,R,Drama,141,\"[u\\'Ken Watanabe\\', u\\'Kazunari Ninomiya\\', u\\'Tsuyoshi Ihara\\']\"\\n8,Edge of Tomorrow,PG-13,Action,113,\"[u\\'Tom Cruise\\', u\\'Emily Blunt\\', u\\'Bill Paxton\\']\"\\n8,Glory,R,Drama,122,\"[u\\'Matthew Broderick\\', u\\'Denzel Washington\\', u\\'Cary Elwes\\']\"\\n8,The African Queen,PG,Adventure,105,\"[u\\'Humphrey Bogart\\', u\\'Katharine Hepburn\\', u\\'Robert Morley\\']\"\\n7.9,Birdman: Or (The Unexpected Virtue of Ignorance),R,Comedy,119,\"[u\\'Michael Keaton\\', u\\'Zach Galifianakis\\', u\\'Edward Norton\\']\"\\n7.9,Big Hero 6,PG,Animation,102,\"[u\\'Ryan Potter\\', u\\'Scott Adsit\\', u\\'Jamie Chung\\']\"\\n7.9,Almost Famous,R,Drama,122,\"[u\\'Billy Crudup\\', u\\'Patrick Fugit\\', u\\'Kate Hudson\\']\"\\n7.9,The Notebook,PG-13,Drama,123,\"[u\\'Gena Rowlands\\', u\\'James Garner\\', u\\'Rachel McAdams\\']\"\\n7.9,The Conversation,PG,Drama,113,\"[u\\'Gene Hackman\\', u\\'John Cazale\\', u\\'Allen Garfield\\']\"\\n7.9,The Breakfast Club,R,Comedy,97,\"[u\\'Emilio Estevez\\', u\\'Judd Nelson\\', u\\'Molly Ringwald\\']\"\\n7.9,The Pursuit of Happyness,PG-13,Biography,117,\"[u\\'Will Smith\\', u\\'Thandie Newton\\', u\\'Jaden Smith\\']\"\\n7.9,The Killer,R,Action,111,\"[u\\'Yun-Fat Chow\\', u\\'Danny Lee\\', u\\'Sally Yeh\\']\"\\n7.9,Once,R,Drama,85,\"[u\\'Glen Hansard\\', u\\'Mark\\\\xe9ta Irglov\\\\xe1\\', u\\'Hugh Walsh\\']\"\\n7.9,Ying xiong,PG-13,Action,99,\"[u\\'Jet Li\\', u\\'Tony Chiu Wai Leung\\', u\\'Maggie Cheung\\']\"\\n7.9,The Remains of the Day,PG,Drama,134,\"[u\\'Anthony Hopkins\\', u\\'Emma Thompson\\', u\\'John Haycraft\\']\"\\n7.9,The Bride of Frankenstein,NOT RATED,Horror,75,\"[u\\'Boris Karloff\\', u\\'Elsa Lanchester\\', u\\'Colin Clive\\']\"\\n7.9,The Wrestler,R,Drama,109,\"[u\\'Mickey Rourke\\', u\\'Marisa Tomei\\', u\\'Evan Rachel Wood\\']\"\\n7.9,Nightcrawler,R,Crime,117,\"[u\\'Jake Gyllenhaal\\', u\\'Rene Russo\\', u\\'Bill Paxton\\']\"\\n7.9,Gravity,PG-13,Sci-Fi,91,\"[u\\'Sandra Bullock\\', u\\'George Clooney\\', u\\'Ed Harris\\']\"\\n7.9,Hard Boiled,R,Action,128,\"[u\\'Yun-Fat Chow\\', u\\'Tony Chiu Wai Leung\\', u\\'Teresa Mo\\']\"\\n7.9,Bonnie and Clyde,APPROVED,Biography,111,\"[u\\'Warren Beatty\\', u\\'Faye Dunaway\\', u\\'Michael J. Pollard\\']\"\\n7.9,The Bourne Identity,PG-13,Action,119,\"[u\\'Franka Potente\\', u\\'Matt Damon\\', u\\'Chris Cooper\\']\"\\n7.9,Key Largo,UNRATED,Crime,100,\"[u\\'Humphrey Bogart\\', u\\'Edward G. Robinson\\', u\\'Lauren Bacall\\']\"\\n7.9,Nine Queens,R,Crime,114,\"[u\\'Ricardo Dar\\\\xedn\\', u\\'Gast\\\\xf3n Pauls\\', u\\'Leticia Br\\\\xe9dice\\']\"\\n7.9,Toy Story 2,G,Animation,92,\"[u\\'Tom Hanks\\', u\\'Tim Allen\\', u\\'Joan Cusack\\']\"\\n7.9,The Killing Fields,R,Drama,141,\"[u\\'Sam Waterston\\', u\\'Haing S. Ngor\\', u\\'John Malkovich\\']\"\\n7.9,All About My Mother,R,Drama,101,\"[u\\'Cecilia Roth\\', u\\'Marisa Paredes\\', u\\'Candela Pe\\\\xf1a\\']\"\\n7.9,Cowboy Bebop: The Movie,R,Animation,115,\"[u\\'Beau Billingslea\\', u\\'Melissa Fahn\\', u\\'Nicholas Guest\\']\"\\n7.9,Ed Wood,R,Biography,127,\"[u\\'Johnny Depp\\', u\\'Martin Landau\\', u\\'Sarah Jessica Parker\\']\"\\n7.9,Stagecoach,NOT RATED,Adventure,96,\"[u\\'John Wayne\\', u\\'Claire Trevor\\', u\\'Andy Devine\\']\"\\n7.9,The Man Who Would Be King,PG,Action,129,\"[u\\'Sean Connery\\', u\\'Michael Caine\\', u\\'Christopher Plummer\\']\"\\n7.9,The Outlaw Josey Wales,PG,Western,135,\"[u\\'Clint Eastwood\\', u\\'Sondra Locke\\', u\\'Chief Dan George\\']\"\\n7.9,Children of Men,R,Drama,109,\"[u\\'Julianne Moore\\', u\\'Clive Owen\\', u\\'Chiwetel Ejiofor\\']\"\\n7.9,The Insider,R,Biography,157,\"[u\\'Russell Crowe\\', u\\'Al Pacino\\', u\\'Christopher Plummer\\']\"\\n7.9,The Right Stuff,R,Adventure,193,\"[u\\'Sam Shepard\\', u\\'Scott Glenn\\', u\\'Ed Harris\\']\"\\n7.9,Badlands,PG,Crime,94,\"[u\\'Martin Sheen\\', u\\'Sissy Spacek\\', u\\'Warren Oates\\']\"\\n7.9,A Prophet,R,Crime,155,\"[u\\'Tahar Rahim\\', u\\'Niels Arestrup\\', u\\'Adel Bencherif\\']\"\\n7.9,\"4 Months, 3 Weeks and 2 Days\",NOT RATED,Drama,113,\"[u\\'Anamaria Marinca\\', u\\'Vlad Ivanov\\', u\\'Laura Vasiliu\\']\"\\n7.9,Le passe,PG-13,Drama,130,\"[u\\'B\\\\xe9r\\\\xe9nice Bejo\\', u\\'Tahar Rahim\\', u\\'Ali Mosaffa\\']\"\\n7.9,The Fall,R,Adventure,117,\"[u\\'Lee Pace\\', u\\'Catinca Untaru\\', u\\'Justine Waddell\\']\"\\n7.9,Breaking the Waves,R,Drama,159,\"[u\\'Emily Watson\\', u\\'Stellan Skarsg\\\\xe5rd\\', u\\'Katrin Cartlidge\\']\"\\n7.9,Mr. Nobody,R,Drama,141,\"[u\\'Jared Leto\\', u\\'Sarah Polley\\', u\\'Diane Kruger\\']\"\\n7.9,Crash,R,Drama,112,\"[u\\'Don Cheadle\\', u\\'Sandra Bullock\\', u\\'Thandie Newton\\']\"\\n7.9,Avatar,PG-13,Action,162,\"[u\\'Sam Worthington\\', u\\'Zoe Saldana\\', u\\'Sigourney Weaver\\']\"\\n7.9,Iron Man,PG-13,Action,126,\"[u\\'Robert Downey Jr.\\', u\\'Gwyneth Paltrow\\', u\\'Terrence Howard\\']\"\\n7.9,Do the Right Thing,R,Comedy,120,\"[u\\'Danny Aiello\\', u\\'Ossie Davis\\', u\\'Ruby Dee\\']\"\\n7.9,Carlito\\'s Way,R,Crime,144,\"[u\\'Al Pacino\\', u\\'Sean Penn\\', u\\'Penelope Ann Miller\\']\"\\n7.9,\"Crouching Tiger, Hidden Dragon\",PG-13,Action,120,\"[u\\'Yun-Fat Chow\\', u\\'Michelle Yeoh\\', u\\'Ziyi Zhang\\']\"\\n7.9,Lilya 4-Ever,R,Crime,109,\"[u\\'Oksana Akinshina\\', u\\'Artyom Bogucharskiy\\', u\\'Pavel Ponomaryov\\']\"\\n7.9,The Chorus,PG-13,Drama,97,\"[u\\'G\\\\xe9rard Jugnot\\', u\\'Fran\\\\xe7ois Berl\\\\xe9and\\', u\\'Jean-Baptiste Maunier\\']\"\\n7.9,The Boondock Saints,R,Action,108,\"[u\\'Willem Dafoe\\', u\\'Sean Patrick Flanery\\', u\\'Norman Reedus\\']\"\\n7.9,Miller\\'s Crossing,R,Crime,115,\"[u\\'Gabriel Byrne\\', u\\'Albert Finney\\', u\\'John Turturro\\']\"\\n7.9,Walk the Line,PG-13,Biography,136,\"[u\\'Joaquin Phoenix\\', u\\'Reese Witherspoon\\', u\\'Ginnifer Goodwin\\']\"\\n7.9,Shrek,PG,Animation,90,\"[u\\'Mike Myers\\', u\\'Eddie Murphy\\', u\\'Cameron Diaz\\']\"\\n7.9,My Fair Lady,APPROVED,Drama,170,\"[u\\'Audrey Hepburn\\', u\\'Rex Harrison\\', u\\'Stanley Holloway\\']\"\\n7.9,The Ten Commandments,APPROVED,Adventure,220,\"[u\\'Charlton Heston\\', u\\'Yul Brynner\\', u\\'Anne Baxter\\']\"\\n7.9,The Fighter,R,Biography,116,\"[u\\'Mark Wahlberg\\', u\\'Christian Bale\\', u\\'Amy Adams\\']\"\\n7.9,Captain Phillips,PG-13,Biography,134,\"[u\\'Tom Hanks\\', u\\'Barkhad Abdi\\', u\\'Barkhad Abdirahman\\']\"\\n7.9,Cabaret,PG,Drama,124,\"[u\\'Liza Minnelli\\', u\\'Michael York\\', u\\'Helmut Griem\\']\"\\n7.9,Halloween,R,Drama,91,\"[u\\'Donald Pleasence\\', u\\'Jamie Lee Curtis\\', u\\'Tony Moran\\']\"\\n7.9,My Left Foot,R,Biography,103,\"[u\\'Daniel Day-Lewis\\', u\\'Brenda Fricker\\', u\\'Alison Whelan\\']\"\\n7.9,Miracle on 34th Street,APPROVED,Comedy,96,\"[u\\'Edmund Gwenn\\', u\"\"Maureen O\\'Hara\"\", u\\'John Payne\\']\"\\n7.9,The Man from Nowhere,R,Action,119,\"[u\\'Bin Won\\', u\\'Sae-ron Kim\\', u\\'Tae-hoon Kim\\']\"\\n7.9,Toki o kakeru shojo,NOT RATED,Animation,98,\"[u\\'Riisa Naka\\', u\\'Takuya Ishida\\', u\\'Mitsutaka Itakura\\']\"\\n7.9,Little Miss Sunshine,R,Adventure,101,\"[u\\'Steve Carell\\', u\\'Toni Collette\\', u\\'Greg Kinnear\\']\"\\n7.9,Taken,PG-13,Action,93,\"[u\\'Liam Neeson\\', u\\'Maggie Grace\\', u\\'Famke Janssen\\']\"\\n7.9,Blue Is the Warmest Color,NC-17,Drama,179,\"[u\\'L\\\\xe9a Seydoux\\', u\\'Ad\\\\xe8le Exarchopoulos\\', u\\'Salim Kechiouche\\']\"\\n7.9,Boogie Nights,R,Drama,155,\"[u\\'Mark Wahlberg\\', u\\'Julianne Moore\\', u\\'Burt Reynolds\\']\"\\n7.9,Hot Fuzz,R,Comedy,121,\"[u\\'Simon Pegg\\', u\\'Nick Frost\\', u\\'Martin Freeman\\']\"\\n7.9,Ferris Bueller\\'s Day Off,PG-13,Comedy,103,\"[u\\'Matthew Broderick\\', u\\'Alan Ruck\\', u\\'Mia Sara\\']\"\\n7.9,The World\\'s Fastest Indian,PG-13,Biography,127,\"[u\\'Anthony Hopkins\\', u\\'Diane Ladd\\', u\\'Iain Rea\\']\"\\n7.9,Kiki\\'s Delivery Service,G,Animation,103,\"[u\\'Kirsten Dunst\\', u\\'Minami Takayama\\', u\\'Rei Sakuma\\']\"\\n7.9,Down by Law,R,Comedy,107,\"[u\\'Tom Waits\\', u\\'John Lurie\\', u\\'Roberto Benigni\\']\"\\n7.9,Glengarry Glen Ross,R,Drama,100,\"[u\\'Al Pacino\\', u\\'Jack Lemmon\\', u\\'Alec Baldwin\\']\"\\n7.9,Clerks,R,Comedy,92,\"[u\"\"Brian O\\'Halloran\"\", u\\'Jeff Anderson\\', u\\'Marilyn Ghigliotti\\']\"\\n7.9,Adam\\'s Apples,R,Comedy,94,\"[u\\'Ulrich Thomsen\\', u\\'Mads Mikkelsen\\', u\\'Nicolas Bro\\']\"\\n7.9,The Girl with the Dragon Tattoo,R,Crime,158,\"[u\\'Daniel Craig\\', u\\'Rooney Mara\\', u\\'Christopher Plummer\\']\"\\n7.9,The 39 Steps,UNRATED,Mystery,86,\"[u\\'Robert Donat\\', u\\'Madeleine Carroll\\', u\\'Lucie Mannheim\\']\"\\n7.9,E.T. the Extra-Terrestrial,PG,Family,115,\"[u\\'Henry Thomas\\', u\\'Drew Barrymore\\', u\\'Peter Coyote\\']\"\\n7.8,Tombstone,R,Action,130,\"[u\\'Kurt Russell\\', u\\'Val Kilmer\\', u\\'Sam Elliott\\']\"\\n7.8,Predator,R,Action,107,\"[u\\'Arnold Schwarzenegger\\', u\\'Carl Weathers\\', u\\'Kevin Peter Hall\\']\"\\n7.8,Tangled,PG,Animation,100,\"[u\\'Mandy Moore\\', u\\'Zachary Levi\\', u\\'Donna Murphy\\']\"\\n7.8,Guess Who\\'s Coming to Dinner,UNRATED,Comedy,108,\"[u\\'Spencer Tracy\\', u\\'Sidney Poitier\\', u\\'Katharine Hepburn\\']\"\\n7.8,Ordinary People,R,Drama,124,\"[u\\'Donald Sutherland\\', u\\'Mary Tyler Moore\\', u\\'Judd Hirsch\\']\"\\n7.8,The Best Offer,R,Crime,131,\"[u\\'Geoffrey Rush\\', u\\'Jim Sturgess\\', u\\'Sylvia Hoeks\\']\"\\n7.8,Silver Linings Playbook,R,Comedy,122,\"[u\\'Bradley Cooper\\', u\\'Jennifer Lawrence\\', u\\'Robert De Niro\\']\"\\n7.8,Hamlet,PG-13,Drama,242,\"[u\\'Kenneth Branagh\\', u\\'Julie Christie\\', u\\'Derek Jacobi\\']\"\\n7.8,Amour,PG-13,Drama,127,\"[u\\'Jean-Louis Trintignant\\', u\\'Emmanuelle Riva\\', u\\'Isabelle Huppert\\']\"\\n7.8,I Saw the Devil,NOT RATED,Crime,141,\"[u\\'Byung-hun Lee\\', u\\'Min-sik Choi\\', u\\'In-seo Kim\\']\"\\n7.8,The Motorcycle Diaries,R,Adventure,126,\"[u\\'Gael Garc\\\\xeda Bernal\\', u\\'Rodrigo De la Serna\\', u\\'M\\\\xeda Maestro\\']\"\\n7.8,Office Space,R,Comedy,89,\"[u\\'Ron Livingston\\', u\\'Jennifer Aniston\\', u\\'David Herman\\']\"\\n7.8,Evil,NOT RATED,Drama,113,\"[u\\'Andreas Wilson\\', u\\'Henrik Lundstr\\\\xf6m\\', u\\'Gustaf Skarsg\\\\xe5rd\\']\"\\n7.8,The Girl with the Dragon Tattoo,R,Crime,152,\"[u\\'Michael Nyqvist\\', u\\'Noomi Rapace\\', u\\'Ewa Fr\\\\xf6ling\\']\"\\n7.8,Withnail & I,R,Comedy,107,\"[u\\'Richard E. Grant\\', u\\'Paul McGann\\', u\\'Richard Griffiths\\']\"\\n7.8,The Day the Earth Stood Still,APPROVED,Sci-Fi,92,\"[u\\'Michael Rennie\\', u\\'Patricia Neal\\', u\\'Hugh Marlowe\\']\"\\n7.8,Black Book,R,Drama,145,\"[u\\'Carice van Houten\\', u\\'Sebastian Koch\\', u\\'Thom Hoffman\\']\"\\n7.8,Evil Dead II,X,Comedy,84,\"[u\\'Bruce Campbell\\', u\\'Sarah Berry\\', u\\'Dan Hicks\\']\"\\n7.8,Kaze tachinu,PG-13,Animation,126,\"[u\\'Hideaki Anno\\', u\\'Hidetoshi Nishijima\\', u\\'Miori Takimoto\\']\"\\n7.8,Star Trek Into Darkness,PG-13,Action,132,\"[u\\'Chris Pine\\', u\\'Zachary Quinto\\', u\\'Zoe Saldana\\']\"\\n7.8,The Triplets of Belleville,PG-13,Animation,78,\"[u\\'Mich\\\\xe8le Caucheteux\\', u\\'Jean-Claude Donda\\', u\\'Michel Robin\\']\"\\n7.8,Open Your Eyes,R,Drama,117,\"[u\\'Eduardo Noriega\\', u\\'Pen\\\\xe9lope Cruz\\', u\\'Chete Lera\\']\"\\n7.8,The Magnificent Seven,NOT RATED,Action,128,\"[u\\'Yul Brynner\\', u\\'Steve McQueen\\', u\\'Charles Bronson\\']\"\\n7.8,Drive,R,Crime,100,\"[u\\'Ryan Gosling\\', u\\'Carey Mulligan\\', u\\'Bryan Cranston\\']\"\\n7.8,Mississippi Burning,R,Crime,128,\"[u\\'Gene Hackman\\', u\\'Willem Dafoe\\', u\\'Frances McDormand\\']\"\\n7.8,The Lego Movie,PG,Animation,100,\"[u\\'Chris Pratt\\', u\\'Will Ferrell\\', u\\'Elizabeth Banks\\']\"\\n7.8,The Day of the Jackal,PG,Crime,143,\"[u\\'Edward Fox\\', u\\'Terence Alexander\\', u\\'Michel Auclair\\']\"\\n7.8,Misery,R,Thriller,107,\"[u\\'James Caan\\', u\\'Kathy Bates\\', u\\'Richard Farnsworth\\']\"\\n7.8,Willy Wonka & the Chocolate Factory,G,Family,100,\"[u\\'Gene Wilder\\', u\\'Jack Albertson\\', u\\'Peter Ostrum\\']\"\\n7.8,Fantasia,G,Animation,125,\"[u\\'Leopold Stokowski\\', u\\'Deems Taylor\\', u\\'Corey Burton\\']\"\\n7.8,Gattaca,PG-13,Drama,106,\"[u\\'Ethan Hawke\\', u\\'Uma Thurman\\', u\\'Jude Law\\']\"\\n7.8,American Gangster,R,Biography,157,\"[u\\'Denzel Washington\\', u\\'Russell Crowe\\', u\\'Chiwetel Ejiofor\\']\"\\n7.8,Porco Rosso,PG,Animation,94,\"[u\\'Sh\\\\xfbichir\\\\xf4 Moriyama\\', u\\'Tokiko Kat\\\\xf4\\', u\\'Sanshi Katsura\\']\"\\n7.8,The French Connection,R,Action,104,\"[u\\'Gene Hackman\\', u\\'Roy Scheider\\', u\\'Fernando Rey\\']\"\\n7.8,The Boy in the Striped Pajamas,PG-13,Drama,94,\"[u\\'Asa Butterfield\\', u\\'David Thewlis\\', u\\'Rupert Friend\\']\"\\n7.8,Empire of the Sun,PG,Drama,153,\"[u\\'Christian Bale\\', u\\'John Malkovich\\', u\\'Miranda Richardson\\']\"\\n7.8,About Time,R,Drama,123,\"[u\\'Domhnall Gleeson\\', u\\'Rachel McAdams\\', u\\'Bill Nighy\\']\"\\n7.8,Blue Velvet,R,Crime,120,\"[u\\'Isabella Rossellini\\', u\\'Kyle MacLachlan\\', u\\'Dennis Hopper\\']\"\\n7.8,In America,PG-13,Drama,105,\"[u\\'Paddy Considine\\', u\\'Samantha Morton\\', u\\'Djimon Hounsou\\']\"\\n7.8,The Curious Case of Benjamin Button,PG-13,Drama,166,\"[u\\'Brad Pitt\\', u\\'Cate Blanchett\\', u\\'Tilda Swinton\\']\"\\n7.8,The Last of the Mohicans,R,Action,112,\"[u\\'Daniel Day-Lewis\\', u\\'Madeleine Stowe\\', u\\'Russell Means\\']\"\\n7.8,Moonrise Kingdom,PG-13,Adventure,94,\"[u\\'Jared Gilman\\', u\\'Kara Hayward\\', u\\'Bruce Willis\\']\"\\n7.8,Rebel Without a Cause,PG-13,Drama,111,\"[u\\'James Dean\\', u\\'Natalie Wood\\', u\\'Sal Mineo\\']\"\\n7.8,Fantastic Mr. Fox,PG,Animation,87,\"[u\\'George Clooney\\', u\\'Meryl Streep\\', u\\'Bill Murray\\']\"\\n7.8,Invasion of the Body Snatchers,APPROVED,Horror,80,\"[u\\'Kevin McCarthy\\', u\\'Dana Wynter\\', u\\'Larry Gates\\']\"\\n7.8,October Sky,PG,Biography,108,\"[u\\'Jake Gyllenhaal\\', u\\'Chris Cooper\\', u\\'Laura Dern\\']\"\\n7.8,Dirty Harry,R,Action,102,\"[u\\'Clint Eastwood\\', u\\'Andrew Robinson\\', u\\'Harry Guardino\\']\"\\n7.8,Ghostbusters,PG,Comedy,105,\"[u\\'Bill Murray\\', u\\'Dan Aykroyd\\', u\\'Sigourney Weaver\\']\"\\n7.8,Captain America: The Winter Soldier,PG-13,Action,136,\"[u\\'Chris Evans\\', u\\'Samuel L. Jackson\\', u\\'Scarlett Johansson\\']\"\\n7.8,Wreck-It Ralph,PG,Animation,101,\"[u\\'John C. Reilly\\', u\\'Jack McBrayer\\', u\\'Jane Lynch\\']\"\\n7.8,The Hangover,R,Comedy,100,\"[u\\'Zach Galifianakis\\', u\\'Bradley Cooper\\', u\\'Justin Bartha\\']\"\\n7.8,Back to the Future Part II,PG,Adventure,108,\"[u\\'Michael J. Fox\\', u\\'Christopher Lloyd\\', u\\'Lea Thompson\\']\"\\n7.8,Belle de Jour,APPROVED,Drama,101,\"[u\\'Catherine Deneuve\\', u\\'Jean Sorel\\', u\\'Michel Piccoli\\']\"\\n7.8,\"O Brother, Where Art Thou?\",PG-13,Adventure,106,\"[u\\'George Clooney\\', u\\'John Turturro\\', u\\'Tim Blake Nelson\\']\"\\n7.8,Repulsion,UNRATED,Drama,105,\"[u\\'Catherine Deneuve\\', u\\'Ian Hendry\\', u\\'John Fraser\\']\"\\n7.8,Airplane!,PG,Comedy,88,\"[u\\'Robert Hays\\', u\\'Julie Hagerty\\', u\\'Leslie Nielsen\\']\"\\n7.8,Pride & Prejudice,PG,Drama,129,\"[u\\'Keira Knightley\\', u\\'Matthew Macfadyen\\', u\\'Brenda Blethyn\\']\"\\n7.8,Zulu,UNRATED,Drama,138,\"[u\\'Stanley Baker\\', u\\'Jack Hawkins\\', u\\'Ulla Jacobsson\\']\"\\n7.8,Night on Earth,R,Comedy,129,\"[u\\'Winona Ryder\\', u\\'Gena Rowlands\\', u\\'Lisanne Falk\\']\"\\n7.8,From Here to Eternity,NOT RATED,Drama,118,\"[u\\'Burt Lancaster\\', u\\'Montgomery Clift\\', u\\'Deborah Kerr\\']\"\\n7.8,Apocalypto,R,Action,139,\"[u\\'Gerardo Taracena\\', u\\'Raoul Trujillo\\', u\\'Dalia Hern\\\\xe1ndez\\']\"\\n7.8,Atonement,R,Drama,123,\"[u\\'Keira Knightley\\', u\\'James McAvoy\\', u\\'Brenda Blethyn\\']\"\\n7.8,The Dirty Dozen,NOT RATED,Action,150,\"[u\\'Lee Marvin\\', u\\'Ernest Borgnine\\', u\\'Charles Bronson\\']\"\\n7.8,X-Men: First Class,PG-13,Action,132,\"[u\\'James McAvoy\\', u\\'Michael Fassbender\\', u\\'Jennifer Lawrence\\']\"\\n7.8,Run Lola Run,R,Action,80,\"[u\\'Franka Potente\\', u\\'Moritz Bleibtreu\\', u\\'Herbert Knaup\\']\"\\n7.8,The Longest Day,G,Action,178,\"[u\\'John Wayne\\', u\\'Robert Ryan\\', u\\'Richard Burton\\']\"\\n7.8,Zelig,PG,Comedy,79,\"[u\\'Woody Allen\\', u\\'Mia Farrow\\', u\\'Patrick Horgan\\']\"\\n7.8,The Last Emperor,PG-13,Biography,163,\"[u\\'John Lone\\', u\\'Joan Chen\\', u\"\"Peter O\\'Toole\"\"]\"\\n7.8,The Goonies,PG,Adventure,114,\"[u\\'Sean Astin\\', u\\'Josh Brolin\\', u\\'Jeff Cohen\\']\"\\n7.8,The White Ribbon,R,Drama,144,\"[u\\'Christian Friedel\\', u\\'Ernst Jacobi\\', u\\'Leonie Benesch\\']\"\\n7.8,The Fugitive,PG-13,Action,130,\"[u\\'Harrison Ford\\', u\\'Tommy Lee Jones\\', u\\'Sela Ward\\']\"\\n7.8,The Color Purple,PG-13,Drama,154,\"[u\\'Danny Glover\\', u\\'Whoopi Goldberg\\', u\\'Oprah Winfrey\\']\"\\n7.8,South Park: Bigger Longer & Uncut,R,Animation,81,\"[u\\'Trey Parker\\', u\\'Matt Stone\\', u\\'Mary Kay Bergman\\']\"\\n7.8,(500) Days of Summer,PG-13,Comedy,95,\"[u\\'Zooey Deschanel\\', u\\'Joseph Gordon-Levitt\\', u\\'Geoffrey Arend\\']\"\\n7.8,Lost in Translation,R,Drama,101,\"[u\\'Bill Murray\\', u\\'Scarlett Johansson\\', u\\'Giovanni Ribisi\\']\"\\n7.8,Argo,R,Drama,120,\"[u\\'Ben Affleck\\', u\\'Bryan Cranston\\', u\\'John Goodman\\']\"\\n7.8,Blazing Saddles,R,Comedy,93,\"[u\\'Cleavon Little\\', u\\'Gene Wilder\\', u\\'Slim Pickens\\']\"\\n7.8,Breakfast at Tiffany\\'s,NOT RATED,Comedy,115,\"[u\\'Audrey Hepburn\\', u\\'George Peppard\\', u\\'Patricia Neal\\']\"\\n7.8,Finding Neverland,PG,Biography,106,\"[u\\'Johnny Depp\\', u\\'Kate Winslet\\', u\\'Julie Christie\\']\"\\n7.8,The Experiment,R,Drama,120,\"[u\\'Moritz Bleibtreu\\', u\\'Christian Berkel\\', u\\'Oliver Stokowski\\']\"\\n7.8,Lucky Number Slevin,R,Crime,110,\"[u\\'Josh Hartnett\\', u\\'Ben Kingsley\\', u\\'Morgan Freeman\\']\"\\n7.8,The Theory of Everything,PG-13,Biography,123,\"[u\\'Eddie Redmayne\\', u\\'Felicity Jones\\', u\\'Tom Prior\\']\"\\n7.8,Harry Potter and the Prisoner of Azkaban,PG,Adventure,142,\"[u\\'Daniel Radcliffe\\', u\\'Emma Watson\\', u\\'Rupert Grint\\']\"\\n7.8,Kung Fu Hustle,R,Action,99,\"[u\\'Stephen Chow\\', u\\'Wah Yuen\\', u\\'Qiu Yuen\\']\"\\n7.8,Being John Malkovich,R,Comedy,112,\"[u\\'John Cusack\\', u\\'Cameron Diaz\\', u\\'Catherine Keener\\']\"\\n7.8,The Social Network,PG-13,Biography,120,\"[u\\'Jesse Eisenberg\\', u\\'Andrew Garfield\\', u\\'Justin Timberlake\\']\"\\n7.8,3:10 to Yuma,R,Adventure,122,\"[u\\'Russell Crowe\\', u\\'Christian Bale\\', u\\'Ben Foster\\']\"\\n7.8,The Name of the Rose,R,Crime,130,\"[u\\'Sean Connery\\', u\\'Christian Slater\\', u\\'Helmut Qualtinger\\']\"\\n7.8,Mary Poppins,APPROVED,Comedy,139,\"[u\\'Julie Andrews\\', u\\'Dick Van Dyke\\', u\\'David Tomlinson\\']\"\\n7.8,The Game,R,Drama,129,\"[u\\'Michael Douglas\\', u\\'Deborah Kara Unger\\', u\\'Sean Penn\\']\"\\n7.8,Changeling,R,Drama,141,\"[u\\'Angelina Jolie\\', u\\'Colm Feore\\', u\\'Amy Ryan\\']\"\\n7.8,Donnie Brasco,R,Biography,127,\"[u\\'Al Pacino\\', u\\'Johnny Depp\\', u\\'Michael Madsen\\']\"\\n7.8,Serpico,R,Biography,130,\"[u\\'Al Pacino\\', u\\'John Randolph\\', u\\'Jack Kehoe\\']\"\\n7.8,What\\'s Eating Gilbert Grape,PG-13,Drama,118,\"[u\\'Johnny Depp\\', u\\'Leonardo DiCaprio\\', u\\'Juliette Lewis\\']\"\\n7.8,Goldfinger,APPROVED,Action,110,\"[u\\'Sean Connery\\', u\\'Gert Fr\\\\xf6be\\', u\\'Honor Blackman\\']\"\\n7.8,Nebraska,R,Adventure,115,\"[u\\'Bruce Dern\\', u\\'Will Forte\\', u\\'June Squibb\\']\"\\n7.8,The Sandlot,PG,Comedy,101,\"[u\\'Tom Guiry\\', u\\'Mike Vitar\\', u\\'Patrick Renna\\']\"\\n7.8,Boyz n the Hood,R,Crime,112,\"[u\\'Cuba Gooding Jr.\\', u\\'Laurence Fishburne\\', u\\'Hudhail Al-Amir\\']\"\\n7.8,The Bourne Supremacy,PG-13,Action,108,\"[u\\'Matt Damon\\', u\\'Franka Potente\\', u\\'Joan Allen\\']\"\\n7.8,Skyfall,PG-13,Action,143,\"[u\\'Daniel Craig\\', u\\'Javier Bardem\\', u\\'Naomie Harris\\']\"\\n7.8,Ray,PG-13,Biography,152,\"[u\\'Jamie Foxx\\', u\\'Regina King\\', u\\'Kerry Washington\\']\"\\n7.8,300,R,Action,117,\"[u\\'Gerard Butler\\', u\\'Lena Headey\\', u\\'David Wenham\\']\"\\n7.8,A Bronx Tale,R,Crime,121,\"[u\\'Robert De Niro\\', u\\'Chazz Palminteri\\', u\\'Lillo Brancato\\']\"\\n7.8,The Birds,PG-13,Horror,119,\"[u\\'Rod Taylor\\', u\\'Tippi Hedren\\', u\\'Suzanne Pleshette\\']\"\\n7.8,Battle Royale,NOT RATED,Action,114,\"[u\\'Tatsuya Fujiwara\\', u\\'Aki Maeda\\', u\\'Tar\\\\xf4 Yamamoto\\']\"\\n7.8,Control,R,Biography,122,\"[u\\'Sam Riley\\', u\\'Samantha Morton\\', u\\'Craig Parkinson\\']\"\\n7.8,Kramer vs. Kramer,APPROVED,Drama,105,\"[u\\'Dustin Hoffman\\', u\\'Meryl Streep\\', u\\'Jane Alexander\\']\"\\n7.8,Deliverance,R,Adventure,110,\"[u\\'Jon Voight\\', u\\'Burt Reynolds\\', u\\'Ned Beatty\\']\"\\n7.8,Ocean\\'s Eleven,PG-13,Crime,116,\"[u\\'George Clooney\\', u\\'Brad Pitt\\', u\\'Julia Roberts\\']\"\\n7.8,As Good as It Gets,PG-13,Comedy,139,\"[u\\'Jack Nicholson\\', u\\'Helen Hunt\\', u\\'Greg Kinnear\\']\"\\n7.8,Awakenings,PG-13,Biography,121,\"[u\\'Robert De Niro\\', u\\'Robin Williams\\', u\\'Julie Kavner\\']\"\\n7.8,The King of Comedy,PG,Comedy,109,\"[u\\'Robert De Niro\\', u\\'Jerry Lewis\\', u\\'Diahnne Abbott\\']\"\\n7.8,Man on Fire,R,Action,146,\"[u\\'Denzel Washington\\', u\\'Christopher Walken\\', u\\'Dakota Fanning\\']\"\\n7.8,Sabrina,UNRATED,Comedy,113,\"[u\\'Humphrey Bogart\\', u\\'Audrey Hepburn\\', u\\'William Holden\\']\"\\n7.8,Dark City,R,Mystery,100,\"[u\\'Rufus Sewell\\', u\\'Kiefer Sutherland\\', u\\'Jennifer Connelly\\']\"\\n7.8,Good Bye Lenin!,R,Comedy,121,\"[u\\'Daniel Br\\\\xfchl\\', u\\'Katrin Sa\\\\xdf\\', u\\'Chulpan Khamatova\\']\"\\n7.7,Remember the Titans,PG,Biography,113,\"[u\\'Denzel Washington\\', u\\'Will Patton\\', u\\'Wood Harris\\']\"\\n7.7,Star Trek II: The Wrath of Khan,PG,Action,113,\"[u\\'William Shatner\\', u\\'Leonard Nimoy\\', u\\'DeForest Kelley\\']\"\\n7.7,Road to Perdition,R,Crime,117,\"[u\\'Tom Hanks\\', u\\'Tyler Hoechlin\\', u\\'Rob Maxey\\']\"\\n7.7,Rushmore,R,Comedy,93,\"[u\\'Jason Schwartzman\\', u\\'Bill Murray\\', u\\'Olivia Williams\\']\"\\n7.7,The Machinist,R,Drama,101,\"[u\\'Christian Bale\\', u\\'Jennifer Jason Leigh\\', u\\'Aitana S\\\\xe1nchez-Gij\\\\xf3n\\']\"\\n7.7,Flipped,PG,Comedy,90,\"[u\\'Madeline Carroll\\', u\\'Callan McAuliffe\\', u\\'Rebecca De Mornay\\']\"\\n7.7,The Count of Monte Cristo,PG-13,Action,131,\"[u\\'Jim Caviezel\\', u\\'Guy Pearce\\', u\\'Richard Harris\\']\"\\n7.7,Detachment,NOT RATED,Drama,98,\"[u\\'Adrien Brody\\', u\\'Christina Hendricks\\', u\\'Marcia Gay Harden\\']\"\\n7.7,Love Me If You Dare,R,Comedy,93,\"[u\\'Guillaume Canet\\', u\\'Marion Cotillard\\', u\\'Thibault Verhaeghe\\']\"\\n7.7,Dead Man,R,Drama,121,\"[u\\'Johnny Depp\\', u\\'Gary Farmer\\', u\\'Crispin Glover\\']\"\\n7.7,The Purple Rose of Cairo,PG,Comedy,82,\"[u\\'Mia Farrow\\', u\\'Jeff Daniels\\', u\\'Danny Aiello\\']\"\\n7.7,21 Grams,R,Crime,124,\"[u\\'Sean Penn\\', u\\'Benicio Del Toro\\', u\\'Naomi Watts\\']\"\\n7.7,50/50,R,Comedy,100,\"[u\\'Joseph Gordon-Levitt\\', u\\'Seth Rogen\\', u\\'Anna Kendrick\\']\"\\n7.7,Kick-Ass,R,Action,117,\"[u\\'Aaron Taylor-Johnson\\', u\\'Nicolas Cage\\', u\\'Chlo\\\\xeb Grace Moretz\\']\"\\n7.7,Delicatessen,R,Comedy,99,\"[u\\'Marie-Laure Dougnac\\', u\\'Dominique Pinon\\', u\\'Pascal Benezech\\']\"\\n7.7,Barton Fink,R,Drama,116,\"[u\\'John Turturro\\', u\\'John Goodman\\', u\\'Judy Davis\\']\"\\n7.7,The Last King of Scotland,R,Biography,123,\"[u\\'James McAvoy\\', u\\'Forest Whitaker\\', u\\'Gillian Anderson\\']\"\\n7.7,Adaptation.,R,Comedy,114,\"[u\\'Nicolas Cage\\', u\\'Meryl Streep\\', u\\'Chris Cooper\\']\"\\n7.7,A Very Long Engagement,R,Drama,133,\"[u\\'Audrey Tautou\\', u\\'Gaspard Ulliel\\', u\\'Jodie Foster\\']\"\\n7.7,Mysterious Skin,NC-17,Drama,105,\"[u\\'Brady Corbet\\', u\\'Joseph Gordon-Levitt\\', u\\'Elisabeth Shue\\']\"\\n7.7,Stardust,PG-13,Adventure,127,\"[u\\'Charlie Cox\\', u\\'Claire Danes\\', u\\'Sienna Miller\\']\"\\n7.7,Black Hawk Down,R,Drama,144,\"[u\\'Josh Hartnett\\', u\\'Ewan McGregor\\', u\\'Tom Sizemore\\']\"\\n7.7,Paprika,R,Animation,90,\"[u\\'Megumi Hayashibara\\', u\\'T\\\\xf4ru Emori\\', u\\'Katsunosuke Hori\\']\"\\n7.7,Fear and Loathing in Las Vegas,R,Comedy,118,\"[u\\'Johnny Depp\\', u\\'Benicio Del Toro\\', u\\'Tobey Maguire\\']\"\\n7.7,Frost/Nixon,R,Drama,122,\"[u\\'Frank Langella\\', u\\'Michael Sheen\\', u\\'Kevin Bacon\\']\"\\n7.7,Enter the Dragon,R,Action,102,\"[u\\'Bruce Lee\\', u\\'John Saxon\\', u\\'Jim Kelly\\']\"\\n7.7,Short Cuts,R,Comedy,187,\"[u\\'Andie MacDowell\\', u\\'Julianne Moore\\', u\\'Tim Robbins\\']\"\\n7.7,A Hard Day\\'s Night,APPROVED,Comedy,87,\"[u\\'John Lennon\\', u\\'Paul McCartney\\', u\\'George Harrison\\']\"\\n7.7,The Last Samurai,R,Action,154,\"[u\\'Tom Cruise\\', u\\'Ken Watanabe\\', u\\'Billy Connolly\\']\"\\n7.7,The Station Agent,R,Comedy,89,\"[u\\'Peter Dinklage\\', u\\'Patricia Clarkson\\', u\\'Bobby Cannavale\\']\"\\n7.7,Zombieland,R,Comedy,88,\"[u\\'Jesse Eisenberg\\', u\\'Emma Stone\\', u\\'Woody Harrelson\\']\"\\n7.7,Sympathy for Mr. Vengeance,R,Crime,129,\"[u\\'Kang-ho Song\\', u\\'Ha-kyun Shin\\', u\\'Doona Bae\\']\"\\n7.7,Despicable Me,PG,Animation,95,\"[u\\'Steve Carell\\', u\\'Jason Segel\\', u\\'Russell Brand\\']\"\\n7.7,Shane,APPROVED,Drama,118,\"[u\\'Alan Ladd\\', u\\'Jean Arthur\\', u\\'Van Heflin\\']\"\\n7.7,Forbidden Planet,PASSED,Action,98,\"[u\\'Walter Pidgeon\\', u\\'Anne Francis\\', u\\'Leslie Nielsen\\']\"\\n7.7,Titanic,PG-13,Drama,194,\"[u\\'Leonardo DiCaprio\\', u\\'Kate Winslet\\', u\\'Billy Zane\\']\"\\n7.7,Gone Baby Gone,R,Crime,114,\"[u\\'Morgan Freeman\\', u\\'Ed Harris\\', u\\'Casey Affleck\\']\"\\n7.7,The Dinner Game,PG-13,Comedy,80,\"[u\\'Thierry Lhermitte\\', u\\'Jacques Villeret\\', u\\'Francis Huster\\']\"\\n7.7,Dawn of the Planet of the Apes,PG-13,Action,130,\"[u\\'Gary Oldman\\', u\\'Keri Russell\\', u\\'Andy Serkis\\']\"\\n7.7,25th Hour,R,Crime,135,\"[u\\'Edward Norton\\', u\\'Barry Pepper\\', u\\'Philip Seymour Hoffman\\']\"\\n7.7,Ponyo,G,Animation,101,\"[u\\'Cate Blanchett\\', u\\'Matt Damon\\', u\\'Liam Neeson\\']\"\\n7.7,Shine,PG-13,Biography,105,\"[u\\'Geoffrey Rush\\', u\\'Armin Mueller-Stahl\\', u\\'Justin Braine\\']\"\\n7.7,The Blind Side,PG-13,Biography,129,\"[u\\'Quinton Aaron\\', u\\'Sandra Bullock\\', u\\'Tim McGraw\\']\"\\n7.7,Brokeback Mountain,R,Drama,134,\"[u\\'Jake Gyllenhaal\\', u\\'Heath Ledger\\', u\\'Michelle Williams\\']\"\\n7.7,Cast Away,PG-13,Adventure,143,\"[u\\'Tom Hanks\\', u\\'Helen Hunt\\', u\\'Paul Sanchez\\']\"\\n7.7,Malcolm X,PG-13,Biography,202,\"[u\\'Denzel Washington\\', u\\'Angela Bassett\\', u\\'Delroy Lindo\\']\"\\n7.7,Show Me Love,UNRATED,Comedy,89,\"[u\\'Alexandra Dahlstr\\\\xf6m\\', u\\'Rebecka Liljeberg\\', u\\'Erica Carlson\\']\"\\n7.7,Boy A,R,Drama,106,\"[u\\'Andrew Garfield\\', u\\'Peter Mullan\\', u\\'Shaun Evans\\']\"\\n7.7,The Warriors,R,Action,92,\"[u\\'Michael Beck\\', u\\'James Remar\\', u\\'Dorsey Wright\\']\"\\n7.7,Close Encounters of the Third Kind,PG,Drama,137,\"[u\\'Richard Dreyfuss\\', u\\'Fran\\\\xe7ois Truffaut\\', u\\'Teri Garr\\']\"\\n7.7,Match Point,R,Drama,124,\"[u\\'Scarlett Johansson\\', u\\'Jonathan Rhys Meyers\\', u\\'Emily Mortimer\\']\"\\n7.7,Training Day,R,Crime,122,\"[u\\'Denzel Washington\\', u\\'Ethan Hawke\\', u\\'Scott Glenn\\']\"\\n7.7,The Butterfly Effect,R,Sci-Fi,113,\"[u\\'Ashton Kutcher\\', u\\'Amy Smart\\', u\\'Melora Walters\\']\"\\n7.7,The City of Lost Children,R,Fantasy,112,\"[u\\'Ron Perlman\\', u\\'Daniel Emilfork\\', u\\'Judith Vittet\\']\"\\n7.7,Billy Elliot,PG-13,Comedy,110,\"[u\\'Jamie Bell\\', u\\'Julie Walters\\', u\\'Jean Heywood\\']\"\\n7.7,Love Actually,R,Comedy,135,\"[u\\'Hugh Grant\\', u\\'Martine McCutcheon\\', u\\'Liam Neeson\\']\"\\n7.7,The Producers,PG,Comedy,88,\"[u\\'Zero Mostel\\', u\\'Gene Wilder\\', u\\'Dick Shawn\\']\"\\n7.7,Harry Potter and the Deathly Hallows: Part 1,PG-13,Adventure,146,\"[u\\'Daniel Radcliffe\\', u\\'Emma Watson\\', u\\'Rupert Grint\\']\"\\n7.7,The Visitor,PG-13,Drama,104,\"[u\\'Richard Jenkins\\', u\\'Haaz Sleiman\\', u\\'Danai Gurira\\']\"\\n7.7,Philadelphia,PG-13,Drama,125,\"[u\\'Tom Hanks\\', u\\'Denzel Washington\\', u\\'Roberta Maxwell\\']\"\\n7.7,Sense and Sensibility,PG,Drama,131,\"[u\\'Emma Thompson\\', u\\'Kate Winslet\\', u\\'James Fleet\\']\"\\n7.7,Three Colors: White,R,Comedy,91,\"[u\\'Zbigniew Zamachowski\\', u\\'Julie Delpy\\', u\\'Janusz Gajos\\']\"\\n7.7,La grande bellezza,NOT RATED,Drama,142,\"[u\\'Toni Servillo\\', u\\'Carlo Verdone\\', u\\'Sabrina Ferilli\\']\"\\n7.7,Primal Fear,R,Crime,129,\"[u\\'Richard Gere\\', u\\'Laura Linney\\', u\\'Edward Norton\\']\"\\n7.7,Where Eagles Dare,,Action,158,\"[u\\'Richard Burton\\', u\\'Clint Eastwood\\', u\\'Mary Ure\\']\"\\n7.7,Dazed and Confused,R,Comedy,102,\"[u\\'Jason London\\', u\\'Wiley Wiggins\\', u\\'Matthew McConaughey\\']\"\\n7.7,Blood Simple.,R,Crime,99,\"[u\\'John Getz\\', u\\'Frances McDormand\\', u\\'Dan Hedaya\\']\"\\n7.7,This Is England,UNRATED,Crime,101,\"[u\\'Thomas Turgoose\\', u\\'Stephen Graham\\', u\\'Jo Hartley\\']\"\\n7.7,Fearless,PG-13,Action,104,\"[u\\'Jet Li\\', u\\'Li Sun\\', u\\'Yong Dong\\']\"\\n7.7,Dangerous Liaisons,R,Drama,119,\"[u\\'Glenn Close\\', u\\'John Malkovich\\', u\\'Michelle Pfeiffer\\']\"\\n7.7,Saw,R,Horror,103,\"[u\\'Cary Elwes\\', u\\'Leigh Whannell\\', u\\'Danny Glover\\']\"\\n7.7,Snow White and the Seven Dwarfs,APPROVED,Animation,88,\"[u\\'Adriana Caselotti\\', u\\'Harry Stockwell\\', u\\'Lucille La Verne\\']\"\\n7.7,Coraline,PG,Animation,100,\"[u\\'Dakota Fanning\\', u\\'Teri Hatcher\\', u\\'John Hodgman\\']\"\\n7.7,The Hunger Games: Catching Fire,PG-13,Adventure,146,\"[u\\'Jennifer Lawrence\\', u\\'Josh Hutcherson\\', u\\'Liam Hemsworth\\']\"\\n7.7,Sophie\\'s Choice,R,Drama,150,\"[u\\'Meryl Streep\\', u\\'Kevin Kline\\', u\\'Peter MacNicol\\']\"\\n7.7,La Vie en Rose,PG-13,Biography,140,\"[u\\'Marion Cotillard\\', u\\'Sylvie Testud\\', u\\'Pascal Greggory\\']\"\\n7.7,Star Wars: Episode III - Revenge of the Sith,PG-13,Action,140,\"[u\\'Hayden Christensen\\', u\\'Natalie Portman\\', u\\'Ewan McGregor\\']\"\\n7.7,True Grit,PG-13,Adventure,110,\"[u\\'Jeff Bridges\\', u\\'Matt Damon\\', u\\'Hailee Steinfeld\\']\"\\n7.7,After Hours,R,Comedy,97,\"[u\\'Griffin Dunne\\', u\\'Rosanna Arquette\\', u\\'Verna Bloom\\']\"\\n7.7,Frozen,PG,Animation,102,\"[u\\'Kristen Bell\\', u\\'Idina Menzel\\', u\\'Jonathan Groff\\']\"\\n7.7,Lolita,NOT RATED,Drama,152,\"[u\\'James Mason\\', u\\'Shelley Winters\\', u\\'Sue Lyon\\']\"\\n7.7,Eastern Promises,R,Crime,100,\"[u\\'Naomi Watts\\', u\\'Viggo Mortensen\\', u\\'Armin Mueller-Stahl\\']\"\\n7.7,Midnight in Paris,PG-13,Comedy,94,\"[u\\'Owen Wilson\\', u\\'Rachel McAdams\\', u\\'Kathy Bates\\']\"\\n7.7,The Muppet Christmas Carol,G,Comedy,85,\"[u\\'Michael Caine\\', u\\'Dave Goelz\\', u\\'Steve Whitmire\\']\"\\n7.7,Who Framed Roger Rabbit,PG,Animation,104,\"[u\\'Bob Hoskins\\', u\\'Christopher Lloyd\\', u\\'Joanna Cassidy\\']\"\\n7.7,Sympathy for Lady Vengeance,R,Crime,112,\"[u\\'Yeong-ae Lee\\', u\\'Min-sik Choi\\', u\\'Shi-hoo Kim\\']\"\\n7.7,Grindhouse,R,Action,191,\"[u\\'Kurt Russell\\', u\\'Rose McGowan\\', u\\'Danny Trejo\\']\"\\n7.7,In a Better World,R,Drama,119,\"[u\\'Mikael Persbrandt\\', u\\'Trine Dyrholm\\', u\\'Markus Rygaard\\']\"\\n7.7,Blow-Up,NOT RATED,Drama,111,\"[u\\'David Hemmings\\', u\\'Vanessa Redgrave\\', u\\'Sarah Miles\\']\"\\n7.7,The Secret World of Arrietty,G,Animation,94,\"[u\\'Bridgit Mendler\\', u\\'Amy Poehler\\', u\\'Will Arnett\\']\"\\n7.7,Kiss Kiss Bang Bang,R,Action,103,\"[u\\'Robert Downey Jr.\\', u\\'Val Kilmer\\', u\\'Michelle Monaghan\\']\"\\n7.7,Lost Highway,R,Drama,134,\"[u\\'Bill Pullman\\', u\\'Patricia Arquette\\', u\\'John Roselius\\']\"\\n7.7,Zodiac,R,Crime,157,\"[u\\'Jake Gyllenhaal\\', u\\'Robert Downey Jr.\\', u\\'Mark Ruffalo\\']\"\\n7.7,Les Miserables,PG-13,Drama,158,\"[u\\'Hugh Jackman\\', u\\'Russell Crowe\\', u\\'Anne Hathaway\\']\"\\n7.7,Moulin Rouge!,PG-13,Drama,127,\"[u\\'Nicole Kidman\\', u\\'Ewan McGregor\\', u\\'John Leguizamo\\']\"\\n7.7,Whale Rider,PG-13,Drama,101,\"[u\\'Keisha Castle-Hughes\\', u\\'Rawiri Paratene\\', u\\'Vicky Haughton\\']\"\\n7.7,End of Watch,R,Crime,109,\"[u\\'Jake Gyllenhaal\\', u\\'Michael Pe\\\\xf1a\\', u\\'Anna Kendrick\\']\"\\n7.7,Philomena,PG-13,Biography,98,\"[u\\'Judi Dench\\', u\\'Steve Coogan\\', u\\'Sophie Kennedy Clark\\']\"\\n7.7,Fury,R,Action,134,\"[u\\'Brad Pitt\\', u\\'Shia LaBeouf\\', u\\'Logan Lerman\\']\"\\n7.7,The Big Blue,PG-13,Action,168,\"[u\\'Jean-Marc Barr\\', u\\'Jean Reno\\', u\\'Rosanna Arquette\\']\"\\n7.7,First Blood,R,Action,93,\"[u\\'Sylvester Stallone\\', u\\'Brian Dennehy\\', u\\'Richard Crenna\\']\"\\n7.7,Minority Report,PG-13,Action,145,\"[u\\'Tom Cruise\\', u\\'Colin Farrell\\', u\\'Samantha Morton\\']\"\\n7.7,Spellbound,UNRATED,Film-Noir,111,\"[u\\'Ingrid Bergman\\', u\\'Gregory Peck\\', u\\'Michael Chekhov\\']\"\\n7.7,The Wicker Man,R,Horror,88,\"[u\\'Edward Woodward\\', u\\'Christopher Lee\\', u\\'Diane Cilento\\']\"\\n7.7,Seven Pounds,PG-13,Drama,123,\"[u\\'Will Smith\\', u\\'Rosario Dawson\\', u\\'Woody Harrelson\\']\"\\n7.7,Midnight Express,R,Biography,121,\"[u\\'Brad Davis\\', u\\'Irene Miracle\\', u\\'Bo Hopkins\\']\"\\n7.7,Kelly\\'s Heroes,GP,Action,144,\"[u\\'Clint Eastwood\\', u\\'Telly Savalas\\', u\\'Don Rickles\\']\"\\n7.7,MASH,R,Comedy,116,\"[u\\'Donald Sutherland\\', u\\'Elliott Gould\\', u\\'Tom Skerritt\\']\"\\n7.7,The Player,R,Comedy,124,\"[u\\'Tim Robbins\\', u\\'Greta Scacchi\\', u\\'Fred Ward\\']\"\\n7.7,Traffic,R,Crime,147,\"[u\\'Michael Douglas\\', u\\'Benicio Del Toro\\', u\\'Catherine Zeta-Jones\\']\"\\n7.7,Y Tu Mama Tambien,R,Drama,106,\"[u\\'Maribel Verd\\\\xfa\\', u\\'Gael Garc\\\\xeda Bernal\\', u\\'Daniel Gim\\\\xe9nez Cacho\\']\"\\n7.7,Stranger Than Fiction,PG-13,Comedy,113,\"[u\\'Will Ferrell\\', u\\'Emma Thompson\\', u\\'Dustin Hoffman\\']\"\\n7.7,Inside Man,R,Crime,129,\"[u\\'Denzel Washington\\', u\\'Clive Owen\\', u\\'Jodie Foster\\']\"\\n7.6,127 Hours,R,Adventure,94,\"[u\\'James Franco\\', u\\'Amber Tamblyn\\', u\\'Kate Mara\\']\"\\n7.6,The Fifth Element,PG-13,Action,126,\"[u\\'Bruce Willis\\', u\\'Milla Jovovich\\', u\\'Gary Oldman\\']\"\\n7.6,Milk,R,Biography,128,\"[u\\'Sean Penn\\', u\\'Josh Brolin\\', u\\'Emile Hirsch\\']\"\\n7.6,United 93,R,Action,111,\"[u\\'David Alan Basche\\', u\\'Olivia Thirlby\\', u\\'Liza Col\\\\xf3n-Zayas\\']\"\\n7.6,Jin ling shi san chai,R,Drama,146,\"[u\\'Christian Bale\\', u\\'Ni Ni\\', u\\'Xinyi Zhang\\']\"\\n7.6,Dracula,APPROVED,Horror,85,\"[u\\'Bela Lugosi\\', u\\'Helen Chandler\\', u\\'David Manners\\']\"\\n7.6,High Plains Drifter,R,Western,105,\"[u\\'Clint Eastwood\\', u\\'Verna Bloom\\', u\\'Marianna Hill\\']\"\\n7.6,I Am Sam,PG-13,Drama,132,\"[u\\'Sean Penn\\', u\\'Michelle Pfeiffer\\', u\\'Dakota Fanning\\']\"\\n7.6,Fried Green Tomatoes,PG-13,Drama,130,\"[u\\'Kathy Bates\\', u\\'Jessica Tandy\\', u\\'Mary Stuart Masterson\\']\"\\n7.6,Watchmen,R,Action,162,\"[u\\'Jackie Earle Haley\\', u\\'Patrick Wilson\\', u\\'Carla Gugino\\']\"\\n7.6,28 Days Later...,R,Horror,113,\"[u\\'Cillian Murphy\\', u\\'Naomie Harris\\', u\\'Christopher Eccleston\\']\"\\n7.6,The Illusionist,PG-13,Drama,110,\"[u\\'Edward Norton\\', u\\'Jessica Biel\\', u\\'Paul Giamatti\\']\"\\n7.6,Superbad,R,Comedy,113,\"[u\\'Michael Cera\\', u\\'Jonah Hill\\', u\\'Christopher Mintz-Plasse\\']\"\\n7.6,The Godfather: Part III,R,Crime,162,\"[u\\'Al Pacino\\', u\\'Diane Keaton\\', u\\'Andy Garcia\\']\"\\n7.6,The Royal Tenenbaums,R,Comedy,110,\"[u\\'Gene Hackman\\', u\\'Gwyneth Paltrow\\', u\\'Anjelica Huston\\']\"\\n7.6,The Jungle Book,APPROVED,Animation,78,\"[u\\'Phil Harris\\', u\\'Sebastian Cabot\\', u\\'Louis Prima\\']\"\\n7.6,Thank You for Smoking,R,Comedy,92,\"[u\\'Aaron Eckhart\\', u\\'Cameron Bright\\', u\\'Maria Bello\\']\"\\n7.6,Man Bites Dog,NC-17,Comedy,95,\"[u\\'Beno\\\\xeet Poelvoorde\\', u\\'Jacqueline Poelvoorde-Pappaert\\', u\\'Nelly Pappaert\\']\"\\n7.6,A Few Good Men,R,Drama,138,\"[u\\'Tom Cruise\\', u\\'Jack Nicholson\\', u\\'Demi Moore\\']\"\\n7.6,The Legend of Drunken Master,R,Action,102,\"[u\\'Jackie Chan\\', u\\'Ho-Sung Pak\\', u\\'Lung Ti\\']\"\\n7.6,The Kite Runner,PG-13,Drama,128,\"[u\\'Khalid Abdalla\\', u\\'Ahmad Khan Mahmoodzada\\', u\\'Atossa Leoni\\']\"\\n7.6,When Harry Met Sally...,R,Comedy,96,\"[u\\'Billy Crystal\\', u\\'Meg Ryan\\', u\\'Carrie Fisher\\']\"\\n7.6,Munich,R,Drama,164,\"[u\\'Eric Bana\\', u\\'Daniel Craig\\', u\\'Marie-Jos\\\\xe9e Croze\\']\"\\n7.6,House of Sand and Fog,R,Drama,126,\"[u\\'Jennifer Connelly\\', u\\'Ben Kingsley\\', u\\'Ron Eldard\\']\"\\n7.6,Lethal Weapon,R,Action,110,\"[u\\'Mel Gibson\\', u\\'Danny Glover\\', u\\'Gary Busey\\']\"\\n7.6,Animal House,R,Comedy,109,\"[u\\'John Belushi\\', u\\'Karen Allen\\', u\\'Tom Hulce\\']\"\\n7.6,Lord of War,R,Crime,122,\"[u\\'Nicolas Cage\\', u\\'Ethan Hawke\\', u\\'Jared Leto\\']\"\\n7.6,Blow,R,Biography,124,\"[u\\'Johnny Depp\\', u\\'Pen\\\\xe9lope Cruz\\', u\\'Franka Potente\\']\"\\n7.6,Sherlock Holmes,PG-13,Action,128,\"[u\\'Robert Downey Jr.\\', u\\'Jude Law\\', u\\'Rachel McAdams\\']\"\\n7.6,Harry Potter and the Goblet of Fire,PG-13,Adventure,157,\"[u\\'Daniel Radcliffe\\', u\\'Emma Watson\\', u\\'Rupert Grint\\']\"\\n7.6,La piel que habito,R,Thriller,120,\"[u\\'Antonio Banderas\\', u\\'Elena Anaya\\', u\\'Jan Cornet\\']\"\\n7.6,The Crow,R,Action,102,\"[u\\'Brandon Lee\\', u\\'Michael Wincott\\', u\\'Rochelle Davis\\']\"\\n7.6,West Side Story,UNRATED,Crime,152,\"[u\\'Natalie Wood\\', u\\'George Chakiris\\', u\\'Richard Beymer\\']\"\\n7.6,The Thin Red Line,R,Drama,170,\"[u\\'Jim Caviezel\\', u\\'Sean Penn\\', u\\'Nick Nolte\\']\"\\n7.6,American Psycho,R,Crime,102,\"[u\\'Christian Bale\\', u\\'Justin Theroux\\', u\\'Josh Lucas\\']\"\\n7.6,The Blind Swordsman: Zatoichi,R,Action,116,\"[u\\'Takeshi Kitano\\', u\\'Tadanobu Asano\\', u\\'Yui Natsukawa\\']\"\\n7.6,The Last Temptation of Christ,R,Drama,164,\"[u\\'Willem Dafoe\\', u\\'Harvey Keitel\\', u\\'Barbara Hershey\\']\"\\n7.6,The Naked Gun: From the Files of Police Squad!,PG-13,Comedy,85,\"[u\\'Leslie Nielsen\\', u\\'Priscilla Presley\\', u\\'O.J. Simpson\\']\"\\n7.6,The Others,PG-13,Horror,104,\"[u\\'Nicole Kidman\\', u\\'Christopher Eccleston\\', u\\'Fionnula Flanagan\\']\"\\n7.6,The Party,PG,Comedy,99,\"[u\\'Peter Sellers\\', u\\'Claudine Longet\\', u\\'Natalia Borisova\\']\"\\n7.6,Army of Darkness,R,Comedy,81,\"[u\\'Bruce Campbell\\', u\\'Embeth Davidtz\\', u\\'Marcus Gilbert\\']\"\\n7.6,The Hurt Locker,R,Drama,131,\"[u\\'Jeremy Renner\\', u\\'Anthony Mackie\\', u\\'Brian Geraghty\\']\"\\n7.6,The Raid: Redemption,R,Action,101,\"[u\\'Iko Uwais\\', u\\'Ananda George\\', u\\'Ray Sahetapy\\']\"\\n7.6,Volver,R,Comedy,121,\"[u\\'Pen\\\\xe9lope Cruz\\', u\\'Carmen Maura\\', u\\'Lola Due\\\\xf1as\\']\"\\n7.6,Following,R,Mystery,69,\"[u\\'Jeremy Theobald\\', u\\'Alex Haw\\', u\\'Lucy Russell\\']\"\\n7.6,Kung Fu Panda,PG,Animation,92,\"[u\\'Jack Black\\', u\\'Ian McShane\\', u\\'Angelina Jolie\\']\"\\n7.6,Mad Max 2: The Road Warrior,R,Action,94,\"[u\\'Mel Gibson\\', u\\'Bruce Spence\\', u\\'Michael Preston\\']\"\\n7.6,Jusan-nin no shikaku,R,Action,141,\"[u\\'K\\\\xf4ji Yakusho\\', u\\'Takayuki Yamada\\', u\\'Y\\\\xfbsuke Iseya\\']\"\\n7.6,The Man Who Wasn\\'t There,R,Crime,116,\"[u\\'Billy Bob Thornton\\', u\\'Frances McDormand\\', u\\'Michael Badalucco\\']\"\\n7.6,The Counterfeiters,R,Crime,98,\"[u\\'Karl Markovics\\', u\\'August Diehl\\', u\\'Devid Striesow\\']\"\\n7.6,The Hunt for Red October,PG,Action,135,\"[u\\'Sean Connery\\', u\\'Alec Baldwin\\', u\\'Scott Glenn\\']\"\\n7.6,Lone Survivor,R,Action,121,\"[u\\'Mark Wahlberg\\', u\\'Taylor Kitsch\\', u\\'Emile Hirsch\\']\"\\n7.6,A Fish Called Wanda,R,Comedy,108,\"[u\\'John Cleese\\', u\\'Jamie Lee Curtis\\', u\\'Kevin Kline\\']\"\\n7.6,The Impossible,PG-13,Drama,114,\"[u\\'Naomi Watts\\', u\\'Ewan McGregor\\', u\\'Tom Holland\\']\"\\n7.6,Garden State,R,Comedy,102,\"[u\\'Zach Braff\\', u\\'Peter Sarsgaard\\', u\\'Natalie Portman\\']\"\\n7.6,Escape from Alcatraz,PG,Action,112,\"[u\\'Clint Eastwood\\', u\\'Patrick McGoohan\\', u\\'Roberts Blossom\\']\"\\n7.6,Apollo 13,PG,Adventure,140,\"[u\\'Tom Hanks\\', u\\'Bill Paxton\\', u\\'Kevin Bacon\\']\"\\n7.6,\"Lust, Caution\",NC-17,Drama,157,\"[u\\'Tony Chiu Wai Leung\\', u\\'Wei Tang\\', u\\'Joan Chen\\']\"\\n7.6,Selma,PG-13,Biography,128,\"[u\\'David Oyelowo\\', u\\'Carmen Ejogo\\', u\\'Tim Roth\\']\"\\n7.6,Funny Games,UNRATED,Crime,108,\"[u\\'Susanne Lothar\\', u\\'Ulrich M\\\\xfche\\', u\\'Arno Frisch\\']\"\\n7.6,The Abyss,PG-13,Adventure,139,\"[u\\'Ed Harris\\', u\\'Mary Elizabeth Mastrantonio\\', u\\'Michael Biehn\\']\"\\n7.6,Robin Hood,G,Animation,83,\"[u\\'Brian Bedford\\', u\\'Phil Harris\\', u\\'Roger Miller\\']\"\\n7.6,Enemy at the Gates,R,Drama,131,\"[u\\'Jude Law\\', u\\'Ed Harris\\', u\\'Joseph Fiennes\\']\"\\n7.6,Falling Down,R,Crime,113,\"[u\\'Michael Douglas\\', u\\'Robert Duvall\\', u\\'Barbara Hershey\\']\"\\n7.6,Little Children,R,Drama,136,\"[u\\'Kate Winslet\\', u\\'Jennifer Connelly\\', u\\'Patrick Wilson\\']\"\\n7.6,Hunger,NOT RATED,Biography,96,\"[u\\'Stuart Graham\\', u\\'Laine Megaw\\', u\\'Brian Milligan\\']\"\\n7.6,Indiana Jones and the Temple of Doom,PG,Action,118,\"[u\\'Harrison Ford\\', u\\'Kate Capshaw\\', u\\'Jonathan Ke Quan\\']\"\\n7.6,Ip Man 2,R,Action,108,\"[u\\'Donnie Yen\\', u\\'Xiaoming Huang\\', u\\'Sammo Kam-Bo Hung\\']\"\\n7.6,The Little Mermaid,G,Animation,83,\"[u\\'Jodi Benson\\', u\\'Samuel E. Wright\\', u\\'Rene Auberjonois\\']\"\\n7.6,\"It\\'s a Mad, Mad, Mad, Mad World\",APPROVED,Action,205,\"[u\\'Spencer Tracy\\', u\\'Milton Berle\\', u\\'Ethel Merman\\']\"\\n7.6,The Reader,R,Drama,124,\"[u\\'Kate Winslet\\', u\\'Ralph Fiennes\\', u\\'Bruno Ganz\\']\"\\n7.6,The Omen,R,Horror,111,\"[u\\'Gregory Peck\\', u\\'Lee Remick\\', u\\'Harvey Stephens\\']\"\\n7.6,A Royal Affair,R,Drama,137,\"[u\\'Alicia Vikander\\', u\\'Mads Mikkelsen\\', u\\'Mikkel Boe F\\\\xf8lsgaard\\']\"\\n7.6,Braindead,R,Comedy,104,\"[u\\'Timothy Balme\\', u\\'Diana Pe\\\\xf1alver\\', u\\'Elizabeth Moody\\']\"\\n7.6,Secondhand Lions,PG,Comedy,109,\"[u\\'Haley Joel Osment\\', u\\'Michael Caine\\', u\\'Robert Duvall\\']\"\\n7.6,Disconnect,R,Drama,115,\"[u\\'Jason Bateman\\', u\\'Jonah Bobo\\', u\\'Haley Ramm\\']\"\\n7.6,A Single Man,R,Drama,99,\"[u\\'Colin Firth\\', u\\'Julianne Moore\\', u\\'Matthew Goode\\']\"\\n7.6,Hoosiers,PG,Drama,114,\"[u\\'Gene Hackman\\', u\\'Barbara Hershey\\', u\\'Dennis Hopper\\']\"\\n7.6,Moneyball,PG-13,Biography,133,\"[u\\'Brad Pitt\\', u\\'Robin Wright\\', u\\'Jonah Hill\\']\"\\n7.6,The Book Thief,PG-13,Drama,131,\"[u\\'Sophie N\\\\xe9lisse\\', u\\'Geoffrey Rush\\', u\\'Emily Watson\\']\"\\n7.6,Die Hard: With a Vengeance,R,Action,131,\"[u\\'Bruce Willis\\', u\\'Jeremy Irons\\', u\\'Samuel L. Jackson\\']\"\\n7.6,Interview with the Vampire: The Vampire Chronicles,R,Horror,123,\"[u\\'Brad Pitt\\', u\\'Tom Cruise\\', u\\'Antonio Banderas\\']\"\\n7.6,Midnight Run,R,Action,126,\"[u\\'Robert De Niro\\', u\\'Charles Grodin\\', u\\'Yaphet Kotto\\']\"\\n7.6,An American Werewolf in London,R,Comedy,97,\"[u\\'David Naughton\\', u\\'Jenny Agutter\\', u\\'Joe Belcher\\']\"\\n7.6,The Great Debaters,PG-13,Biography,126,\"[u\\'Denzel Washington\\', u\\'Forest Whitaker\\', u\\'Kimberly Elise\\']\"\\n7.6,Tucker and Dale vs. Evil,R,Comedy,89,\"[u\\'Tyler Labine\\', u\\'Alan Tudyk\\', u\\'Katrina Bowden\\']\"\\n7.6,Dead Man Walking,R,Crime,122,\"[u\\'Susan Sarandon\\', u\\'Sean Penn\\', u\\'Robert Prosky\\']\"\\n7.6,The Piano,R,Drama,121,\"[u\\'Holly Hunter\\', u\\'Harvey Keitel\\', u\\'Sam Neill\\']\"\\n7.6,The Town,R,Crime,125,\"[u\\'Ben Affleck\\', u\\'Rebecca Hall\\', u\\'Jon Hamm\\']\"\\n7.6,Rise of the Planet of the Apes,PG-13,Action,105,\"[u\\'James Franco\\', u\\'Andy Serkis\\', u\\'Freida Pinto\\']\"\\n7.6,Boys Don\\'t Cry,R,Biography,118,\"[u\\'Hilary Swank\\', u\\'Chlo\\\\xeb Sevigny\\', u\\'Peter Sarsgaard\\']\"\\n7.6,Ice Age,PG,Animation,81,\"[u\\'Denis Leary\\', u\\'John Leguizamo\\', u\\'Ray Romano\\']\"\\n7.6,Of Mice and Men,PG-13,Drama,115,\"[u\\'John Malkovich\\', u\\'Gary Sinise\\', u\\'Ray Walston\\']\"\\n7.6,Sideways,R,Comedy,126,\"[u\\'Paul Giamatti\\', u\\'Thomas Haden Church\\', u\\'Virginia Madsen\\']\"\\n7.6,High Fidelity,R,Comedy,113,\"[u\\'John Cusack\\', u\\'Iben Hjejle\\', u\\'Todd Louiso\\']\"\\n7.6,The Meaning of Life,R,Comedy,107,\"[u\\'John Cleese\\', u\\'Terry Gilliam\\', u\\'Eric Idle\\']\"\\n7.6,Hugo,PG,Adventure,126,\"[u\\'Asa Butterfield\\', u\\'Chlo\\\\xeb Grace Moretz\\', u\\'Christopher Lee\\']\"\\n7.6,Leaving Las Vegas,R,Drama,111,\"[u\\'Nicolas Cage\\', u\\'Elisabeth Shue\\', u\\'Julian Sands\\']\"\\n7.6,The Evil Dead,NC-17,Horror,85,\"[u\\'Bruce Campbell\\', u\\'Ellen Sandweiss\\', u\\'Richard DeManincor\\']\"\\n7.6,Collateral,R,Crime,120,\"[u\\'Tom Cruise\\', u\\'Jamie Foxx\\', u\\'Jada Pinkett Smith\\']\"\\n7.6,\"Planes, Trains & Automobiles\",R,Comedy,93,\"[u\\'Steve Martin\\', u\\'John Candy\\', u\\'Laila Robins\\']\"\\n7.6,Hodejegerne,R,Crime,100,\"[u\\'Aksel Hennie\\', u\\'Synn\\\\xf8ve Macody Lund\\', u\\'Nikolaj Coster-Waldau\\']\"\\n7.6,Field of Dreams,PG,Drama,107,\"[u\\'Kevin Costner\\', u\\'James Earl Jones\\', u\\'Ray Liotta\\']\"\\n7.6,Batman,PG-13,Action,126,\"[u\\'Michael Keaton\\', u\\'Jack Nicholson\\', u\\'Kim Basinger\\']\"\\n7.6,Tell No One,UNRATED,Crime,131,\"[u\\'Fran\\\\xe7ois Cluzet\\', u\\'Marie-Jos\\\\xe9e Croze\\', u\\'Andr\\\\xe9 Dussollier\\']\"\\n7.6,Ghost Dog: The Way of the Samurai,R,Action,116,\"[u\\'Forest Whitaker\\', u\\'Henry Silva\\', u\\'John Tormey\\']\"\\n7.6,Chaplin,PG-13,Biography,143,\"[u\\'Robert Downey Jr.\\', u\\'Geraldine Chaplin\\', u\\'Paul Rhys\\']\"\\n7.6,Keith,PG-13,Drama,93,\"[u\\'Elisabeth Harnois\\', u\\'Jesse McCartney\\', u\\'Margo Harshman\\']\"\\n7.6,Juno,PG-13,Comedy,96,\"[u\\'Ellen Page\\', u\\'Michael Cera\\', u\\'Jennifer Garner\\']\"\\n7.6,The Assassination of Jesse James by the Coward Robert Ford,R,Biography,160,\"[u\\'Brad Pitt\\', u\\'Casey Affleck\\', u\\'Sam Shepard\\']\"\\n7.6,The Fisher King,R,Comedy,137,\"[u\\'Jeff Bridges\\', u\\'Robin Williams\\', u\\'Adam Bryant\\']\"\\n7.6,House of Flying Daggers,PG-13,Action,119,\"[u\\'Ziyi Zhang\\', u\\'Takeshi Kaneshiro\\', u\\'Andy Lau\\']\"\\n7.6,The Hours,PG-13,Drama,114,\"[u\\'Meryl Streep\\', u\\'Nicole Kidman\\', u\\'Julianne Moore\\']\"\\n7.6,The Damned United,R,Biography,98,\"[u\\'Colm Meaney\\', u\\'Henry Goodman\\', u\\'David Roper\\']\"\\n7.6,Star Trek: First Contact,PG-13,Action,111,\"[u\\'Patrick Stewart\\', u\\'Jonathan Frakes\\', u\\'Brent Spiner\\']\"\\n7.6,The Natural,PG,Drama,138,\"[u\\'Robert Redford\\', u\\'Robert Duvall\\', u\\'Glenn Close\\']\"\\n7.6,The Hobbit: The Battle of the Five Armies,PG-13,Adventure,144,\"[u\\'Ian McKellen\\', u\\'Martin Freeman\\', u\\'Richard Armitage\\']\"\\n7.6,Equilibrium,R,Action,107,\"[u\\'Christian Bale\\', u\\'Sean Bean\\', u\\'Emily Watson\\']\"\\n7.6,August Rush,PG,Drama,114,\"[u\\'Freddie Highmore\\', u\\'Keri Russell\\', u\\'Jonathan Rhys Meyers\\']\"\\n7.6,Saving Mr. Banks,PG-13,Biography,125,\"[u\\'Emma Thompson\\', u\\'Tom Hanks\\', u\\'Annie Rose Buckley\\']\"\\n7.6,The Hurricane,R,Biography,146,\"[u\\'Denzel Washington\\', u\\'Vicellous Reon Shannon\\', u\\'Deborah Kara Unger\\']\"\\n7.6,Jacob\\'s Ladder,R,Drama,113,\"[u\\'Tim Robbins\\', u\\'Elizabeth Pe\\\\xf1a\\', u\\'Danny Aiello\\']\"\\n7.6,The Curse of the Were-Rabbit,G,Animation,85,\"[u\\'Peter Sallis\\', u\\'Helena Bonham Carter\\', u\\'Ralph Fiennes\\']\"\\n7.6,Christmas Vacation,PG-13,Comedy,97,\"[u\\'Chevy Chase\\', u\"\"Beverly D\\'Angelo\"\", u\\'Juliette Lewis\\']\"\\n7.5,\"Good Night, and Good Luck.\",PG,Drama,93,\"[u\\'David Strathairn\\', u\\'George Clooney\\', u\\'Patricia Clarkson\\']\"\\n7.5,Straw Dogs,UNRATED,Crime,113,\"[u\\'Dustin Hoffman\\', u\\'Susan George\\', u\\'Peter Vaughan\\']\"\\n7.5,42,PG-13,Biography,128,\"[u\\'Chadwick Boseman\\', u\\'T.R. Knight\\', u\\'Harrison Ford\\']\"\\n7.5,Rudy,PG,Biography,114,\"[u\\'Sean Astin\\', u\\'Jon Favreau\\', u\\'Ned Beatty\\']\"\\n7.5,Sleepers,R,Crime,147,\"[u\\'Robert De Niro\\', u\\'Kevin Bacon\\', u\\'Brad Pitt\\']\"\\n7.5,The Wind That Shakes the Barley,NOT RATED,Drama,127,\"[u\\'Cillian Murphy\\', u\\'Padraic Delaney\\', u\\'Liam Cunningham\\']\"\\n7.5,Gangs of New York,R,Crime,167,\"[u\\'Leonardo DiCaprio\\', u\\'Cameron Diaz\\', u\\'Daniel Day-Lewis\\']\"\\n7.5,Elizabeth,R,Biography,124,\"[u\\'Cate Blanchett\\', u\\'Geoffrey Rush\\', u\\'Christopher Eccleston\\']\"\\n7.5,Green Street Hooligans,R,Crime,109,\"[u\\'Elijah Wood\\', u\\'Charlie Hunnam\\', u\\'Claire Forlani\\']\"\\n7.5,Reign Over Me,R,Drama,124,\"[u\\'Adam Sandler\\', u\\'Don Cheadle\\', u\\'Jada Pinkett Smith\\']\"\\n7.5,RoboCop,R,Action,102,\"[u\\'Peter Weller\\', u\\'Nancy Allen\\', u\"\"Dan O\\'Herlihy\"\"]\"\\n7.5,The Life of David Gale,R,Crime,130,\"[u\\'Kevin Spacey\\', u\\'Kate Winslet\\', u\\'Laura Linney\\']\"\\n7.5,Life as a House,R,Drama,125,\"[u\\'Hayden Christensen\\', u\\'Kevin Kline\\', u\\'Kristin Scott Thomas\\']\"\\n7.5,Despicable Me 2,PG,Animation,98,\"[u\\'Steve Carell\\', u\\'Kristen Wiig\\', u\\'Benjamin Bratt\\']\"\\n7.5,Jackie Brown,R,Crime,154,\"[u\\'Pam Grier\\', u\\'Samuel L. Jackson\\', u\\'Robert Forster\\']\"\\n7.5,Menace II Society,R,Crime,97,\"[u\\'Tyrin Turner\\', u\\'Larenz Tate\\', u\\'June Kyoto Lu\\']\"\\n7.5,The Class,PG-13,Drama,128,\"[u\\'Fran\\\\xe7ois B\\\\xe9gaudeau\\', u\\'Agame Malembo-Emene\\', u\\'Ang\\\\xe9lica Sancio\\']\"\\n7.5,Bullets Over Broadway,R,Comedy,98,\"[u\\'John Cusack\\', u\\'Dianne Wiest\\', u\\'Jennifer Tilly\\']\"\\n7.5,American Splendor,R,Biography,101,\"[u\\'Paul Giamatti\\', u\\'Shari Springer Berman\\', u\\'Harvey Pekar\\']\"\\n7.5,Perfume: The Story of a Murderer,R,Crime,147,\"[u\\'Ben Whishaw\\', u\\'Dustin Hoffman\\', u\\'Alan Rickman\\']\"\\n7.5,Cloud Atlas,R,Drama,172,\"[u\\'Tom Hanks\\', u\\'Halle Berry\\', u\\'Hugh Grant\\']\"\\n7.5,Marathon Man,R,Crime,125,\"[u\\'Dustin Hoffman\\', u\\'Laurence Olivier\\', u\\'Roy Scheider\\']\"\\n7.5,Pinocchio,APPROVED,Animation,88,\"[u\\'Dickie Jones\\', u\\'Christian Rub\\', u\\'Mel Blanc\\']\"\\n7.5,The Painted Veil,PG-13,Drama,125,\"[u\\'Naomi Watts\\', u\\'Edward Norton\\', u\\'Liev Schreiber\\']\"\\n7.5,A Simple Plan,R,Crime,121,\"[u\\'Bill Paxton\\', u\\'Billy Bob Thornton\\', u\\'Bridget Fonda\\']\"\\n7.5,The Conjuring,R,Horror,112,\"[u\\'Patrick Wilson\\', u\\'Vera Farmiga\\', u\\'Ron Livingston\\']\"\\n7.5,The Man Who Knew Too Much,PG,Thriller,120,\"[u\\'James Stewart\\', u\\'Doris Day\\', u\\'Brenda de Banzie\\']\"\\n7.5,Quiz Show,PG-13,Drama,133,\"[u\\'Ralph Fiennes\\', u\\'John Turturro\\', u\\'Rob Morrow\\']\"\\n7.5,American Graffiti,PG,Comedy,110,\"[u\\'Richard Dreyfuss\\', u\\'Ron Howard\\', u\\'Paul Le Mat\\']\"\\n7.5,The Bridges of Madison County,PG-13,Drama,135,\"[u\\'Clint Eastwood\\', u\\'Meryl Streep\\', u\\'Annie Corley\\']\"\\n7.5,Gallipoli,PG,Adventure,110,\"[u\\'Mel Gibson\\', u\\'Mark Lee\\', u\\'Bill Kerr\\']\"\\n7.5,L\\'illusionniste,PG,Animation,80,\"[u\\'Jean-Claude Donda\\', u\\'Eilidh Rankin\\', u\\'Duncan MacNeil\\']\"\\n7.5,Miracle,PG,Drama,135,\"[u\\'Kurt Russell\\', u\\'Patricia Clarkson\\', u\\'Nathan West\\']\"\\n7.5,Maria Full of Grace,R,Crime,101,\"[u\\'Catalina Sandino Moreno\\', u\\'Guilied Lopez\\', u\\'Orlando Tob\\\\xf3n\\']\"\\n7.5,Scott Pilgrim vs. the World,PG-13,Action,112,\"[u\\'Michael Cera\\', u\\'Mary Elizabeth Winstead\\', u\\'Kieran Culkin\\']\"\\n7.5,Pleasantville,PG-13,Comedy,124,\"[u\\'Tobey Maguire\\', u\\'Jeff Daniels\\', u\\'Joan Allen\\']\"\\n7.5,Sherlock Holmes: A Game of Shadows,PG-13,Action,129,\"[u\\'Robert Downey Jr.\\', u\\'Jude Law\\', u\\'Jared Harris\\']\"\\n7.5,Doubt,PG-13,Drama,104,\"[u\\'Meryl Streep\\', u\\'Philip Seymour Hoffman\\', u\\'Amy Adams\\']\"\\n7.5,The Fly,R,Horror,96,\"[u\\'Jeff Goldblum\\', u\\'Geena Davis\\', u\\'John Getz\\']\"\\n7.5,The Orphanage,R,Drama,105,\"[u\\'Bel\\\\xe9n Rueda\\', u\\'Fernando Cayo\\', u\\'Roger Pr\\\\xedncep\\']\"\\n7.5,Malena,R,Drama,109,\"[u\\'Monica Bellucci\\', u\\'Giuseppe Sulfaro\\', u\\'Luciano Federico\\']\"\\n7.5,Three Days of the Condor,R,Mystery,117,\"[u\\'Robert Redford\\', u\\'Faye Dunaway\\', u\\'Cliff Robertson\\']\"\\n7.5,[Rec],R,Horror,78,\"[u\\'Manuela Velasco\\', u\\'Ferran Terraza\\', u\\'Jorge-Yamam Serrano\\']\"\\n7.5,A Perfect World,PG-13,Crime,138,\"[u\\'Kevin Costner\\', u\\'Clint Eastwood\\', u\\'Laura Dern\\']\"\\n7.5,To Catch a Thief,APPROVED,Mystery,106,\"[u\\'Cary Grant\\', u\\'Grace Kelly\\', u\\'Jessie Royce Landis\\']\"\\n7.5,Best in Show,PG-13,Comedy,90,\"[u\\'Fred Willard\\', u\\'Eugene Levy\\', u\"\"Catherine O\\'Hara\"\"]\"\\n7.5,Everything Is Illuminated,PG-13,Comedy,106,\"[u\\'Elijah Wood\\', u\\'Eugene Hutz\\', u\\'Boris Leskin\\']\"\\n7.5,A Nightmare on Elm Street,R,Horror,91,\"[u\\'Heather Langenkamp\\', u\\'Johnny Depp\\', u\\'Robert Englund\\']\"\\n7.5,The Ice Storm,R,Drama,112,\"[u\\'Kevin Kline\\', u\\'Joan Allen\\', u\\'Sigourney Weaver\\']\"\\n7.5,X2,PG-13,Action,134,\"[u\\'Patrick Stewart\\', u\\'Hugh Jackman\\', u\\'Halle Berry\\']\"\\n7.5,We Need to Talk About Kevin,R,Drama,112,\"[u\\'Tilda Swinton\\', u\\'John C. Reilly\\', u\\'Ezra Miller\\']\"\\n7.5,Felon,R,Crime,104,\"[u\\'Stephen Dorff\\', u\\'Marisol Nichols\\', u\\'Vincent Miller\\']\"\\n7.5,Still Alice,PG-13,Drama,101,\"[u\\'Julianne Moore\\', u\\'Alec Baldwin\\', u\\'Kristen Stewart\\']\"\\n7.5,Rust and Bone,R,Drama,120,\"[u\\'Marion Cotillard\\', u\\'Matthias Schoenaerts\\', u\\'Armand Verdure\\']\"\\n7.5,Freedom Writers,PG-13,Biography,123,\"[u\\'Hilary Swank\\', u\\'Imelda Staunton\\', u\\'Patrick Dempsey\\']\"\\n7.5,Legends of the Fall,R,Drama,133,\"[u\\'Brad Pitt\\', u\\'Anthony Hopkins\\', u\\'Aidan Quinn\\']\"\\n7.5,Buffalo \\'66,R,Comedy,110,\"[u\\'Vincent Gallo\\', u\\'Christina Ricci\\', u\\'Ben Gazzara\\']\"\\n7.5,The Constant Gardener,R,Drama,129,\"[u\\'Ralph Fiennes\\', u\\'Rachel Weisz\\', u\\'Hubert Kound\\\\xe9\\']\"\\n7.5,My Cousin Vinny,R,Comedy,120,\"[u\\'Joe Pesci\\', u\\'Marisa Tomei\\', u\\'Ralph Macchio\\']\"\\n7.5,The Texas Chain Saw Massacre,R,Horror,83,\"[u\\'Marilyn Burns\\', u\\'Edwin Neal\\', u\\'Allen Danziger\\']\"\\n7.5,Mulan,G,Animation,88,\"[u\\'Ming-Na Wen\\', u\\'Eddie Murphy\\', u\\'BD Wong\\']\"\\n7.5,A History of Violence,R,Crime,96,\"[u\\'Viggo Mortensen\\', u\\'Maria Bello\\', u\\'Ed Harris\\']\"\\n7.5,Open Range,R,Action,139,\"[u\\'Kevin Costner\\', u\\'Robert Duvall\\', u\\'Diego Luna\\']\"\\n7.5,Total Recall,R,Action,113,\"[u\\'Arnold Schwarzenegger\\', u\\'Sharon Stone\\', u\\'Michael Ironside\\']\"\\n7.5,Pi,R,Drama,84,\"[u\\'Sean Gullette\\', u\\'Mark Margolis\\', u\\'Ben Shenkman\\']\"\\n7.5,The Devil\\'s Backbone,R,Drama,106,\"[u\\'Marisa Paredes\\', u\\'Eduardo Noriega\\', u\\'Federico Luppi\\']\"\\n7.5,The Aviator,PG-13,Biography,170,\"[u\\'Leonardo DiCaprio\\', u\\'Cate Blanchett\\', u\\'Kate Beckinsale\\']\"\\n7.5,Devil\\'s Advocate,R,Drama,144,\"[u\\'Keanu Reeves\\', u\\'Al Pacino\\', u\\'Charlize Theron\\']\"\\n7.5,\"The Adventures of Priscilla, Queen of the Desert\",R,Comedy,104,\"[u\\'Hugo Weaving\\', u\\'Guy Pearce\\', u\\'Terence Stamp\\']\"\\n7.5,Harry Potter and the Half-Blood Prince,PG,Adventure,153,\"[u\\'Daniel Radcliffe\\', u\\'Emma Watson\\', u\\'Rupert Grint\\']\"\\n7.5,Fruitvale Station,R,Biography,85,\"[u\\'Michael B. Jordan\\', u\\'Melonie Diaz\\', u\\'Octavia Spencer\\']\"\\n7.5,In the Bedroom,R,Crime,130,\"[u\\'Tom Wilkinson\\', u\\'Sissy Spacek\\', u\\'Nick Stahl\\']\"\\n7.5,Source Code,PG-13,Mystery,93,\"[u\\'Jake Gyllenhaal\\', u\\'Michelle Monaghan\\', u\\'Vera Farmiga\\']\"\\n7.5,Biutiful,R,Drama,148,\"[u\\'Javier Bardem\\', u\\'Maricel \\\\xc1lvarez\\', u\\'Hanaa Bouchaib\\']\"\\n7.5,From Russia with Love,APPROVED,Action,115,\"[u\\'Sean Connery\\', u\\'Robert Shaw\\', u\\'Lotte Lenya\\']\"\\n7.5,Calvary,R,Drama,102,\"[u\\'Brendan Gleeson\\', u\"\"Chris O\\'Dowd\"\", u\\'Kelly Reilly\\']\"\\n7.5,The Mission,PG,Adventure,125,\"[u\\'Robert De Niro\\', u\\'Jeremy Irons\\', u\\'Ray McAnally\\']\"\\n7.5,In the Loop,NOT RATED,Comedy,106,\"[u\\'Tom Hollander\\', u\\'Peter Capaldi\\', u\\'James Gandolfini\\']\"\\n7.5,The Three Burials of Melquiades Estrada,R,Adventure,121,\"[u\\'Tommy Lee Jones\\', u\\'Barry Pepper\\', u\\'Dwight Yoakam\\']\"\\n7.5,Babel,R,Drama,143,\"[u\\'Brad Pitt\\', u\\'Cate Blanchett\\', u\\'Gael Garc\\\\xeda Bernal\\']\"\\n7.5,Frenzy,R,Thriller,116,\"[u\\'Jon Finch\\', u\\'Barry Foster\\', u\\'Alec McCowen\\']\"\\n7.5,Heavenly Creatures,R,Biography,99,\"[u\\'Melanie Lynskey\\', u\\'Kate Winslet\\', u\\'Sarah Peirse\\']\"\\n7.5,Sweeney Todd: The Demon Barber of Fleet Street,R,Drama,116,\"[u\\'Johnny Depp\\', u\\'Helena Bonham Carter\\', u\\'Alan Rickman\\']\"\\n7.5,Dracula,R,Horror,128,\"[u\\'Gary Oldman\\', u\\'Winona Ryder\\', u\\'Anthony Hopkins\\']\"\\n7.5,Looper,R,Action,119,\"[u\\'Joseph Gordon-Levitt\\', u\\'Bruce Willis\\', u\\'Emily Blunt\\']\"\\n7.5,The Proposition,R,Crime,104,\"[u\\'Ray Winstone\\', u\\'Guy Pearce\\', u\\'Emily Watson\\']\"\\n7.5,Bullitt,PG,Action,114,\"[u\\'Steve McQueen\\', u\\'Jacqueline Bisset\\', u\\'Robert Vaughn\\']\"\\n7.5,Harry Potter and the Sorcerer\\'s Stone,PG,Adventure,152,\"[u\\'Daniel Radcliffe\\', u\\'Rupert Grint\\', u\\'Richard Harris\\']\"\\n7.5,2046,R,Drama,129,\"[u\\'Tony Chiu Wai Leung\\', u\\'Ziyi Zhang\\', u\\'Faye Wong\\']\"\\n7.5,Transamerica,R,Adventure,103,\"[u\\'Felicity Huffman\\', u\\'Kevin Zegers\\', u\\'Fionnula Flanagan\\']\"\\n7.5,Smoke,R,Comedy,112,\"[u\\'Harvey Keitel\\', u\\'William Hurt\\', u\\'Giancarlo Esposito\\']\"\\n7.5,Suspiria,X,Horror,92,\"[u\\'Jessica Harper\\', u\\'Stefania Casini\\', u\\'Flavio Bucci\\']\"\\n7.5,The Judge,R,Drama,141,\"[u\\'Robert Downey Jr.\\', u\\'Robert Duvall\\', u\\'Vera Farmiga\\']\"\\n7.5,Bad Education,NC-17,Crime,106,\"[u\\'Gael Garc\\\\xeda Bernal\\', u\\'Fele Mart\\\\xednez\\', u\\'Javier C\\\\xe1mara\\']\"\\n7.5,Up in the Air,R,Drama,109,\"[u\\'George Clooney\\', u\\'Vera Farmiga\\', u\\'Anna Kendrick\\']\"\\n7.5,Begin Again,R,Drama,104,\"[u\\'Keira Knightley\\', u\\'Mark Ruffalo\\', u\\'Adam Levine\\']\"\\n7.5,Running Scared,R,Action,122,\"[u\\'Paul Walker\\', u\\'Cameron Bright\\', u\\'Chazz Palminteri\\']\"\\n7.5,Ghost World,R,Comedy,111,\"[u\\'Steve Buscemi\\', u\\'Thora Birch\\', u\\'Scarlett Johansson\\']\"\\n7.5,Witness,R,Crime,112,\"[u\\'Harrison Ford\\', u\\'Kelly McGillis\\', u\\'Lukas Haas\\']\"\\n7.5,Trading Places,R,Comedy,116,\"[u\\'Eddie Murphy\\', u\\'Dan Aykroyd\\', u\\'Ralph Bellamy\\']\"\\n7.5,Mud,PG-13,Drama,130,\"[u\\'Matthew McConaughey\\', u\\'Tye Sheridan\\', u\\'Jacob Lofland\\']\"\\n7.5,Across the Universe,PG-13,Drama,133,\"[u\\'Evan Rachel Wood\\', u\\'Jim Sturgess\\', u\\'Joe Anderson\\']\"\\n7.5,Les Miserables,PG-13,Crime,134,\"[u\\'Liam Neeson\\', u\\'Geoffrey Rush\\', u\\'Uma Thurman\\']\"\\n7.5,Notes on a Scandal,R,Drama,92,\"[u\\'Cate Blanchett\\', u\\'Judi Dench\\', u\\'Andrew Simpson\\']\"\\n7.5,Inside Llewyn Davis,R,Drama,104,\"[u\\'Oscar Isaac\\', u\\'Carey Mulligan\\', u\\'John Goodman\\']\"\\n7.5,Brick,R,Crime,110,\"[u\\'Joseph Gordon-Levitt\\', u\\'Lukas Haas\\', u\\'Emilie de Ravin\\']\"\\n7.5,Clerks II,R,Comedy,97,\"[u\"\"Brian O\\'Halloran\"\", u\\'Jeff Anderson\\', u\\'Rosario Dawson\\']\"\\n7.5,Say Anything...,PG-13,Comedy,100,\"[u\\'John Cusack\\', u\\'Ione Skye\\', u\\'John Mahoney\\']\"\\n7.4,Man on the Moon,R,Biography,118,\"[u\\'Jim Carrey\\', u\\'Danny DeVito\\', u\\'Gerry Becker\\']\"\\n7.4,Mean Streets,R,Crime,112,\"[u\\'Robert De Niro\\', u\\'Harvey Keitel\\', u\\'David Proval\\']\"\\n7.4,Harry Potter and the Order of the Phoenix,PG-13,Adventure,138,\"[u\\'Daniel Radcliffe\\', u\\'Emma Watson\\', u\\'Rupert Grint\\']\"\\n7.4,Beetlejuice,PG,Comedy,92,\"[u\\'Alec Baldwin\\', u\\'Geena Davis\\', u\\'Michael Keaton\\']\"\\n7.4,\"Crazy, Stupid, Love.\",PG-13,Comedy,118,\"[u\\'Steve Carell\\', u\\'Ryan Gosling\\', u\\'Julianne Moore\\']\"\\n7.4,Excalibur,R,Adventure,140,\"[u\\'Nigel Terry\\', u\\'Helen Mirren\\', u\\'Nicholas Clay\\']\"\\n7.4,True Grit,,Adventure,128,\"[u\\'John Wayne\\', u\\'Kim Darby\\', u\\'Glen Campbell\\']\"\\n7.4,Labyrinth,PG,Adventure,101,\"[u\\'David Bowie\\', u\\'Jennifer Connelly\\', u\\'Toby Froud\\']\"\\n7.4,Alice in Wonderland,G,Animation,75,\"[u\\'Kathryn Beaumont\\', u\\'Ed Wynn\\', u\\'Richard Haydn\\']\"\\n7.4,Predestination,R,Drama,97,\"[u\\'Ethan Hawke\\', u\\'Sarah Snook\\', u\\'Noah Taylor\\']\"\\n7.4,Much Ado About Nothing,PG-13,Comedy,111,\"[u\\'Kenneth Branagh\\', u\\'Emma Thompson\\', u\\'Keanu Reeves\\']\"\\n7.4,A Bridge Too Far,PG,Drama,175,\"[u\\'Sean Connery\\', u\"\"Ryan O\\'Neal\"\", u\\'Michael Caine\\']\"\\n7.4,Raising Arizona,PG-13,Comedy,94,\"[u\\'Nicolas Cage\\', u\\'Holly Hunter\\', u\\'Trey Wilson\\']\"\\n7.4,The Bucket List,PG-13,Adventure,97,\"[u\\'Jack Nicholson\\', u\\'Morgan Freeman\\', u\\'Sean Hayes\\']\"\\n7.4,Terms of Endearment,R,Comedy,132,\"[u\\'Shirley MacLaine\\', u\\'Debra Winger\\', u\\'Jack Nicholson\\']\"\\n7.4,Take Shelter,R,Drama,120,\"[u\\'Michael Shannon\\', u\\'Jessica Chastain\\', u\\'Shea Whigham\\']\"\\n7.4,Far from Heaven,PG-13,Drama,107,\"[u\\'Julianne Moore\\', u\\'Dennis Quaid\\', u\\'Dennis Haysbert\\']\"\\n7.4,Eraserhead,UNRATED,Drama,89,\"[u\\'Jack Nance\\', u\\'Charlotte Stewart\\', u\\'Allen Joseph\\']\"\\n7.4,Frances Ha,R,Comedy,86,\"[u\\'Greta Gerwig\\', u\\'Mickey Sumner\\', u\\'Adam Driver\\']\"\\n7.4,Home Alone,PG,Comedy,103,\"[u\\'Macaulay Culkin\\', u\\'Joe Pesci\\', u\\'Daniel Stern\\']\"\\n7.4,Bound,R,Crime,108,\"[u\\'Jennifer Tilly\\', u\\'Gina Gershon\\', u\\'Joe Pantoliano\\']\"\\n7.4,Sleepy Hollow,R,Drama,105,\"[u\\'Johnny Depp\\', u\\'Christina Ricci\\', u\\'Miranda Richardson\\']\"\\n7.4,Pirate Radio,R,Comedy,117,\"[u\\'Philip Seymour Hoffman\\', u\\'Bill Nighy\\', u\\'Nick Frost\\']\"\\n7.4,The NeverEnding Story,PG,Adventure,102,\"[u\\'Noah Hathaway\\', u\\'Barret Oliver\\', u\\'Tami Stronach\\']\"\\n7.4,X-Men,PG-13,Action,104,\"[u\\'Patrick Stewart\\', u\\'Hugh Jackman\\', u\\'Ian McKellen\\']\"\\n7.4,Zero Dark Thirty,R,Drama,157,\"[u\\'Jessica Chastain\\', u\\'Joel Edgerton\\', u\\'Chris Pratt\\']\"\\n7.4,Manhattan Murder Mystery,PG,Comedy,104,\"[u\\'Woody Allen\\', u\\'Diane Keaton\\', u\\'Jerry Adler\\']\"\\n7.4,National Lampoon\\'s Vacation,R,Comedy,98,\"[u\\'Chevy Chase\\', u\"\"Beverly D\\'Angelo\"\", u\\'Imogene Coca\\']\"\\n7.4,My Sister\\'s Keeper,PG-13,Drama,109,\"[u\\'Cameron Diaz\\', u\\'Abigail Breslin\\', u\\'Alec Baldwin\\']\"\\n7.4,Deconstructing Harry,R,Comedy,96,\"[u\\'Woody Allen\\', u\\'Judy Davis\\', u\\'Julia Louis-Dreyfus\\']\"\\n7.4,The Way Way Back,PG-13,Comedy,103,\"[u\\'Steve Carell\\', u\\'Toni Collette\\', u\\'Allison Janney\\']\"\\n7.4,Capote,R,Biography,114,\"[u\\'Philip Seymour Hoffman\\', u\\'Clifton Collins Jr.\\', u\\'Catherine Keener\\']\"\\n7.4,Driving Miss Daisy,PG,Comedy,99,\"[u\\'Morgan Freeman\\', u\\'Jessica Tandy\\', u\\'Dan Aykroyd\\']\"\\n7.4,La Femme Nikita,R,Action,118,\"[u\\'Anne Parillaud\\', u\\'Marc Duret\\', u\\'Patrick Fontana\\']\"\\n7.4,Lincoln,PG-13,Biography,150,\"[u\\'Daniel Day-Lewis\\', u\\'Sally Field\\', u\\'David Strathairn\\']\"\\n7.4,Limitless,PG-13,Mystery,105,\"[u\\'Bradley Cooper\\', u\\'Anna Friel\\', u\\'Abbie Cornish\\']\"\\n7.4,The Simpsons Movie,PG-13,Animation,87,\"[u\\'Dan Castellaneta\\', u\\'Julie Kavner\\', u\\'Nancy Cartwright\\']\"\\n7.4,The Rock,R,Action,136,\"[u\\'Sean Connery\\', u\\'Nicolas Cage\\', u\\'Ed Harris\\']\"\\n7.4,The English Patient,R,Drama,162,\"[u\\'Ralph Fiennes\\', u\\'Juliette Binoche\\', u\\'Willem Dafoe\\']\"\\n7.4,Law Abiding Citizen,R,Crime,109,\"[u\\'Gerard Butler\\', u\\'Jamie Foxx\\', u\\'Leslie Bibb\\']\"\\n7.4,Wonder Boys,R,Drama,107,\"[u\\'Michael Douglas\\', u\\'Tobey Maguire\\', u\\'Frances McDormand\\']\"\\n7.4,Death at a Funeral,R,Comedy,90,\"[u\\'Matthew Macfadyen\\', u\\'Peter Dinklage\\', u\\'Ewen Bremner\\']\"\\n7.4,Blue Valentine,NC-17,Drama,112,\"[u\\'Ryan Gosling\\', u\\'Michelle Williams\\', u\\'John Doman\\']\"\\n7.4,The Cider House Rules,PG-13,Drama,126,\"[u\\'Tobey Maguire\\', u\\'Charlize Theron\\', u\\'Michael Caine\\']\"\\n7.4,Tootsie,PG,Comedy,116,\"[u\\'Dustin Hoffman\\', u\\'Jessica Lange\\', u\\'Teri Garr\\']\"\\n7.4,Back to the Future Part III,PG,Adventure,118,\"[u\\'Michael J. Fox\\', u\\'Christopher Lloyd\\', u\\'Mary Steenburgen\\']\"\\n7.4,Master and Commander: The Far Side of the World,PG-13,Action,138,\"[u\\'Russell Crowe\\', u\\'Paul Bettany\\', u\\'Billy Boyd\\']\"\\n7.4,Poltergeist,PG,Horror,114,\"[u\\'JoBeth Williams\\', u\"\"Heather O\\'Rourke\"\", u\\'Craig T. Nelson\\']\"\\n7.4,Wall Street,R,Crime,126,\"[u\\'Charlie Sheen\\', u\\'Michael Douglas\\', u\\'Tamara Tunie\\']\"\\n'"
      ]
     },
     "execution_count": 5,
     "metadata": {},
     "output_type": "execute_result"
    }
   ],
   "source": [
    "my_imdb.read()"
   ]
  },
  {
   "cell_type": "code",
   "execution_count": 8,
   "id": "a59756b4",
   "metadata": {
    "ExecuteTime": {
     "end_time": "2025-01-27T08:48:30.861219Z",
     "start_time": "2025-01-27T08:48:30.833203Z"
    }
   },
   "outputs": [
    {
     "data": {
      "text/plain": [
       "['star_rating,title,content_rating,genre,duration,actors_list\\n',\n",
       " '9.3,The Shawshank Redemption,R,Crime,142,\"[u\\'Tim Robbins\\', u\\'Morgan Freeman\\', u\\'Bob Gunton\\']\"\\n',\n",
       " '9.2,The Godfather,R,Crime,175,\"[u\\'Marlon Brando\\', u\\'Al Pacino\\', u\\'James Caan\\']\"\\n',\n",
       " '9.1,The Godfather: Part II,R,Crime,200,\"[u\\'Al Pacino\\', u\\'Robert De Niro\\', u\\'Robert Duvall\\']\"\\n',\n",
       " '9,The Dark Knight,PG-13,Action,152,\"[u\\'Christian Bale\\', u\\'Heath Ledger\\', u\\'Aaron Eckhart\\']\"\\n',\n",
       " '8.9,Pulp Fiction,R,Crime,154,\"[u\\'John Travolta\\', u\\'Uma Thurman\\', u\\'Samuel L. Jackson\\']\"\\n',\n",
       " '8.9,12 Angry Men,NOT RATED,Drama,96,\"[u\\'Henry Fonda\\', u\\'Lee J. Cobb\\', u\\'Martin Balsam\\']\"\\n',\n",
       " '8.9,\"The Good, the Bad and the Ugly\",NOT RATED,Western,161,\"[u\\'Clint Eastwood\\', u\\'Eli Wallach\\', u\\'Lee Van Cleef\\']\"\\n',\n",
       " '8.9,The Lord of the Rings: The Return of the King,PG-13,Adventure,201,\"[u\\'Elijah Wood\\', u\\'Viggo Mortensen\\', u\\'Ian McKellen\\']\"\\n',\n",
       " '8.9,Schindler\\'s List,R,Biography,195,\"[u\\'Liam Neeson\\', u\\'Ralph Fiennes\\', u\\'Ben Kingsley\\']\"\\n',\n",
       " '8.9,Fight Club,R,Drama,139,\"[u\\'Brad Pitt\\', u\\'Edward Norton\\', u\\'Helena Bonham Carter\\']\"\\n',\n",
       " '8.8,The Lord of the Rings: The Fellowship of the Ring,PG-13,Adventure,178,\"[u\\'Elijah Wood\\', u\\'Ian McKellen\\', u\\'Orlando Bloom\\']\"\\n',\n",
       " '8.8,Inception,PG-13,Action,148,\"[u\\'Leonardo DiCaprio\\', u\\'Joseph Gordon-Levitt\\', u\\'Ellen Page\\']\"\\n',\n",
       " '8.8,Star Wars: Episode V - The Empire Strikes Back,PG,Action,124,\"[u\\'Mark Hamill\\', u\\'Harrison Ford\\', u\\'Carrie Fisher\\']\"\\n',\n",
       " '8.8,Forrest Gump,PG-13,Drama,142,\"[u\\'Tom Hanks\\', u\\'Robin Wright\\', u\\'Gary Sinise\\']\"\\n',\n",
       " '8.8,The Lord of the Rings: The Two Towers,PG-13,Adventure,179,\"[u\\'Elijah Wood\\', u\\'Ian McKellen\\', u\\'Viggo Mortensen\\']\"\\n',\n",
       " '8.7,Interstellar,PG-13,Adventure,169,\"[u\\'Matthew McConaughey\\', u\\'Anne Hathaway\\', u\\'Jessica Chastain\\']\"\\n',\n",
       " '8.7,One Flew Over the Cuckoo\\'s Nest,R,Drama,133,\"[u\\'Jack Nicholson\\', u\\'Louise Fletcher\\', u\\'Michael Berryman\\']\"\\n',\n",
       " '8.7,Seven Samurai,UNRATED,Drama,207,\"[u\\'Toshir\\\\xf4 Mifune\\', u\\'Takashi Shimura\\', u\\'Keiko Tsushima\\']\"\\n',\n",
       " '8.7,Goodfellas,R,Biography,146,\"[u\\'Robert De Niro\\', u\\'Ray Liotta\\', u\\'Joe Pesci\\']\"\\n',\n",
       " '8.7,Star Wars,PG,Action,121,\"[u\\'Mark Hamill\\', u\\'Harrison Ford\\', u\\'Carrie Fisher\\']\"\\n',\n",
       " '8.7,The Matrix,R,Action,136,\"[u\\'Keanu Reeves\\', u\\'Laurence Fishburne\\', u\\'Carrie-Anne Moss\\']\"\\n',\n",
       " '8.7,City of God,R,Crime,130,\"[u\\'Alexandre Rodrigues\\', u\\'Matheus Nachtergaele\\', u\\'Leandro Firmino\\']\"\\n',\n",
       " '8.7,It\\'s a Wonderful Life,APPROVED,Drama,130,\"[u\\'James Stewart\\', u\\'Donna Reed\\', u\\'Lionel Barrymore\\']\"\\n',\n",
       " '8.7,The Usual Suspects,R,Crime,106,\"[u\\'Kevin Spacey\\', u\\'Gabriel Byrne\\', u\\'Chazz Palminteri\\']\"\\n',\n",
       " '8.7,Se7en,R,Drama,127,\"[u\\'Morgan Freeman\\', u\\'Brad Pitt\\', u\\'Kevin Spacey\\']\"\\n',\n",
       " '8.6,Life Is Beautiful,PG-13,Comedy,116,\"[u\\'Roberto Benigni\\', u\\'Nicoletta Braschi\\', u\\'Giorgio Cantarini\\']\"\\n',\n",
       " '8.6,Once Upon a Time in the West,PG-13,Western,175,\"[u\\'Henry Fonda\\', u\\'Charles Bronson\\', u\\'Claudia Cardinale\\']\"\\n',\n",
       " '8.6,The Silence of the Lambs,R,Drama,118,\"[u\\'Jodie Foster\\', u\\'Anthony Hopkins\\', u\\'Lawrence A. Bonney\\']\"\\n',\n",
       " '8.6,Leon: The Professional,R,Crime,110,\"[u\\'Jean Reno\\', u\\'Gary Oldman\\', u\\'Natalie Portman\\']\"\\n',\n",
       " '8.6,City Lights,PASSED,Comedy,87,\"[u\\'Charles Chaplin\\', u\\'Virginia Cherrill\\', u\\'Florence Lee\\']\"\\n',\n",
       " '8.6,Spirited Away,PG,Animation,125,\"[u\\'Daveigh Chase\\', u\\'Suzanne Pleshette\\', u\\'Miyu Irino\\']\"\\n',\n",
       " '8.6,The Intouchables,R,Biography,112,\"[u\\'Fran\\\\xe7ois Cluzet\\', u\\'Omar Sy\\', u\\'Anne Le Ny\\']\"\\n',\n",
       " '8.6,Casablanca,PG,Drama,102,\"[u\\'Humphrey Bogart\\', u\\'Ingrid Bergman\\', u\\'Paul Henreid\\']\"\\n',\n",
       " '8.6,Whiplash,R,Drama,107,\"[u\\'Miles Teller\\', u\\'J.K. Simmons\\', u\\'Melissa Benoist\\']\"\\n',\n",
       " '8.6,American History X,R,Crime,119,\"[u\\'Edward Norton\\', u\\'Edward Furlong\\', u\"\"Beverly D\\'Angelo\"\"]\"\\n',\n",
       " '8.6,Modern Times,G,Comedy,87,\"[u\\'Charles Chaplin\\', u\\'Paulette Goddard\\', u\\'Henry Bergman\\']\"\\n',\n",
       " '8.6,Saving Private Ryan,R,Action,169,\"[u\\'Tom Hanks\\', u\\'Matt Damon\\', u\\'Tom Sizemore\\']\"\\n',\n",
       " '8.6,Raiders of the Lost Ark,PG,Action,115,\"[u\\'Harrison Ford\\', u\\'Karen Allen\\', u\\'Paul Freeman\\']\"\\n',\n",
       " '8.6,Rear Window,APPROVED,Mystery,112,\"[u\\'James Stewart\\', u\\'Grace Kelly\\', u\\'Wendell Corey\\']\"\\n',\n",
       " '8.6,Psycho,R,Horror,109,\"[u\\'Anthony Perkins\\', u\\'Janet Leigh\\', u\\'Vera Miles\\']\"\\n',\n",
       " '8.5,The Green Mile,R,Crime,189,\"[u\\'Tom Hanks\\', u\\'Michael Clarke Duncan\\', u\\'David Morse\\']\"\\n',\n",
       " '8.5,Sunset Blvd.,NOT RATED,Drama,110,\"[u\\'William Holden\\', u\\'Gloria Swanson\\', u\\'Erich von Stroheim\\']\"\\n',\n",
       " '8.5,The Pianist,R,Biography,150,\"[u\\'Adrien Brody\\', u\\'Thomas Kretschmann\\', u\\'Frank Finlay\\']\"\\n',\n",
       " '8.5,The Dark Knight Rises,PG-13,Action,165,\"[u\\'Christian Bale\\', u\\'Tom Hardy\\', u\\'Anne Hathaway\\']\"\\n',\n",
       " '8.5,Gladiator,R,Action,155,\"[u\\'Russell Crowe\\', u\\'Joaquin Phoenix\\', u\\'Connie Nielsen\\']\"\\n',\n",
       " '8.5,Terminator 2: Judgment Day,R,Action,137,\"[u\\'Arnold Schwarzenegger\\', u\\'Linda Hamilton\\', u\\'Edward Furlong\\']\"\\n',\n",
       " '8.5,Memento,R,Mystery,113,\"[u\\'Guy Pearce\\', u\\'Carrie-Anne Moss\\', u\\'Joe Pantoliano\\']\"\\n',\n",
       " '8.5,Taare Zameen Par,PG,Drama,165,\"[u\\'Darsheel Safary\\', u\\'Aamir Khan\\', u\\'Tanay Chheda\\']\"\\n',\n",
       " '8.5,Dr. Strangelove or: How I Learned to Stop Worrying and Love the Bomb,PG,Comedy,95,\"[u\\'Peter Sellers\\', u\\'George C. Scott\\', u\\'Sterling Hayden\\']\"\\n',\n",
       " '8.5,The Departed,R,Crime,151,\"[u\\'Leonardo DiCaprio\\', u\\'Matt Damon\\', u\\'Jack Nicholson\\']\"\\n',\n",
       " '8.5,Cinema Paradiso,R,Drama,155,\"[u\\'Philippe Noiret\\', u\\'Enzo Cannavale\\', u\\'Antonella Attili\\']\"\\n',\n",
       " '8.5,Apocalypse Now,R,Drama,153,\"[u\\'Martin Sheen\\', u\\'Marlon Brando\\', u\\'Robert Duvall\\']\"\\n',\n",
       " '8.5,The Great Dictator,APPROVED,Comedy,125,\"[u\\'Charles Chaplin\\', u\\'Paulette Goddard\\', u\\'Jack Oakie\\']\"\\n',\n",
       " '8.5,The Prestige,PG-13,Drama,130,\"[u\\'Christian Bale\\', u\\'Hugh Jackman\\', u\\'Scarlett Johansson\\']\"\\n',\n",
       " '8.5,Back to the Future,PG,Adventure,116,\"[u\\'Michael J. Fox\\', u\\'Christopher Lloyd\\', u\\'Lea Thompson\\']\"\\n',\n",
       " '8.5,The Lion King,G,Animation,89,\"[u\\'Matthew Broderick\\', u\\'Jeremy Irons\\', u\\'James Earl Jones\\']\"\\n',\n",
       " '8.5,The Lives of Others,R,Drama,137,\"[u\\'Ulrich M\\\\xfche\\', u\\'Martina Gedeck\\', u\\'Sebastian Koch\\']\"\\n',\n",
       " '8.5,Alien,R,Horror,117,\"[u\\'Sigourney Weaver\\', u\\'Tom Skerritt\\', u\\'John Hurt\\']\"\\n',\n",
       " '8.5,Paths of Glory,APPROVED,Drama,88,\"[u\\'Kirk Douglas\\', u\\'Ralph Meeker\\', u\\'Adolphe Menjou\\']\"\\n',\n",
       " '8.5,Django Unchained,R,Western,165,\"[u\\'Jamie Foxx\\', u\\'Christoph Waltz\\', u\\'Leonardo DiCaprio\\']\"\\n',\n",
       " '8.5,3 Idiots,PG-13,Comedy,170,\"[u\\'Aamir Khan\\', u\\'Madhavan\\', u\\'Mona Singh\\']\"\\n',\n",
       " '8.5,Grave of the Fireflies,UNRATED,Animation,89,\"[u\\'Tsutomu Tatsumi\\', u\\'Ayano Shiraishi\\', u\\'Akemi Yamaguchi\\']\"\\n',\n",
       " '8.5,The Shining,R,Horror,146,\"[u\\'Jack Nicholson\\', u\\'Shelley Duvall\\', u\\'Danny Lloyd\\']\"\\n',\n",
       " '8.4,M,NOT RATED,Crime,99,\"[u\\'Peter Lorre\\', u\\'Ellen Widmann\\', u\\'Inge Landgut\\']\"\\n',\n",
       " '8.4,WALL-E,G,Animation,98,\"[u\\'Ben Burtt\\', u\\'Elissa Knight\\', u\\'Jeff Garlin\\']\"\\n',\n",
       " '8.4,Witness for the Prosecution,APPROVED,Crime,116,\"[u\\'Tyrone Power\\', u\\'Marlene Dietrich\\', u\\'Charles Laughton\\']\"\\n',\n",
       " '8.4,Munna Bhai M.B.B.S.,NOT RATED,Comedy,156,\"[u\\'Sunil Dutt\\', u\\'Sanjay Dutt\\', u\\'Arshad Warsi\\']\"\\n',\n",
       " '8.4,American Beauty,R,Drama,122,\"[u\\'Kevin Spacey\\', u\\'Annette Bening\\', u\\'Thora Birch\\']\"\\n',\n",
       " '8.4,Das Boot,R,Adventure,149,\"[u\\'J\\\\xfcrgen Prochnow\\', u\\'Herbert Gr\\\\xf6nemeyer\\', u\\'Klaus Wennemann\\']\"\\n',\n",
       " '8.4,Princess Mononoke,PG-13,Animation,134,\"[u\\'Y\\\\xf4ji Matsuda\\', u\\'Yuriko Ishida\\', u\\'Y\\\\xfbko Tanaka\\']\"\\n',\n",
       " '8.4,Amelie,R,Comedy,122,\"[u\\'Audrey Tautou\\', u\\'Mathieu Kassovitz\\', u\\'Rufus\\']\"\\n',\n",
       " '8.4,North by Northwest,APPROVED,Adventure,136,\"[u\\'Cary Grant\\', u\\'Eva Marie Saint\\', u\\'James Mason\\']\"\\n',\n",
       " '8.4,Rang De Basanti,NOT RATED,Drama,157,\"[u\\'Aamir Khan\\', u\\'Soha Ali Khan\\', u\\'Siddharth\\']\"\\n',\n",
       " '8.4,Jodaeiye Nader az Simin,PG-13,Drama,123,\"[u\\'Peyman Moaadi\\', u\\'Leila Hatami\\', u\\'Sareh Bayat\\']\"\\n',\n",
       " '8.4,Citizen Kane,APPROVED,Drama,119,\"[u\\'Orson Welles\\', u\\'Joseph Cotten\\', u\\'Dorothy Comingore\\']\"\\n',\n",
       " '8.4,Aliens,R,Action,137,\"[u\\'Sigourney Weaver\\', u\\'Michael Biehn\\', u\\'Carrie Henn\\']\"\\n',\n",
       " '8.4,Vertigo,APPROVED,Mystery,128,\"[u\\'James Stewart\\', u\\'Kim Novak\\', u\\'Barbara Bel Geddes\\']\"\\n',\n",
       " '8.4,Oldeuboi,R,Drama,120,\"[u\\'Min-sik Choi\\', u\\'Ji-tae Yu\\', u\\'Hye-jeong Kang\\']\"\\n',\n",
       " '8.4,Once Upon a Time in America,R,Crime,229,\"[u\\'Robert De Niro\\', u\\'James Woods\\', u\\'Elizabeth McGovern\\']\"\\n',\n",
       " '8.4,Double Indemnity,PASSED,Crime,107,\"[u\\'Fred MacMurray\\', u\\'Barbara Stanwyck\\', u\\'Edward G. Robinson\\']\"\\n',\n",
       " '8.4,Star Wars: Episode VI - Return of the Jedi,PG,Action,134,\"[u\\'Mark Hamill\\', u\\'Harrison Ford\\', u\\'Carrie Fisher\\']\"\\n',\n",
       " '8.4,Toy Story 3,G,Animation,103,\"[u\\'Tom Hanks\\', u\\'Tim Allen\\', u\\'Joan Cusack\\']\"\\n',\n",
       " '8.4,Braveheart,R,Action,177,\"[u\\'Mel Gibson\\', u\\'Sophie Marceau\\', u\\'Patrick McGoohan\\']\"\\n',\n",
       " '8.4,To Kill a Mockingbird,NOT RATED,Drama,129,\"[u\\'Gregory Peck\\', u\\'John Megna\\', u\\'Frank Overton\\']\"\\n',\n",
       " '8.4,Requiem for a Dream,R,Drama,102,\"[u\\'Ellen Burstyn\\', u\\'Jared Leto\\', u\\'Jennifer Connelly\\']\"\\n',\n",
       " '8.4,Lawrence of Arabia,PG,Adventure,216,\"[u\"\"Peter O\\'Toole\"\", u\\'Alec Guinness\\', u\\'Anthony Quinn\\']\"\\n',\n",
       " '8.4,A Clockwork Orange,X,Crime,136,\"[u\\'Malcolm McDowell\\', u\\'Patrick Magee\\', u\\'Michael Bates\\']\"\\n',\n",
       " '8.4,Bicycle Thieves,NOT RATED,Drama,93,\"[u\\'Lamberto Maggiorani\\', u\\'Enzo Staiola\\', u\\'Lianella Carell\\']\"\\n',\n",
       " '8.4,The Kid,NOT RATED,Comedy,68,\"[u\\'Charles Chaplin\\', u\\'Edna Purviance\\', u\\'Jackie Coogan\\']\"\\n',\n",
       " '8.4,Swades,NOT RATED,Drama,189,\"[u\\'Shah Rukh Khan\\', u\\'Gayatri Joshi\\', u\\'Kishori Balal\\']\"\\n',\n",
       " '8.4,Reservoir Dogs,R,Crime,99,\"[u\\'Harvey Keitel\\', u\\'Tim Roth\\', u\\'Michael Madsen\\']\"\\n',\n",
       " '8.4,Eternal Sunshine of the Spotless Mind,R,Drama,108,\"[u\\'Jim Carrey\\', u\\'Kate Winslet\\', u\\'Tom Wilkinson\\']\"\\n',\n",
       " '8.4,Taxi Driver,R,Crime,113,\"[u\\'Robert De Niro\\', u\\'Jodie Foster\\', u\\'Cybill Shepherd\\']\"\\n',\n",
       " '8.4,Dilwale Dulhania Le Jayenge,NOT RATED,Comedy,181,\"[u\\'Shah Rukh Khan\\', u\\'Kajol\\', u\\'Amrish Puri\\']\"\\n',\n",
       " '8.4,Singin\\' in the Rain,APPROVED,Comedy,103,\"[u\\'Gene Kelly\\', u\"\"Donald O\\'Connor\"\", u\\'Debbie Reynolds\\']\"\\n',\n",
       " '8.4,All About Eve,APPROVED,Drama,138,\"[u\\'Bette Davis\\', u\\'Anne Baxter\\', u\\'George Sanders\\']\"\\n',\n",
       " '8.4,Yojimbo,UNRATED,Action,110,\"[u\\'Toshir\\\\xf4 Mifune\\', u\\'Eijir\\\\xf4 T\\\\xf4no\\', u\\'Tatsuya Nakadai\\']\"\\n',\n",
       " '8.4,The Sting,PG,Comedy,129,\"[u\\'Paul Newman\\', u\\'Robert Redford\\', u\\'Robert Shaw\\']\"\\n',\n",
       " '8.4,Rashomon,UNRATED,Crime,88,\"[u\\'Toshir\\\\xf4 Mifune\\', u\\'Machiko Ky\\\\xf4\\', u\\'Masayuki Mori\\']\"\\n',\n",
       " '8.4,Amadeus,R,Biography,160,\"[u\\'F. Murray Abraham\\', u\\'Tom Hulce\\', u\\'Elizabeth Berridge\\']\"\\n',\n",
       " '8.3,The Treasure of the Sierra Madre,NOT RATED,Action,126,\"[u\\'Humphrey Bogart\\', u\\'Walter Huston\\', u\\'Tim Holt\\']\"\\n',\n",
       " '8.3,Monty Python and the Holy Grail,PG,Adventure,91,\"[u\\'Graham Chapman\\', u\\'John Cleese\\', u\\'Eric Idle\\']\"\\n',\n",
       " '8.3,Full Metal Jacket,R,Drama,116,\"[u\\'Matthew Modine\\', u\\'R. Lee Ermey\\', u\"\"Vincent D\\'Onofrio\"\"]\"\\n',\n",
       " '8.3,The Apartment,APPROVED,Comedy,125,\"[u\\'Jack Lemmon\\', u\\'Shirley MacLaine\\', u\\'Fred MacMurray\\']\"\\n',\n",
       " '8.3,Ikiru,NOT RATED,Drama,143,\"[u\\'Takashi Shimura\\', u\\'Nobuo Kaneko\\', u\"\"Shin\\'ichi Himori\"\"]\"\\n',\n",
       " '8.3,The Third Man,NOT RATED,Film-Noir,93,\"[u\\'Orson Welles\\', u\\'Joseph Cotten\\', u\\'Alida Valli\\']\"\\n',\n",
       " '8.3,Snatch.,R,Comedy,102,\"[u\\'Jason Statham\\', u\\'Brad Pitt\\', u\\'Benicio Del Toro\\']\"\\n',\n",
       " '8.3,For a Few Dollars More,APPROVED,Western,132,\"[u\\'Clint Eastwood\\', u\\'Lee Van Cleef\\', u\\'Gian Maria Volont\\\\xe9\\']\"\\n',\n",
       " '8.3,Metropolis,NOT RATED,Drama,153,\"[u\\'Brigitte Helm\\', u\\'Alfred Abel\\', u\\'Gustav Fr\\\\xf6hlich\\']\"\\n',\n",
       " '8.3,Dil Chahta Hai,NOT RATED,Comedy,183,\"[u\\'Aamir Khan\\', u\\'Saif Ali Khan\\', u\\'Akshaye Khanna\\']\"\\n',\n",
       " '8.3,2001: A Space Odyssey,G,Mystery,160,\"[u\\'Keir Dullea\\', u\\'Gary Lockwood\\', u\\'William Sylvester\\']\"\\n',\n",
       " '8.3,Some Like It Hot,NOT RATED,Comedy,120,\"[u\\'Marilyn Monroe\\', u\\'Tony Curtis\\', u\\'Jack Lemmon\\']\"\\n',\n",
       " '8.3,L.A. Confidential,R,Crime,138,\"[u\\'Kevin Spacey\\', u\\'Russell Crowe\\', u\\'Guy Pearce\\']\"\\n',\n",
       " '8.3,Batman Begins,PG-13,Action,140,\"[u\\'Christian Bale\\', u\\'Michael Caine\\', u\\'Ken Watanabe\\']\"\\n',\n",
       " '8.3,Inglourious Basterds,R,Adventure,153,\"[u\\'Brad Pitt\\', u\\'Diane Kruger\\', u\\'Eli Roth\\']\"\\n',\n",
       " '8.3,Scarface,R,Crime,170,\"[u\\'Al Pacino\\', u\\'Michelle Pfeiffer\\', u\\'Steven Bauer\\']\"\\n',\n",
       " '8.3,Mr. Smith Goes to Washington,NOT RATED,Drama,129,\"[u\\'James Stewart\\', u\\'Jean Arthur\\', u\\'Claude Rains\\']\"\\n',\n",
       " '8.3,Toy Story,G,Animation,81,\"[u\\'Tom Hanks\\', u\\'Tim Allen\\', u\\'Don Rickles\\']\"\\n',\n",
       " '8.3,Indiana Jones and the Last Crusade,PG-13,Action,127,\"[u\\'Harrison Ford\\', u\\'Sean Connery\\', u\\'Alison Doody\\']\"\\n',\n",
       " '8.3,Unforgiven,R,Western,131,\"[u\\'Clint Eastwood\\', u\\'Gene Hackman\\', u\\'Morgan Freeman\\']\"\\n',\n",
       " '8.3,The Great Escape,UNRATED,Adventure,172,\"[u\\'Steve McQueen\\', u\\'James Garner\\', u\\'Richard Attenborough\\']\"\\n',\n",
       " '8.3,Jagten,R,Drama,115,\"[u\\'Mads Mikkelsen\\', u\\'Thomas Bo Larsen\\', u\\'Annika Wedderkopp\\']\"\\n',\n",
       " '8.3,On the Waterfront,NOT RATED,Crime,108,\"[u\\'Marlon Brando\\', u\\'Karl Malden\\', u\\'Lee J. Cobb\\']\"\\n',\n",
       " '8.3,The General,UNRATED,Action,107,\"[u\\'Buster Keaton\\', u\\'Marion Mack\\', u\\'Glen Cavender\\']\"\\n',\n",
       " '8.3,Raging Bull,R,Biography,129,\"[u\\'Robert De Niro\\', u\\'Cathy Moriarty\\', u\\'Joe Pesci\\']\"\\n',\n",
       " '8.3,Downfall,R,Biography,156,\"[u\\'Bruno Ganz\\', u\\'Alexandra Maria Lara\\', u\\'Ulrich Matthes\\']\"\\n',\n",
       " '8.3,Up,PG,Animation,96,\"[u\\'Edward Asner\\', u\\'Jordan Nagai\\', u\\'John Ratzenberger\\']\"\\n',\n",
       " '8.3,Wild Strawberries,UNRATED,Drama,91,\"[u\\'Victor Sj\\\\xf6str\\\\xf6m\\', u\\'Bibi Andersson\\', u\\'Ingrid Thulin\\']\"\\n',\n",
       " '8.3,The Gold Rush,NOT RATED,Adventure,95,\"[u\\'Charles Chaplin\\', u\\'Mack Swain\\', u\\'Tom Murray\\']\"\\n',\n",
       " '8.3,Ran,R,Action,162,\"[u\\'Tatsuya Nakadai\\', u\\'Akira Terao\\', u\\'Jinpachi Nezu\\']\"\\n',\n",
       " '8.3,Chinatown,R,Drama,130,\"[u\\'Jack Nicholson\\', u\\'Faye Dunaway\\', u\\'John Huston\\']\"\\n',\n",
       " '8.3,My Neighbor Totoro,G,Animation,86,\"[u\\'Hitoshi Takagi\\', u\\'Noriko Hidaka\\', u\\'Chika Sakamoto\\']\"\\n',\n",
       " '8.3,Judgment at Nuremberg,NOT RATED,Drama,186,\"[u\\'Spencer Tracy\\', u\\'Burt Lancaster\\', u\\'Richard Widmark\\']\"\\n',\n",
       " '8.3,Barfi!,NOT RATED,Adventure,151,\"[u\\'Ranbir Kapoor\\', u\\'Priyanka Chopra\\', u\\'Ileana\\']\"\\n',\n",
       " '8.3,The Seventh Seal,NOT RATED,Drama,96,\"[u\\'Max von Sydow\\', u\\'Gunnar Bj\\\\xf6rnstrand\\', u\\'Bengt Ekerot\\']\"\\n',\n",
       " '8.3,Heat,R,Action,170,\"[u\\'Al Pacino\\', u\\'Robert De Niro\\', u\\'Val Kilmer\\']\"\\n',\n",
       " '8.3,Pan\\'s Labyrinth,R,Drama,118,\"[u\\'Ivana Baquero\\', u\\'Ariadna Gil\\', u\\'Sergi L\\\\xf3pez\\']\"\\n',\n",
       " '8.3,The Bridge on the River Kwai,PG,Adventure,161,\"[u\\'William Holden\\', u\\'Alec Guinness\\', u\\'Jack Hawkins\\']\"\\n',\n",
       " '8.3,Die Hard,R,Action,131,\"[u\\'Bruce Willis\\', u\\'Alan Rickman\\', u\\'Bonnie Bedelia\\']\"\\n',\n",
       " '8.3,Good Will Hunting,R,Drama,126,\"[u\\'Robin Williams\\', u\\'Matt Damon\\', u\\'Ben Affleck\\']\"\\n',\n",
       " '8.3,The Wages of Fear,NOT RATED,Adventure,131,\"[u\\'Yves Montand\\', u\\'Charles Vanel\\', u\\'Peter van Eyck\\']\"\\n',\n",
       " '8.3,The Secret in Their Eyes,R,Drama,129,\"[u\\'Ricardo Dar\\\\xedn\\', u\\'Soledad Villamil\\', u\\'Pablo Rago\\']\"\\n',\n",
       " '8.3,Lagaan: Once Upon a Time in India,PG,Adventure,224,\"[u\\'Aamir Khan\\', u\\'Gracy Singh\\', u\\'Rachel Shelley\\']\"\\n',\n",
       " '8.2,The Wolf of Wall Street,R,Biography,180,\"[u\\'Leonardo DiCaprio\\', u\\'Jonah Hill\\', u\\'Margot Robbie\\']\"\\n',\n",
       " '8.2,It Happened One Night,UNRATED,Comedy,105,\"[u\\'Clark Gable\\', u\\'Claudette Colbert\\', u\\'Walter Connolly\\']\"\\n',\n",
       " '8.2,Blade Runner,R,Sci-Fi,117,\"[u\\'Harrison Ford\\', u\\'Rutger Hauer\\', u\\'Sean Young\\']\"\\n',\n",
       " '8.2,Warrior,PG-13,Drama,140,\"[u\\'Tom Hardy\\', u\\'Nick Nolte\\', u\\'Joel Edgerton\\']\"\\n',\n",
       " '8.2,Howl\\'s Moving Castle,PG,Animation,119,\"[u\\'Chieko Baish\\\\xf4\\', u\\'Takuya Kimura\\', u\\'Tatsuya Gash\\\\xfbin\\']\"\\n',\n",
       " '8.2,The Elephant Man,PG,Biography,124,\"[u\\'Anthony Hopkins\\', u\\'John Hurt\\', u\\'Anne Bancroft\\']\"\\n',\n",
       " '8.2,Rebecca,NOT RATED,Mystery,130,\"[u\\'Laurence Olivier\\', u\\'Joan Fontaine\\', u\\'George Sanders\\']\"\\n',\n",
       " '8.2,Incendies,R,Drama,139,\"[u\\'Lubna Azabal\\', u\\'M\\\\xe9lissa D\\\\xe9sormeaux-Poulin\\', u\\'Maxim Gaudette\\']\"\\n',\n",
       " '8.2,\"Lock, Stock and Two Smoking Barrels\",R,Comedy,107,\"[u\\'Jason Flemyng\\', u\\'Dexter Fletcher\\', u\\'Nick Moran\\']\"\\n',\n",
       " '8.2,V for Vendetta,R,Action,132,\"[u\\'Hugo Weaving\\', u\\'Natalie Portman\\', u\\'Rupert Graves\\']\"\\n',\n",
       " '8.2,The Big Lebowski,R,Comedy,117,\"[u\\'Jeff Bridges\\', u\\'John Goodman\\', u\\'Julianne Moore\\']\"\\n',\n",
       " '8.2,Cool Hand Luke,PG,Crime,126,\"[u\\'Paul Newman\\', u\\'George Kennedy\\', u\\'Strother Martin\\']\"\\n',\n",
       " '8.2,Relatos salvajes,R,Comedy,122,\"[u\\'Dar\\\\xedo Grandinetti\\', u\\'Mar\\\\xeda Marull\\', u\\'M\\\\xf3nica Villa\\']\"\\n',\n",
       " '8.2,Casino,R,Biography,178,\"[u\\'Robert De Niro\\', u\\'Sharon Stone\\', u\\'Joe Pesci\\']\"\\n',\n",
       " '8.2,Gone with the Wind,G,Drama,238,\"[u\\'Clark Gable\\', u\\'Vivien Leigh\\', u\\'Thomas Mitchell\\']\"\\n',\n",
       " '8.2,Gone Girl,R,Drama,149,\"[u\\'Ben Affleck\\', u\\'Rosamund Pike\\', u\\'Neil Patrick Harris\\']\"\\n',\n",
       " '8.2,The Best Years of Our Lives,PASSED,Drama,172,\"[u\\'Fredric March\\', u\\'Dana Andrews\\', u\\'Myrna Loy\\']\"\\n',\n",
       " '8.2,How to Train Your Dragon,PG,Animation,98,\"[u\\'Jay Baruchel\\', u\\'Gerard Butler\\', u\\'Christopher Mintz-Plasse\\']\"\\n',\n",
       " '8.2,Diabolique,UNRATED,Horror,116,\"[u\\'Simone Signoret\\', u\\'V\\\\xe9ra Clouzot\\', u\\'Paul Meurisse\\']\"\\n',\n",
       " '8.2,Gran Torino,R,Drama,116,\"[u\\'Clint Eastwood\\', u\\'Bee Vang\\', u\\'Christopher Carley\\']\"\\n',\n",
       " '8.2,Rush,R,Action,123,\"[u\\'Daniel Br\\\\xfchl\\', u\\'Chris Hemsworth\\', u\\'Olivia Wilde\\']\"\\n',\n",
       " '8.2,Into the Wild,R,Adventure,148,\"[u\\'Emile Hirsch\\', u\\'Vince Vaughn\\', u\\'Catherine Keener\\']\"\\n',\n",
       " '8.2,My Sassy Girl,NOT RATED,Comedy,123,\"[u\\'Tae-hyun Cha\\', u\\'Gianna Jun\\', u\\'In-mun Kim\\']\"\\n',\n",
       " '8.2,The Deer Hunter,R,Drama,182,\"[u\\'Robert De Niro\\', u\\'Christopher Walken\\', u\\'John Cazale\\']\"\\n',\n",
       " '8.2,Mary and Max,NOT RATED,Animation,92,\"[u\\'Toni Collette\\', u\\'Philip Seymour Hoffman\\', u\\'Eric Bana\\']\"\\n',\n",
       " '8.2,Hachi: A Dog\\'s Tale,G,Drama,93,\"[u\\'Richard Gere\\', u\\'Joan Allen\\', u\\'Cary-Hiroyuki Tagawa\\']\"\\n',\n",
       " '8.2,The Maltese Falcon,NOT RATED,Crime,100,\"[u\\'Humphrey Bogart\\', u\\'Mary Astor\\', u\\'Gladys George\\']\"\\n',\n",
       " '8.2,A Beautiful Mind,PG-13,Biography,135,\"[u\\'Russell Crowe\\', u\\'Ed Harris\\', u\\'Jennifer Connelly\\']\"\\n',\n",
       " '8.2,Dial M for Murder,PG,Crime,105,\"[u\\'Ray Milland\\', u\\'Grace Kelly\\', u\\'Robert Cummings\\']\"\\n',\n",
       " '8.2,Trainspotting,R,Drama,94,\"[u\\'Ewan McGregor\\', u\\'Ewen Bremner\\', u\\'Jonny Lee Miller\\']\"\\n',\n",
       " '8.2,Tae Guk Gi: The Brotherhood of War,R,Action,140,\"[u\\'Dong-gun Jang\\', u\\'Bin Won\\', u\\'Eun-ju Lee\\']\"\\n',\n",
       " '8.2,Persona,NOT RATED,Drama,83,\"[u\\'Bibi Andersson\\', u\\'Liv Ullmann\\', u\\'Margaretha Krook\\']\"\\n',\n",
       " '8.2,Touch of Evil,PG-13,Crime,95,\"[u\\'Charlton Heston\\', u\\'Orson Welles\\', u\\'Janet Leigh\\']\"\\n',\n",
       " '8.2,Fargo,R,Crime,98,\"[u\\'William H. Macy\\', u\\'Frances McDormand\\', u\\'Steve Buscemi\\']\"\\n',\n",
       " '8.2,The Avengers,PG-13,Action,143,\"[u\\'Robert Downey Jr.\\', u\\'Chris Evans\\', u\\'Scarlett Johansson\\']\"\\n',\n",
       " '8.2,The 400 Blows,NOT RATED,Crime,99,\"[u\\'Jean-Pierre L\\\\xe9aud\\', u\\'Albert R\\\\xe9my\\', u\\'Claire Maurier\\']\"\\n',\n",
       " '8.2,The Princess Bride,PG,Adventure,98,\"[u\\'Cary Elwes\\', u\\'Mandy Patinkin\\', u\\'Robin Wright\\']\"\\n',\n",
       " '8.2,Hotel Rwanda,PG-13,Drama,121,\"[u\\'Don Cheadle\\', u\\'Sophie Okonedo\\', u\\'Joaquin Phoenix\\']\"\\n',\n",
       " '8.2,Stalker,NOT RATED,Drama,163,\"[u\\'Alisa Freyndlikh\\', u\\'Aleksandr Kaydanovskiy\\', u\\'Anatoliy Solonitsyn\\']\"\\n',\n",
       " '8.2,The Battle of Algiers,NOT RATED,Crime,121,\"[u\\'Brahim Hadjadj\\', u\\'Jean Martin\\', u\\'Yacef Saadi\\']\"\\n',\n",
       " '8.2,Underground,NOT RATED,Comedy,167,\"[u\\'Predrag Manojlovic\\', u\\'Lazar Ristovski\\', u\\'Mirjana Jokovic\\']\"\\n',\n",
       " '8.2,Fanny and Alexander,R,Drama,188,\"[u\\'Bertil Guve\\', u\\'Pernilla Allwin\\', u\\'Kristina Adolphson\\']\"\\n',\n",
       " '8.2,Network,R,Drama,121,\"[u\\'Faye Dunaway\\', u\\'William Holden\\', u\\'Peter Finch\\']\"\\n',\n",
       " '8.2,The Thing,R,Horror,109,\"[u\\'Kurt Russell\\', u\\'Wilford Brimley\\', u\\'Keith David\\']\"\\n',\n",
       " '8.2,Butch Cassidy and the Sundance Kid,,Biography,110,\"[u\\'Paul Newman\\', u\\'Robert Redford\\', u\\'Katharine Ross\\']\"\\n',\n",
       " '8.2,The Grapes of Wrath,NOT RATED,Drama,129,\"[u\\'Henry Fonda\\', u\\'Jane Darwell\\', u\\'John Carradine\\']\"\\n',\n",
       " '8.2,\"Black Cat, White Cat\",R,Comedy,127,\"[u\\'Bajram Severdzan\\', u\\'Srdjan Todorovic\\', u\\'Branka Katic\\']\"\\n',\n",
       " '8.2,Life of Brian,R,Comedy,94,\"[u\\'Graham Chapman\\', u\\'John Cleese\\', u\\'Michael Palin\\']\"\\n',\n",
       " '8.2,The Sixth Sense,PG-13,Drama,107,\"[u\\'Bruce Willis\\', u\\'Haley Joel Osment\\', u\\'Toni Collette\\']\"\\n',\n",
       " '8.2,Finding Nemo,G,Animation,100,\"[u\\'Albert Brooks\\', u\\'Ellen DeGeneres\\', u\\'Alexander Gould\\']\"\\n',\n",
       " '8.2,Nausicaa of the Valley of the Wind,PG,Animation,117,\"[u\\'Sumi Shimamoto\\', u\\'Mahito Tsujimura\\', u\\'Hisako Ky\\\\xf4da\\']\"\\n',\n",
       " '8.1,Kingsman: The Secret Service,R,Action,129,\"[u\\'Colin Firth\\', u\\'Taron Egerton\\', u\\'Samuel L. Jackson\\']\"\\n',\n",
       " '8.1,Platoon,R,Drama,120,\"[u\\'Charlie Sheen\\', u\\'Tom Berenger\\', u\\'Willem Dafoe\\']\"\\n',\n",
       " '8.1,Guardians of the Galaxy,PG-13,Action,121,\"[u\\'Chris Pratt\\', u\\'Vin Diesel\\', u\\'Bradley Cooper\\']\"\\n',\n",
       " '8.1,In the Name of the Father,R,Biography,133,\"[u\\'Daniel Day-Lewis\\', u\\'Pete Postlethwaite\\', u\\'Alison Crosbie\\']\"\\n',\n",
       " '8.1,Kill Bill: Vol. 1,R,Action,111,\"[u\\'Uma Thurman\\', u\\'David Carradine\\', u\\'Daryl Hannah\\']\"\\n',\n",
       " '8.1,No Country for Old Men,R,Crime,122,\"[u\\'Tommy Lee Jones\\', u\\'Javier Bardem\\', u\\'Josh Brolin\\']\"\\n',\n",
       " '8.1,Le Samourai,PG,Crime,101,\"[u\\'Alain Delon\\', u\\'Nathalie Delon\\', u\\'Fran\\\\xe7ois P\\\\xe9rier\\']\"\\n',\n",
       " '8.1,12 Years a Slave,R,Biography,134,\"[u\\'Chiwetel Ejiofor\\', u\\'Michael Kenneth Williams\\', u\\'Michael Fassbender\\']\"\\n',\n",
       " '8.1,La leggenda del pianista sull\\'oceano,R,Drama,165,\"[u\\'Tim Roth\\', u\\'Pruitt Taylor Vince\\', u\\'Bill Nunn\\']\"\\n',\n",
       " '8.1,8 1/2,NOT RATED,Drama,138,\"[u\\'Marcello Mastroianni\\', u\\'Anouk Aim\\\\xe9e\\', u\\'Claudia Cardinale\\']\"\\n',\n",
       " '8.1,Ben-Hur,G,Adventure,212,\"[u\\'Charlton Heston\\', u\\'Jack Hawkins\\', u\\'Stephen Boyd\\']\"\\n',\n",
       " '8.1,Amores Perros,R,Drama,154,\"[u\\'Emilio Echevarr\\\\xeda\\', u\\'Gael Garc\\\\xeda Bernal\\', u\\'Goya Toledo\\']\"\\n',\n",
       " '8.1,Stand by Me,R,Adventure,89,\"[u\\'Wil Wheaton\\', u\\'River Phoenix\\', u\\'Corey Feldman\\']\"\\n',\n",
       " '8.1,What Ever Happened to Baby Jane?,APPROVED,Drama,134,\"[u\\'Bette Davis\\', u\\'Joan Crawford\\', u\\'Victor Buono\\']\"\\n',\n",
       " '8.1,Annie Hall,PG,Comedy,93,\"[u\\'Woody Allen\\', u\\'Diane Keaton\\', u\\'Tony Roberts\\']\"\\n',\n",
       " '8.1,The Imitation Game,PG-13,Biography,114,\"[u\\'Benedict Cumberbatch\\', u\\'Keira Knightley\\', u\\'Matthew Goode\\']\"\\n',\n",
       " '8.1,Laura,APPROVED,Film-Noir,88,\"[u\\'Gene Tierney\\', u\\'Dana Andrews\\', u\\'Clifton Webb\\']\"\\n',\n",
       " '8.1,Departures,PG-13,Drama,130,\"[u\\'Masahiro Motoki\\', u\\'Ry\\\\xf4ko Hirosue\\', u\\'Tsutomu Yamazaki\\']\"\\n',\n",
       " '8.1,Infernal Affairs,R,Crime,101,\"[u\\'Andy Lau\\', u\\'Tony Chiu Wai Leung\\', u\\'Anthony Chau-Sang Wong\\']\"\\n',\n",
       " '8.1,There Will Be Blood,R,Drama,158,\"[u\\'Daniel Day-Lewis\\', u\\'Paul Dano\\', u\\'Ciar\\\\xe1n Hinds\\']\"\\n',\n",
       " '8.1,The Grand Budapest Hotel,R,Adventure,99,\"[u\\'Ralph Fiennes\\', u\\'F. Murray Abraham\\', u\\'Mathieu Amalric\\']\"\\n',\n",
       " '8.1,La Strada,NOT RATED,Drama,108,\"[u\\'Anthony Quinn\\', u\\'Giulietta Masina\\', u\\'Richard Basehart\\']\"\\n',\n",
       " '8.1,Sin City,R,Crime,124,\"[u\\'Mickey Rourke\\', u\\'Clive Owen\\', u\\'Bruce Willis\\']\"\\n',\n",
       " '8.1,Memories of Murder,UNRATED,Crime,132,\"[u\\'Kang-ho Song\\', u\\'Sang-kyung Kim\\', u\\'Roe-ha Kim\\']\"\\n',\n",
       " '8.1,Donnie Darko,R,Drama,113,\"[u\\'Jake Gyllenhaal\\', u\\'Jena Malone\\', u\\'Mary McDonnell\\']\"\\n',\n",
       " '8.1,Who\\'s Afraid of Virginia Woolf?,TV-MA,Drama,131,\"[u\\'Elizabeth Taylor\\', u\\'Richard Burton\\', u\\'George Segal\\']\"\\n',\n",
       " '8.1,Gandhi,PG,Biography,191,\"[u\\'Ben Kingsley\\', u\\'John Gielgud\\', u\\'Candice Bergen\\']\"\\n',\n",
       " '8.1,Solaris,PG,Drama,167,\"[u\\'Natalya Bondarchuk\\', u\\'Donatas Banionis\\', u\\'J\\\\xfcri J\\\\xe4rvet\\']\"\\n',\n",
       " '8.1,Harry Potter and the Deathly Hallows: Part 2,PG-13,Adventure,130,\"[u\\'Daniel Radcliffe\\', u\\'Emma Watson\\', u\\'Rupert Grint\\']\"\\n',\n",
       " '8.1,\"Paris, Texas\",R,Drama,147,\"[u\\'Harry Dean Stanton\\', u\\'Nastassja Kinski\\', u\\'Dean Stockwell\\']\"\\n',\n",
       " '8.1,The Wizard of Oz,PASSED,Adventure,102,\"[u\\'Judy Garland\\', u\\'Frank Morgan\\', u\\'Ray Bolger\\']\"\\n',\n",
       " '8.1,3-Iron,R,Crime,88,\"[u\\'Seung-yeon Lee\\', u\\'Hyun-kyoon Lee\\', u\\'Hyuk-ho Kwon\\']\"\\n',\n",
       " '8.1,Boyhood,R,Drama,165,\"[u\\'Ellar Coltrane\\', u\\'Patricia Arquette\\', u\\'Ethan Hawke\\']\"\\n',\n",
       " '8.1,Million Dollar Baby,PG-13,Drama,132,\"[u\\'Hilary Swank\\', u\\'Clint Eastwood\\', u\\'Morgan Freeman\\']\"\\n',\n",
       " '8.1,The Last Picture Show,R,Drama,118,\"[u\\'Timothy Bottoms\\', u\\'Jeff Bridges\\', u\\'Cybill Shepherd\\']\"\\n',\n",
       " '8.1,Strangers on a Train,APPROVED,Crime,101,\"[u\\'Farley Granger\\', u\\'Robert Walker\\', u\\'Ruth Roman\\']\"\\n',\n",
       " '8.1,Cat on a Hot Tin Roof,APPROVED,Drama,108,\"[u\\'Elizabeth Taylor\\', u\\'Paul Newman\\', u\\'Burl Ives\\']\"\\n',\n",
       " '8.1,La Dolce Vita,NOT RATED,Comedy,174,\"[u\\'Marcello Mastroianni\\', u\\'Anita Ekberg\\', u\\'Anouk Aim\\\\xe9e\\']\"\\n',\n",
       " '8.1,Chungking Express,PG-13,Drama,98,\"[u\\'Brigitte Lin\\', u\\'Takeshi Kaneshiro\\', u\\'Tony Chiu Wai Leung\\']\"\\n',\n",
       " '8.1,The Night of the Hunter,APPROVED,Crime,92,\"[u\\'Robert Mitchum\\', u\\'Shelley Winters\\', u\\'Lillian Gish\\']\"\\n',\n",
       " '8.1,La Haine,NOT RATED,Crime,98,\"[u\\'Vincent Cassel\\', u\\'Hubert Kound\\\\xe9\\', u\\'Sa\\\\xefd Taghmaoui\\']\"\\n',\n",
       " '8.1,Yip Man,R,Action,106,\"[u\\'Donnie Yen\\', u\\'Simon Yam\\', u\\'Siu-Wong Fan\\']\"\\n',\n",
       " '8.1,High Noon,PG,Western,85,\"[u\\'Gary Cooper\\', u\\'Grace Kelly\\', u\\'Thomas Mitchell\\']\"\\n',\n",
       " '8.1,Notorious,APPROVED,Drama,101,\"[u\\'Cary Grant\\', u\\'Ingrid Bergman\\', u\\'Claude Rains\\']\"\\n',\n",
       " '8.1,Before Sunrise,R,Drama,105,\"[u\\'Ethan Hawke\\', u\\'Julie Delpy\\', u\\'Andrea Eckert\\']\"\\n',\n",
       " '8.1,Elite Squad: The Enemy Within,UNRATED,Action,115,\"[u\\'Wagner Moura\\', u\\'Irandhir Santos\\', u\\'Andr\\\\xe9 Ramiro\\']\"\\n',\n",
       " '8.1,The Bourne Ultimatum,PG-13,Action,115,\"[u\\'Matt Damon\\', u\\'\\\\xc9dgar Ram\\\\xedrez\\', u\\'Joan Allen\\']\"\\n',\n",
       " '8.1,Castle in the Sky,PG,Animation,124,\"[u\\'Anna Paquin\\', u\\'James Van Der Beek\\', u\\'Cloris Leachman\\']\"\\n',\n",
       " '8.1,The Celebration,R,Drama,105,\"[u\\'Ulrich Thomsen\\', u\\'Henning Moritzen\\', u\\'Thomas Bo Larsen\\']\"\\n',\n",
       " '8.1,\"Spring, Summer, Fall, Winter... and Spring\",R,Drama,103,\"[u\\'Ki-duk Kim\\', u\\'Yeong-su Oh\\', u\\'Jong-ho Kim\\']\"\\n',\n",
       " '8.1,Shutter Island,R,Mystery,138,\"[u\\'Leonardo DiCaprio\\', u\\'Emily Mortimer\\', u\\'Mark Ruffalo\\']\"\\n',\n",
       " '8.1,Barry Lyndon,PG,Adventure,184,\"[u\"\"Ryan O\\'Neal\"\", u\\'Marisa Berenson\\', u\\'Patrick Magee\\']\"\\n',\n",
       " '8.1,Stalag 17,NOT RATED,Comedy,120,\"[u\\'William Holden\\', u\\'Don Taylor\\', u\\'Otto Preminger\\']\"\\n',\n",
       " '8.1,Three Colors: Red,R,Drama,99,\"[u\\'Ir\\\\xe8ne Jacob\\', u\\'Jean-Louis Trintignant\\', u\\'Fr\\\\xe9d\\\\xe9rique Feder\\']\"\\n',\n",
       " '8.1,X-Men: Days of Future Past,PG-13,Action,131,\"[u\\'Patrick Stewart\\', u\\'Ian McKellen\\', u\\'Hugh Jackman\\']\"\\n',\n",
       " '8.1,Sleuth,PG,Mystery,138,\"[u\\'Laurence Olivier\\', u\\'Michael Caine\\', u\\'Alec Cawthorne\\']\"\\n',\n",
       " '8.1,In the Mood for Love,PG,Drama,98,\"[u\\'Tony Chiu Wai Leung\\', u\\'Maggie Cheung\\', u\\'Ping Lam Siu\\']\"\\n',\n",
       " '8.1,The Man Who Shot Liberty Valance,APPROVED,Drama,123,\"[u\\'James Stewart\\', u\\'John Wayne\\', u\\'Vera Miles\\']\"\\n',\n",
       " '8.1,Arsenic and Old Lace,NOT RATED,Comedy,118,\"[u\\'Cary Grant\\', u\\'Priscilla Lane\\', u\\'Raymond Massey\\']\"\\n',\n",
       " '8.1,The Big Sleep,APPROVED,Crime,114,\"[u\\'Humphrey Bogart\\', u\\'Lauren Bacall\\', u\\'John Ridgely\\']\"\\n',\n",
       " '8.1,Roman Holiday,NOT RATED,Comedy,118,\"[u\\'Gregory Peck\\', u\\'Audrey Hepburn\\', u\\'Eddie Albert\\']\"\\n',\n",
       " '8.1,The Philadelphia Story,NOT RATED,Comedy,112,\"[u\\'Cary Grant\\', u\\'Katharine Hepburn\\', u\\'James Stewart\\']\"\\n',\n",
       " '8.1,Akira,R,Animation,124,\"[u\\'Nozomu Sasaki\\', u\\'Mami Koyama\\', u\\'Mitsuo Iwata\\']\"\\n',\n",
       " '8.1,Anatomy of a Murder,UNRATED,Crime,160,\"[u\\'James Stewart\\', u\\'Lee Remick\\', u\\'Ben Gazzara\\']\"\\n',\n",
       " '8.1,The Cabinet of Dr. Caligari,UNRATED,Crime,67,\"[u\\'Werner Krauss\\', u\\'Conrad Veidt\\', u\\'Friedrich Feher\\']\"\\n',\n",
       " '8.1,The Help,PG-13,Drama,146,\"[u\\'Emma Stone\\', u\\'Viola Davis\\', u\\'Octavia Spencer\\']\"\\n',\n",
       " '8.1,The Sea Inside,PG-13,Biography,125,\"[u\\'Javier Bardem\\', u\\'Bel\\\\xe9n Rueda\\', u\\'Lola Due\\\\xf1as\\']\"\\n',\n",
       " '8.1,Elite Squad,R,Action,115,\"[u\\'Wagner Moura\\', u\\'Andr\\\\xe9 Ramiro\\', u\\'Caio Junqueira\\']\"\\n',\n",
       " '8.1,The Hustler,UNRATED,Drama,134,\"[u\\'Paul Newman\\', u\\'Jackie Gleason\\', u\\'Piper Laurie\\']\"\\n',\n",
       " '8.1,Rio Bravo,NOT RATED,Western,141,\"[u\\'John Wayne\\', u\\'Dean Martin\\', u\\'Ricky Nelson\\']\"\\n',\n",
       " '8.1,Twelve Monkeys,R,Mystery,129,\"[u\\'Bruce Willis\\', u\\'Madeleine Stowe\\', u\\'Brad Pitt\\']\"\\n',\n",
       " '8.1,Harvey,NOT RATED,Comedy,104,\"[u\\'James Stewart\\', u\\'Josephine Hull\\', u\\'Peggy Dow\\']\"\\n',\n",
       " '8.1,A Christmas Story,PG,Comedy,94,\"[u\\'Peter Billingsley\\', u\\'Melinda Dillon\\', u\\'Darren McGavin\\']\"\\n',\n",
       " '8.1,Jaws,PG,Drama,124,\"[u\\'Roy Scheider\\', u\\'Robert Shaw\\', u\\'Richard Dreyfuss\\']\"\\n',\n",
       " '8.1,The Raid 2,R,Action,150,\"[u\\'Iko Uwais\\', u\\'Yayan Ruhian\\', u\\'Arifin Putra\\']\"\\n',\n",
       " '8.1,Rocky,PG,Drama,119,\"[u\\'Sylvester Stallone\\', u\\'Talia Shire\\', u\\'Burt Young\\']\"\\n',\n",
       " '8.1,Wings of Desire,PG-13,Drama,128,\"[u\\'Bruno Ganz\\', u\\'Solveig Dommartin\\', u\\'Otto Sander\\']\"\\n',\n",
       " '8.1,Pirates of the Caribbean: The Curse of the Black Pearl,PG-13,Adventure,143,\"[u\\'Johnny Depp\\', u\\'Geoffrey Rush\\', u\\'Orlando Bloom\\']\"\\n',\n",
       " '8.1,The Killing,APPROVED,Crime,85,\"[u\\'Sterling Hayden\\', u\\'Coleen Gray\\', u\\'Vince Edwards\\']\"\\n',\n",
       " '8.1,Papillon,R,Biography,151,\"[u\\'Steve McQueen\\', u\\'Dustin Hoffman\\', u\\'Victor Jory\\']\"\\n',\n",
       " '8.1,The King\\'s Speech,R,Biography,118,\"[u\\'Colin Firth\\', u\\'Geoffrey Rush\\', u\\'Helena Bonham Carter\\']\"\\n',\n",
       " '8.1,Groundhog Day,PG,Comedy,101,\"[u\\'Bill Murray\\', u\\'Andie MacDowell\\', u\\'Chris Elliott\\']\"\\n',\n",
       " '8.1,A Fistful of Dollars,R,Action,99,\"[u\\'Clint Eastwood\\', u\\'Gian Maria Volont\\\\xe9\\', u\\'Marianne Koch\\']\"\\n',\n",
       " '8.1,\"Monsters, Inc.\",G,Animation,92,\"[u\\'Billy Crystal\\', u\\'John Goodman\\', u\\'Mary Gibbs\\']\"\\n',\n",
       " '8.1,Dog Day Afternoon,R,Crime,125,\"[u\\'Al Pacino\\', u\\'John Cazale\\', u\\'Penelope Allen\\']\"\\n',\n",
       " '8.1,The Perks of Being a Wallflower,PG-13,Drama,102,\"[u\\'Logan Lerman\\', u\\'Emma Watson\\', u\\'Ezra Miller\\']\"\\n',\n",
       " '8.1,Young Frankenstein,PG,Comedy,106,\"[u\\'Gene Wilder\\', u\\'Madeline Kahn\\', u\\'Marty Feldman\\']\"\\n',\n",
       " '8.1,The Terminator,R,Action,107,\"[u\\'Arnold Schwarzenegger\\', u\\'Linda Hamilton\\', u\\'Michael Biehn\\']\"\\n',\n",
       " '8.1,Harold and Maude,GP,Comedy,91,\"[u\\'Ruth Gordon\\', u\\'Bud Cort\\', u\\'Vivian Pickles\\']\"\\n',\n",
       " '8.1,Before Sunset,R,Drama,80,\"[u\\'Ethan Hawke\\', u\\'Julie Delpy\\', u\\'Vernon Dobtcheff\\']\"\\n',\n",
       " '8.1,A Streetcar Named Desire,PG,Drama,122,\"[u\\'Vivien Leigh\\', u\\'Marlon Brando\\', u\\'Kim Hunter\\']\"\\n',\n",
       " '8.1,Bringing Up Baby,APPROVED,Comedy,102,\"[u\\'Katharine Hepburn\\', u\\'Cary Grant\\', u\\'Charles Ruggles\\']\"\\n',\n",
       " '8.1,The Diving Bell and the Butterfly,PG-13,Biography,112,\"[u\\'Mathieu Amalric\\', u\\'Emmanuelle Seigner\\', u\\'Marie-Jos\\\\xe9e Croze\\']\"\\n',\n",
       " '8.1,His Girl Friday,APPROVED,Comedy,92,\"[u\\'Cary Grant\\', u\\'Rosalind Russell\\', u\\'Ralph Bellamy\\']\"\\n',\n",
       " '8.1,Sling Blade,R,Drama,135,\"[u\\'Billy Bob Thornton\\', u\\'Dwight Yoakam\\', u\\'J.T. Walsh\\']\"\\n',\n",
       " '8.1,All Quiet on the Western Front,UNRATED,Drama,136,\"[u\\'Lew Ayres\\', u\\'Louis Wolheim\\', u\\'John Wray\\']\"\\n',\n",
       " '8.1,Prisoners,R,Crime,153,\"[u\\'Hugh Jackman\\', u\\'Jake Gyllenhaal\\', u\\'Viola Davis\\']\"\\n',\n",
       " '8.1,The Return,UNRATED,Drama,105,\"[u\\'Vladimir Garin\\', u\\'Ivan Dobronravov\\', u\\'Konstantin Lavronenko\\']\"\\n',\n",
       " '8.1,The Manchurian Candidate,APPROVED,Mystery,126,\"[u\\'Frank Sinatra\\', u\\'Laurence Harvey\\', u\\'Janet Leigh\\']\"\\n',\n",
       " '8.1,Duck Soup,PASSED,Comedy,68,\"[u\\'Groucho Marx\\', u\\'Harpo Marx\\', u\\'Chico Marx\\']\"\\n',\n",
       " '8.1,Beauty and the Beast,G,Animation,84,\"[u\"\"Paige O\\'Hara\"\", u\\'Robby Benson\\', u\\'Richard White\\']\"\\n',\n",
       " '8.1,The Truman Show,PG,Drama,103,\"[u\\'Jim Carrey\\', u\\'Ed Harris\\', u\\'Laura Linney\\']\"\\n',\n",
       " '8.1,The Wild Bunch,R,Action,145,\"[u\\'William Holden\\', u\\'Ernest Borgnine\\', u\\'Robert Ryan\\']\"\\n',\n",
       " '8,Rope,PG,Crime,80,\"[u\\'James Stewart\\', u\\'John Dall\\', u\\'Farley Granger\\']\"\\n',\n",
       " '8,The Graduate,APPROVED,Comedy,106,\"[u\\'Dustin Hoffman\\', u\\'Anne Bancroft\\', u\\'Katharine Ross\\']\"\\n',\n",
       " '8,Jurassic Park,PG-13,Adventure,127,\"[u\\'Sam Neill\\', u\\'Laura Dern\\', u\\'Jeff Goldblum\\']\"\\n',\n",
       " '8,Dogville,R,Crime,178,\"[u\\'Nicole Kidman\\', u\\'Paul Bettany\\', u\\'Lauren Bacall\\']\"\\n',\n",
       " '8,Furious 7,PG-13,Action,137,\"[u\\'Vin Diesel\\', u\\'Paul Walker\\', u\\'Dwayne Johnson\\']\"\\n',\n",
       " '8,Patton,GP,Biography,172,\"[u\\'George C. Scott\\', u\\'Karl Malden\\', u\\'Stephen Young\\']\"\\n',\n",
       " '8,The Nightmare Before Christmas,PG,Animation,76,\"[u\\'Danny Elfman\\', u\\'Chris Sarandon\\', u\"\"Catherine O\\'Hara\"\"]\"\\n',\n",
       " '8,Being There,PG,Comedy,130,\"[u\\'Peter Sellers\\', u\\'Shirley MacLaine\\', u\\'Melvyn Douglas\\']\"\\n',\n",
       " '8,Persepolis,PG-13,Animation,96,\"[u\\'Chiara Mastroianni\\', u\\'Catherine Deneuve\\', u\\'Gena Rowlands\\']\"\\n',\n",
       " '8,This Is Spinal Tap,R,Comedy,82,\"[u\\'Rob Reiner\\', u\\'Michael McKean\\', u\\'Christopher Guest\\']\"\\n',\n",
       " '8,East of Eden,PG,Drama,115,\"[u\\'James Dean\\', u\\'Raymond Massey\\', u\\'Julie Harris\\']\"\\n',\n",
       " '8,Pink Floyd The Wall,R,Animation,95,\"[u\\'Bob Geldof\\', u\\'Christine Hargreaves\\', u\\'James Laurenson\\']\"\\n',\n",
       " '8,Blood Diamond,R,Adventure,143,\"[u\\'Leonardo DiCaprio\\', u\\'Djimon Hounsou\\', u\\'Jennifer Connelly\\']\"\\n',\n",
       " '8,Big Fish,PG-13,Adventure,125,\"[u\\'Ewan McGregor\\', u\\'Albert Finney\\', u\\'Billy Crudup\\']\"\\n',\n",
       " '8,Slumdog Millionaire,R,Drama,120,\"[u\\'Dev Patel\\', u\\'Freida Pinto\\', u\\'Saurabh Shukla\\']\"\\n',\n",
       " '8,Star Trek,PG-13,Action,127,\"[u\\'Chris Pine\\', u\\'Zachary Quinto\\', u\\'Simon Pegg\\']\"\\n',\n",
       " '8,The Straight Story,G,Biography,112,\"[u\\'Richard Farnsworth\\', u\\'Sissy Spacek\\', u\\'Jane Galloway Heitz\\']\"\\n',\n",
       " '8,Crimes and Misdemeanors,PG-13,Comedy,104,\"[u\\'Martin Landau\\', u\\'Woody Allen\\', u\\'Bill Bernstein\\']\"\\n',\n",
       " '8,Charade,NOT RATED,Comedy,113,\"[u\\'Cary Grant\\', u\\'Audrey Hepburn\\', u\\'Walter Matthau\\']\"\\n',\n",
       " '8,JFK,R,Drama,189,\"[u\\'Kevin Costner\\', u\\'Gary Oldman\\', u\\'Jack Lemmon\\']\"\\n',\n",
       " '8,Dawn of the Dead,UNRATED,Horror,127,\"[u\\'David Emge\\', u\\'Ken Foree\\', u\\'Scott H. Reiniger\\']\"\\n',\n",
       " '8,Magnolia,R,Drama,188,\"[u\\'Tom Cruise\\', u\\'Jason Robards\\', u\\'Julianne Moore\\']\"\\n',\n",
       " '8,Manhattan,R,Comedy,96,\"[u\\'Woody Allen\\', u\\'Diane Keaton\\', u\\'Mariel Hemingway\\']\"\\n',\n",
       " '8,Central Station,R,Drama,113,\"[u\\'Fernanda Montenegro\\', u\\'Vin\\\\xedcius de Oliveira\\', u\\'Mar\\\\xedlia P\\\\xeara\\']\"\\n',\n",
       " '8,Brazil,R,Sci-Fi,132,\"[u\\'Jonathan Pryce\\', u\\'Kim Greist\\', u\\'Robert De Niro\\']\"\\n',\n",
       " '8,The Exorcist,R,Horror,122,\"[u\\'Ellen Burstyn\\', u\\'Max von Sydow\\', u\\'Linda Blair\\']\"\\n',\n",
       " '8,Her,R,Drama,126,\"[u\\'Joaquin Phoenix\\', u\\'Amy Adams\\', u\\'Scarlett Johansson\\']\"\\n',\n",
       " '8,Dancer in the Dark,R,Crime,140,\"[u\\'Bj\\\\xf6rk\\', u\\'Catherine Deneuve\\', u\\'David Morse\\']\"\\n',\n",
       " '8,Rain Man,R,Drama,133,\"[u\\'Dustin Hoffman\\', u\\'Tom Cruise\\', u\\'Valeria Golino\\']\"\\n',\n",
       " '8,Talk to Her,R,Drama,112,\"[u\\'Rosario Flores\\', u\\'Javier C\\\\xe1mara\\', u\\'Dar\\\\xedo Grandinetti\\']\"\\n',\n",
       " '8,The Adventures of Robin Hood,PG,Action,102,\"[u\\'Errol Flynn\\', u\\'Olivia de Havilland\\', u\\'Basil Rathbone\\']\"\\n',\n",
       " '8,\"Aguirre, the Wrath of God\",NOT RATED,Adventure,93,\"[u\\'Klaus Kinski\\', u\\'Ruy Guerra\\', u\\'Helena Rojo\\']\"\\n',\n",
       " '8,In the Heat of the Night,APPROVED,Crime,109,\"[u\\'Sidney Poitier\\', u\\'Rod Steiger\\', u\\'Warren Oates\\']\"\\n',\n",
       " '8,Nosferatu,UNRATED,Horror,81,\"[u\\'Max Schreck\\', u\\'Greta Schr\\\\xf6der\\', u\\'Ruth Landshoff\\']\"\\n',\n",
       " '8,Black Swan,R,Drama,108,\"[u\\'Natalie Portman\\', u\\'Mila Kunis\\', u\\'Vincent Cassel\\']\"\\n',\n",
       " '8,Ratatouille,G,Animation,111,\"[u\\'Brad Garrett\\', u\\'Lou Romano\\', u\\'Patton Oswalt\\']\"\\n',\n",
       " '8,The Searchers,APPROVED,Adventure,119,\"[u\\'John Wayne\\', u\\'Jeffrey Hunter\\', u\\'Vera Miles\\']\"\\n',\n",
       " '8,Short Term 12,R,Drama,96,\"[u\\'Brie Larson\\', u\\'Frantz Turner\\', u\\'John Gallagher Jr.\\']\"\\n',\n",
       " '8,Doctor Zhivago,PG-13,Drama,197,\"[u\\'Omar Sharif\\', u\\'Julie Christie\\', u\\'Geraldine Chaplin\\']\"\\n',\n",
       " '8,Life of Pi,PG,Adventure,127,\"[u\\'Suraj Sharma\\', u\\'Irrfan Khan\\', u\\'Adil Hussain\\']\"\\n',\n",
       " '8,All the President\\'s Men,R,Drama,138,\"[u\\'Dustin Hoffman\\', u\\'Robert Redford\\', u\\'Jack Warden\\']\"\\n',\n",
       " '8,Battleship Potemkin,UNRATED,History,66,\"[u\\'Aleksandr Antonov\\', u\\'Vladimir Barsky\\', u\\'Grigori Aleksandrov\\']\"\\n',\n",
       " '8,Dances with Wolves,PG-13,Adventure,181,\"[u\\'Kevin Costner\\', u\\'Mary McDonnell\\', u\\'Graham Greene\\']\"\\n',\n",
       " '8,Catch Me If You Can,PG-13,Biography,141,\"[u\\'Leonardo DiCaprio\\', u\\'Tom Hanks\\', u\\'Christopher Walken\\']\"\\n',\n",
       " '8,Cinderella Man,PG-13,Biography,144,\"[u\\'Russell Crowe\\', u\\'Ren\\\\xe9e Zellweger\\', u\\'Craig Bierko\\']\"\\n',\n",
       " '8,Dead Poets Society,PG,Drama,128,\"[u\\'Robin Williams\\', u\\'Robert Sean Leonard\\', u\\'Ethan Hawke\\']\"\\n',\n",
       " '8,Ghost in the Shell,NOT RATED,Animation,83,\"[u\\'Atsuko Tanaka\\', u\\'Iemasa Kayumi\\', u\\'Akio \\\\xd4tsuka\\']\"\\n',\n",
       " '8,Head-On,R,Drama,121,\"[u\\'Birol \\\\xdcnel\\', u\\'Sibel Kekilli\\', u\\'G\\\\xfcven Kira\\\\xe7\\']\"\\n',\n",
       " '8,No Man\\'s Land,R,Drama,98,\"[u\\'Branko Djuric\\', u\\'Rene Bitorajac\\', u\\'Filip Sovagovic\\']\"\\n',\n",
       " '8,Dallas Buyers Club,R,Biography,117,\"[u\\'Matthew McConaughey\\', u\\'Jennifer Garner\\', u\\'Jared Leto\\']\"\\n',\n",
       " '8,Days of Heaven,PG,Drama,94,\"[u\\'Richard Gere\\', u\\'Brooke Adams\\', u\\'Sam Shepard\\']\"\\n',\n",
       " '8,The Sound of Music,G,Biography,174,\"[u\\'Julie Andrews\\', u\\'Christopher Plummer\\', u\\'Eleanor Parker\\']\"\\n',\n",
       " '8,District 9,R,Action,112,\"[u\\'Sharlto Copley\\', u\\'David James\\', u\\'Jason Cope\\']\"\\n',\n",
       " '8,Shadow of a Doubt,APPROVED,Thriller,108,\"[u\\'Teresa Wright\\', u\\'Joseph Cotten\\', u\\'Macdonald Carey\\']\"\\n',\n",
       " '8,Frankenstein,UNRATED,Horror,70,\"[u\\'Colin Clive\\', u\\'Mae Clarke\\', u\\'Boris Karloff\\']\"\\n',\n",
       " '8,Shaun of the Dead,R,Comedy,99,\"[u\\'Simon Pegg\\', u\\'Nick Frost\\', u\\'Kate Ashfield\\']\"\\n',\n",
       " '8,Night of the Living Dead,UNRATED,Horror,96,\"[u\\'Duane Jones\\', u\"\"Judith O\\'Dea\"\", u\\'Karl Hardman\\']\"\\n',\n",
       " '8,Kill Bill: Vol. 2,R,Action,137,\"[u\\'Uma Thurman\\', u\\'David Carradine\\', u\\'Michael Madsen\\']\"\\n',\n",
       " '8,Secrets & Lies,R,Drama,136,\"[u\\'Timothy Spall\\', u\\'Brenda Blethyn\\', u\\'Phyllis Logan\\']\"\\n',\n",
       " '8,The Artist,PG-13,Comedy,100,\"[u\\'Jean Dujardin\\', u\\'B\\\\xe9r\\\\xe9nice Bejo\\', u\\'John Goodman\\']\"\\n',\n",
       " '8,Aladdin,G,Animation,90,\"[u\\'Scott Weinger\\', u\\'Robin Williams\\', u\\'Linda Larkin\\']\"\\n',\n",
       " '8,The Lady Vanishes,PASSED,Comedy,96,\"[u\\'Margaret Lockwood\\', u\\'Michael Redgrave\\', u\\'Paul Lukas\\']\"\\n',\n",
       " '8,The Hobbit: The Desolation of Smaug,PG-13,Adventure,161,\"[u\\'Ian McKellen\\', u\\'Martin Freeman\\', u\\'Richard Armitage\\']\"\\n',\n",
       " '8,Let the Right One In,R,Drama,115,\"[u\\'K\\\\xe5re Hedebrant\\', u\\'Lina Leandersson\\', u\\'Per Ragnar\\']\"\\n',\n",
       " '8,Fiddler on the Roof,G,Drama,181,\"[u\\'Topol\\', u\\'Norma Crane\\', u\\'Leonard Frey\\']\"\\n',\n",
       " '8,The Hobbit: An Unexpected Journey,PG-13,Adventure,169,\"[u\\'Martin Freeman\\', u\\'Ian McKellen\\', u\\'Richard Armitage\\']\"\\n',\n",
       " '8,Three Colors: Blue,R,Drama,98,\"[u\\'Juliette Binoche\\', u\\'Zbigniew Zamachowski\\', u\\'Julie Delpy\\']\"\\n',\n",
       " '8,Rosemary\\'s Baby,R,Drama,136,\"[u\\'Mia Farrow\\', u\\'John Cassavetes\\', u\\'Ruth Gordon\\']\"\\n',\n",
       " '8,Mystic River,R,Crime,138,\"[u\\'Sean Penn\\', u\\'Tim Robbins\\', u\\'Kevin Bacon\\']\"\\n',\n",
       " '8,Serenity,PG-13,Action,119,\"[u\\'Nathan Fillion\\', u\\'Gina Torres\\', u\\'Chiwetel Ejiofor\\']\"\\n',\n",
       " '8,Amarcord,R,Comedy,123,\"[u\\'Magali No\\\\xebl\\', u\\'Bruno Zanin\\', u\\'Pupella Maggio\\']\"\\n',\n",
       " '8,Planet of the Apes,G,Adventure,112,\"[u\\'Charlton Heston\\', u\\'Roddy McDowall\\', u\\'Kim Hunter\\']\"\\n',\n",
       " '8,True Romance,R,Crime,120,\"[u\\'Christian Slater\\', u\\'Patricia Arquette\\', u\\'Dennis Hopper\\']\"\\n',\n",
       " '8,Hannah and Her Sisters,PG-13,Comedy,103,\"[u\\'Mia Farrow\\', u\\'Dianne Wiest\\', u\\'Michael Caine\\']\"\\n',\n",
       " '8,Moon,R,Drama,97,\"[u\\'Sam Rockwell\\', u\\'Kevin Spacey\\', u\\'Dominique McElligott\\']\"\\n',\n",
       " '8,Before Midnight,R,Drama,109,\"[u\\'Ethan Hawke\\', u\\'Julie Delpy\\', u\\'Seamus Davey-Fitzpatrick\\']\"\\n',\n",
       " '8,My Name Is Khan,PG-13,Drama,165,\"[u\\'Shah Rukh Khan\\', u\\'Kajol\\', u\\'Sheetal Menon\\']\"\\n',\n",
       " '8,Scent of a Woman,R,Drama,156,\"[u\\'Al Pacino\\', u\"\"Chris O\\'Donnell\"\", u\\'James Rebhorn\\']\"\\n',\n",
       " '8,Mulholland Dr.,R,Drama,147,\"[u\\'Naomi Watts\\', u\\'Laura Harring\\', u\\'Justin Theroux\\']\"\\n',\n",
       " '8,King Kong,UNRATED,Adventure,100,\"[u\\'Fay Wray\\', u\\'Robert Armstrong\\', u\\'Bruce Cabot\\']\"\\n',\n",
       " '8,The Fault in Our Stars,PG-13,Drama,126,\"[u\\'Shailene Woodley\\', u\\'Ansel Elgort\\', u\\'Nat Wolff\\']\"\\n',\n",
       " '8,The Incredibles,PG,Animation,115,\"[u\\'Craig T. Nelson\\', u\\'Samuel L. Jackson\\', u\\'Holly Hunter\\']\"\\n',\n",
       " '8,Edward Scissorhands,PG-13,Drama,105,\"[u\\'Johnny Depp\\', u\\'Winona Ryder\\', u\\'Dianne Wiest\\']\"\\n',\n",
       " '8,Casino Royale,PG-13,Action,144,\"[u\\'Daniel Craig\\', u\\'Eva Green\\', u\\'Judi Dench\\']\"\\n',\n",
       " '8,How to Train Your Dragon 2,PG,Animation,102,\"[u\\'Jay Baruchel\\', u\\'Cate Blanchett\\', u\\'Gerard Butler\\']\"\\n',\n",
       " '8,In Bruges,R,Comedy,107,\"[u\\'Colin Farrell\\', u\\'Brendan Gleeson\\', u\\'Ciar\\\\xe1n Hinds\\']\"\\n',\n",
       " '8,The Untouchables,R,Crime,119,\"[u\\'Kevin Costner\\', u\\'Sean Connery\\', u\\'Robert De Niro\\']\"\\n',\n",
       " '8,Breathless,UNRATED,Crime,90,\"[u\\'Jean-Paul Belmondo\\', u\\'Jean Seberg\\', u\\'Daniel Boulanger\\']\"\\n',\n",
       " '8,Spartacus,PG-13,Action,197,\"[u\\'Kirk Douglas\\', u\\'Laurence Olivier\\', u\\'Jean Simmons\\']\"\\n',\n",
       " '8,The Iron Giant,PG,Animation,86,\"[u\\'Eli Marienthal\\', u\\'Harry Connick Jr.\\', u\\'Jennifer Aniston\\']\"\\n',\n",
       " '8,Midnight Cowboy,X,Drama,113,\"[u\\'Dustin Hoffman\\', u\\'Jon Voight\\', u\\'Sylvia Miles\\']\"\\n',\n",
       " '8,The Blues Brothers,R,Action,133,\"[u\\'John Belushi\\', u\\'Dan Aykroyd\\', u\\'Cab Calloway\\']\"\\n',\n",
       " '8,Freaks,UNRATED,Drama,64,\"[u\\'Wallace Ford\\', u\\'Leila Hyams\\', u\\'Olga Baclanova\\']\"\\n',\n",
       " '8,Letters from Iwo Jima,R,Drama,141,\"[u\\'Ken Watanabe\\', u\\'Kazunari Ninomiya\\', u\\'Tsuyoshi Ihara\\']\"\\n',\n",
       " '8,Edge of Tomorrow,PG-13,Action,113,\"[u\\'Tom Cruise\\', u\\'Emily Blunt\\', u\\'Bill Paxton\\']\"\\n',\n",
       " '8,Glory,R,Drama,122,\"[u\\'Matthew Broderick\\', u\\'Denzel Washington\\', u\\'Cary Elwes\\']\"\\n',\n",
       " '8,The African Queen,PG,Adventure,105,\"[u\\'Humphrey Bogart\\', u\\'Katharine Hepburn\\', u\\'Robert Morley\\']\"\\n',\n",
       " '7.9,Birdman: Or (The Unexpected Virtue of Ignorance),R,Comedy,119,\"[u\\'Michael Keaton\\', u\\'Zach Galifianakis\\', u\\'Edward Norton\\']\"\\n',\n",
       " '7.9,Big Hero 6,PG,Animation,102,\"[u\\'Ryan Potter\\', u\\'Scott Adsit\\', u\\'Jamie Chung\\']\"\\n',\n",
       " '7.9,Almost Famous,R,Drama,122,\"[u\\'Billy Crudup\\', u\\'Patrick Fugit\\', u\\'Kate Hudson\\']\"\\n',\n",
       " '7.9,The Notebook,PG-13,Drama,123,\"[u\\'Gena Rowlands\\', u\\'James Garner\\', u\\'Rachel McAdams\\']\"\\n',\n",
       " '7.9,The Conversation,PG,Drama,113,\"[u\\'Gene Hackman\\', u\\'John Cazale\\', u\\'Allen Garfield\\']\"\\n',\n",
       " '7.9,The Breakfast Club,R,Comedy,97,\"[u\\'Emilio Estevez\\', u\\'Judd Nelson\\', u\\'Molly Ringwald\\']\"\\n',\n",
       " '7.9,The Pursuit of Happyness,PG-13,Biography,117,\"[u\\'Will Smith\\', u\\'Thandie Newton\\', u\\'Jaden Smith\\']\"\\n',\n",
       " '7.9,The Killer,R,Action,111,\"[u\\'Yun-Fat Chow\\', u\\'Danny Lee\\', u\\'Sally Yeh\\']\"\\n',\n",
       " '7.9,Once,R,Drama,85,\"[u\\'Glen Hansard\\', u\\'Mark\\\\xe9ta Irglov\\\\xe1\\', u\\'Hugh Walsh\\']\"\\n',\n",
       " '7.9,Ying xiong,PG-13,Action,99,\"[u\\'Jet Li\\', u\\'Tony Chiu Wai Leung\\', u\\'Maggie Cheung\\']\"\\n',\n",
       " '7.9,The Remains of the Day,PG,Drama,134,\"[u\\'Anthony Hopkins\\', u\\'Emma Thompson\\', u\\'John Haycraft\\']\"\\n',\n",
       " '7.9,The Bride of Frankenstein,NOT RATED,Horror,75,\"[u\\'Boris Karloff\\', u\\'Elsa Lanchester\\', u\\'Colin Clive\\']\"\\n',\n",
       " '7.9,The Wrestler,R,Drama,109,\"[u\\'Mickey Rourke\\', u\\'Marisa Tomei\\', u\\'Evan Rachel Wood\\']\"\\n',\n",
       " '7.9,Nightcrawler,R,Crime,117,\"[u\\'Jake Gyllenhaal\\', u\\'Rene Russo\\', u\\'Bill Paxton\\']\"\\n',\n",
       " '7.9,Gravity,PG-13,Sci-Fi,91,\"[u\\'Sandra Bullock\\', u\\'George Clooney\\', u\\'Ed Harris\\']\"\\n',\n",
       " '7.9,Hard Boiled,R,Action,128,\"[u\\'Yun-Fat Chow\\', u\\'Tony Chiu Wai Leung\\', u\\'Teresa Mo\\']\"\\n',\n",
       " '7.9,Bonnie and Clyde,APPROVED,Biography,111,\"[u\\'Warren Beatty\\', u\\'Faye Dunaway\\', u\\'Michael J. Pollard\\']\"\\n',\n",
       " '7.9,The Bourne Identity,PG-13,Action,119,\"[u\\'Franka Potente\\', u\\'Matt Damon\\', u\\'Chris Cooper\\']\"\\n',\n",
       " '7.9,Key Largo,UNRATED,Crime,100,\"[u\\'Humphrey Bogart\\', u\\'Edward G. Robinson\\', u\\'Lauren Bacall\\']\"\\n',\n",
       " '7.9,Nine Queens,R,Crime,114,\"[u\\'Ricardo Dar\\\\xedn\\', u\\'Gast\\\\xf3n Pauls\\', u\\'Leticia Br\\\\xe9dice\\']\"\\n',\n",
       " '7.9,Toy Story 2,G,Animation,92,\"[u\\'Tom Hanks\\', u\\'Tim Allen\\', u\\'Joan Cusack\\']\"\\n',\n",
       " '7.9,The Killing Fields,R,Drama,141,\"[u\\'Sam Waterston\\', u\\'Haing S. Ngor\\', u\\'John Malkovich\\']\"\\n',\n",
       " '7.9,All About My Mother,R,Drama,101,\"[u\\'Cecilia Roth\\', u\\'Marisa Paredes\\', u\\'Candela Pe\\\\xf1a\\']\"\\n',\n",
       " '7.9,Cowboy Bebop: The Movie,R,Animation,115,\"[u\\'Beau Billingslea\\', u\\'Melissa Fahn\\', u\\'Nicholas Guest\\']\"\\n',\n",
       " '7.9,Ed Wood,R,Biography,127,\"[u\\'Johnny Depp\\', u\\'Martin Landau\\', u\\'Sarah Jessica Parker\\']\"\\n',\n",
       " '7.9,Stagecoach,NOT RATED,Adventure,96,\"[u\\'John Wayne\\', u\\'Claire Trevor\\', u\\'Andy Devine\\']\"\\n',\n",
       " '7.9,The Man Who Would Be King,PG,Action,129,\"[u\\'Sean Connery\\', u\\'Michael Caine\\', u\\'Christopher Plummer\\']\"\\n',\n",
       " '7.9,The Outlaw Josey Wales,PG,Western,135,\"[u\\'Clint Eastwood\\', u\\'Sondra Locke\\', u\\'Chief Dan George\\']\"\\n',\n",
       " '7.9,Children of Men,R,Drama,109,\"[u\\'Julianne Moore\\', u\\'Clive Owen\\', u\\'Chiwetel Ejiofor\\']\"\\n',\n",
       " '7.9,The Insider,R,Biography,157,\"[u\\'Russell Crowe\\', u\\'Al Pacino\\', u\\'Christopher Plummer\\']\"\\n',\n",
       " '7.9,The Right Stuff,R,Adventure,193,\"[u\\'Sam Shepard\\', u\\'Scott Glenn\\', u\\'Ed Harris\\']\"\\n',\n",
       " '7.9,Badlands,PG,Crime,94,\"[u\\'Martin Sheen\\', u\\'Sissy Spacek\\', u\\'Warren Oates\\']\"\\n',\n",
       " '7.9,A Prophet,R,Crime,155,\"[u\\'Tahar Rahim\\', u\\'Niels Arestrup\\', u\\'Adel Bencherif\\']\"\\n',\n",
       " '7.9,\"4 Months, 3 Weeks and 2 Days\",NOT RATED,Drama,113,\"[u\\'Anamaria Marinca\\', u\\'Vlad Ivanov\\', u\\'Laura Vasiliu\\']\"\\n',\n",
       " '7.9,Le passe,PG-13,Drama,130,\"[u\\'B\\\\xe9r\\\\xe9nice Bejo\\', u\\'Tahar Rahim\\', u\\'Ali Mosaffa\\']\"\\n',\n",
       " '7.9,The Fall,R,Adventure,117,\"[u\\'Lee Pace\\', u\\'Catinca Untaru\\', u\\'Justine Waddell\\']\"\\n',\n",
       " '7.9,Breaking the Waves,R,Drama,159,\"[u\\'Emily Watson\\', u\\'Stellan Skarsg\\\\xe5rd\\', u\\'Katrin Cartlidge\\']\"\\n',\n",
       " '7.9,Mr. Nobody,R,Drama,141,\"[u\\'Jared Leto\\', u\\'Sarah Polley\\', u\\'Diane Kruger\\']\"\\n',\n",
       " '7.9,Crash,R,Drama,112,\"[u\\'Don Cheadle\\', u\\'Sandra Bullock\\', u\\'Thandie Newton\\']\"\\n',\n",
       " '7.9,Avatar,PG-13,Action,162,\"[u\\'Sam Worthington\\', u\\'Zoe Saldana\\', u\\'Sigourney Weaver\\']\"\\n',\n",
       " '7.9,Iron Man,PG-13,Action,126,\"[u\\'Robert Downey Jr.\\', u\\'Gwyneth Paltrow\\', u\\'Terrence Howard\\']\"\\n',\n",
       " '7.9,Do the Right Thing,R,Comedy,120,\"[u\\'Danny Aiello\\', u\\'Ossie Davis\\', u\\'Ruby Dee\\']\"\\n',\n",
       " '7.9,Carlito\\'s Way,R,Crime,144,\"[u\\'Al Pacino\\', u\\'Sean Penn\\', u\\'Penelope Ann Miller\\']\"\\n',\n",
       " '7.9,\"Crouching Tiger, Hidden Dragon\",PG-13,Action,120,\"[u\\'Yun-Fat Chow\\', u\\'Michelle Yeoh\\', u\\'Ziyi Zhang\\']\"\\n',\n",
       " '7.9,Lilya 4-Ever,R,Crime,109,\"[u\\'Oksana Akinshina\\', u\\'Artyom Bogucharskiy\\', u\\'Pavel Ponomaryov\\']\"\\n',\n",
       " '7.9,The Chorus,PG-13,Drama,97,\"[u\\'G\\\\xe9rard Jugnot\\', u\\'Fran\\\\xe7ois Berl\\\\xe9and\\', u\\'Jean-Baptiste Maunier\\']\"\\n',\n",
       " '7.9,The Boondock Saints,R,Action,108,\"[u\\'Willem Dafoe\\', u\\'Sean Patrick Flanery\\', u\\'Norman Reedus\\']\"\\n',\n",
       " '7.9,Miller\\'s Crossing,R,Crime,115,\"[u\\'Gabriel Byrne\\', u\\'Albert Finney\\', u\\'John Turturro\\']\"\\n',\n",
       " '7.9,Walk the Line,PG-13,Biography,136,\"[u\\'Joaquin Phoenix\\', u\\'Reese Witherspoon\\', u\\'Ginnifer Goodwin\\']\"\\n',\n",
       " '7.9,Shrek,PG,Animation,90,\"[u\\'Mike Myers\\', u\\'Eddie Murphy\\', u\\'Cameron Diaz\\']\"\\n',\n",
       " '7.9,My Fair Lady,APPROVED,Drama,170,\"[u\\'Audrey Hepburn\\', u\\'Rex Harrison\\', u\\'Stanley Holloway\\']\"\\n',\n",
       " '7.9,The Ten Commandments,APPROVED,Adventure,220,\"[u\\'Charlton Heston\\', u\\'Yul Brynner\\', u\\'Anne Baxter\\']\"\\n',\n",
       " '7.9,The Fighter,R,Biography,116,\"[u\\'Mark Wahlberg\\', u\\'Christian Bale\\', u\\'Amy Adams\\']\"\\n',\n",
       " '7.9,Captain Phillips,PG-13,Biography,134,\"[u\\'Tom Hanks\\', u\\'Barkhad Abdi\\', u\\'Barkhad Abdirahman\\']\"\\n',\n",
       " '7.9,Cabaret,PG,Drama,124,\"[u\\'Liza Minnelli\\', u\\'Michael York\\', u\\'Helmut Griem\\']\"\\n',\n",
       " '7.9,Halloween,R,Drama,91,\"[u\\'Donald Pleasence\\', u\\'Jamie Lee Curtis\\', u\\'Tony Moran\\']\"\\n',\n",
       " '7.9,My Left Foot,R,Biography,103,\"[u\\'Daniel Day-Lewis\\', u\\'Brenda Fricker\\', u\\'Alison Whelan\\']\"\\n',\n",
       " '7.9,Miracle on 34th Street,APPROVED,Comedy,96,\"[u\\'Edmund Gwenn\\', u\"\"Maureen O\\'Hara\"\", u\\'John Payne\\']\"\\n',\n",
       " '7.9,The Man from Nowhere,R,Action,119,\"[u\\'Bin Won\\', u\\'Sae-ron Kim\\', u\\'Tae-hoon Kim\\']\"\\n',\n",
       " '7.9,Toki o kakeru shojo,NOT RATED,Animation,98,\"[u\\'Riisa Naka\\', u\\'Takuya Ishida\\', u\\'Mitsutaka Itakura\\']\"\\n',\n",
       " '7.9,Little Miss Sunshine,R,Adventure,101,\"[u\\'Steve Carell\\', u\\'Toni Collette\\', u\\'Greg Kinnear\\']\"\\n',\n",
       " '7.9,Taken,PG-13,Action,93,\"[u\\'Liam Neeson\\', u\\'Maggie Grace\\', u\\'Famke Janssen\\']\"\\n',\n",
       " '7.9,Blue Is the Warmest Color,NC-17,Drama,179,\"[u\\'L\\\\xe9a Seydoux\\', u\\'Ad\\\\xe8le Exarchopoulos\\', u\\'Salim Kechiouche\\']\"\\n',\n",
       " '7.9,Boogie Nights,R,Drama,155,\"[u\\'Mark Wahlberg\\', u\\'Julianne Moore\\', u\\'Burt Reynolds\\']\"\\n',\n",
       " '7.9,Hot Fuzz,R,Comedy,121,\"[u\\'Simon Pegg\\', u\\'Nick Frost\\', u\\'Martin Freeman\\']\"\\n',\n",
       " '7.9,Ferris Bueller\\'s Day Off,PG-13,Comedy,103,\"[u\\'Matthew Broderick\\', u\\'Alan Ruck\\', u\\'Mia Sara\\']\"\\n',\n",
       " '7.9,The World\\'s Fastest Indian,PG-13,Biography,127,\"[u\\'Anthony Hopkins\\', u\\'Diane Ladd\\', u\\'Iain Rea\\']\"\\n',\n",
       " '7.9,Kiki\\'s Delivery Service,G,Animation,103,\"[u\\'Kirsten Dunst\\', u\\'Minami Takayama\\', u\\'Rei Sakuma\\']\"\\n',\n",
       " '7.9,Down by Law,R,Comedy,107,\"[u\\'Tom Waits\\', u\\'John Lurie\\', u\\'Roberto Benigni\\']\"\\n',\n",
       " '7.9,Glengarry Glen Ross,R,Drama,100,\"[u\\'Al Pacino\\', u\\'Jack Lemmon\\', u\\'Alec Baldwin\\']\"\\n',\n",
       " '7.9,Clerks,R,Comedy,92,\"[u\"\"Brian O\\'Halloran\"\", u\\'Jeff Anderson\\', u\\'Marilyn Ghigliotti\\']\"\\n',\n",
       " '7.9,Adam\\'s Apples,R,Comedy,94,\"[u\\'Ulrich Thomsen\\', u\\'Mads Mikkelsen\\', u\\'Nicolas Bro\\']\"\\n',\n",
       " '7.9,The Girl with the Dragon Tattoo,R,Crime,158,\"[u\\'Daniel Craig\\', u\\'Rooney Mara\\', u\\'Christopher Plummer\\']\"\\n',\n",
       " '7.9,The 39 Steps,UNRATED,Mystery,86,\"[u\\'Robert Donat\\', u\\'Madeleine Carroll\\', u\\'Lucie Mannheim\\']\"\\n',\n",
       " '7.9,E.T. the Extra-Terrestrial,PG,Family,115,\"[u\\'Henry Thomas\\', u\\'Drew Barrymore\\', u\\'Peter Coyote\\']\"\\n',\n",
       " '7.8,Tombstone,R,Action,130,\"[u\\'Kurt Russell\\', u\\'Val Kilmer\\', u\\'Sam Elliott\\']\"\\n',\n",
       " '7.8,Predator,R,Action,107,\"[u\\'Arnold Schwarzenegger\\', u\\'Carl Weathers\\', u\\'Kevin Peter Hall\\']\"\\n',\n",
       " '7.8,Tangled,PG,Animation,100,\"[u\\'Mandy Moore\\', u\\'Zachary Levi\\', u\\'Donna Murphy\\']\"\\n',\n",
       " '7.8,Guess Who\\'s Coming to Dinner,UNRATED,Comedy,108,\"[u\\'Spencer Tracy\\', u\\'Sidney Poitier\\', u\\'Katharine Hepburn\\']\"\\n',\n",
       " '7.8,Ordinary People,R,Drama,124,\"[u\\'Donald Sutherland\\', u\\'Mary Tyler Moore\\', u\\'Judd Hirsch\\']\"\\n',\n",
       " '7.8,The Best Offer,R,Crime,131,\"[u\\'Geoffrey Rush\\', u\\'Jim Sturgess\\', u\\'Sylvia Hoeks\\']\"\\n',\n",
       " '7.8,Silver Linings Playbook,R,Comedy,122,\"[u\\'Bradley Cooper\\', u\\'Jennifer Lawrence\\', u\\'Robert De Niro\\']\"\\n',\n",
       " '7.8,Hamlet,PG-13,Drama,242,\"[u\\'Kenneth Branagh\\', u\\'Julie Christie\\', u\\'Derek Jacobi\\']\"\\n',\n",
       " '7.8,Amour,PG-13,Drama,127,\"[u\\'Jean-Louis Trintignant\\', u\\'Emmanuelle Riva\\', u\\'Isabelle Huppert\\']\"\\n',\n",
       " '7.8,I Saw the Devil,NOT RATED,Crime,141,\"[u\\'Byung-hun Lee\\', u\\'Min-sik Choi\\', u\\'In-seo Kim\\']\"\\n',\n",
       " '7.8,The Motorcycle Diaries,R,Adventure,126,\"[u\\'Gael Garc\\\\xeda Bernal\\', u\\'Rodrigo De la Serna\\', u\\'M\\\\xeda Maestro\\']\"\\n',\n",
       " '7.8,Office Space,R,Comedy,89,\"[u\\'Ron Livingston\\', u\\'Jennifer Aniston\\', u\\'David Herman\\']\"\\n',\n",
       " '7.8,Evil,NOT RATED,Drama,113,\"[u\\'Andreas Wilson\\', u\\'Henrik Lundstr\\\\xf6m\\', u\\'Gustaf Skarsg\\\\xe5rd\\']\"\\n',\n",
       " '7.8,The Girl with the Dragon Tattoo,R,Crime,152,\"[u\\'Michael Nyqvist\\', u\\'Noomi Rapace\\', u\\'Ewa Fr\\\\xf6ling\\']\"\\n',\n",
       " '7.8,Withnail & I,R,Comedy,107,\"[u\\'Richard E. Grant\\', u\\'Paul McGann\\', u\\'Richard Griffiths\\']\"\\n',\n",
       " '7.8,The Day the Earth Stood Still,APPROVED,Sci-Fi,92,\"[u\\'Michael Rennie\\', u\\'Patricia Neal\\', u\\'Hugh Marlowe\\']\"\\n',\n",
       " '7.8,Black Book,R,Drama,145,\"[u\\'Carice van Houten\\', u\\'Sebastian Koch\\', u\\'Thom Hoffman\\']\"\\n',\n",
       " '7.8,Evil Dead II,X,Comedy,84,\"[u\\'Bruce Campbell\\', u\\'Sarah Berry\\', u\\'Dan Hicks\\']\"\\n',\n",
       " '7.8,Kaze tachinu,PG-13,Animation,126,\"[u\\'Hideaki Anno\\', u\\'Hidetoshi Nishijima\\', u\\'Miori Takimoto\\']\"\\n',\n",
       " '7.8,Star Trek Into Darkness,PG-13,Action,132,\"[u\\'Chris Pine\\', u\\'Zachary Quinto\\', u\\'Zoe Saldana\\']\"\\n',\n",
       " '7.8,The Triplets of Belleville,PG-13,Animation,78,\"[u\\'Mich\\\\xe8le Caucheteux\\', u\\'Jean-Claude Donda\\', u\\'Michel Robin\\']\"\\n',\n",
       " '7.8,Open Your Eyes,R,Drama,117,\"[u\\'Eduardo Noriega\\', u\\'Pen\\\\xe9lope Cruz\\', u\\'Chete Lera\\']\"\\n',\n",
       " '7.8,The Magnificent Seven,NOT RATED,Action,128,\"[u\\'Yul Brynner\\', u\\'Steve McQueen\\', u\\'Charles Bronson\\']\"\\n',\n",
       " '7.8,Drive,R,Crime,100,\"[u\\'Ryan Gosling\\', u\\'Carey Mulligan\\', u\\'Bryan Cranston\\']\"\\n',\n",
       " '7.8,Mississippi Burning,R,Crime,128,\"[u\\'Gene Hackman\\', u\\'Willem Dafoe\\', u\\'Frances McDormand\\']\"\\n',\n",
       " '7.8,The Lego Movie,PG,Animation,100,\"[u\\'Chris Pratt\\', u\\'Will Ferrell\\', u\\'Elizabeth Banks\\']\"\\n',\n",
       " '7.8,The Day of the Jackal,PG,Crime,143,\"[u\\'Edward Fox\\', u\\'Terence Alexander\\', u\\'Michel Auclair\\']\"\\n',\n",
       " '7.8,Misery,R,Thriller,107,\"[u\\'James Caan\\', u\\'Kathy Bates\\', u\\'Richard Farnsworth\\']\"\\n',\n",
       " '7.8,Willy Wonka & the Chocolate Factory,G,Family,100,\"[u\\'Gene Wilder\\', u\\'Jack Albertson\\', u\\'Peter Ostrum\\']\"\\n',\n",
       " '7.8,Fantasia,G,Animation,125,\"[u\\'Leopold Stokowski\\', u\\'Deems Taylor\\', u\\'Corey Burton\\']\"\\n',\n",
       " '7.8,Gattaca,PG-13,Drama,106,\"[u\\'Ethan Hawke\\', u\\'Uma Thurman\\', u\\'Jude Law\\']\"\\n',\n",
       " '7.8,American Gangster,R,Biography,157,\"[u\\'Denzel Washington\\', u\\'Russell Crowe\\', u\\'Chiwetel Ejiofor\\']\"\\n',\n",
       " '7.8,Porco Rosso,PG,Animation,94,\"[u\\'Sh\\\\xfbichir\\\\xf4 Moriyama\\', u\\'Tokiko Kat\\\\xf4\\', u\\'Sanshi Katsura\\']\"\\n',\n",
       " '7.8,The French Connection,R,Action,104,\"[u\\'Gene Hackman\\', u\\'Roy Scheider\\', u\\'Fernando Rey\\']\"\\n',\n",
       " '7.8,The Boy in the Striped Pajamas,PG-13,Drama,94,\"[u\\'Asa Butterfield\\', u\\'David Thewlis\\', u\\'Rupert Friend\\']\"\\n',\n",
       " '7.8,Empire of the Sun,PG,Drama,153,\"[u\\'Christian Bale\\', u\\'John Malkovich\\', u\\'Miranda Richardson\\']\"\\n',\n",
       " '7.8,About Time,R,Drama,123,\"[u\\'Domhnall Gleeson\\', u\\'Rachel McAdams\\', u\\'Bill Nighy\\']\"\\n',\n",
       " '7.8,Blue Velvet,R,Crime,120,\"[u\\'Isabella Rossellini\\', u\\'Kyle MacLachlan\\', u\\'Dennis Hopper\\']\"\\n',\n",
       " '7.8,In America,PG-13,Drama,105,\"[u\\'Paddy Considine\\', u\\'Samantha Morton\\', u\\'Djimon Hounsou\\']\"\\n',\n",
       " '7.8,The Curious Case of Benjamin Button,PG-13,Drama,166,\"[u\\'Brad Pitt\\', u\\'Cate Blanchett\\', u\\'Tilda Swinton\\']\"\\n',\n",
       " '7.8,The Last of the Mohicans,R,Action,112,\"[u\\'Daniel Day-Lewis\\', u\\'Madeleine Stowe\\', u\\'Russell Means\\']\"\\n',\n",
       " '7.8,Moonrise Kingdom,PG-13,Adventure,94,\"[u\\'Jared Gilman\\', u\\'Kara Hayward\\', u\\'Bruce Willis\\']\"\\n',\n",
       " '7.8,Rebel Without a Cause,PG-13,Drama,111,\"[u\\'James Dean\\', u\\'Natalie Wood\\', u\\'Sal Mineo\\']\"\\n',\n",
       " '7.8,Fantastic Mr. Fox,PG,Animation,87,\"[u\\'George Clooney\\', u\\'Meryl Streep\\', u\\'Bill Murray\\']\"\\n',\n",
       " '7.8,Invasion of the Body Snatchers,APPROVED,Horror,80,\"[u\\'Kevin McCarthy\\', u\\'Dana Wynter\\', u\\'Larry Gates\\']\"\\n',\n",
       " '7.8,October Sky,PG,Biography,108,\"[u\\'Jake Gyllenhaal\\', u\\'Chris Cooper\\', u\\'Laura Dern\\']\"\\n',\n",
       " '7.8,Dirty Harry,R,Action,102,\"[u\\'Clint Eastwood\\', u\\'Andrew Robinson\\', u\\'Harry Guardino\\']\"\\n',\n",
       " '7.8,Ghostbusters,PG,Comedy,105,\"[u\\'Bill Murray\\', u\\'Dan Aykroyd\\', u\\'Sigourney Weaver\\']\"\\n',\n",
       " '7.8,Captain America: The Winter Soldier,PG-13,Action,136,\"[u\\'Chris Evans\\', u\\'Samuel L. Jackson\\', u\\'Scarlett Johansson\\']\"\\n',\n",
       " '7.8,Wreck-It Ralph,PG,Animation,101,\"[u\\'John C. Reilly\\', u\\'Jack McBrayer\\', u\\'Jane Lynch\\']\"\\n',\n",
       " '7.8,The Hangover,R,Comedy,100,\"[u\\'Zach Galifianakis\\', u\\'Bradley Cooper\\', u\\'Justin Bartha\\']\"\\n',\n",
       " '7.8,Back to the Future Part II,PG,Adventure,108,\"[u\\'Michael J. Fox\\', u\\'Christopher Lloyd\\', u\\'Lea Thompson\\']\"\\n',\n",
       " '7.8,Belle de Jour,APPROVED,Drama,101,\"[u\\'Catherine Deneuve\\', u\\'Jean Sorel\\', u\\'Michel Piccoli\\']\"\\n',\n",
       " '7.8,\"O Brother, Where Art Thou?\",PG-13,Adventure,106,\"[u\\'George Clooney\\', u\\'John Turturro\\', u\\'Tim Blake Nelson\\']\"\\n',\n",
       " '7.8,Repulsion,UNRATED,Drama,105,\"[u\\'Catherine Deneuve\\', u\\'Ian Hendry\\', u\\'John Fraser\\']\"\\n',\n",
       " '7.8,Airplane!,PG,Comedy,88,\"[u\\'Robert Hays\\', u\\'Julie Hagerty\\', u\\'Leslie Nielsen\\']\"\\n',\n",
       " '7.8,Pride & Prejudice,PG,Drama,129,\"[u\\'Keira Knightley\\', u\\'Matthew Macfadyen\\', u\\'Brenda Blethyn\\']\"\\n',\n",
       " '7.8,Zulu,UNRATED,Drama,138,\"[u\\'Stanley Baker\\', u\\'Jack Hawkins\\', u\\'Ulla Jacobsson\\']\"\\n',\n",
       " '7.8,Night on Earth,R,Comedy,129,\"[u\\'Winona Ryder\\', u\\'Gena Rowlands\\', u\\'Lisanne Falk\\']\"\\n',\n",
       " '7.8,From Here to Eternity,NOT RATED,Drama,118,\"[u\\'Burt Lancaster\\', u\\'Montgomery Clift\\', u\\'Deborah Kerr\\']\"\\n',\n",
       " '7.8,Apocalypto,R,Action,139,\"[u\\'Gerardo Taracena\\', u\\'Raoul Trujillo\\', u\\'Dalia Hern\\\\xe1ndez\\']\"\\n',\n",
       " '7.8,Atonement,R,Drama,123,\"[u\\'Keira Knightley\\', u\\'James McAvoy\\', u\\'Brenda Blethyn\\']\"\\n',\n",
       " '7.8,The Dirty Dozen,NOT RATED,Action,150,\"[u\\'Lee Marvin\\', u\\'Ernest Borgnine\\', u\\'Charles Bronson\\']\"\\n',\n",
       " '7.8,X-Men: First Class,PG-13,Action,132,\"[u\\'James McAvoy\\', u\\'Michael Fassbender\\', u\\'Jennifer Lawrence\\']\"\\n',\n",
       " '7.8,Run Lola Run,R,Action,80,\"[u\\'Franka Potente\\', u\\'Moritz Bleibtreu\\', u\\'Herbert Knaup\\']\"\\n',\n",
       " '7.8,The Longest Day,G,Action,178,\"[u\\'John Wayne\\', u\\'Robert Ryan\\', u\\'Richard Burton\\']\"\\n',\n",
       " '7.8,Zelig,PG,Comedy,79,\"[u\\'Woody Allen\\', u\\'Mia Farrow\\', u\\'Patrick Horgan\\']\"\\n',\n",
       " '7.8,The Last Emperor,PG-13,Biography,163,\"[u\\'John Lone\\', u\\'Joan Chen\\', u\"\"Peter O\\'Toole\"\"]\"\\n',\n",
       " '7.8,The Goonies,PG,Adventure,114,\"[u\\'Sean Astin\\', u\\'Josh Brolin\\', u\\'Jeff Cohen\\']\"\\n',\n",
       " '7.8,The White Ribbon,R,Drama,144,\"[u\\'Christian Friedel\\', u\\'Ernst Jacobi\\', u\\'Leonie Benesch\\']\"\\n',\n",
       " '7.8,The Fugitive,PG-13,Action,130,\"[u\\'Harrison Ford\\', u\\'Tommy Lee Jones\\', u\\'Sela Ward\\']\"\\n',\n",
       " '7.8,The Color Purple,PG-13,Drama,154,\"[u\\'Danny Glover\\', u\\'Whoopi Goldberg\\', u\\'Oprah Winfrey\\']\"\\n',\n",
       " '7.8,South Park: Bigger Longer & Uncut,R,Animation,81,\"[u\\'Trey Parker\\', u\\'Matt Stone\\', u\\'Mary Kay Bergman\\']\"\\n',\n",
       " '7.8,(500) Days of Summer,PG-13,Comedy,95,\"[u\\'Zooey Deschanel\\', u\\'Joseph Gordon-Levitt\\', u\\'Geoffrey Arend\\']\"\\n',\n",
       " '7.8,Lost in Translation,R,Drama,101,\"[u\\'Bill Murray\\', u\\'Scarlett Johansson\\', u\\'Giovanni Ribisi\\']\"\\n',\n",
       " '7.8,Argo,R,Drama,120,\"[u\\'Ben Affleck\\', u\\'Bryan Cranston\\', u\\'John Goodman\\']\"\\n',\n",
       " '7.8,Blazing Saddles,R,Comedy,93,\"[u\\'Cleavon Little\\', u\\'Gene Wilder\\', u\\'Slim Pickens\\']\"\\n',\n",
       " '7.8,Breakfast at Tiffany\\'s,NOT RATED,Comedy,115,\"[u\\'Audrey Hepburn\\', u\\'George Peppard\\', u\\'Patricia Neal\\']\"\\n',\n",
       " '7.8,Finding Neverland,PG,Biography,106,\"[u\\'Johnny Depp\\', u\\'Kate Winslet\\', u\\'Julie Christie\\']\"\\n',\n",
       " '7.8,The Experiment,R,Drama,120,\"[u\\'Moritz Bleibtreu\\', u\\'Christian Berkel\\', u\\'Oliver Stokowski\\']\"\\n',\n",
       " '7.8,Lucky Number Slevin,R,Crime,110,\"[u\\'Josh Hartnett\\', u\\'Ben Kingsley\\', u\\'Morgan Freeman\\']\"\\n',\n",
       " '7.8,The Theory of Everything,PG-13,Biography,123,\"[u\\'Eddie Redmayne\\', u\\'Felicity Jones\\', u\\'Tom Prior\\']\"\\n',\n",
       " '7.8,Harry Potter and the Prisoner of Azkaban,PG,Adventure,142,\"[u\\'Daniel Radcliffe\\', u\\'Emma Watson\\', u\\'Rupert Grint\\']\"\\n',\n",
       " '7.8,Kung Fu Hustle,R,Action,99,\"[u\\'Stephen Chow\\', u\\'Wah Yuen\\', u\\'Qiu Yuen\\']\"\\n',\n",
       " '7.8,Being John Malkovich,R,Comedy,112,\"[u\\'John Cusack\\', u\\'Cameron Diaz\\', u\\'Catherine Keener\\']\"\\n',\n",
       " '7.8,The Social Network,PG-13,Biography,120,\"[u\\'Jesse Eisenberg\\', u\\'Andrew Garfield\\', u\\'Justin Timberlake\\']\"\\n',\n",
       " '7.8,3:10 to Yuma,R,Adventure,122,\"[u\\'Russell Crowe\\', u\\'Christian Bale\\', u\\'Ben Foster\\']\"\\n',\n",
       " '7.8,The Name of the Rose,R,Crime,130,\"[u\\'Sean Connery\\', u\\'Christian Slater\\', u\\'Helmut Qualtinger\\']\"\\n',\n",
       " '7.8,Mary Poppins,APPROVED,Comedy,139,\"[u\\'Julie Andrews\\', u\\'Dick Van Dyke\\', u\\'David Tomlinson\\']\"\\n',\n",
       " '7.8,The Game,R,Drama,129,\"[u\\'Michael Douglas\\', u\\'Deborah Kara Unger\\', u\\'Sean Penn\\']\"\\n',\n",
       " '7.8,Changeling,R,Drama,141,\"[u\\'Angelina Jolie\\', u\\'Colm Feore\\', u\\'Amy Ryan\\']\"\\n',\n",
       " '7.8,Donnie Brasco,R,Biography,127,\"[u\\'Al Pacino\\', u\\'Johnny Depp\\', u\\'Michael Madsen\\']\"\\n',\n",
       " '7.8,Serpico,R,Biography,130,\"[u\\'Al Pacino\\', u\\'John Randolph\\', u\\'Jack Kehoe\\']\"\\n',\n",
       " '7.8,What\\'s Eating Gilbert Grape,PG-13,Drama,118,\"[u\\'Johnny Depp\\', u\\'Leonardo DiCaprio\\', u\\'Juliette Lewis\\']\"\\n',\n",
       " '7.8,Goldfinger,APPROVED,Action,110,\"[u\\'Sean Connery\\', u\\'Gert Fr\\\\xf6be\\', u\\'Honor Blackman\\']\"\\n',\n",
       " '7.8,Nebraska,R,Adventure,115,\"[u\\'Bruce Dern\\', u\\'Will Forte\\', u\\'June Squibb\\']\"\\n',\n",
       " '7.8,The Sandlot,PG,Comedy,101,\"[u\\'Tom Guiry\\', u\\'Mike Vitar\\', u\\'Patrick Renna\\']\"\\n',\n",
       " '7.8,Boyz n the Hood,R,Crime,112,\"[u\\'Cuba Gooding Jr.\\', u\\'Laurence Fishburne\\', u\\'Hudhail Al-Amir\\']\"\\n',\n",
       " '7.8,The Bourne Supremacy,PG-13,Action,108,\"[u\\'Matt Damon\\', u\\'Franka Potente\\', u\\'Joan Allen\\']\"\\n',\n",
       " '7.8,Skyfall,PG-13,Action,143,\"[u\\'Daniel Craig\\', u\\'Javier Bardem\\', u\\'Naomie Harris\\']\"\\n',\n",
       " '7.8,Ray,PG-13,Biography,152,\"[u\\'Jamie Foxx\\', u\\'Regina King\\', u\\'Kerry Washington\\']\"\\n',\n",
       " '7.8,300,R,Action,117,\"[u\\'Gerard Butler\\', u\\'Lena Headey\\', u\\'David Wenham\\']\"\\n',\n",
       " '7.8,A Bronx Tale,R,Crime,121,\"[u\\'Robert De Niro\\', u\\'Chazz Palminteri\\', u\\'Lillo Brancato\\']\"\\n',\n",
       " '7.8,The Birds,PG-13,Horror,119,\"[u\\'Rod Taylor\\', u\\'Tippi Hedren\\', u\\'Suzanne Pleshette\\']\"\\n',\n",
       " '7.8,Battle Royale,NOT RATED,Action,114,\"[u\\'Tatsuya Fujiwara\\', u\\'Aki Maeda\\', u\\'Tar\\\\xf4 Yamamoto\\']\"\\n',\n",
       " '7.8,Control,R,Biography,122,\"[u\\'Sam Riley\\', u\\'Samantha Morton\\', u\\'Craig Parkinson\\']\"\\n',\n",
       " '7.8,Kramer vs. Kramer,APPROVED,Drama,105,\"[u\\'Dustin Hoffman\\', u\\'Meryl Streep\\', u\\'Jane Alexander\\']\"\\n',\n",
       " '7.8,Deliverance,R,Adventure,110,\"[u\\'Jon Voight\\', u\\'Burt Reynolds\\', u\\'Ned Beatty\\']\"\\n',\n",
       " '7.8,Ocean\\'s Eleven,PG-13,Crime,116,\"[u\\'George Clooney\\', u\\'Brad Pitt\\', u\\'Julia Roberts\\']\"\\n',\n",
       " '7.8,As Good as It Gets,PG-13,Comedy,139,\"[u\\'Jack Nicholson\\', u\\'Helen Hunt\\', u\\'Greg Kinnear\\']\"\\n',\n",
       " '7.8,Awakenings,PG-13,Biography,121,\"[u\\'Robert De Niro\\', u\\'Robin Williams\\', u\\'Julie Kavner\\']\"\\n',\n",
       " '7.8,The King of Comedy,PG,Comedy,109,\"[u\\'Robert De Niro\\', u\\'Jerry Lewis\\', u\\'Diahnne Abbott\\']\"\\n',\n",
       " '7.8,Man on Fire,R,Action,146,\"[u\\'Denzel Washington\\', u\\'Christopher Walken\\', u\\'Dakota Fanning\\']\"\\n',\n",
       " '7.8,Sabrina,UNRATED,Comedy,113,\"[u\\'Humphrey Bogart\\', u\\'Audrey Hepburn\\', u\\'William Holden\\']\"\\n',\n",
       " '7.8,Dark City,R,Mystery,100,\"[u\\'Rufus Sewell\\', u\\'Kiefer Sutherland\\', u\\'Jennifer Connelly\\']\"\\n',\n",
       " '7.8,Good Bye Lenin!,R,Comedy,121,\"[u\\'Daniel Br\\\\xfchl\\', u\\'Katrin Sa\\\\xdf\\', u\\'Chulpan Khamatova\\']\"\\n',\n",
       " '7.7,Remember the Titans,PG,Biography,113,\"[u\\'Denzel Washington\\', u\\'Will Patton\\', u\\'Wood Harris\\']\"\\n',\n",
       " '7.7,Star Trek II: The Wrath of Khan,PG,Action,113,\"[u\\'William Shatner\\', u\\'Leonard Nimoy\\', u\\'DeForest Kelley\\']\"\\n',\n",
       " '7.7,Road to Perdition,R,Crime,117,\"[u\\'Tom Hanks\\', u\\'Tyler Hoechlin\\', u\\'Rob Maxey\\']\"\\n',\n",
       " '7.7,Rushmore,R,Comedy,93,\"[u\\'Jason Schwartzman\\', u\\'Bill Murray\\', u\\'Olivia Williams\\']\"\\n',\n",
       " '7.7,The Machinist,R,Drama,101,\"[u\\'Christian Bale\\', u\\'Jennifer Jason Leigh\\', u\\'Aitana S\\\\xe1nchez-Gij\\\\xf3n\\']\"\\n',\n",
       " '7.7,Flipped,PG,Comedy,90,\"[u\\'Madeline Carroll\\', u\\'Callan McAuliffe\\', u\\'Rebecca De Mornay\\']\"\\n',\n",
       " '7.7,The Count of Monte Cristo,PG-13,Action,131,\"[u\\'Jim Caviezel\\', u\\'Guy Pearce\\', u\\'Richard Harris\\']\"\\n',\n",
       " '7.7,Detachment,NOT RATED,Drama,98,\"[u\\'Adrien Brody\\', u\\'Christina Hendricks\\', u\\'Marcia Gay Harden\\']\"\\n',\n",
       " '7.7,Love Me If You Dare,R,Comedy,93,\"[u\\'Guillaume Canet\\', u\\'Marion Cotillard\\', u\\'Thibault Verhaeghe\\']\"\\n',\n",
       " '7.7,Dead Man,R,Drama,121,\"[u\\'Johnny Depp\\', u\\'Gary Farmer\\', u\\'Crispin Glover\\']\"\\n',\n",
       " '7.7,The Purple Rose of Cairo,PG,Comedy,82,\"[u\\'Mia Farrow\\', u\\'Jeff Daniels\\', u\\'Danny Aiello\\']\"\\n',\n",
       " '7.7,21 Grams,R,Crime,124,\"[u\\'Sean Penn\\', u\\'Benicio Del Toro\\', u\\'Naomi Watts\\']\"\\n',\n",
       " '7.7,50/50,R,Comedy,100,\"[u\\'Joseph Gordon-Levitt\\', u\\'Seth Rogen\\', u\\'Anna Kendrick\\']\"\\n',\n",
       " '7.7,Kick-Ass,R,Action,117,\"[u\\'Aaron Taylor-Johnson\\', u\\'Nicolas Cage\\', u\\'Chlo\\\\xeb Grace Moretz\\']\"\\n',\n",
       " '7.7,Delicatessen,R,Comedy,99,\"[u\\'Marie-Laure Dougnac\\', u\\'Dominique Pinon\\', u\\'Pascal Benezech\\']\"\\n',\n",
       " '7.7,Barton Fink,R,Drama,116,\"[u\\'John Turturro\\', u\\'John Goodman\\', u\\'Judy Davis\\']\"\\n',\n",
       " '7.7,The Last King of Scotland,R,Biography,123,\"[u\\'James McAvoy\\', u\\'Forest Whitaker\\', u\\'Gillian Anderson\\']\"\\n',\n",
       " '7.7,Adaptation.,R,Comedy,114,\"[u\\'Nicolas Cage\\', u\\'Meryl Streep\\', u\\'Chris Cooper\\']\"\\n',\n",
       " '7.7,A Very Long Engagement,R,Drama,133,\"[u\\'Audrey Tautou\\', u\\'Gaspard Ulliel\\', u\\'Jodie Foster\\']\"\\n',\n",
       " '7.7,Mysterious Skin,NC-17,Drama,105,\"[u\\'Brady Corbet\\', u\\'Joseph Gordon-Levitt\\', u\\'Elisabeth Shue\\']\"\\n',\n",
       " '7.7,Stardust,PG-13,Adventure,127,\"[u\\'Charlie Cox\\', u\\'Claire Danes\\', u\\'Sienna Miller\\']\"\\n',\n",
       " '7.7,Black Hawk Down,R,Drama,144,\"[u\\'Josh Hartnett\\', u\\'Ewan McGregor\\', u\\'Tom Sizemore\\']\"\\n',\n",
       " '7.7,Paprika,R,Animation,90,\"[u\\'Megumi Hayashibara\\', u\\'T\\\\xf4ru Emori\\', u\\'Katsunosuke Hori\\']\"\\n',\n",
       " '7.7,Fear and Loathing in Las Vegas,R,Comedy,118,\"[u\\'Johnny Depp\\', u\\'Benicio Del Toro\\', u\\'Tobey Maguire\\']\"\\n',\n",
       " '7.7,Frost/Nixon,R,Drama,122,\"[u\\'Frank Langella\\', u\\'Michael Sheen\\', u\\'Kevin Bacon\\']\"\\n',\n",
       " '7.7,Enter the Dragon,R,Action,102,\"[u\\'Bruce Lee\\', u\\'John Saxon\\', u\\'Jim Kelly\\']\"\\n',\n",
       " '7.7,Short Cuts,R,Comedy,187,\"[u\\'Andie MacDowell\\', u\\'Julianne Moore\\', u\\'Tim Robbins\\']\"\\n',\n",
       " '7.7,A Hard Day\\'s Night,APPROVED,Comedy,87,\"[u\\'John Lennon\\', u\\'Paul McCartney\\', u\\'George Harrison\\']\"\\n',\n",
       " '7.7,The Last Samurai,R,Action,154,\"[u\\'Tom Cruise\\', u\\'Ken Watanabe\\', u\\'Billy Connolly\\']\"\\n',\n",
       " '7.7,The Station Agent,R,Comedy,89,\"[u\\'Peter Dinklage\\', u\\'Patricia Clarkson\\', u\\'Bobby Cannavale\\']\"\\n',\n",
       " '7.7,Zombieland,R,Comedy,88,\"[u\\'Jesse Eisenberg\\', u\\'Emma Stone\\', u\\'Woody Harrelson\\']\"\\n',\n",
       " '7.7,Sympathy for Mr. Vengeance,R,Crime,129,\"[u\\'Kang-ho Song\\', u\\'Ha-kyun Shin\\', u\\'Doona Bae\\']\"\\n',\n",
       " '7.7,Despicable Me,PG,Animation,95,\"[u\\'Steve Carell\\', u\\'Jason Segel\\', u\\'Russell Brand\\']\"\\n',\n",
       " '7.7,Shane,APPROVED,Drama,118,\"[u\\'Alan Ladd\\', u\\'Jean Arthur\\', u\\'Van Heflin\\']\"\\n',\n",
       " '7.7,Forbidden Planet,PASSED,Action,98,\"[u\\'Walter Pidgeon\\', u\\'Anne Francis\\', u\\'Leslie Nielsen\\']\"\\n',\n",
       " '7.7,Titanic,PG-13,Drama,194,\"[u\\'Leonardo DiCaprio\\', u\\'Kate Winslet\\', u\\'Billy Zane\\']\"\\n',\n",
       " '7.7,Gone Baby Gone,R,Crime,114,\"[u\\'Morgan Freeman\\', u\\'Ed Harris\\', u\\'Casey Affleck\\']\"\\n',\n",
       " '7.7,The Dinner Game,PG-13,Comedy,80,\"[u\\'Thierry Lhermitte\\', u\\'Jacques Villeret\\', u\\'Francis Huster\\']\"\\n',\n",
       " '7.7,Dawn of the Planet of the Apes,PG-13,Action,130,\"[u\\'Gary Oldman\\', u\\'Keri Russell\\', u\\'Andy Serkis\\']\"\\n',\n",
       " '7.7,25th Hour,R,Crime,135,\"[u\\'Edward Norton\\', u\\'Barry Pepper\\', u\\'Philip Seymour Hoffman\\']\"\\n',\n",
       " '7.7,Ponyo,G,Animation,101,\"[u\\'Cate Blanchett\\', u\\'Matt Damon\\', u\\'Liam Neeson\\']\"\\n',\n",
       " '7.7,Shine,PG-13,Biography,105,\"[u\\'Geoffrey Rush\\', u\\'Armin Mueller-Stahl\\', u\\'Justin Braine\\']\"\\n',\n",
       " '7.7,The Blind Side,PG-13,Biography,129,\"[u\\'Quinton Aaron\\', u\\'Sandra Bullock\\', u\\'Tim McGraw\\']\"\\n',\n",
       " '7.7,Brokeback Mountain,R,Drama,134,\"[u\\'Jake Gyllenhaal\\', u\\'Heath Ledger\\', u\\'Michelle Williams\\']\"\\n',\n",
       " '7.7,Cast Away,PG-13,Adventure,143,\"[u\\'Tom Hanks\\', u\\'Helen Hunt\\', u\\'Paul Sanchez\\']\"\\n',\n",
       " '7.7,Malcolm X,PG-13,Biography,202,\"[u\\'Denzel Washington\\', u\\'Angela Bassett\\', u\\'Delroy Lindo\\']\"\\n',\n",
       " '7.7,Show Me Love,UNRATED,Comedy,89,\"[u\\'Alexandra Dahlstr\\\\xf6m\\', u\\'Rebecka Liljeberg\\', u\\'Erica Carlson\\']\"\\n',\n",
       " '7.7,Boy A,R,Drama,106,\"[u\\'Andrew Garfield\\', u\\'Peter Mullan\\', u\\'Shaun Evans\\']\"\\n',\n",
       " '7.7,The Warriors,R,Action,92,\"[u\\'Michael Beck\\', u\\'James Remar\\', u\\'Dorsey Wright\\']\"\\n',\n",
       " '7.7,Close Encounters of the Third Kind,PG,Drama,137,\"[u\\'Richard Dreyfuss\\', u\\'Fran\\\\xe7ois Truffaut\\', u\\'Teri Garr\\']\"\\n',\n",
       " '7.7,Match Point,R,Drama,124,\"[u\\'Scarlett Johansson\\', u\\'Jonathan Rhys Meyers\\', u\\'Emily Mortimer\\']\"\\n',\n",
       " '7.7,Training Day,R,Crime,122,\"[u\\'Denzel Washington\\', u\\'Ethan Hawke\\', u\\'Scott Glenn\\']\"\\n',\n",
       " '7.7,The Butterfly Effect,R,Sci-Fi,113,\"[u\\'Ashton Kutcher\\', u\\'Amy Smart\\', u\\'Melora Walters\\']\"\\n',\n",
       " '7.7,The City of Lost Children,R,Fantasy,112,\"[u\\'Ron Perlman\\', u\\'Daniel Emilfork\\', u\\'Judith Vittet\\']\"\\n',\n",
       " '7.7,Billy Elliot,PG-13,Comedy,110,\"[u\\'Jamie Bell\\', u\\'Julie Walters\\', u\\'Jean Heywood\\']\"\\n',\n",
       " '7.7,Love Actually,R,Comedy,135,\"[u\\'Hugh Grant\\', u\\'Martine McCutcheon\\', u\\'Liam Neeson\\']\"\\n',\n",
       " '7.7,The Producers,PG,Comedy,88,\"[u\\'Zero Mostel\\', u\\'Gene Wilder\\', u\\'Dick Shawn\\']\"\\n',\n",
       " '7.7,Harry Potter and the Deathly Hallows: Part 1,PG-13,Adventure,146,\"[u\\'Daniel Radcliffe\\', u\\'Emma Watson\\', u\\'Rupert Grint\\']\"\\n',\n",
       " '7.7,The Visitor,PG-13,Drama,104,\"[u\\'Richard Jenkins\\', u\\'Haaz Sleiman\\', u\\'Danai Gurira\\']\"\\n',\n",
       " '7.7,Philadelphia,PG-13,Drama,125,\"[u\\'Tom Hanks\\', u\\'Denzel Washington\\', u\\'Roberta Maxwell\\']\"\\n',\n",
       " '7.7,Sense and Sensibility,PG,Drama,131,\"[u\\'Emma Thompson\\', u\\'Kate Winslet\\', u\\'James Fleet\\']\"\\n',\n",
       " '7.7,Three Colors: White,R,Comedy,91,\"[u\\'Zbigniew Zamachowski\\', u\\'Julie Delpy\\', u\\'Janusz Gajos\\']\"\\n',\n",
       " '7.7,La grande bellezza,NOT RATED,Drama,142,\"[u\\'Toni Servillo\\', u\\'Carlo Verdone\\', u\\'Sabrina Ferilli\\']\"\\n',\n",
       " '7.7,Primal Fear,R,Crime,129,\"[u\\'Richard Gere\\', u\\'Laura Linney\\', u\\'Edward Norton\\']\"\\n',\n",
       " '7.7,Where Eagles Dare,,Action,158,\"[u\\'Richard Burton\\', u\\'Clint Eastwood\\', u\\'Mary Ure\\']\"\\n',\n",
       " '7.7,Dazed and Confused,R,Comedy,102,\"[u\\'Jason London\\', u\\'Wiley Wiggins\\', u\\'Matthew McConaughey\\']\"\\n',\n",
       " '7.7,Blood Simple.,R,Crime,99,\"[u\\'John Getz\\', u\\'Frances McDormand\\', u\\'Dan Hedaya\\']\"\\n',\n",
       " '7.7,This Is England,UNRATED,Crime,101,\"[u\\'Thomas Turgoose\\', u\\'Stephen Graham\\', u\\'Jo Hartley\\']\"\\n',\n",
       " '7.7,Fearless,PG-13,Action,104,\"[u\\'Jet Li\\', u\\'Li Sun\\', u\\'Yong Dong\\']\"\\n',\n",
       " '7.7,Dangerous Liaisons,R,Drama,119,\"[u\\'Glenn Close\\', u\\'John Malkovich\\', u\\'Michelle Pfeiffer\\']\"\\n',\n",
       " '7.7,Saw,R,Horror,103,\"[u\\'Cary Elwes\\', u\\'Leigh Whannell\\', u\\'Danny Glover\\']\"\\n',\n",
       " '7.7,Snow White and the Seven Dwarfs,APPROVED,Animation,88,\"[u\\'Adriana Caselotti\\', u\\'Harry Stockwell\\', u\\'Lucille La Verne\\']\"\\n',\n",
       " '7.7,Coraline,PG,Animation,100,\"[u\\'Dakota Fanning\\', u\\'Teri Hatcher\\', u\\'John Hodgman\\']\"\\n',\n",
       " '7.7,The Hunger Games: Catching Fire,PG-13,Adventure,146,\"[u\\'Jennifer Lawrence\\', u\\'Josh Hutcherson\\', u\\'Liam Hemsworth\\']\"\\n',\n",
       " '7.7,Sophie\\'s Choice,R,Drama,150,\"[u\\'Meryl Streep\\', u\\'Kevin Kline\\', u\\'Peter MacNicol\\']\"\\n',\n",
       " '7.7,La Vie en Rose,PG-13,Biography,140,\"[u\\'Marion Cotillard\\', u\\'Sylvie Testud\\', u\\'Pascal Greggory\\']\"\\n',\n",
       " '7.7,Star Wars: Episode III - Revenge of the Sith,PG-13,Action,140,\"[u\\'Hayden Christensen\\', u\\'Natalie Portman\\', u\\'Ewan McGregor\\']\"\\n',\n",
       " '7.7,True Grit,PG-13,Adventure,110,\"[u\\'Jeff Bridges\\', u\\'Matt Damon\\', u\\'Hailee Steinfeld\\']\"\\n',\n",
       " '7.7,After Hours,R,Comedy,97,\"[u\\'Griffin Dunne\\', u\\'Rosanna Arquette\\', u\\'Verna Bloom\\']\"\\n',\n",
       " '7.7,Frozen,PG,Animation,102,\"[u\\'Kristen Bell\\', u\\'Idina Menzel\\', u\\'Jonathan Groff\\']\"\\n',\n",
       " '7.7,Lolita,NOT RATED,Drama,152,\"[u\\'James Mason\\', u\\'Shelley Winters\\', u\\'Sue Lyon\\']\"\\n',\n",
       " '7.7,Eastern Promises,R,Crime,100,\"[u\\'Naomi Watts\\', u\\'Viggo Mortensen\\', u\\'Armin Mueller-Stahl\\']\"\\n',\n",
       " '7.7,Midnight in Paris,PG-13,Comedy,94,\"[u\\'Owen Wilson\\', u\\'Rachel McAdams\\', u\\'Kathy Bates\\']\"\\n',\n",
       " '7.7,The Muppet Christmas Carol,G,Comedy,85,\"[u\\'Michael Caine\\', u\\'Dave Goelz\\', u\\'Steve Whitmire\\']\"\\n',\n",
       " '7.7,Who Framed Roger Rabbit,PG,Animation,104,\"[u\\'Bob Hoskins\\', u\\'Christopher Lloyd\\', u\\'Joanna Cassidy\\']\"\\n',\n",
       " '7.7,Sympathy for Lady Vengeance,R,Crime,112,\"[u\\'Yeong-ae Lee\\', u\\'Min-sik Choi\\', u\\'Shi-hoo Kim\\']\"\\n',\n",
       " '7.7,Grindhouse,R,Action,191,\"[u\\'Kurt Russell\\', u\\'Rose McGowan\\', u\\'Danny Trejo\\']\"\\n',\n",
       " '7.7,In a Better World,R,Drama,119,\"[u\\'Mikael Persbrandt\\', u\\'Trine Dyrholm\\', u\\'Markus Rygaard\\']\"\\n',\n",
       " '7.7,Blow-Up,NOT RATED,Drama,111,\"[u\\'David Hemmings\\', u\\'Vanessa Redgrave\\', u\\'Sarah Miles\\']\"\\n',\n",
       " '7.7,The Secret World of Arrietty,G,Animation,94,\"[u\\'Bridgit Mendler\\', u\\'Amy Poehler\\', u\\'Will Arnett\\']\"\\n',\n",
       " '7.7,Kiss Kiss Bang Bang,R,Action,103,\"[u\\'Robert Downey Jr.\\', u\\'Val Kilmer\\', u\\'Michelle Monaghan\\']\"\\n',\n",
       " '7.7,Lost Highway,R,Drama,134,\"[u\\'Bill Pullman\\', u\\'Patricia Arquette\\', u\\'John Roselius\\']\"\\n',\n",
       " '7.7,Zodiac,R,Crime,157,\"[u\\'Jake Gyllenhaal\\', u\\'Robert Downey Jr.\\', u\\'Mark Ruffalo\\']\"\\n',\n",
       " '7.7,Les Miserables,PG-13,Drama,158,\"[u\\'Hugh Jackman\\', u\\'Russell Crowe\\', u\\'Anne Hathaway\\']\"\\n',\n",
       " '7.7,Moulin Rouge!,PG-13,Drama,127,\"[u\\'Nicole Kidman\\', u\\'Ewan McGregor\\', u\\'John Leguizamo\\']\"\\n',\n",
       " '7.7,Whale Rider,PG-13,Drama,101,\"[u\\'Keisha Castle-Hughes\\', u\\'Rawiri Paratene\\', u\\'Vicky Haughton\\']\"\\n',\n",
       " '7.7,End of Watch,R,Crime,109,\"[u\\'Jake Gyllenhaal\\', u\\'Michael Pe\\\\xf1a\\', u\\'Anna Kendrick\\']\"\\n',\n",
       " '7.7,Philomena,PG-13,Biography,98,\"[u\\'Judi Dench\\', u\\'Steve Coogan\\', u\\'Sophie Kennedy Clark\\']\"\\n',\n",
       " '7.7,Fury,R,Action,134,\"[u\\'Brad Pitt\\', u\\'Shia LaBeouf\\', u\\'Logan Lerman\\']\"\\n',\n",
       " '7.7,The Big Blue,PG-13,Action,168,\"[u\\'Jean-Marc Barr\\', u\\'Jean Reno\\', u\\'Rosanna Arquette\\']\"\\n',\n",
       " '7.7,First Blood,R,Action,93,\"[u\\'Sylvester Stallone\\', u\\'Brian Dennehy\\', u\\'Richard Crenna\\']\"\\n',\n",
       " '7.7,Minority Report,PG-13,Action,145,\"[u\\'Tom Cruise\\', u\\'Colin Farrell\\', u\\'Samantha Morton\\']\"\\n',\n",
       " '7.7,Spellbound,UNRATED,Film-Noir,111,\"[u\\'Ingrid Bergman\\', u\\'Gregory Peck\\', u\\'Michael Chekhov\\']\"\\n',\n",
       " '7.7,The Wicker Man,R,Horror,88,\"[u\\'Edward Woodward\\', u\\'Christopher Lee\\', u\\'Diane Cilento\\']\"\\n',\n",
       " '7.7,Seven Pounds,PG-13,Drama,123,\"[u\\'Will Smith\\', u\\'Rosario Dawson\\', u\\'Woody Harrelson\\']\"\\n',\n",
       " '7.7,Midnight Express,R,Biography,121,\"[u\\'Brad Davis\\', u\\'Irene Miracle\\', u\\'Bo Hopkins\\']\"\\n',\n",
       " '7.7,Kelly\\'s Heroes,GP,Action,144,\"[u\\'Clint Eastwood\\', u\\'Telly Savalas\\', u\\'Don Rickles\\']\"\\n',\n",
       " '7.7,MASH,R,Comedy,116,\"[u\\'Donald Sutherland\\', u\\'Elliott Gould\\', u\\'Tom Skerritt\\']\"\\n',\n",
       " '7.7,The Player,R,Comedy,124,\"[u\\'Tim Robbins\\', u\\'Greta Scacchi\\', u\\'Fred Ward\\']\"\\n',\n",
       " '7.7,Traffic,R,Crime,147,\"[u\\'Michael Douglas\\', u\\'Benicio Del Toro\\', u\\'Catherine Zeta-Jones\\']\"\\n',\n",
       " '7.7,Y Tu Mama Tambien,R,Drama,106,\"[u\\'Maribel Verd\\\\xfa\\', u\\'Gael Garc\\\\xeda Bernal\\', u\\'Daniel Gim\\\\xe9nez Cacho\\']\"\\n',\n",
       " '7.7,Stranger Than Fiction,PG-13,Comedy,113,\"[u\\'Will Ferrell\\', u\\'Emma Thompson\\', u\\'Dustin Hoffman\\']\"\\n',\n",
       " '7.7,Inside Man,R,Crime,129,\"[u\\'Denzel Washington\\', u\\'Clive Owen\\', u\\'Jodie Foster\\']\"\\n',\n",
       " '7.6,127 Hours,R,Adventure,94,\"[u\\'James Franco\\', u\\'Amber Tamblyn\\', u\\'Kate Mara\\']\"\\n',\n",
       " '7.6,The Fifth Element,PG-13,Action,126,\"[u\\'Bruce Willis\\', u\\'Milla Jovovich\\', u\\'Gary Oldman\\']\"\\n',\n",
       " '7.6,Milk,R,Biography,128,\"[u\\'Sean Penn\\', u\\'Josh Brolin\\', u\\'Emile Hirsch\\']\"\\n',\n",
       " '7.6,United 93,R,Action,111,\"[u\\'David Alan Basche\\', u\\'Olivia Thirlby\\', u\\'Liza Col\\\\xf3n-Zayas\\']\"\\n',\n",
       " '7.6,Jin ling shi san chai,R,Drama,146,\"[u\\'Christian Bale\\', u\\'Ni Ni\\', u\\'Xinyi Zhang\\']\"\\n',\n",
       " '7.6,Dracula,APPROVED,Horror,85,\"[u\\'Bela Lugosi\\', u\\'Helen Chandler\\', u\\'David Manners\\']\"\\n',\n",
       " '7.6,High Plains Drifter,R,Western,105,\"[u\\'Clint Eastwood\\', u\\'Verna Bloom\\', u\\'Marianna Hill\\']\"\\n',\n",
       " '7.6,I Am Sam,PG-13,Drama,132,\"[u\\'Sean Penn\\', u\\'Michelle Pfeiffer\\', u\\'Dakota Fanning\\']\"\\n',\n",
       " '7.6,Fried Green Tomatoes,PG-13,Drama,130,\"[u\\'Kathy Bates\\', u\\'Jessica Tandy\\', u\\'Mary Stuart Masterson\\']\"\\n',\n",
       " '7.6,Watchmen,R,Action,162,\"[u\\'Jackie Earle Haley\\', u\\'Patrick Wilson\\', u\\'Carla Gugino\\']\"\\n',\n",
       " '7.6,28 Days Later...,R,Horror,113,\"[u\\'Cillian Murphy\\', u\\'Naomie Harris\\', u\\'Christopher Eccleston\\']\"\\n',\n",
       " '7.6,The Illusionist,PG-13,Drama,110,\"[u\\'Edward Norton\\', u\\'Jessica Biel\\', u\\'Paul Giamatti\\']\"\\n',\n",
       " '7.6,Superbad,R,Comedy,113,\"[u\\'Michael Cera\\', u\\'Jonah Hill\\', u\\'Christopher Mintz-Plasse\\']\"\\n',\n",
       " '7.6,The Godfather: Part III,R,Crime,162,\"[u\\'Al Pacino\\', u\\'Diane Keaton\\', u\\'Andy Garcia\\']\"\\n',\n",
       " '7.6,The Royal Tenenbaums,R,Comedy,110,\"[u\\'Gene Hackman\\', u\\'Gwyneth Paltrow\\', u\\'Anjelica Huston\\']\"\\n',\n",
       " '7.6,The Jungle Book,APPROVED,Animation,78,\"[u\\'Phil Harris\\', u\\'Sebastian Cabot\\', u\\'Louis Prima\\']\"\\n',\n",
       " '7.6,Thank You for Smoking,R,Comedy,92,\"[u\\'Aaron Eckhart\\', u\\'Cameron Bright\\', u\\'Maria Bello\\']\"\\n',\n",
       " '7.6,Man Bites Dog,NC-17,Comedy,95,\"[u\\'Beno\\\\xeet Poelvoorde\\', u\\'Jacqueline Poelvoorde-Pappaert\\', u\\'Nelly Pappaert\\']\"\\n',\n",
       " '7.6,A Few Good Men,R,Drama,138,\"[u\\'Tom Cruise\\', u\\'Jack Nicholson\\', u\\'Demi Moore\\']\"\\n',\n",
       " '7.6,The Legend of Drunken Master,R,Action,102,\"[u\\'Jackie Chan\\', u\\'Ho-Sung Pak\\', u\\'Lung Ti\\']\"\\n',\n",
       " '7.6,The Kite Runner,PG-13,Drama,128,\"[u\\'Khalid Abdalla\\', u\\'Ahmad Khan Mahmoodzada\\', u\\'Atossa Leoni\\']\"\\n',\n",
       " '7.6,When Harry Met Sally...,R,Comedy,96,\"[u\\'Billy Crystal\\', u\\'Meg Ryan\\', u\\'Carrie Fisher\\']\"\\n',\n",
       " '7.6,Munich,R,Drama,164,\"[u\\'Eric Bana\\', u\\'Daniel Craig\\', u\\'Marie-Jos\\\\xe9e Croze\\']\"\\n',\n",
       " '7.6,House of Sand and Fog,R,Drama,126,\"[u\\'Jennifer Connelly\\', u\\'Ben Kingsley\\', u\\'Ron Eldard\\']\"\\n',\n",
       " '7.6,Lethal Weapon,R,Action,110,\"[u\\'Mel Gibson\\', u\\'Danny Glover\\', u\\'Gary Busey\\']\"\\n',\n",
       " '7.6,Animal House,R,Comedy,109,\"[u\\'John Belushi\\', u\\'Karen Allen\\', u\\'Tom Hulce\\']\"\\n',\n",
       " '7.6,Lord of War,R,Crime,122,\"[u\\'Nicolas Cage\\', u\\'Ethan Hawke\\', u\\'Jared Leto\\']\"\\n',\n",
       " '7.6,Blow,R,Biography,124,\"[u\\'Johnny Depp\\', u\\'Pen\\\\xe9lope Cruz\\', u\\'Franka Potente\\']\"\\n',\n",
       " '7.6,Sherlock Holmes,PG-13,Action,128,\"[u\\'Robert Downey Jr.\\', u\\'Jude Law\\', u\\'Rachel McAdams\\']\"\\n',\n",
       " '7.6,Harry Potter and the Goblet of Fire,PG-13,Adventure,157,\"[u\\'Daniel Radcliffe\\', u\\'Emma Watson\\', u\\'Rupert Grint\\']\"\\n',\n",
       " '7.6,La piel que habito,R,Thriller,120,\"[u\\'Antonio Banderas\\', u\\'Elena Anaya\\', u\\'Jan Cornet\\']\"\\n',\n",
       " '7.6,The Crow,R,Action,102,\"[u\\'Brandon Lee\\', u\\'Michael Wincott\\', u\\'Rochelle Davis\\']\"\\n',\n",
       " '7.6,West Side Story,UNRATED,Crime,152,\"[u\\'Natalie Wood\\', u\\'George Chakiris\\', u\\'Richard Beymer\\']\"\\n',\n",
       " '7.6,The Thin Red Line,R,Drama,170,\"[u\\'Jim Caviezel\\', u\\'Sean Penn\\', u\\'Nick Nolte\\']\"\\n',\n",
       " '7.6,American Psycho,R,Crime,102,\"[u\\'Christian Bale\\', u\\'Justin Theroux\\', u\\'Josh Lucas\\']\"\\n',\n",
       " '7.6,The Blind Swordsman: Zatoichi,R,Action,116,\"[u\\'Takeshi Kitano\\', u\\'Tadanobu Asano\\', u\\'Yui Natsukawa\\']\"\\n',\n",
       " '7.6,The Last Temptation of Christ,R,Drama,164,\"[u\\'Willem Dafoe\\', u\\'Harvey Keitel\\', u\\'Barbara Hershey\\']\"\\n',\n",
       " '7.6,The Naked Gun: From the Files of Police Squad!,PG-13,Comedy,85,\"[u\\'Leslie Nielsen\\', u\\'Priscilla Presley\\', u\\'O.J. Simpson\\']\"\\n',\n",
       " '7.6,The Others,PG-13,Horror,104,\"[u\\'Nicole Kidman\\', u\\'Christopher Eccleston\\', u\\'Fionnula Flanagan\\']\"\\n',\n",
       " '7.6,The Party,PG,Comedy,99,\"[u\\'Peter Sellers\\', u\\'Claudine Longet\\', u\\'Natalia Borisova\\']\"\\n',\n",
       " '7.6,Army of Darkness,R,Comedy,81,\"[u\\'Bruce Campbell\\', u\\'Embeth Davidtz\\', u\\'Marcus Gilbert\\']\"\\n',\n",
       " '7.6,The Hurt Locker,R,Drama,131,\"[u\\'Jeremy Renner\\', u\\'Anthony Mackie\\', u\\'Brian Geraghty\\']\"\\n',\n",
       " '7.6,The Raid: Redemption,R,Action,101,\"[u\\'Iko Uwais\\', u\\'Ananda George\\', u\\'Ray Sahetapy\\']\"\\n',\n",
       " '7.6,Volver,R,Comedy,121,\"[u\\'Pen\\\\xe9lope Cruz\\', u\\'Carmen Maura\\', u\\'Lola Due\\\\xf1as\\']\"\\n',\n",
       " '7.6,Following,R,Mystery,69,\"[u\\'Jeremy Theobald\\', u\\'Alex Haw\\', u\\'Lucy Russell\\']\"\\n',\n",
       " '7.6,Kung Fu Panda,PG,Animation,92,\"[u\\'Jack Black\\', u\\'Ian McShane\\', u\\'Angelina Jolie\\']\"\\n',\n",
       " '7.6,Mad Max 2: The Road Warrior,R,Action,94,\"[u\\'Mel Gibson\\', u\\'Bruce Spence\\', u\\'Michael Preston\\']\"\\n',\n",
       " '7.6,Jusan-nin no shikaku,R,Action,141,\"[u\\'K\\\\xf4ji Yakusho\\', u\\'Takayuki Yamada\\', u\\'Y\\\\xfbsuke Iseya\\']\"\\n',\n",
       " '7.6,The Man Who Wasn\\'t There,R,Crime,116,\"[u\\'Billy Bob Thornton\\', u\\'Frances McDormand\\', u\\'Michael Badalucco\\']\"\\n',\n",
       " '7.6,The Counterfeiters,R,Crime,98,\"[u\\'Karl Markovics\\', u\\'August Diehl\\', u\\'Devid Striesow\\']\"\\n',\n",
       " '7.6,The Hunt for Red October,PG,Action,135,\"[u\\'Sean Connery\\', u\\'Alec Baldwin\\', u\\'Scott Glenn\\']\"\\n',\n",
       " '7.6,Lone Survivor,R,Action,121,\"[u\\'Mark Wahlberg\\', u\\'Taylor Kitsch\\', u\\'Emile Hirsch\\']\"\\n',\n",
       " '7.6,A Fish Called Wanda,R,Comedy,108,\"[u\\'John Cleese\\', u\\'Jamie Lee Curtis\\', u\\'Kevin Kline\\']\"\\n',\n",
       " '7.6,The Impossible,PG-13,Drama,114,\"[u\\'Naomi Watts\\', u\\'Ewan McGregor\\', u\\'Tom Holland\\']\"\\n',\n",
       " '7.6,Garden State,R,Comedy,102,\"[u\\'Zach Braff\\', u\\'Peter Sarsgaard\\', u\\'Natalie Portman\\']\"\\n',\n",
       " '7.6,Escape from Alcatraz,PG,Action,112,\"[u\\'Clint Eastwood\\', u\\'Patrick McGoohan\\', u\\'Roberts Blossom\\']\"\\n',\n",
       " '7.6,Apollo 13,PG,Adventure,140,\"[u\\'Tom Hanks\\', u\\'Bill Paxton\\', u\\'Kevin Bacon\\']\"\\n',\n",
       " '7.6,\"Lust, Caution\",NC-17,Drama,157,\"[u\\'Tony Chiu Wai Leung\\', u\\'Wei Tang\\', u\\'Joan Chen\\']\"\\n',\n",
       " '7.6,Selma,PG-13,Biography,128,\"[u\\'David Oyelowo\\', u\\'Carmen Ejogo\\', u\\'Tim Roth\\']\"\\n',\n",
       " '7.6,Funny Games,UNRATED,Crime,108,\"[u\\'Susanne Lothar\\', u\\'Ulrich M\\\\xfche\\', u\\'Arno Frisch\\']\"\\n',\n",
       " '7.6,The Abyss,PG-13,Adventure,139,\"[u\\'Ed Harris\\', u\\'Mary Elizabeth Mastrantonio\\', u\\'Michael Biehn\\']\"\\n',\n",
       " '7.6,Robin Hood,G,Animation,83,\"[u\\'Brian Bedford\\', u\\'Phil Harris\\', u\\'Roger Miller\\']\"\\n',\n",
       " '7.6,Enemy at the Gates,R,Drama,131,\"[u\\'Jude Law\\', u\\'Ed Harris\\', u\\'Joseph Fiennes\\']\"\\n',\n",
       " '7.6,Falling Down,R,Crime,113,\"[u\\'Michael Douglas\\', u\\'Robert Duvall\\', u\\'Barbara Hershey\\']\"\\n',\n",
       " '7.6,Little Children,R,Drama,136,\"[u\\'Kate Winslet\\', u\\'Jennifer Connelly\\', u\\'Patrick Wilson\\']\"\\n',\n",
       " '7.6,Hunger,NOT RATED,Biography,96,\"[u\\'Stuart Graham\\', u\\'Laine Megaw\\', u\\'Brian Milligan\\']\"\\n',\n",
       " '7.6,Indiana Jones and the Temple of Doom,PG,Action,118,\"[u\\'Harrison Ford\\', u\\'Kate Capshaw\\', u\\'Jonathan Ke Quan\\']\"\\n',\n",
       " '7.6,Ip Man 2,R,Action,108,\"[u\\'Donnie Yen\\', u\\'Xiaoming Huang\\', u\\'Sammo Kam-Bo Hung\\']\"\\n',\n",
       " '7.6,The Little Mermaid,G,Animation,83,\"[u\\'Jodi Benson\\', u\\'Samuel E. Wright\\', u\\'Rene Auberjonois\\']\"\\n',\n",
       " '7.6,\"It\\'s a Mad, Mad, Mad, Mad World\",APPROVED,Action,205,\"[u\\'Spencer Tracy\\', u\\'Milton Berle\\', u\\'Ethel Merman\\']\"\\n',\n",
       " '7.6,The Reader,R,Drama,124,\"[u\\'Kate Winslet\\', u\\'Ralph Fiennes\\', u\\'Bruno Ganz\\']\"\\n',\n",
       " '7.6,The Omen,R,Horror,111,\"[u\\'Gregory Peck\\', u\\'Lee Remick\\', u\\'Harvey Stephens\\']\"\\n',\n",
       " '7.6,A Royal Affair,R,Drama,137,\"[u\\'Alicia Vikander\\', u\\'Mads Mikkelsen\\', u\\'Mikkel Boe F\\\\xf8lsgaard\\']\"\\n',\n",
       " '7.6,Braindead,R,Comedy,104,\"[u\\'Timothy Balme\\', u\\'Diana Pe\\\\xf1alver\\', u\\'Elizabeth Moody\\']\"\\n',\n",
       " '7.6,Secondhand Lions,PG,Comedy,109,\"[u\\'Haley Joel Osment\\', u\\'Michael Caine\\', u\\'Robert Duvall\\']\"\\n',\n",
       " '7.6,Disconnect,R,Drama,115,\"[u\\'Jason Bateman\\', u\\'Jonah Bobo\\', u\\'Haley Ramm\\']\"\\n',\n",
       " '7.6,A Single Man,R,Drama,99,\"[u\\'Colin Firth\\', u\\'Julianne Moore\\', u\\'Matthew Goode\\']\"\\n',\n",
       " '7.6,Hoosiers,PG,Drama,114,\"[u\\'Gene Hackman\\', u\\'Barbara Hershey\\', u\\'Dennis Hopper\\']\"\\n',\n",
       " '7.6,Moneyball,PG-13,Biography,133,\"[u\\'Brad Pitt\\', u\\'Robin Wright\\', u\\'Jonah Hill\\']\"\\n',\n",
       " '7.6,The Book Thief,PG-13,Drama,131,\"[u\\'Sophie N\\\\xe9lisse\\', u\\'Geoffrey Rush\\', u\\'Emily Watson\\']\"\\n',\n",
       " '7.6,Die Hard: With a Vengeance,R,Action,131,\"[u\\'Bruce Willis\\', u\\'Jeremy Irons\\', u\\'Samuel L. Jackson\\']\"\\n',\n",
       " '7.6,Interview with the Vampire: The Vampire Chronicles,R,Horror,123,\"[u\\'Brad Pitt\\', u\\'Tom Cruise\\', u\\'Antonio Banderas\\']\"\\n',\n",
       " '7.6,Midnight Run,R,Action,126,\"[u\\'Robert De Niro\\', u\\'Charles Grodin\\', u\\'Yaphet Kotto\\']\"\\n',\n",
       " '7.6,An American Werewolf in London,R,Comedy,97,\"[u\\'David Naughton\\', u\\'Jenny Agutter\\', u\\'Joe Belcher\\']\"\\n',\n",
       " '7.6,The Great Debaters,PG-13,Biography,126,\"[u\\'Denzel Washington\\', u\\'Forest Whitaker\\', u\\'Kimberly Elise\\']\"\\n',\n",
       " '7.6,Tucker and Dale vs. Evil,R,Comedy,89,\"[u\\'Tyler Labine\\', u\\'Alan Tudyk\\', u\\'Katrina Bowden\\']\"\\n',\n",
       " '7.6,Dead Man Walking,R,Crime,122,\"[u\\'Susan Sarandon\\', u\\'Sean Penn\\', u\\'Robert Prosky\\']\"\\n',\n",
       " '7.6,The Piano,R,Drama,121,\"[u\\'Holly Hunter\\', u\\'Harvey Keitel\\', u\\'Sam Neill\\']\"\\n',\n",
       " '7.6,The Town,R,Crime,125,\"[u\\'Ben Affleck\\', u\\'Rebecca Hall\\', u\\'Jon Hamm\\']\"\\n',\n",
       " '7.6,Rise of the Planet of the Apes,PG-13,Action,105,\"[u\\'James Franco\\', u\\'Andy Serkis\\', u\\'Freida Pinto\\']\"\\n',\n",
       " '7.6,Boys Don\\'t Cry,R,Biography,118,\"[u\\'Hilary Swank\\', u\\'Chlo\\\\xeb Sevigny\\', u\\'Peter Sarsgaard\\']\"\\n',\n",
       " '7.6,Ice Age,PG,Animation,81,\"[u\\'Denis Leary\\', u\\'John Leguizamo\\', u\\'Ray Romano\\']\"\\n',\n",
       " '7.6,Of Mice and Men,PG-13,Drama,115,\"[u\\'John Malkovich\\', u\\'Gary Sinise\\', u\\'Ray Walston\\']\"\\n',\n",
       " '7.6,Sideways,R,Comedy,126,\"[u\\'Paul Giamatti\\', u\\'Thomas Haden Church\\', u\\'Virginia Madsen\\']\"\\n',\n",
       " '7.6,High Fidelity,R,Comedy,113,\"[u\\'John Cusack\\', u\\'Iben Hjejle\\', u\\'Todd Louiso\\']\"\\n',\n",
       " '7.6,The Meaning of Life,R,Comedy,107,\"[u\\'John Cleese\\', u\\'Terry Gilliam\\', u\\'Eric Idle\\']\"\\n',\n",
       " '7.6,Hugo,PG,Adventure,126,\"[u\\'Asa Butterfield\\', u\\'Chlo\\\\xeb Grace Moretz\\', u\\'Christopher Lee\\']\"\\n',\n",
       " '7.6,Leaving Las Vegas,R,Drama,111,\"[u\\'Nicolas Cage\\', u\\'Elisabeth Shue\\', u\\'Julian Sands\\']\"\\n',\n",
       " '7.6,The Evil Dead,NC-17,Horror,85,\"[u\\'Bruce Campbell\\', u\\'Ellen Sandweiss\\', u\\'Richard DeManincor\\']\"\\n',\n",
       " '7.6,Collateral,R,Crime,120,\"[u\\'Tom Cruise\\', u\\'Jamie Foxx\\', u\\'Jada Pinkett Smith\\']\"\\n',\n",
       " '7.6,\"Planes, Trains & Automobiles\",R,Comedy,93,\"[u\\'Steve Martin\\', u\\'John Candy\\', u\\'Laila Robins\\']\"\\n',\n",
       " '7.6,Hodejegerne,R,Crime,100,\"[u\\'Aksel Hennie\\', u\\'Synn\\\\xf8ve Macody Lund\\', u\\'Nikolaj Coster-Waldau\\']\"\\n',\n",
       " '7.6,Field of Dreams,PG,Drama,107,\"[u\\'Kevin Costner\\', u\\'James Earl Jones\\', u\\'Ray Liotta\\']\"\\n',\n",
       " '7.6,Batman,PG-13,Action,126,\"[u\\'Michael Keaton\\', u\\'Jack Nicholson\\', u\\'Kim Basinger\\']\"\\n',\n",
       " '7.6,Tell No One,UNRATED,Crime,131,\"[u\\'Fran\\\\xe7ois Cluzet\\', u\\'Marie-Jos\\\\xe9e Croze\\', u\\'Andr\\\\xe9 Dussollier\\']\"\\n',\n",
       " '7.6,Ghost Dog: The Way of the Samurai,R,Action,116,\"[u\\'Forest Whitaker\\', u\\'Henry Silva\\', u\\'John Tormey\\']\"\\n',\n",
       " '7.6,Chaplin,PG-13,Biography,143,\"[u\\'Robert Downey Jr.\\', u\\'Geraldine Chaplin\\', u\\'Paul Rhys\\']\"\\n',\n",
       " '7.6,Keith,PG-13,Drama,93,\"[u\\'Elisabeth Harnois\\', u\\'Jesse McCartney\\', u\\'Margo Harshman\\']\"\\n',\n",
       " '7.6,Juno,PG-13,Comedy,96,\"[u\\'Ellen Page\\', u\\'Michael Cera\\', u\\'Jennifer Garner\\']\"\\n',\n",
       " '7.6,The Assassination of Jesse James by the Coward Robert Ford,R,Biography,160,\"[u\\'Brad Pitt\\', u\\'Casey Affleck\\', u\\'Sam Shepard\\']\"\\n',\n",
       " '7.6,The Fisher King,R,Comedy,137,\"[u\\'Jeff Bridges\\', u\\'Robin Williams\\', u\\'Adam Bryant\\']\"\\n',\n",
       " '7.6,House of Flying Daggers,PG-13,Action,119,\"[u\\'Ziyi Zhang\\', u\\'Takeshi Kaneshiro\\', u\\'Andy Lau\\']\"\\n',\n",
       " '7.6,The Hours,PG-13,Drama,114,\"[u\\'Meryl Streep\\', u\\'Nicole Kidman\\', u\\'Julianne Moore\\']\"\\n',\n",
       " '7.6,The Damned United,R,Biography,98,\"[u\\'Colm Meaney\\', u\\'Henry Goodman\\', u\\'David Roper\\']\"\\n',\n",
       " '7.6,Star Trek: First Contact,PG-13,Action,111,\"[u\\'Patrick Stewart\\', u\\'Jonathan Frakes\\', u\\'Brent Spiner\\']\"\\n',\n",
       " '7.6,The Natural,PG,Drama,138,\"[u\\'Robert Redford\\', u\\'Robert Duvall\\', u\\'Glenn Close\\']\"\\n',\n",
       " '7.6,The Hobbit: The Battle of the Five Armies,PG-13,Adventure,144,\"[u\\'Ian McKellen\\', u\\'Martin Freeman\\', u\\'Richard Armitage\\']\"\\n',\n",
       " '7.6,Equilibrium,R,Action,107,\"[u\\'Christian Bale\\', u\\'Sean Bean\\', u\\'Emily Watson\\']\"\\n',\n",
       " '7.6,August Rush,PG,Drama,114,\"[u\\'Freddie Highmore\\', u\\'Keri Russell\\', u\\'Jonathan Rhys Meyers\\']\"\\n',\n",
       " '7.6,Saving Mr. Banks,PG-13,Biography,125,\"[u\\'Emma Thompson\\', u\\'Tom Hanks\\', u\\'Annie Rose Buckley\\']\"\\n',\n",
       " '7.6,The Hurricane,R,Biography,146,\"[u\\'Denzel Washington\\', u\\'Vicellous Reon Shannon\\', u\\'Deborah Kara Unger\\']\"\\n',\n",
       " '7.6,Jacob\\'s Ladder,R,Drama,113,\"[u\\'Tim Robbins\\', u\\'Elizabeth Pe\\\\xf1a\\', u\\'Danny Aiello\\']\"\\n',\n",
       " '7.6,The Curse of the Were-Rabbit,G,Animation,85,\"[u\\'Peter Sallis\\', u\\'Helena Bonham Carter\\', u\\'Ralph Fiennes\\']\"\\n',\n",
       " '7.6,Christmas Vacation,PG-13,Comedy,97,\"[u\\'Chevy Chase\\', u\"\"Beverly D\\'Angelo\"\", u\\'Juliette Lewis\\']\"\\n',\n",
       " '7.5,\"Good Night, and Good Luck.\",PG,Drama,93,\"[u\\'David Strathairn\\', u\\'George Clooney\\', u\\'Patricia Clarkson\\']\"\\n',\n",
       " '7.5,Straw Dogs,UNRATED,Crime,113,\"[u\\'Dustin Hoffman\\', u\\'Susan George\\', u\\'Peter Vaughan\\']\"\\n',\n",
       " '7.5,42,PG-13,Biography,128,\"[u\\'Chadwick Boseman\\', u\\'T.R. Knight\\', u\\'Harrison Ford\\']\"\\n',\n",
       " '7.5,Rudy,PG,Biography,114,\"[u\\'Sean Astin\\', u\\'Jon Favreau\\', u\\'Ned Beatty\\']\"\\n',\n",
       " '7.5,Sleepers,R,Crime,147,\"[u\\'Robert De Niro\\', u\\'Kevin Bacon\\', u\\'Brad Pitt\\']\"\\n',\n",
       " '7.5,The Wind That Shakes the Barley,NOT RATED,Drama,127,\"[u\\'Cillian Murphy\\', u\\'Padraic Delaney\\', u\\'Liam Cunningham\\']\"\\n',\n",
       " '7.5,Gangs of New York,R,Crime,167,\"[u\\'Leonardo DiCaprio\\', u\\'Cameron Diaz\\', u\\'Daniel Day-Lewis\\']\"\\n',\n",
       " '7.5,Elizabeth,R,Biography,124,\"[u\\'Cate Blanchett\\', u\\'Geoffrey Rush\\', u\\'Christopher Eccleston\\']\"\\n',\n",
       " '7.5,Green Street Hooligans,R,Crime,109,\"[u\\'Elijah Wood\\', u\\'Charlie Hunnam\\', u\\'Claire Forlani\\']\"\\n',\n",
       " '7.5,Reign Over Me,R,Drama,124,\"[u\\'Adam Sandler\\', u\\'Don Cheadle\\', u\\'Jada Pinkett Smith\\']\"\\n',\n",
       " '7.5,RoboCop,R,Action,102,\"[u\\'Peter Weller\\', u\\'Nancy Allen\\', u\"\"Dan O\\'Herlihy\"\"]\"\\n',\n",
       " '7.5,The Life of David Gale,R,Crime,130,\"[u\\'Kevin Spacey\\', u\\'Kate Winslet\\', u\\'Laura Linney\\']\"\\n',\n",
       " '7.5,Life as a House,R,Drama,125,\"[u\\'Hayden Christensen\\', u\\'Kevin Kline\\', u\\'Kristin Scott Thomas\\']\"\\n',\n",
       " '7.5,Despicable Me 2,PG,Animation,98,\"[u\\'Steve Carell\\', u\\'Kristen Wiig\\', u\\'Benjamin Bratt\\']\"\\n',\n",
       " '7.5,Jackie Brown,R,Crime,154,\"[u\\'Pam Grier\\', u\\'Samuel L. Jackson\\', u\\'Robert Forster\\']\"\\n',\n",
       " '7.5,Menace II Society,R,Crime,97,\"[u\\'Tyrin Turner\\', u\\'Larenz Tate\\', u\\'June Kyoto Lu\\']\"\\n',\n",
       " '7.5,The Class,PG-13,Drama,128,\"[u\\'Fran\\\\xe7ois B\\\\xe9gaudeau\\', u\\'Agame Malembo-Emene\\', u\\'Ang\\\\xe9lica Sancio\\']\"\\n',\n",
       " '7.5,Bullets Over Broadway,R,Comedy,98,\"[u\\'John Cusack\\', u\\'Dianne Wiest\\', u\\'Jennifer Tilly\\']\"\\n',\n",
       " '7.5,American Splendor,R,Biography,101,\"[u\\'Paul Giamatti\\', u\\'Shari Springer Berman\\', u\\'Harvey Pekar\\']\"\\n',\n",
       " '7.5,Perfume: The Story of a Murderer,R,Crime,147,\"[u\\'Ben Whishaw\\', u\\'Dustin Hoffman\\', u\\'Alan Rickman\\']\"\\n',\n",
       " '7.5,Cloud Atlas,R,Drama,172,\"[u\\'Tom Hanks\\', u\\'Halle Berry\\', u\\'Hugh Grant\\']\"\\n',\n",
       " '7.5,Marathon Man,R,Crime,125,\"[u\\'Dustin Hoffman\\', u\\'Laurence Olivier\\', u\\'Roy Scheider\\']\"\\n',\n",
       " '7.5,Pinocchio,APPROVED,Animation,88,\"[u\\'Dickie Jones\\', u\\'Christian Rub\\', u\\'Mel Blanc\\']\"\\n',\n",
       " '7.5,The Painted Veil,PG-13,Drama,125,\"[u\\'Naomi Watts\\', u\\'Edward Norton\\', u\\'Liev Schreiber\\']\"\\n',\n",
       " '7.5,A Simple Plan,R,Crime,121,\"[u\\'Bill Paxton\\', u\\'Billy Bob Thornton\\', u\\'Bridget Fonda\\']\"\\n',\n",
       " '7.5,The Conjuring,R,Horror,112,\"[u\\'Patrick Wilson\\', u\\'Vera Farmiga\\', u\\'Ron Livingston\\']\"\\n',\n",
       " '7.5,The Man Who Knew Too Much,PG,Thriller,120,\"[u\\'James Stewart\\', u\\'Doris Day\\', u\\'Brenda de Banzie\\']\"\\n',\n",
       " '7.5,Quiz Show,PG-13,Drama,133,\"[u\\'Ralph Fiennes\\', u\\'John Turturro\\', u\\'Rob Morrow\\']\"\\n',\n",
       " '7.5,American Graffiti,PG,Comedy,110,\"[u\\'Richard Dreyfuss\\', u\\'Ron Howard\\', u\\'Paul Le Mat\\']\"\\n',\n",
       " '7.5,The Bridges of Madison County,PG-13,Drama,135,\"[u\\'Clint Eastwood\\', u\\'Meryl Streep\\', u\\'Annie Corley\\']\"\\n',\n",
       " '7.5,Gallipoli,PG,Adventure,110,\"[u\\'Mel Gibson\\', u\\'Mark Lee\\', u\\'Bill Kerr\\']\"\\n',\n",
       " '7.5,L\\'illusionniste,PG,Animation,80,\"[u\\'Jean-Claude Donda\\', u\\'Eilidh Rankin\\', u\\'Duncan MacNeil\\']\"\\n',\n",
       " '7.5,Miracle,PG,Drama,135,\"[u\\'Kurt Russell\\', u\\'Patricia Clarkson\\', u\\'Nathan West\\']\"\\n',\n",
       " '7.5,Maria Full of Grace,R,Crime,101,\"[u\\'Catalina Sandino Moreno\\', u\\'Guilied Lopez\\', u\\'Orlando Tob\\\\xf3n\\']\"\\n',\n",
       " '7.5,Scott Pilgrim vs. the World,PG-13,Action,112,\"[u\\'Michael Cera\\', u\\'Mary Elizabeth Winstead\\', u\\'Kieran Culkin\\']\"\\n',\n",
       " '7.5,Pleasantville,PG-13,Comedy,124,\"[u\\'Tobey Maguire\\', u\\'Jeff Daniels\\', u\\'Joan Allen\\']\"\\n',\n",
       " '7.5,Sherlock Holmes: A Game of Shadows,PG-13,Action,129,\"[u\\'Robert Downey Jr.\\', u\\'Jude Law\\', u\\'Jared Harris\\']\"\\n',\n",
       " '7.5,Doubt,PG-13,Drama,104,\"[u\\'Meryl Streep\\', u\\'Philip Seymour Hoffman\\', u\\'Amy Adams\\']\"\\n',\n",
       " '7.5,The Fly,R,Horror,96,\"[u\\'Jeff Goldblum\\', u\\'Geena Davis\\', u\\'John Getz\\']\"\\n',\n",
       " '7.5,The Orphanage,R,Drama,105,\"[u\\'Bel\\\\xe9n Rueda\\', u\\'Fernando Cayo\\', u\\'Roger Pr\\\\xedncep\\']\"\\n',\n",
       " '7.5,Malena,R,Drama,109,\"[u\\'Monica Bellucci\\', u\\'Giuseppe Sulfaro\\', u\\'Luciano Federico\\']\"\\n',\n",
       " '7.5,Three Days of the Condor,R,Mystery,117,\"[u\\'Robert Redford\\', u\\'Faye Dunaway\\', u\\'Cliff Robertson\\']\"\\n',\n",
       " '7.5,[Rec],R,Horror,78,\"[u\\'Manuela Velasco\\', u\\'Ferran Terraza\\', u\\'Jorge-Yamam Serrano\\']\"\\n',\n",
       " '7.5,A Perfect World,PG-13,Crime,138,\"[u\\'Kevin Costner\\', u\\'Clint Eastwood\\', u\\'Laura Dern\\']\"\\n',\n",
       " '7.5,To Catch a Thief,APPROVED,Mystery,106,\"[u\\'Cary Grant\\', u\\'Grace Kelly\\', u\\'Jessie Royce Landis\\']\"\\n',\n",
       " '7.5,Best in Show,PG-13,Comedy,90,\"[u\\'Fred Willard\\', u\\'Eugene Levy\\', u\"\"Catherine O\\'Hara\"\"]\"\\n',\n",
       " '7.5,Everything Is Illuminated,PG-13,Comedy,106,\"[u\\'Elijah Wood\\', u\\'Eugene Hutz\\', u\\'Boris Leskin\\']\"\\n',\n",
       " '7.5,A Nightmare on Elm Street,R,Horror,91,\"[u\\'Heather Langenkamp\\', u\\'Johnny Depp\\', u\\'Robert Englund\\']\"\\n',\n",
       " '7.5,The Ice Storm,R,Drama,112,\"[u\\'Kevin Kline\\', u\\'Joan Allen\\', u\\'Sigourney Weaver\\']\"\\n',\n",
       " '7.5,X2,PG-13,Action,134,\"[u\\'Patrick Stewart\\', u\\'Hugh Jackman\\', u\\'Halle Berry\\']\"\\n',\n",
       " '7.5,We Need to Talk About Kevin,R,Drama,112,\"[u\\'Tilda Swinton\\', u\\'John C. Reilly\\', u\\'Ezra Miller\\']\"\\n',\n",
       " '7.5,Felon,R,Crime,104,\"[u\\'Stephen Dorff\\', u\\'Marisol Nichols\\', u\\'Vincent Miller\\']\"\\n',\n",
       " '7.5,Still Alice,PG-13,Drama,101,\"[u\\'Julianne Moore\\', u\\'Alec Baldwin\\', u\\'Kristen Stewart\\']\"\\n',\n",
       " '7.5,Rust and Bone,R,Drama,120,\"[u\\'Marion Cotillard\\', u\\'Matthias Schoenaerts\\', u\\'Armand Verdure\\']\"\\n',\n",
       " '7.5,Freedom Writers,PG-13,Biography,123,\"[u\\'Hilary Swank\\', u\\'Imelda Staunton\\', u\\'Patrick Dempsey\\']\"\\n',\n",
       " '7.5,Legends of the Fall,R,Drama,133,\"[u\\'Brad Pitt\\', u\\'Anthony Hopkins\\', u\\'Aidan Quinn\\']\"\\n',\n",
       " '7.5,Buffalo \\'66,R,Comedy,110,\"[u\\'Vincent Gallo\\', u\\'Christina Ricci\\', u\\'Ben Gazzara\\']\"\\n',\n",
       " '7.5,The Constant Gardener,R,Drama,129,\"[u\\'Ralph Fiennes\\', u\\'Rachel Weisz\\', u\\'Hubert Kound\\\\xe9\\']\"\\n',\n",
       " '7.5,My Cousin Vinny,R,Comedy,120,\"[u\\'Joe Pesci\\', u\\'Marisa Tomei\\', u\\'Ralph Macchio\\']\"\\n',\n",
       " '7.5,The Texas Chain Saw Massacre,R,Horror,83,\"[u\\'Marilyn Burns\\', u\\'Edwin Neal\\', u\\'Allen Danziger\\']\"\\n',\n",
       " '7.5,Mulan,G,Animation,88,\"[u\\'Ming-Na Wen\\', u\\'Eddie Murphy\\', u\\'BD Wong\\']\"\\n',\n",
       " '7.5,A History of Violence,R,Crime,96,\"[u\\'Viggo Mortensen\\', u\\'Maria Bello\\', u\\'Ed Harris\\']\"\\n',\n",
       " '7.5,Open Range,R,Action,139,\"[u\\'Kevin Costner\\', u\\'Robert Duvall\\', u\\'Diego Luna\\']\"\\n',\n",
       " '7.5,Total Recall,R,Action,113,\"[u\\'Arnold Schwarzenegger\\', u\\'Sharon Stone\\', u\\'Michael Ironside\\']\"\\n',\n",
       " '7.5,Pi,R,Drama,84,\"[u\\'Sean Gullette\\', u\\'Mark Margolis\\', u\\'Ben Shenkman\\']\"\\n',\n",
       " '7.5,The Devil\\'s Backbone,R,Drama,106,\"[u\\'Marisa Paredes\\', u\\'Eduardo Noriega\\', u\\'Federico Luppi\\']\"\\n',\n",
       " '7.5,The Aviator,PG-13,Biography,170,\"[u\\'Leonardo DiCaprio\\', u\\'Cate Blanchett\\', u\\'Kate Beckinsale\\']\"\\n',\n",
       " '7.5,Devil\\'s Advocate,R,Drama,144,\"[u\\'Keanu Reeves\\', u\\'Al Pacino\\', u\\'Charlize Theron\\']\"\\n',\n",
       " '7.5,\"The Adventures of Priscilla, Queen of the Desert\",R,Comedy,104,\"[u\\'Hugo Weaving\\', u\\'Guy Pearce\\', u\\'Terence Stamp\\']\"\\n',\n",
       " '7.5,Harry Potter and the Half-Blood Prince,PG,Adventure,153,\"[u\\'Daniel Radcliffe\\', u\\'Emma Watson\\', u\\'Rupert Grint\\']\"\\n',\n",
       " '7.5,Fruitvale Station,R,Biography,85,\"[u\\'Michael B. Jordan\\', u\\'Melonie Diaz\\', u\\'Octavia Spencer\\']\"\\n',\n",
       " '7.5,In the Bedroom,R,Crime,130,\"[u\\'Tom Wilkinson\\', u\\'Sissy Spacek\\', u\\'Nick Stahl\\']\"\\n',\n",
       " '7.5,Source Code,PG-13,Mystery,93,\"[u\\'Jake Gyllenhaal\\', u\\'Michelle Monaghan\\', u\\'Vera Farmiga\\']\"\\n',\n",
       " '7.5,Biutiful,R,Drama,148,\"[u\\'Javier Bardem\\', u\\'Maricel \\\\xc1lvarez\\', u\\'Hanaa Bouchaib\\']\"\\n',\n",
       " '7.5,From Russia with Love,APPROVED,Action,115,\"[u\\'Sean Connery\\', u\\'Robert Shaw\\', u\\'Lotte Lenya\\']\"\\n',\n",
       " '7.5,Calvary,R,Drama,102,\"[u\\'Brendan Gleeson\\', u\"\"Chris O\\'Dowd\"\", u\\'Kelly Reilly\\']\"\\n',\n",
       " '7.5,The Mission,PG,Adventure,125,\"[u\\'Robert De Niro\\', u\\'Jeremy Irons\\', u\\'Ray McAnally\\']\"\\n',\n",
       " '7.5,In the Loop,NOT RATED,Comedy,106,\"[u\\'Tom Hollander\\', u\\'Peter Capaldi\\', u\\'James Gandolfini\\']\"\\n',\n",
       " '7.5,The Three Burials of Melquiades Estrada,R,Adventure,121,\"[u\\'Tommy Lee Jones\\', u\\'Barry Pepper\\', u\\'Dwight Yoakam\\']\"\\n',\n",
       " '7.5,Babel,R,Drama,143,\"[u\\'Brad Pitt\\', u\\'Cate Blanchett\\', u\\'Gael Garc\\\\xeda Bernal\\']\"\\n',\n",
       " '7.5,Frenzy,R,Thriller,116,\"[u\\'Jon Finch\\', u\\'Barry Foster\\', u\\'Alec McCowen\\']\"\\n',\n",
       " '7.5,Heavenly Creatures,R,Biography,99,\"[u\\'Melanie Lynskey\\', u\\'Kate Winslet\\', u\\'Sarah Peirse\\']\"\\n',\n",
       " '7.5,Sweeney Todd: The Demon Barber of Fleet Street,R,Drama,116,\"[u\\'Johnny Depp\\', u\\'Helena Bonham Carter\\', u\\'Alan Rickman\\']\"\\n',\n",
       " '7.5,Dracula,R,Horror,128,\"[u\\'Gary Oldman\\', u\\'Winona Ryder\\', u\\'Anthony Hopkins\\']\"\\n',\n",
       " '7.5,Looper,R,Action,119,\"[u\\'Joseph Gordon-Levitt\\', u\\'Bruce Willis\\', u\\'Emily Blunt\\']\"\\n',\n",
       " '7.5,The Proposition,R,Crime,104,\"[u\\'Ray Winstone\\', u\\'Guy Pearce\\', u\\'Emily Watson\\']\"\\n',\n",
       " '7.5,Bullitt,PG,Action,114,\"[u\\'Steve McQueen\\', u\\'Jacqueline Bisset\\', u\\'Robert Vaughn\\']\"\\n',\n",
       " '7.5,Harry Potter and the Sorcerer\\'s Stone,PG,Adventure,152,\"[u\\'Daniel Radcliffe\\', u\\'Rupert Grint\\', u\\'Richard Harris\\']\"\\n',\n",
       " '7.5,2046,R,Drama,129,\"[u\\'Tony Chiu Wai Leung\\', u\\'Ziyi Zhang\\', u\\'Faye Wong\\']\"\\n',\n",
       " '7.5,Transamerica,R,Adventure,103,\"[u\\'Felicity Huffman\\', u\\'Kevin Zegers\\', u\\'Fionnula Flanagan\\']\"\\n',\n",
       " '7.5,Smoke,R,Comedy,112,\"[u\\'Harvey Keitel\\', u\\'William Hurt\\', u\\'Giancarlo Esposito\\']\"\\n',\n",
       " '7.5,Suspiria,X,Horror,92,\"[u\\'Jessica Harper\\', u\\'Stefania Casini\\', u\\'Flavio Bucci\\']\"\\n',\n",
       " '7.5,The Judge,R,Drama,141,\"[u\\'Robert Downey Jr.\\', u\\'Robert Duvall\\', u\\'Vera Farmiga\\']\"\\n',\n",
       " '7.5,Bad Education,NC-17,Crime,106,\"[u\\'Gael Garc\\\\xeda Bernal\\', u\\'Fele Mart\\\\xednez\\', u\\'Javier C\\\\xe1mara\\']\"\\n',\n",
       " '7.5,Up in the Air,R,Drama,109,\"[u\\'George Clooney\\', u\\'Vera Farmiga\\', u\\'Anna Kendrick\\']\"\\n',\n",
       " '7.5,Begin Again,R,Drama,104,\"[u\\'Keira Knightley\\', u\\'Mark Ruffalo\\', u\\'Adam Levine\\']\"\\n',\n",
       " '7.5,Running Scared,R,Action,122,\"[u\\'Paul Walker\\', u\\'Cameron Bright\\', u\\'Chazz Palminteri\\']\"\\n',\n",
       " '7.5,Ghost World,R,Comedy,111,\"[u\\'Steve Buscemi\\', u\\'Thora Birch\\', u\\'Scarlett Johansson\\']\"\\n',\n",
       " '7.5,Witness,R,Crime,112,\"[u\\'Harrison Ford\\', u\\'Kelly McGillis\\', u\\'Lukas Haas\\']\"\\n',\n",
       " '7.5,Trading Places,R,Comedy,116,\"[u\\'Eddie Murphy\\', u\\'Dan Aykroyd\\', u\\'Ralph Bellamy\\']\"\\n',\n",
       " '7.5,Mud,PG-13,Drama,130,\"[u\\'Matthew McConaughey\\', u\\'Tye Sheridan\\', u\\'Jacob Lofland\\']\"\\n',\n",
       " '7.5,Across the Universe,PG-13,Drama,133,\"[u\\'Evan Rachel Wood\\', u\\'Jim Sturgess\\', u\\'Joe Anderson\\']\"\\n',\n",
       " '7.5,Les Miserables,PG-13,Crime,134,\"[u\\'Liam Neeson\\', u\\'Geoffrey Rush\\', u\\'Uma Thurman\\']\"\\n',\n",
       " '7.5,Notes on a Scandal,R,Drama,92,\"[u\\'Cate Blanchett\\', u\\'Judi Dench\\', u\\'Andrew Simpson\\']\"\\n',\n",
       " '7.5,Inside Llewyn Davis,R,Drama,104,\"[u\\'Oscar Isaac\\', u\\'Carey Mulligan\\', u\\'John Goodman\\']\"\\n',\n",
       " '7.5,Brick,R,Crime,110,\"[u\\'Joseph Gordon-Levitt\\', u\\'Lukas Haas\\', u\\'Emilie de Ravin\\']\"\\n',\n",
       " '7.5,Clerks II,R,Comedy,97,\"[u\"\"Brian O\\'Halloran\"\", u\\'Jeff Anderson\\', u\\'Rosario Dawson\\']\"\\n',\n",
       " '7.5,Say Anything...,PG-13,Comedy,100,\"[u\\'John Cusack\\', u\\'Ione Skye\\', u\\'John Mahoney\\']\"\\n',\n",
       " '7.4,Man on the Moon,R,Biography,118,\"[u\\'Jim Carrey\\', u\\'Danny DeVito\\', u\\'Gerry Becker\\']\"\\n',\n",
       " '7.4,Mean Streets,R,Crime,112,\"[u\\'Robert De Niro\\', u\\'Harvey Keitel\\', u\\'David Proval\\']\"\\n',\n",
       " '7.4,Harry Potter and the Order of the Phoenix,PG-13,Adventure,138,\"[u\\'Daniel Radcliffe\\', u\\'Emma Watson\\', u\\'Rupert Grint\\']\"\\n',\n",
       " '7.4,Beetlejuice,PG,Comedy,92,\"[u\\'Alec Baldwin\\', u\\'Geena Davis\\', u\\'Michael Keaton\\']\"\\n',\n",
       " '7.4,\"Crazy, Stupid, Love.\",PG-13,Comedy,118,\"[u\\'Steve Carell\\', u\\'Ryan Gosling\\', u\\'Julianne Moore\\']\"\\n',\n",
       " '7.4,Excalibur,R,Adventure,140,\"[u\\'Nigel Terry\\', u\\'Helen Mirren\\', u\\'Nicholas Clay\\']\"\\n',\n",
       " '7.4,True Grit,,Adventure,128,\"[u\\'John Wayne\\', u\\'Kim Darby\\', u\\'Glen Campbell\\']\"\\n',\n",
       " '7.4,Labyrinth,PG,Adventure,101,\"[u\\'David Bowie\\', u\\'Jennifer Connelly\\', u\\'Toby Froud\\']\"\\n',\n",
       " '7.4,Alice in Wonderland,G,Animation,75,\"[u\\'Kathryn Beaumont\\', u\\'Ed Wynn\\', u\\'Richard Haydn\\']\"\\n',\n",
       " '7.4,Predestination,R,Drama,97,\"[u\\'Ethan Hawke\\', u\\'Sarah Snook\\', u\\'Noah Taylor\\']\"\\n',\n",
       " '7.4,Much Ado About Nothing,PG-13,Comedy,111,\"[u\\'Kenneth Branagh\\', u\\'Emma Thompson\\', u\\'Keanu Reeves\\']\"\\n',\n",
       " '7.4,A Bridge Too Far,PG,Drama,175,\"[u\\'Sean Connery\\', u\"\"Ryan O\\'Neal\"\", u\\'Michael Caine\\']\"\\n',\n",
       " '7.4,Raising Arizona,PG-13,Comedy,94,\"[u\\'Nicolas Cage\\', u\\'Holly Hunter\\', u\\'Trey Wilson\\']\"\\n',\n",
       " '7.4,The Bucket List,PG-13,Adventure,97,\"[u\\'Jack Nicholson\\', u\\'Morgan Freeman\\', u\\'Sean Hayes\\']\"\\n',\n",
       " '7.4,Terms of Endearment,R,Comedy,132,\"[u\\'Shirley MacLaine\\', u\\'Debra Winger\\', u\\'Jack Nicholson\\']\"\\n',\n",
       " '7.4,Take Shelter,R,Drama,120,\"[u\\'Michael Shannon\\', u\\'Jessica Chastain\\', u\\'Shea Whigham\\']\"\\n',\n",
       " '7.4,Far from Heaven,PG-13,Drama,107,\"[u\\'Julianne Moore\\', u\\'Dennis Quaid\\', u\\'Dennis Haysbert\\']\"\\n',\n",
       " '7.4,Eraserhead,UNRATED,Drama,89,\"[u\\'Jack Nance\\', u\\'Charlotte Stewart\\', u\\'Allen Joseph\\']\"\\n',\n",
       " '7.4,Frances Ha,R,Comedy,86,\"[u\\'Greta Gerwig\\', u\\'Mickey Sumner\\', u\\'Adam Driver\\']\"\\n',\n",
       " '7.4,Home Alone,PG,Comedy,103,\"[u\\'Macaulay Culkin\\', u\\'Joe Pesci\\', u\\'Daniel Stern\\']\"\\n',\n",
       " '7.4,Bound,R,Crime,108,\"[u\\'Jennifer Tilly\\', u\\'Gina Gershon\\', u\\'Joe Pantoliano\\']\"\\n',\n",
       " '7.4,Sleepy Hollow,R,Drama,105,\"[u\\'Johnny Depp\\', u\\'Christina Ricci\\', u\\'Miranda Richardson\\']\"\\n',\n",
       " '7.4,Pirate Radio,R,Comedy,117,\"[u\\'Philip Seymour Hoffman\\', u\\'Bill Nighy\\', u\\'Nick Frost\\']\"\\n',\n",
       " '7.4,The NeverEnding Story,PG,Adventure,102,\"[u\\'Noah Hathaway\\', u\\'Barret Oliver\\', u\\'Tami Stronach\\']\"\\n',\n",
       " '7.4,X-Men,PG-13,Action,104,\"[u\\'Patrick Stewart\\', u\\'Hugh Jackman\\', u\\'Ian McKellen\\']\"\\n',\n",
       " '7.4,Zero Dark Thirty,R,Drama,157,\"[u\\'Jessica Chastain\\', u\\'Joel Edgerton\\', u\\'Chris Pratt\\']\"\\n',\n",
       " '7.4,Manhattan Murder Mystery,PG,Comedy,104,\"[u\\'Woody Allen\\', u\\'Diane Keaton\\', u\\'Jerry Adler\\']\"\\n',\n",
       " '7.4,National Lampoon\\'s Vacation,R,Comedy,98,\"[u\\'Chevy Chase\\', u\"\"Beverly D\\'Angelo\"\", u\\'Imogene Coca\\']\"\\n',\n",
       " '7.4,My Sister\\'s Keeper,PG-13,Drama,109,\"[u\\'Cameron Diaz\\', u\\'Abigail Breslin\\', u\\'Alec Baldwin\\']\"\\n',\n",
       " '7.4,Deconstructing Harry,R,Comedy,96,\"[u\\'Woody Allen\\', u\\'Judy Davis\\', u\\'Julia Louis-Dreyfus\\']\"\\n',\n",
       " '7.4,The Way Way Back,PG-13,Comedy,103,\"[u\\'Steve Carell\\', u\\'Toni Collette\\', u\\'Allison Janney\\']\"\\n',\n",
       " '7.4,Capote,R,Biography,114,\"[u\\'Philip Seymour Hoffman\\', u\\'Clifton Collins Jr.\\', u\\'Catherine Keener\\']\"\\n',\n",
       " '7.4,Driving Miss Daisy,PG,Comedy,99,\"[u\\'Morgan Freeman\\', u\\'Jessica Tandy\\', u\\'Dan Aykroyd\\']\"\\n',\n",
       " '7.4,La Femme Nikita,R,Action,118,\"[u\\'Anne Parillaud\\', u\\'Marc Duret\\', u\\'Patrick Fontana\\']\"\\n',\n",
       " '7.4,Lincoln,PG-13,Biography,150,\"[u\\'Daniel Day-Lewis\\', u\\'Sally Field\\', u\\'David Strathairn\\']\"\\n',\n",
       " '7.4,Limitless,PG-13,Mystery,105,\"[u\\'Bradley Cooper\\', u\\'Anna Friel\\', u\\'Abbie Cornish\\']\"\\n',\n",
       " '7.4,The Simpsons Movie,PG-13,Animation,87,\"[u\\'Dan Castellaneta\\', u\\'Julie Kavner\\', u\\'Nancy Cartwright\\']\"\\n',\n",
       " '7.4,The Rock,R,Action,136,\"[u\\'Sean Connery\\', u\\'Nicolas Cage\\', u\\'Ed Harris\\']\"\\n',\n",
       " '7.4,The English Patient,R,Drama,162,\"[u\\'Ralph Fiennes\\', u\\'Juliette Binoche\\', u\\'Willem Dafoe\\']\"\\n',\n",
       " '7.4,Law Abiding Citizen,R,Crime,109,\"[u\\'Gerard Butler\\', u\\'Jamie Foxx\\', u\\'Leslie Bibb\\']\"\\n',\n",
       " '7.4,Wonder Boys,R,Drama,107,\"[u\\'Michael Douglas\\', u\\'Tobey Maguire\\', u\\'Frances McDormand\\']\"\\n',\n",
       " '7.4,Death at a Funeral,R,Comedy,90,\"[u\\'Matthew Macfadyen\\', u\\'Peter Dinklage\\', u\\'Ewen Bremner\\']\"\\n',\n",
       " '7.4,Blue Valentine,NC-17,Drama,112,\"[u\\'Ryan Gosling\\', u\\'Michelle Williams\\', u\\'John Doman\\']\"\\n',\n",
       " '7.4,The Cider House Rules,PG-13,Drama,126,\"[u\\'Tobey Maguire\\', u\\'Charlize Theron\\', u\\'Michael Caine\\']\"\\n',\n",
       " '7.4,Tootsie,PG,Comedy,116,\"[u\\'Dustin Hoffman\\', u\\'Jessica Lange\\', u\\'Teri Garr\\']\"\\n',\n",
       " '7.4,Back to the Future Part III,PG,Adventure,118,\"[u\\'Michael J. Fox\\', u\\'Christopher Lloyd\\', u\\'Mary Steenburgen\\']\"\\n',\n",
       " '7.4,Master and Commander: The Far Side of the World,PG-13,Action,138,\"[u\\'Russell Crowe\\', u\\'Paul Bettany\\', u\\'Billy Boyd\\']\"\\n',\n",
       " '7.4,Poltergeist,PG,Horror,114,\"[u\\'JoBeth Williams\\', u\"\"Heather O\\'Rourke\"\", u\\'Craig T. Nelson\\']\"\\n',\n",
       " '7.4,Wall Street,R,Crime,126,\"[u\\'Charlie Sheen\\', u\\'Michael Douglas\\', u\\'Tamara Tunie\\']\"\\n']"
      ]
     },
     "execution_count": 8,
     "metadata": {},
     "output_type": "execute_result"
    }
   ],
   "source": [
    "my_imdb.readlines()"
   ]
  },
  {
   "cell_type": "code",
   "execution_count": 9,
   "id": "24a6f051",
   "metadata": {
    "ExecuteTime": {
     "end_time": "2025-01-27T08:49:00.349252Z",
     "start_time": "2025-01-27T08:49:00.346554Z"
    }
   },
   "outputs": [],
   "source": [
    "my_imdb.close()"
   ]
  },
  {
   "cell_type": "code",
   "execution_count": 11,
   "id": "dacc54f6",
   "metadata": {
    "ExecuteTime": {
     "end_time": "2025-01-27T08:50:36.283936Z",
     "start_time": "2025-01-27T08:50:36.279575Z"
    }
   },
   "outputs": [
    {
     "name": "stdout",
     "output_type": "stream",
     "text": [
      "star_rating,title,content_rating,genre,duration,actors_list\n",
      "\n"
     ]
    }
   ],
   "source": [
    "with open(\"imdb_1000.csv\") as file :\n",
    "    print(file.readlines()[0])"
   ]
  },
  {
   "cell_type": "code",
   "execution_count": 15,
   "id": "c819d429",
   "metadata": {
    "ExecuteTime": {
     "end_time": "2025-01-27T08:55:03.293120Z",
     "start_time": "2025-01-27T08:55:03.289068Z"
    }
   },
   "outputs": [],
   "source": [
    "with open(\"lenomdufichier.txt\",mode=\"w\") as file :\n",
    "    file.write(\"Une nouvelle ligne \")\n",
    "    file.write(\"Une autre ligne\")"
   ]
  },
  {
   "cell_type": "code",
   "execution_count": 18,
   "id": "6d0e7b1e",
   "metadata": {
    "ExecuteTime": {
     "end_time": "2025-01-27T08:56:05.683613Z",
     "start_time": "2025-01-27T08:56:05.677688Z"
    }
   },
   "outputs": [
    {
     "data": {
      "text/plain": [
       "\"Tell me why the stars do shine,\\nTell me why the ivy twines,\\nTell me what makes skies so blue,\\nAnd I'll tell you why I love you.\\n\\nNuclear fusion makes stars to shine,\\nTropisms make the ivy twine,\\nRaleigh scattering make skies so blue,\\nTesticular hormones are why I love you.\""
      ]
     },
     "execution_count": 18,
     "metadata": {},
     "output_type": "execute_result"
    }
   ],
   "source": [
    "with open(\"poeme.txt\") as file : \n",
    "    res = file.read()\n",
    "res"
   ]
  },
  {
   "cell_type": "code",
   "execution_count": 19,
   "id": "dd891c48",
   "metadata": {
    "ExecuteTime": {
     "end_time": "2025-01-27T08:57:02.317282Z",
     "start_time": "2025-01-27T08:57:02.312365Z"
    }
   },
   "outputs": [
    {
     "data": {
      "text/plain": [
       "['Tell me why the stars do shine,\\n',\n",
       " 'Tell me why the ivy twines,\\n',\n",
       " 'Tell me what makes skies so blue,\\n',\n",
       " \"And I'll tell you why I love you.\\n\",\n",
       " '\\n',\n",
       " 'Nuclear fusion makes stars to shine,\\n',\n",
       " 'Tropisms make the ivy twine,\\n',\n",
       " 'Raleigh scattering make skies so blue,\\n',\n",
       " 'Testicular hormones are why I love you.']"
      ]
     },
     "execution_count": 19,
     "metadata": {},
     "output_type": "execute_result"
    }
   ],
   "source": [
    "with open(\"poeme.txt\") as file : \n",
    "    res = file.readlines()\n",
    "res"
   ]
  },
  {
   "cell_type": "code",
   "execution_count": 25,
   "id": "5bcca139",
   "metadata": {
    "ExecuteTime": {
     "end_time": "2025-01-27T09:00:47.779742Z",
     "start_time": "2025-01-27T09:00:47.774224Z"
    }
   },
   "outputs": [],
   "source": [
    "with open(\"poeme.txt\",mode=\"w\") as file : \n",
    "    l = list([str(i) for i in range(1,10)])\n",
    "    file.writelines(l)"
   ]
  },
  {
   "cell_type": "code",
   "execution_count": 26,
   "id": "bee486f5",
   "metadata": {
    "ExecuteTime": {
     "end_time": "2025-01-27T09:00:50.213388Z",
     "start_time": "2025-01-27T09:00:50.207690Z"
    }
   },
   "outputs": [
    {
     "data": {
      "text/plain": [
       "['123456789']"
      ]
     },
     "execution_count": 26,
     "metadata": {},
     "output_type": "execute_result"
    }
   ],
   "source": [
    "with open(\"poeme.txt\") as file : \n",
    "    res = file.readlines()\n",
    "res"
   ]
  },
  {
   "cell_type": "code",
   "execution_count": 35,
   "id": "700cd39f",
   "metadata": {
    "ExecuteTime": {
     "end_time": "2025-01-27T09:03:33.783778Z",
     "start_time": "2025-01-27T09:03:33.778945Z"
    }
   },
   "outputs": [
    {
     "data": {
      "text/plain": [
       "[1, 2, 3, 4, 5, 6, 7, 8, 9]"
      ]
     },
     "execution_count": 35,
     "metadata": {},
     "output_type": "execute_result"
    }
   ],
   "source": [
    "list(range(1,10))"
   ]
  },
  {
   "cell_type": "code",
   "execution_count": 32,
   "id": "5a81cb57",
   "metadata": {
    "ExecuteTime": {
     "end_time": "2025-01-27T09:02:35.133487Z",
     "start_time": "2025-01-27T09:02:35.128661Z"
    }
   },
   "outputs": [
    {
     "data": {
      "text/plain": [
       "['1', '2', '3', '4', '5', '6', '7', '8', '9']"
      ]
     },
     "execution_count": 32,
     "metadata": {},
     "output_type": "execute_result"
    }
   ],
   "source": [
    "[ str(i) for i in (range(1,10))]"
   ]
  },
  {
   "cell_type": "code",
   "execution_count": 33,
   "id": "86fa9416",
   "metadata": {
    "ExecuteTime": {
     "end_time": "2025-01-27T09:02:54.505063Z",
     "start_time": "2025-01-27T09:02:54.501908Z"
    }
   },
   "outputs": [],
   "source": [
    "new_list = []\n",
    "for i in l : \n",
    "    new_list.append(str(i))"
   ]
  },
  {
   "cell_type": "code",
   "execution_count": 38,
   "id": "8835e385",
   "metadata": {
    "ExecuteTime": {
     "end_time": "2025-01-27T09:05:20.226569Z",
     "start_time": "2025-01-27T09:05:20.089849Z"
    }
   },
   "outputs": [],
   "source": [
    "! mkdir MyFolder"
   ]
  },
  {
   "cell_type": "code",
   "execution_count": 40,
   "id": "87cc915e",
   "metadata": {
    "ExecuteTime": {
     "end_time": "2025-01-27T09:05:28.192079Z",
     "start_time": "2025-01-27T09:05:28.047137Z"
    }
   },
   "outputs": [],
   "source": [
    "! rm -r MyFolder"
   ]
  },
  {
   "cell_type": "code",
   "execution_count": 41,
   "id": "a69ad41b",
   "metadata": {
    "ExecuteTime": {
     "end_time": "2025-01-27T09:06:51.137923Z",
     "start_time": "2025-01-27T09:06:51.135030Z"
    }
   },
   "outputs": [],
   "source": [
    "import os"
   ]
  },
  {
   "cell_type": "code",
   "execution_count": 44,
   "id": "33c94fa9",
   "metadata": {
    "ExecuteTime": {
     "end_time": "2025-01-27T09:07:58.110495Z",
     "start_time": "2025-01-27T09:07:58.105936Z"
    }
   },
   "outputs": [
    {
     "data": {
      "text/plain": [
       "'data/image'"
      ]
     },
     "execution_count": 44,
     "metadata": {},
     "output_type": "execute_result"
    }
   ],
   "source": [
    "my_path = os.path.join(\"data\",\"image\")\n",
    "my_path"
   ]
  },
  {
   "cell_type": "code",
   "execution_count": 45,
   "id": "00a92f00",
   "metadata": {
    "ExecuteTime": {
     "end_time": "2025-01-27T09:08:05.661185Z",
     "start_time": "2025-01-27T09:08:05.656776Z"
    }
   },
   "outputs": [
    {
     "data": {
      "text/plain": [
       "False"
      ]
     },
     "execution_count": 45,
     "metadata": {},
     "output_type": "execute_result"
    }
   ],
   "source": [
    "os.path.exists(my_path)"
   ]
  },
  {
   "cell_type": "code",
   "execution_count": 48,
   "id": "709315e9",
   "metadata": {
    "ExecuteTime": {
     "end_time": "2025-01-27T09:09:18.178072Z",
     "start_time": "2025-01-27T09:09:18.173993Z"
    }
   },
   "outputs": [],
   "source": [
    "os.makedirs(\"data\")"
   ]
  },
  {
   "cell_type": "code",
   "execution_count": 49,
   "id": "ec3dfde5",
   "metadata": {
    "ExecuteTime": {
     "end_time": "2025-01-27T09:09:24.697381Z",
     "start_time": "2025-01-27T09:09:24.535149Z"
    }
   },
   "outputs": [
    {
     "name": "stdout",
     "output_type": "stream",
     "text": [
      "data\r\n"
     ]
    }
   ],
   "source": [
    "! ls | grep data"
   ]
  },
  {
   "cell_type": "code",
   "execution_count": 50,
   "id": "9d27b491",
   "metadata": {
    "ExecuteTime": {
     "end_time": "2025-01-27T09:10:38.796083Z",
     "start_time": "2025-01-27T09:10:38.790672Z"
    }
   },
   "outputs": [
    {
     "data": {
      "text/plain": [
       "True"
      ]
     },
     "execution_count": 50,
     "metadata": {},
     "output_type": "execute_result"
    }
   ],
   "source": [
    "os.path.exists(\"data\")"
   ]
  },
  {
   "cell_type": "code",
   "execution_count": null,
   "id": "e5cedad2",
   "metadata": {},
   "outputs": [],
   "source": [
    "if not os.path.exists(\"data\") : \n",
    "    os.makedirs(\"data\")\n",
    "    \n",
    "    "
   ]
  },
  {
   "cell_type": "code",
   "execution_count": 57,
   "id": "efe1858b",
   "metadata": {
    "ExecuteTime": {
     "end_time": "2025-01-27T09:14:11.577192Z",
     "start_time": "2025-01-27T09:14:11.567423Z"
    }
   },
   "outputs": [
    {
     "data": {
      "text/plain": [
       "False"
      ]
     },
     "execution_count": 57,
     "metadata": {},
     "output_type": "execute_result"
    }
   ],
   "source": [
    "from pathlib import Path\n",
    "\n",
    "my_path = Path(\"data/image.png\")\n",
    "my_path = Path(\"data\").joinpath(\"image.png\")\n",
    "my_path.exists()"
   ]
  },
  {
   "cell_type": "code",
   "execution_count": 65,
   "id": "cf46b73b",
   "metadata": {
    "ExecuteTime": {
     "end_time": "2025-01-27T09:17:40.025795Z",
     "start_time": "2025-01-27T09:17:40.020430Z"
    }
   },
   "outputs": [
    {
     "data": {
      "text/plain": [
       "<generator object Path.glob at 0x1086d19a0>"
      ]
     },
     "execution_count": 65,
     "metadata": {},
     "output_type": "execute_result"
    }
   ],
   "source": [
    "Path(\".\").glob(\".\")"
   ]
  },
  {
   "cell_type": "code",
   "execution_count": 67,
   "id": "e0173585",
   "metadata": {
    "ExecuteTime": {
     "end_time": "2025-01-27T09:17:57.722477Z",
     "start_time": "2025-01-27T09:17:57.715064Z"
    },
    "collapsed": true
   },
   "outputs": [
    {
     "name": "stdout",
     "output_type": "stream",
     "text": [
      "Untitled Folder\n",
      "listings.csv.gz\n",
      "PythonDay\n",
      "Files I O.ipynb\n",
      "DEMO\n",
      "Census.ipynb\n",
      "awesome-compose\n",
      "HuggingFaces\n",
      "Advent\n",
      "Untitled5.ipynb\n",
      "poeme.txt\n",
      "Python Basics.ipynb\n",
      "Untitled1.ipynb\n",
      "streamlit_day\n",
      "05-Data-Preparation\n",
      "example.\n",
      ".DS_Store\n",
      "cafe.pkl\n",
      "TImeSeries\n",
      "DataEx\n",
      "requirements.txt\n",
      "RecapScrapping.ipynb\n",
      "artefact.txt\n",
      "Python\n",
      "Untitled3.ipynb\n",
      "input\n",
      "Untitled.ipynb\n",
      "04-Pandas\n",
      "friday\n",
      "DemoGit\n",
      "Untitled4.ipynb\n",
      "RNN-Intro.ipynb\n",
      "imdb_1000.csv\n",
      "Trees-And-Forests.ipynb\n",
      "myAwesomeAPI\n",
      "Overfitting-Underfitting.ipynb\n",
      "14-Pipelines\n",
      "RecapScrapping\n",
      "Untitled2.ipynb\n",
      "MyAwesomeApplication\n",
      "__pycache__\n",
      "student-challenges-dev\n",
      "00-Lectures\n",
      "Regression Lecture.ipynb\n",
      "01-Challenges\n",
      "Docker101\n",
      "N8N\n",
      "solution_05-ML_09-Time-Series_04-Facebook-Prophet\n",
      "example.py\n",
      "Dashboards\n",
      "Time-Series.ipynb\n",
      "07-RNN-Advanced\n",
      "RecapIO\n",
      "FastAPi\n",
      "example.txt\n",
      "dash\n",
      ".ipynb_checkpoints\n",
      "airflow_demo\n",
      "RecapDA\n",
      "videos.json\n",
      "data\n",
      "olympics.csv\n",
      "08-Attention-Mechanism-and-Transformers\n",
      "Gradient-Boosting.ipynb\n",
      "Model-Explainability.ipynb\n",
      "02-Multiple-Linear-Regression\n",
      "catboost_info\n"
     ]
    }
   ],
   "source": [
    "for file in Path(\".\").glob(\"*\") : \n",
    "    print(file)"
   ]
  },
  {
   "cell_type": "code",
   "execution_count": 92,
   "id": "31ebaf86",
   "metadata": {
    "ExecuteTime": {
     "end_time": "2025-01-27T09:33:15.554539Z",
     "start_time": "2025-01-27T09:33:15.549074Z"
    }
   },
   "outputs": [
    {
     "name": "stdout",
     "output_type": "stream",
     "text": [
      "2\n"
     ]
    }
   ],
   "source": [
    "p = 7 \n",
    "for i in range(2,int(7**0.5)+1): \n",
    "    print(i)"
   ]
  },
  {
   "cell_type": "code",
   "execution_count": 96,
   "id": "dd085d9b",
   "metadata": {
    "ExecuteTime": {
     "end_time": "2025-01-27T09:34:02.186854Z",
     "start_time": "2025-01-27T09:34:02.176780Z"
    }
   },
   "outputs": [
    {
     "name": "stdout",
     "output_type": "stream",
     "text": [
      "2\n",
      "3\n",
      "5\n",
      "7\n",
      "11\n",
      "13\n",
      "17\n",
      "19\n",
      "23\n",
      "29\n",
      "31\n",
      "37\n",
      "41\n",
      "43\n",
      "47\n",
      "53\n",
      "59\n",
      "61\n",
      "67\n",
      "71\n",
      "73\n",
      "79\n",
      "83\n",
      "89\n",
      "97\n",
      "101\n",
      "103\n",
      "107\n",
      "109\n",
      "113\n",
      "127\n",
      "131\n",
      "137\n",
      "139\n",
      "149\n",
      "151\n",
      "157\n",
      "163\n",
      "167\n",
      "173\n",
      "179\n",
      "181\n",
      "191\n",
      "193\n",
      "197\n",
      "199\n",
      "211\n",
      "223\n",
      "227\n",
      "229\n",
      "233\n",
      "239\n",
      "241\n",
      "251\n",
      "257\n",
      "263\n",
      "269\n",
      "271\n",
      "277\n",
      "281\n",
      "283\n",
      "293\n",
      "307\n",
      "311\n",
      "313\n",
      "317\n",
      "331\n",
      "337\n",
      "347\n",
      "349\n",
      "353\n",
      "359\n",
      "367\n",
      "373\n",
      "379\n",
      "383\n",
      "389\n",
      "397\n",
      "401\n",
      "409\n",
      "419\n",
      "421\n",
      "431\n",
      "433\n",
      "439\n",
      "443\n",
      "449\n",
      "457\n",
      "461\n",
      "463\n",
      "467\n",
      "479\n",
      "487\n",
      "491\n",
      "499\n",
      "503\n",
      "509\n",
      "521\n",
      "523\n",
      "541\n",
      "547\n",
      "557\n",
      "563\n",
      "569\n",
      "571\n",
      "577\n",
      "587\n",
      "593\n",
      "599\n",
      "601\n",
      "607\n",
      "613\n",
      "617\n",
      "619\n",
      "631\n",
      "641\n",
      "643\n",
      "647\n",
      "653\n",
      "659\n",
      "661\n",
      "673\n",
      "677\n",
      "683\n",
      "691\n",
      "701\n",
      "709\n",
      "719\n",
      "727\n",
      "733\n",
      "739\n",
      "743\n",
      "751\n",
      "757\n",
      "761\n",
      "769\n",
      "773\n",
      "787\n",
      "797\n",
      "809\n",
      "811\n",
      "821\n",
      "823\n",
      "827\n",
      "829\n",
      "839\n",
      "853\n",
      "857\n",
      "859\n",
      "863\n",
      "877\n",
      "881\n",
      "883\n",
      "887\n",
      "907\n",
      "911\n",
      "919\n",
      "929\n",
      "937\n",
      "941\n",
      "947\n",
      "953\n",
      "967\n",
      "971\n",
      "977\n",
      "983\n",
      "991\n",
      "997\n"
     ]
    }
   ],
   "source": [
    "def my_generator() : \n",
    "    p = 2 \n",
    "    while True  :\n",
    "        if  all([ p % i != 0 for i in range(2,int(p**0.5)+1)]):\n",
    "            print(p)\n",
    "        if p > 1000 : \n",
    "            break \n",
    "        p += 1\n",
    "my_generator()"
   ]
  },
  {
   "cell_type": "code",
   "execution_count": 79,
   "id": "39f79148",
   "metadata": {
    "ExecuteTime": {
     "end_time": "2025-01-27T09:26:50.417915Z",
     "start_time": "2025-01-27T09:26:50.413135Z"
    }
   },
   "outputs": [
    {
     "data": {
      "text/plain": [
       "True"
      ]
     },
     "execution_count": 79,
     "metadata": {},
     "output_type": "execute_result"
    }
   ],
   "source": [
    "any([True,False,True])"
   ]
  },
  {
   "cell_type": "code",
   "execution_count": 78,
   "id": "bbe1ec1e",
   "metadata": {
    "ExecuteTime": {
     "end_time": "2025-01-27T09:26:31.998597Z",
     "start_time": "2025-01-27T09:26:31.992250Z"
    }
   },
   "outputs": [
    {
     "data": {
      "text/plain": [
       "False"
      ]
     },
     "execution_count": 78,
     "metadata": {},
     "output_type": "execute_result"
    }
   ],
   "source": [
    "all([True,False,True])"
   ]
  },
  {
   "cell_type": "code",
   "execution_count": 83,
   "id": "75fa8b7c",
   "metadata": {
    "ExecuteTime": {
     "end_time": "2025-01-27T09:31:00.903651Z",
     "start_time": "2025-01-27T09:31:00.899252Z"
    }
   },
   "outputs": [
    {
     "name": "stdout",
     "output_type": "stream",
     "text": [
      "2\n",
      "4\n",
      "6\n",
      "8\n",
      "10\n",
      "12\n"
     ]
    }
   ],
   "source": [
    "def my_generator() : \n",
    "    p = 1\n",
    "    while True : \n",
    "        if p % 2 == 0 :\n",
    "            yield(p)\n",
    "        p +=1 \n",
    "        \n",
    "\n",
    "for i in my_generator() : \n",
    "    print(i)\n",
    "    if i > 10 : break"
   ]
  },
  {
   "cell_type": "code",
   "execution_count": 84,
   "id": "fc466305",
   "metadata": {
    "ExecuteTime": {
     "end_time": "2025-01-27T09:31:18.059976Z",
     "start_time": "2025-01-27T09:31:18.054865Z"
    }
   },
   "outputs": [
    {
     "data": {
      "text/plain": [
       "2"
      ]
     },
     "execution_count": 84,
     "metadata": {},
     "output_type": "execute_result"
    }
   ],
   "source": [
    "my_gen = my_generator()\n",
    "next(my_gen)"
   ]
  },
  {
   "cell_type": "code",
   "execution_count": 85,
   "id": "e3efb69b",
   "metadata": {
    "ExecuteTime": {
     "end_time": "2025-01-27T09:31:23.203228Z",
     "start_time": "2025-01-27T09:31:23.198783Z"
    }
   },
   "outputs": [
    {
     "data": {
      "text/plain": [
       "4"
      ]
     },
     "execution_count": 85,
     "metadata": {},
     "output_type": "execute_result"
    }
   ],
   "source": [
    "next(my_gen)"
   ]
  },
  {
   "cell_type": "code",
   "execution_count": 87,
   "id": "bfdaffc1",
   "metadata": {
    "ExecuteTime": {
     "end_time": "2025-01-27T09:31:45.929357Z",
     "start_time": "2025-01-27T09:31:45.925496Z"
    }
   },
   "outputs": [
    {
     "data": {
      "text/plain": [
       "<generator object my_generator at 0x108b69690>"
      ]
     },
     "execution_count": 87,
     "metadata": {},
     "output_type": "execute_result"
    }
   ],
   "source": [
    "my_gen"
   ]
  },
  {
   "cell_type": "markdown",
   "id": "d4a11ae9",
   "metadata": {},
   "source": [
    "## CSV  "
   ]
  },
  {
   "cell_type": "code",
   "execution_count": 101,
   "id": "dcbe622a",
   "metadata": {
    "ExecuteTime": {
     "end_time": "2025-01-27T09:53:45.180490Z",
     "start_time": "2025-01-27T09:53:45.174353Z"
    }
   },
   "outputs": [
    {
     "name": "stdout",
     "output_type": "stream",
     "text": [
      "\"Title,Publication_year\",\"Pages\"\n",
      "\n",
      "\"The Caves of Steel,1954\",\"224\"\n",
      "\n",
      "\"The Naked Sun,1957\",\"187\"\n",
      "\n",
      "\"The Robots of Dawn,1983\",\"419\"\n",
      "\n",
      "\"Tales of the Black Widowers,1974\",\"198\"\n",
      "\n",
      "\"More Tales of the Black Widowers,1976\",\"176\"\n",
      "\n",
      "\"Casebook of the Black Widowers,1980\",\"182\"\n",
      "\n",
      "\"Banquets of the Black Widowers,1984\",\"212\"\n",
      "\n",
      "\"The Key Word and Others Mysteries,1977\",\"54\"\n"
     ]
    }
   ],
   "source": [
    "import csv\n",
    "\n",
    "with open(\"my_file.csv\",mode=\"r\") as file : \n",
    "    for line in (file.readlines()): \n",
    "        print(line)"
   ]
  },
  {
   "cell_type": "code",
   "execution_count": 100,
   "id": "8c90526b",
   "metadata": {
    "ExecuteTime": {
     "end_time": "2025-01-27T09:53:10.442684Z",
     "start_time": "2025-01-27T09:53:10.438199Z"
    }
   },
   "outputs": [
    {
     "name": "stdout",
     "output_type": "stream",
     "text": [
      "['Title,Publication_year', 'Pages']\n",
      "['The Caves of Steel,1954', '224']\n",
      "['The Naked Sun,1957', '187']\n",
      "['The Robots of Dawn,1983', '419']\n",
      "['Tales of the Black Widowers,1974', '198']\n",
      "['More Tales of the Black Widowers,1976', '176']\n",
      "['Casebook of the Black Widowers,1980', '182']\n",
      "['Banquets of the Black Widowers,1984', '212']\n",
      "['The Key Word and Others Mysteries,1977', '54']\n"
     ]
    }
   ],
   "source": [
    "import csv\n",
    "\n",
    "with open(\"my_file.csv\",mode=\"r\") as file : \n",
    "    for line in (csv.reader(file)): \n",
    "        print(line)"
   ]
  },
  {
   "cell_type": "code",
   "execution_count": 105,
   "id": "fcd08d65",
   "metadata": {
    "ExecuteTime": {
     "end_time": "2025-01-27T09:58:12.475624Z",
     "start_time": "2025-01-27T09:58:12.319717Z"
    }
   },
   "outputs": [
    {
     "name": "stdout",
     "output_type": "stream",
     "text": [
      "3,7,10,4,4\r",
      "\r\n",
      "1,4,8,7,1\r",
      "\r\n",
      "7,8,4,4,8\r",
      "\r\n",
      "7,9,7,7,9\r",
      "\r\n",
      "9,5,9,7,9\r",
      "\r\n",
      "4,3,1,5,4\r",
      "\r\n",
      "3,8,4,5,8\r",
      "\r\n",
      "4,1,2,10,2\r",
      "\r\n",
      "10,2,2,4,10\r",
      "\r\n"
     ]
    }
   ],
   "source": [
    "import random\n",
    "with open (\"new_csv.csv\",mode='w') as f : \n",
    "    writer = csv.writer(f) \n",
    "    for _ in range(1,10): \n",
    "        writer.writerow([random.randint(1,10) for i in range(5)])\n",
    "        \n",
    "! cat new_csv.csv"
   ]
  },
  {
   "cell_type": "markdown",
   "id": "30246098",
   "metadata": {},
   "source": [
    "## Pickle"
   ]
  },
  {
   "cell_type": "code",
   "execution_count": 2,
   "id": "c2938621",
   "metadata": {
    "ExecuteTime": {
     "end_time": "2025-01-27T10:09:16.386917Z",
     "start_time": "2025-01-27T10:09:16.382752Z"
    }
   },
   "outputs": [],
   "source": [
    "class AsodStudent(): \n",
    "    def __init__(self,batch,language=\"Python\",happy=True) :\n",
    "        self.batch = batch\n",
    "        self.language = language\n",
    "        self.happy = happy \n",
    "        \n",
    "    def __str__(self) : \n",
    "        return f\"Hello i'm from the batch {self.batch} ❤️\"\n",
    "    \n",
    "    def __repr__(self): \n",
    "        return self.__str__()\n",
    "\n"
   ]
  },
  {
   "cell_type": "code",
   "execution_count": 116,
   "id": "c4fe9afa",
   "metadata": {
    "ExecuteTime": {
     "end_time": "2025-01-27T10:02:27.191244Z",
     "start_time": "2025-01-27T10:02:27.185238Z"
    }
   },
   "outputs": [
    {
     "data": {
      "text/plain": [
       "Hello i'm from the batch 56 ❤️"
      ]
     },
     "execution_count": 116,
     "metadata": {},
     "output_type": "execute_result"
    }
   ],
   "source": [
    "augustin = AsodStudent(batch=56)\n",
    "augustin"
   ]
  },
  {
   "cell_type": "code",
   "execution_count": 121,
   "id": "dba02cab",
   "metadata": {
    "ExecuteTime": {
     "end_time": "2025-01-27T10:04:51.299805Z",
     "start_time": "2025-01-27T10:04:51.294220Z"
    }
   },
   "outputs": [],
   "source": [
    "import pickle\n",
    "\n",
    "with open(\"augustin.pkl\",mode=\"wb\") as file : \n",
    "    pickle.dump(augustin,file)"
   ]
  },
  {
   "cell_type": "code",
   "execution_count": 3,
   "id": "fb4e2816",
   "metadata": {
    "ExecuteTime": {
     "end_time": "2025-01-27T10:09:18.208435Z",
     "start_time": "2025-01-27T10:09:18.203940Z"
    }
   },
   "outputs": [
    {
     "name": "stdout",
     "output_type": "stream",
     "text": [
      "Hello i'm from the batch 56 ❤️\n"
     ]
    }
   ],
   "source": [
    "import pickle\n",
    "with open(\"augustin.pkl\",mode=\"rb\") as file : \n",
    "    augustin = pickle.load(file)\n",
    "print(augustin)"
   ]
  },
  {
   "cell_type": "code",
   "execution_count": null,
   "id": "ee9e2926",
   "metadata": {},
   "outputs": [],
   "source": []
  }
 ],
 "metadata": {
  "kernelspec": {
   "display_name": "Python 3 (ipykernel)",
   "language": "python",
   "name": "python3"
  },
  "language_info": {
   "codemirror_mode": {
    "name": "ipython",
    "version": 3
   },
   "file_extension": ".py",
   "mimetype": "text/x-python",
   "name": "python",
   "nbconvert_exporter": "python",
   "pygments_lexer": "ipython3",
   "version": "3.10.12"
  },
  "toc": {
   "base_numbering": 1,
   "nav_menu": {},
   "number_sections": true,
   "sideBar": true,
   "skip_h1_title": false,
   "title_cell": "Table of Contents",
   "title_sidebar": "Contents",
   "toc_cell": false,
   "toc_position": {},
   "toc_section_display": true,
   "toc_window_display": false
  }
 },
 "nbformat": 4,
 "nbformat_minor": 5
}
